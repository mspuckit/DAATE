{
 "cells": [
  {
   "cell_type": "code",
   "execution_count": 1,
   "id": "interior-wings",
   "metadata": {},
   "outputs": [],
   "source": [
    "import pandas as pd\n",
    "import numpy as np\n",
    "import matplotlib.pyplot as plt\n",
    "import seaborn as sns"
   ]
  },
  {
   "cell_type": "code",
   "execution_count": 2,
   "id": "underlying-screw",
   "metadata": {},
   "outputs": [],
   "source": [
    "df = pd.read_csv(\"sentencing_fips_pop2010 2.csv\")"
   ]
  },
  {
   "cell_type": "code",
   "execution_count": 3,
   "id": "literary-realtor",
   "metadata": {},
   "outputs": [
    {
     "data": {
      "text/plain": [
       "(1354399, 43)"
      ]
     },
     "execution_count": 3,
     "metadata": {},
     "output_type": "execute_result"
    }
   ],
   "source": [
    "df.shape"
   ]
  },
  {
   "cell_type": "code",
   "execution_count": 4,
   "id": "sunrise-merit",
   "metadata": {},
   "outputs": [],
   "source": [
    "df_drug = df[df['statut'].str.match('893.*')== True]"
   ]
  },
  {
   "cell_type": "code",
   "execution_count": 5,
   "id": "noticed-graphics",
   "metadata": {},
   "outputs": [
    {
     "data": {
      "text/plain": [
       "(440656, 43)"
      ]
     },
     "execution_count": 5,
     "metadata": {},
     "output_type": "execute_result"
    }
   ],
   "source": [
    "df_drug.shape"
   ]
  },
  {
   "cell_type": "code",
   "execution_count": 6,
   "id": "acting-batman",
   "metadata": {},
   "outputs": [
    {
     "data": {
      "text/html": [
       "<div>\n",
       "<style scoped>\n",
       "    .dataframe tbody tr th:only-of-type {\n",
       "        vertical-align: middle;\n",
       "    }\n",
       "\n",
       "    .dataframe tbody tr th {\n",
       "        vertical-align: top;\n",
       "    }\n",
       "\n",
       "    .dataframe thead th {\n",
       "        text-align: right;\n",
       "    }\n",
       "</style>\n",
       "<table border=\"1\" class=\"dataframe\">\n",
       "  <thead>\n",
       "    <tr style=\"text-align: right;\">\n",
       "      <th></th>\n",
       "      <th>Unnamed: 0</th>\n",
       "      <th>fstnm</th>\n",
       "      <th>lstnm</th>\n",
       "      <th>age</th>\n",
       "      <th>dob</th>\n",
       "      <th>race</th>\n",
       "      <th>gender</th>\n",
       "      <th>county</th>\n",
       "      <th>totpts</th>\n",
       "      <th>judge</th>\n",
       "      <th>...</th>\n",
       "      <th>ccimp</th>\n",
       "      <th>cjimp</th>\n",
       "      <th>spimp</th>\n",
       "      <th>primp</th>\n",
       "      <th>lsviol</th>\n",
       "      <th>rpviol</th>\n",
       "      <th>faviol</th>\n",
       "      <th>fips</th>\n",
       "      <th>state</th>\n",
       "      <th>pop_2010</th>\n",
       "    </tr>\n",
       "  </thead>\n",
       "  <tbody>\n",
       "    <tr>\n",
       "      <th>7</th>\n",
       "      <td>7</td>\n",
       "      <td>DOMINIQUE</td>\n",
       "      <td>GAMBLE</td>\n",
       "      <td>19</td>\n",
       "      <td>1988-04-01</td>\n",
       "      <td>BLACK</td>\n",
       "      <td>MALE</td>\n",
       "      <td>pinellas</td>\n",
       "      <td>65.4</td>\n",
       "      <td>LUCE</td>\n",
       "      <td>...</td>\n",
       "      <td>NO</td>\n",
       "      <td>NO</td>\n",
       "      <td>YES</td>\n",
       "      <td>NO</td>\n",
       "      <td>4</td>\n",
       "      <td>0</td>\n",
       "      <td>0</td>\n",
       "      <td>12103</td>\n",
       "      <td>FL</td>\n",
       "      <td>916542.0</td>\n",
       "    </tr>\n",
       "    <tr>\n",
       "      <th>24</th>\n",
       "      <td>24</td>\n",
       "      <td>RICHARD</td>\n",
       "      <td>TUDOR</td>\n",
       "      <td>30</td>\n",
       "      <td>1975-12-14</td>\n",
       "      <td>WHITE</td>\n",
       "      <td>MALE</td>\n",
       "      <td>hillsborough</td>\n",
       "      <td>88.5</td>\n",
       "      <td>BATTLES</td>\n",
       "      <td>...</td>\n",
       "      <td>NO</td>\n",
       "      <td>NO</td>\n",
       "      <td>NO</td>\n",
       "      <td>YES</td>\n",
       "      <td>0</td>\n",
       "      <td>0</td>\n",
       "      <td>0</td>\n",
       "      <td>12057</td>\n",
       "      <td>FL</td>\n",
       "      <td>1229226.0</td>\n",
       "    </tr>\n",
       "    <tr>\n",
       "      <th>29</th>\n",
       "      <td>29</td>\n",
       "      <td>ANGELA</td>\n",
       "      <td>FIGUEROA</td>\n",
       "      <td>34</td>\n",
       "      <td>1977-10-27</td>\n",
       "      <td>WHITE</td>\n",
       "      <td>FEMALE</td>\n",
       "      <td>hillsborough</td>\n",
       "      <td>50.5</td>\n",
       "      <td>FERNANDEZ,K</td>\n",
       "      <td>...</td>\n",
       "      <td>NO</td>\n",
       "      <td>NO</td>\n",
       "      <td>NO</td>\n",
       "      <td>YES</td>\n",
       "      <td>0</td>\n",
       "      <td>0</td>\n",
       "      <td>0</td>\n",
       "      <td>12057</td>\n",
       "      <td>FL</td>\n",
       "      <td>1229226.0</td>\n",
       "    </tr>\n",
       "    <tr>\n",
       "      <th>31</th>\n",
       "      <td>31</td>\n",
       "      <td>DARRIN</td>\n",
       "      <td>PHELPS</td>\n",
       "      <td>29</td>\n",
       "      <td>1980-01-09</td>\n",
       "      <td>WHITE</td>\n",
       "      <td>MALE</td>\n",
       "      <td>st. lucie</td>\n",
       "      <td>69.0</td>\n",
       "      <td>SCHACK</td>\n",
       "      <td>...</td>\n",
       "      <td>NO</td>\n",
       "      <td>NO</td>\n",
       "      <td>YES</td>\n",
       "      <td>NO</td>\n",
       "      <td>0</td>\n",
       "      <td>0</td>\n",
       "      <td>0</td>\n",
       "      <td>12111</td>\n",
       "      <td>FL</td>\n",
       "      <td>277789.0</td>\n",
       "    </tr>\n",
       "    <tr>\n",
       "      <th>45</th>\n",
       "      <td>45</td>\n",
       "      <td>TIMOTHY</td>\n",
       "      <td>DOUGLAS</td>\n",
       "      <td>31</td>\n",
       "      <td>1977-09-15</td>\n",
       "      <td>WHITE</td>\n",
       "      <td>MALE</td>\n",
       "      <td>highlands</td>\n",
       "      <td>135.6</td>\n",
       "      <td>ESTRADA</td>\n",
       "      <td>...</td>\n",
       "      <td>NO</td>\n",
       "      <td>NO</td>\n",
       "      <td>YES</td>\n",
       "      <td>NO</td>\n",
       "      <td>0</td>\n",
       "      <td>6</td>\n",
       "      <td>0</td>\n",
       "      <td>12055</td>\n",
       "      <td>FL</td>\n",
       "      <td>98786.0</td>\n",
       "    </tr>\n",
       "  </tbody>\n",
       "</table>\n",
       "<p>5 rows × 43 columns</p>\n",
       "</div>"
      ],
      "text/plain": [
       "    Unnamed: 0      fstnm     lstnm  age         dob   race  gender  \\\n",
       "7            7  DOMINIQUE    GAMBLE   19  1988-04-01  BLACK    MALE   \n",
       "24          24    RICHARD     TUDOR   30  1975-12-14  WHITE    MALE   \n",
       "29          29     ANGELA  FIGUEROA   34  1977-10-27  WHITE  FEMALE   \n",
       "31          31     DARRIN    PHELPS   29  1980-01-09  WHITE    MALE   \n",
       "45          45    TIMOTHY   DOUGLAS   31  1977-09-15  WHITE    MALE   \n",
       "\n",
       "          county  totpts        judge  ... ccimp cjimp spimp primp lsviol  \\\n",
       "7       pinellas    65.4         LUCE  ...    NO    NO   YES    NO      4   \n",
       "24  hillsborough    88.5      BATTLES  ...    NO    NO    NO   YES      0   \n",
       "29  hillsborough    50.5  FERNANDEZ,K  ...    NO    NO    NO   YES      0   \n",
       "31     st. lucie    69.0       SCHACK  ...    NO    NO   YES    NO      0   \n",
       "45     highlands   135.6      ESTRADA  ...    NO    NO   YES    NO      0   \n",
       "\n",
       "    rpviol  faviol   fips  state   pop_2010  \n",
       "7        0       0  12103     FL   916542.0  \n",
       "24       0       0  12057     FL  1229226.0  \n",
       "29       0       0  12057     FL  1229226.0  \n",
       "31       0       0  12111     FL   277789.0  \n",
       "45       6       0  12055     FL    98786.0  \n",
       "\n",
       "[5 rows x 43 columns]"
      ]
     },
     "execution_count": 6,
     "metadata": {},
     "output_type": "execute_result"
    }
   ],
   "source": [
    "df_drug.head()"
   ]
  },
  {
   "cell_type": "code",
   "execution_count": 7,
   "id": "outdoor-thursday",
   "metadata": {},
   "outputs": [
    {
     "data": {
      "text/plain": [
       "[Index(['Unnamed: 0', 'fstnm', 'lstnm', 'age', 'dob', 'race', 'gender',\n",
       "        'county', 'totpts', 'judge', 'clfely', 'statut', 'offlvl', 'offdte',\n",
       "        'sentdte', 'sp_total_days', 'spyrs', 'spmths', 'spdays',\n",
       "        'cj_total_days', 'cc_total_days', 'pr_total_days', 'enhanc', 'haboff',\n",
       "        'habvio', 'life', 'vcc', 'prrpact', 'dornum', 'circuit', 'dispos',\n",
       "        'docket', 'prioff', 'ccimp', 'cjimp', 'spimp', 'primp', 'lsviol',\n",
       "        'rpviol', 'faviol', 'fips', 'state', 'pop_2010'],\n",
       "       dtype='object')]"
      ]
     },
     "execution_count": 7,
     "metadata": {},
     "output_type": "execute_result"
    }
   ],
   "source": [
    "[df_drug.columns]"
   ]
  },
  {
   "cell_type": "code",
   "execution_count": 9,
   "id": "former-scanner",
   "metadata": {},
   "outputs": [
    {
     "data": {
      "text/plain": [
       "NONE                436420\n",
       "DT  1.5               4035\n",
       "LEP 1.5                116\n",
       "MVT 1.5                 37\n",
       "CRIMINL GANG 1.5        23\n",
       "DM. VIOLENCE 1.5        15\n",
       "LEP 2.0                  6\n",
       "LEP 2.5                  4\n",
       "Name: enhanc, dtype: int64"
      ]
     },
     "execution_count": 9,
     "metadata": {},
     "output_type": "execute_result"
    }
   ],
   "source": [
    "df_drug['enhanc'].value_counts()"
   ]
  },
  {
   "cell_type": "code",
   "execution_count": 13,
   "id": "centered-python",
   "metadata": {},
   "outputs": [
    {
     "data": {
      "text/plain": [
       "count    4.406560e+05\n",
       "mean     2.565474e+02\n",
       "std      9.625192e+03\n",
       "min      0.000000e+00\n",
       "25%      0.000000e+00\n",
       "50%      0.000000e+00\n",
       "75%      0.000000e+00\n",
       "max      3.680603e+06\n",
       "Name: sp_total_days, dtype: float64"
      ]
     },
     "execution_count": 13,
     "metadata": {},
     "output_type": "execute_result"
    }
   ],
   "source": [
    "df_drug['sp_total_days'].describe()"
   ]
  },
  {
   "cell_type": "code",
   "execution_count": 15,
   "id": "industrial-seeker",
   "metadata": {},
   "outputs": [
    {
     "data": {
      "text/plain": [
       "<AxesSubplot:>"
      ]
     },
     "execution_count": 15,
     "metadata": {},
     "output_type": "execute_result"
    },
    {
     "data": {
      "image/png": "[encoded data removed]",
      "text/plain": [
       "<Figure size 432x288 with 1 Axes>"
      ]
     },
     "metadata": {
      "needs_background": "light"
     },
     "output_type": "display_data"
    }
   ],
   "source": [
    "df_drug['sp_total_days'].hist()"
   ]
  },
  {
   "cell_type": "code",
   "execution_count": 16,
   "id": "still-montgomery",
   "metadata": {},
   "outputs": [],
   "source": [
    "import seaborn as sns"
   ]
  },
  {
   "cell_type": "code",
   "execution_count": 19,
   "id": "heard-forum",
   "metadata": {},
   "outputs": [
    {
     "data": {
      "text/plain": [
       "(440562, 43)"
      ]
     },
     "execution_count": 19,
     "metadata": {},
     "output_type": "execute_result"
    }
   ],
   "source": [
    "df_drug = df_drug[~((df_drug['spyrs']>=99)|(df_drug['life']=='Y'))]\n",
    "df_drug.shape"
   ]
  },
  {
   "cell_type": "code",
   "execution_count": 22,
   "id": "flexible-operator",
   "metadata": {},
   "outputs": [
    {
     "name": "stdout",
     "output_type": "stream",
     "text": [
      "Removed rows:  24584\n",
      "Removed rows (% of total):  5.58%\n"
     ]
    }
   ],
   "source": [
    "df_drug['sp_cj_total_days'] = (df_drug['sp_total_days'])+(df_drug['cj_total_days'])\n",
    "df_drug_clean = df_drug[~((df_drug['sp_cj_total_days']<=7) & (df_drug['totpts']>44))]\n",
    "print('Removed rows: ',(len(df_drug)-len(df_drug_clean)))\n",
    "print('Removed rows (% of total): ',\"{:0.2%}\".format((len(df_drug)-len(df_drug_clean))/len(df_drug)))"
   ]
  },
  {
   "cell_type": "code",
   "execution_count": 24,
   "id": "obvious-underwear",
   "metadata": {
    "scrolled": true
   },
   "outputs": [
    {
     "data": {
      "text/plain": [
       "count    415978.000000\n",
       "mean         34.252424\n",
       "std          31.654686\n",
       "min           0.000000\n",
       "25%          18.600000\n",
       "50%          28.000000\n",
       "75%          39.600000\n",
       "max       10001.000000\n",
       "Name: totpts, dtype: object"
      ]
     },
     "execution_count": 24,
     "metadata": {},
     "output_type": "execute_result"
    },
    {
     "data": {
      "image/png": "[encoded data removed]",
      "text/plain": [
       "<Figure size 432x288 with 1 Axes>"
      ]
     },
     "metadata": {
      "needs_background": "light"
     },
     "output_type": "display_data"
    }
   ],
   "source": [
    "sns.boxplot(x=df_drug['totpts'])\n",
    "df_drug_clean['totpts'].describe().apply(lambda x: format(x, 'f'))"
   ]
  },
  {
   "cell_type": "code",
   "execution_count": 25,
   "id": "dramatic-question",
   "metadata": {},
   "outputs": [
    {
     "data": {
      "text/plain": [
       "count    415978.000000\n",
       "mean        241.230743\n",
       "std         798.639323\n",
       "min           0.000000\n",
       "25%           0.000000\n",
       "50%           0.000000\n",
       "75%           0.000000\n",
       "max       34675.000000\n",
       "Name: sp_total_days, dtype: object"
      ]
     },
     "execution_count": 25,
     "metadata": {},
     "output_type": "execute_result"
    },
    {
     "data": {
      "image/png": "[encoded data removed]",
      "text/plain": [
       "<Figure size 432x288 with 1 Axes>"
      ]
     },
     "metadata": {
      "needs_background": "light"
     },
     "output_type": "display_data"
    }
   ],
   "source": [
    "sns.boxplot(x=df_drug_clean['sp_total_days'])\n",
    "df_drug_clean['sp_total_days'].describe().apply(lambda x: format(x, 'f'))"
   ]
  },
  {
   "cell_type": "code",
   "execution_count": 26,
   "id": "chronic-evolution",
   "metadata": {},
   "outputs": [
    {
     "data": {
      "text/plain": [
       "<AxesSubplot:ylabel='Density'>"
      ]
     },
     "execution_count": 26,
     "metadata": {},
     "output_type": "execute_result"
    },
    {
     "data": {
      "image/png": "[encoded data removed]",
      "text/plain": [
       "<Figure size 432x288 with 1 Axes>"
      ]
     },
     "metadata": {
      "needs_background": "light"
     },
     "output_type": "display_data"
    }
   ],
   "source": [
    "df_drug_clean['sp_total_days'].plot.density()"
   ]
  },
  {
   "cell_type": "code",
   "execution_count": 27,
   "id": "laughing-pursuit",
   "metadata": {},
   "outputs": [
    {
     "data": {
      "text/plain": [
       "(326393, 44)"
      ]
     },
     "execution_count": 27,
     "metadata": {},
     "output_type": "execute_result"
    }
   ],
   "source": [
    "df_drug_clean[df_drug_clean['sp_total_days']<=365].shape"
   ]
  },
  {
   "cell_type": "code",
   "execution_count": 28,
   "id": "designed-adventure",
   "metadata": {},
   "outputs": [
    {
     "data": {
      "text/plain": [
       "(89585, 44)"
      ]
     },
     "execution_count": 28,
     "metadata": {},
     "output_type": "execute_result"
    }
   ],
   "source": [
    "df_drug_clean[df_drug_clean['sp_total_days']>365].shape"
   ]
  },
  {
   "cell_type": "code",
   "execution_count": 29,
   "id": "basic-personality",
   "metadata": {},
   "outputs": [
    {
     "data": {
      "text/plain": [
       "0.21535994692026983"
      ]
     },
     "execution_count": 29,
     "metadata": {},
     "output_type": "execute_result"
    }
   ],
   "source": [
    "89585/(326393+89585)"
   ]
  },
  {
   "cell_type": "code",
   "execution_count": null,
   "id": "going-marsh",
   "metadata": {},
   "outputs": [],
   "source": []
  },
  {
   "cell_type": "markdown",
   "id": "revised-pipeline",
   "metadata": {},
   "source": [
    "# Specify County"
   ]
  },
  {
   "cell_type": "code",
   "execution_count": 31,
   "id": "matched-triumph",
   "metadata": {},
   "outputs": [],
   "source": [
    "df_drug_clean =df_drug_clean[df_drug_clean['county']=='pinellas']"
   ]
  },
  {
   "cell_type": "code",
   "execution_count": 32,
   "id": "frank-wilderness",
   "metadata": {},
   "outputs": [
    {
     "data": {
      "text/plain": [
       "<AxesSubplot:ylabel='Density'>"
      ]
     },
     "execution_count": 32,
     "metadata": {},
     "output_type": "execute_result"
    },
    {
     "data": {
      "image/png": "[encoded data removed]",
      "text/plain": [
       "<Figure size 432x288 with 1 Axes>"
      ]
     },
     "metadata": {
      "needs_background": "light"
     },
     "output_type": "display_data"
    }
   ],
   "source": [
    "df_drug_clean['sp_total_days'].plot.density()"
   ]
  },
  {
   "cell_type": "code",
   "execution_count": 33,
   "id": "binary-vehicle",
   "metadata": {},
   "outputs": [
    {
     "data": {
      "text/plain": [
       "count    42267.000000\n",
       "mean       174.882367\n",
       "std        631.348873\n",
       "min          0.000000\n",
       "25%          0.000000\n",
       "50%          0.000000\n",
       "75%          0.000000\n",
       "max      24080.000000\n",
       "Name: sp_total_days, dtype: object"
      ]
     },
     "execution_count": 33,
     "metadata": {},
     "output_type": "execute_result"
    },
    {
     "data": {
      "image/png": "[encoded data removed]",
      "text/plain": [
       "<Figure size 432x288 with 1 Axes>"
      ]
     },
     "metadata": {
      "needs_background": "light"
     },
     "output_type": "display_data"
    }
   ],
   "source": [
    "sns.boxplot(x=df_drug_clean['sp_total_days'])\n",
    "df_drug_clean['sp_total_days'].describe().apply(lambda x: format(x, 'f'))"
   ]
  },
  {
   "cell_type": "code",
   "execution_count": 34,
   "id": "divine-harvey",
   "metadata": {},
   "outputs": [
    {
     "data": {
      "text/plain": [
       "(34749, 44)"
      ]
     },
     "execution_count": 34,
     "metadata": {},
     "output_type": "execute_result"
    }
   ],
   "source": [
    "df_drug_clean[df_drug_clean['sp_total_days']<=365].shape"
   ]
  },
  {
   "cell_type": "code",
   "execution_count": 35,
   "id": "interior-instrumentation",
   "metadata": {},
   "outputs": [
    {
     "data": {
      "text/plain": [
       "(7518, 44)"
      ]
     },
     "execution_count": 35,
     "metadata": {},
     "output_type": "execute_result"
    }
   ],
   "source": [
    "df_drug_clean[df_drug_clean['sp_total_days']>365].shape"
   ]
  },
  {
   "cell_type": "code",
   "execution_count": 36,
   "id": "noted-model",
   "metadata": {},
   "outputs": [
    {
     "data": {
      "text/plain": [
       "0.17786925970615375"
      ]
     },
     "execution_count": 36,
     "metadata": {},
     "output_type": "execute_result"
    }
   ],
   "source": [
    "7518/(34749+7518)"
   ]
  },
  {
   "cell_type": "code",
   "execution_count": 68,
   "id": "grave-retirement",
   "metadata": {},
   "outputs": [],
   "source": [
    "df_drug_clean['sent_time_ind']=0\n",
    "df_drug_clean.loc[df_drug_clean['sp_total_days']>365,'sent_time_ind']=1"
   ]
  },
  {
   "cell_type": "code",
   "execution_count": 69,
   "id": "unusual-reverse",
   "metadata": {},
   "outputs": [
    {
     "data": {
      "text/plain": [
       "0    34749\n",
       "1     7518\n",
       "Name: sent_time_ind, dtype: int64"
      ]
     },
     "execution_count": 69,
     "metadata": {},
     "output_type": "execute_result"
    }
   ],
   "source": [
    "df_drug_clean['sent_time_ind'].value_counts()"
   ]
  },
  {
   "cell_type": "code",
   "execution_count": 40,
   "id": "wrong-occupation",
   "metadata": {},
   "outputs": [
    {
     "data": {
      "text/plain": [
       "MALE      30131\n",
       "FEMALE    12136\n",
       "Name: gender, dtype: int64"
      ]
     },
     "execution_count": 40,
     "metadata": {},
     "output_type": "execute_result"
    }
   ],
   "source": [
    "df_drug_clean['gender'].value_counts()"
   ]
  },
  {
   "cell_type": "code",
   "execution_count": 41,
   "id": "medium-stadium",
   "metadata": {},
   "outputs": [],
   "source": [
    "df_drug_clean['gender_ind']=[1 if x=='MALE' else 0 for x in df_drug_clean['gender']]"
   ]
  },
  {
   "cell_type": "code",
   "execution_count": 42,
   "id": "solid-helicopter",
   "metadata": {},
   "outputs": [
    {
     "data": {
      "text/plain": [
       "3RD DEGREE    33174\n",
       "2ND DEGREE     7896\n",
       "1ST DEGREE     1186\n",
       "1ST/LIFE          7\n",
       "LIFE              4\n",
       "Name: clfely, dtype: int64"
      ]
     },
     "execution_count": 42,
     "metadata": {},
     "output_type": "execute_result"
    }
   ],
   "source": [
    "df_drug_clean['clfely'].value_counts()"
   ]
  },
  {
   "cell_type": "code",
   "execution_count": 43,
   "id": "solved-rolling",
   "metadata": {},
   "outputs": [],
   "source": [
    "df_drug_clean = pd.concat([df_drug_clean,pd.get_dummies(df_drug_clean['clfely'], prefix='clfely')],axis=1)"
   ]
  },
  {
   "cell_type": "code",
   "execution_count": 63,
   "id": "republican-canberra",
   "metadata": {},
   "outputs": [],
   "source": [
    "df_drug_clean['sent_year']=df_drug_clean[\"sentdte\"].str[:4]"
   ]
  },
  {
   "cell_type": "code",
   "execution_count": 46,
   "id": "cleared-simon",
   "metadata": {},
   "outputs": [
    {
     "data": {
      "text/plain": [
       "Index(['Unnamed: 0', 'fstnm', 'lstnm', 'age', 'dob', 'race', 'gender',\n",
       "       'county', 'totpts', 'judge', 'clfely', 'statut', 'offlvl', 'offdte',\n",
       "       'sentdte', 'sp_total_days', 'spyrs', 'spmths', 'spdays',\n",
       "       'cj_total_days', 'cc_total_days', 'pr_total_days', 'enhanc', 'haboff',\n",
       "       'habvio', 'life', 'vcc', 'prrpact', 'dornum', 'circuit', 'dispos',\n",
       "       'docket', 'prioff', 'ccimp', 'cjimp', 'spimp', 'primp', 'lsviol',\n",
       "       'rpviol', 'faviol', 'fips', 'state', 'pop_2010', 'sp_cj_total_days',\n",
       "       'sent_time_ind', 'gender_ind', 'clfely_1ST DEGREE', 'clfely_1ST/LIFE',\n",
       "       'clfely_2ND DEGREE', 'clfely_3RD DEGREE', 'clfely_LIFE', 'sent_year'],\n",
       "      dtype='object')"
      ]
     },
     "execution_count": 46,
     "metadata": {},
     "output_type": "execute_result"
    }
   ],
   "source": [
    "df_drug_clean.columns"
   ]
  },
  {
   "cell_type": "code",
   "execution_count": 47,
   "id": "radical-market",
   "metadata": {
    "scrolled": true
   },
   "outputs": [
    {
     "data": {
      "text/html": [
       "<div>\n",
       "<style scoped>\n",
       "    .dataframe tbody tr th:only-of-type {\n",
       "        vertical-align: middle;\n",
       "    }\n",
       "\n",
       "    .dataframe tbody tr th {\n",
       "        vertical-align: top;\n",
       "    }\n",
       "\n",
       "    .dataframe thead th {\n",
       "        text-align: right;\n",
       "    }\n",
       "</style>\n",
       "<table border=\"1\" class=\"dataframe\">\n",
       "  <thead>\n",
       "    <tr style=\"text-align: right;\">\n",
       "      <th></th>\n",
       "      <th>Unnamed: 0</th>\n",
       "      <th>fstnm</th>\n",
       "      <th>lstnm</th>\n",
       "      <th>age</th>\n",
       "      <th>dob</th>\n",
       "      <th>race</th>\n",
       "      <th>gender</th>\n",
       "      <th>county</th>\n",
       "      <th>totpts</th>\n",
       "      <th>judge</th>\n",
       "      <th>...</th>\n",
       "      <th>pop_2010</th>\n",
       "      <th>sp_cj_total_days</th>\n",
       "      <th>sent_time_ind</th>\n",
       "      <th>gender_ind</th>\n",
       "      <th>clfely_1ST DEGREE</th>\n",
       "      <th>clfely_1ST/LIFE</th>\n",
       "      <th>clfely_2ND DEGREE</th>\n",
       "      <th>clfely_3RD DEGREE</th>\n",
       "      <th>clfely_LIFE</th>\n",
       "      <th>sent_year</th>\n",
       "    </tr>\n",
       "  </thead>\n",
       "  <tbody>\n",
       "    <tr>\n",
       "      <th>7</th>\n",
       "      <td>7</td>\n",
       "      <td>DOMINIQUE</td>\n",
       "      <td>GAMBLE</td>\n",
       "      <td>19</td>\n",
       "      <td>1988-04-01</td>\n",
       "      <td>BLACK</td>\n",
       "      <td>MALE</td>\n",
       "      <td>pinellas</td>\n",
       "      <td>65.4</td>\n",
       "      <td>LUCE</td>\n",
       "      <td>...</td>\n",
       "      <td>916542.0</td>\n",
       "      <td>1825</td>\n",
       "      <td>0</td>\n",
       "      <td>1</td>\n",
       "      <td>0</td>\n",
       "      <td>0</td>\n",
       "      <td>1</td>\n",
       "      <td>0</td>\n",
       "      <td>0</td>\n",
       "      <td>5-08</td>\n",
       "    </tr>\n",
       "    <tr>\n",
       "      <th>53</th>\n",
       "      <td>53</td>\n",
       "      <td>JAMES</td>\n",
       "      <td>PANTLE</td>\n",
       "      <td>30</td>\n",
       "      <td>1977-11-18</td>\n",
       "      <td>WHITE</td>\n",
       "      <td>MALE</td>\n",
       "      <td>pinellas</td>\n",
       "      <td>111.8</td>\n",
       "      <td>BULONE, J.</td>\n",
       "      <td>...</td>\n",
       "      <td>916542.0</td>\n",
       "      <td>1095</td>\n",
       "      <td>0</td>\n",
       "      <td>1</td>\n",
       "      <td>1</td>\n",
       "      <td>0</td>\n",
       "      <td>0</td>\n",
       "      <td>0</td>\n",
       "      <td>0</td>\n",
       "      <td>1-16</td>\n",
       "    </tr>\n",
       "    <tr>\n",
       "      <th>93</th>\n",
       "      <td>93</td>\n",
       "      <td>JOSEPH</td>\n",
       "      <td>JOHNSON</td>\n",
       "      <td>41</td>\n",
       "      <td>1972-10-06</td>\n",
       "      <td>WHITE</td>\n",
       "      <td>MALE</td>\n",
       "      <td>pinellas</td>\n",
       "      <td>113.6</td>\n",
       "      <td>FEDERICO</td>\n",
       "      <td>...</td>\n",
       "      <td>916542.0</td>\n",
       "      <td>900</td>\n",
       "      <td>0</td>\n",
       "      <td>1</td>\n",
       "      <td>0</td>\n",
       "      <td>0</td>\n",
       "      <td>1</td>\n",
       "      <td>0</td>\n",
       "      <td>0</td>\n",
       "      <td>9-15</td>\n",
       "    </tr>\n",
       "    <tr>\n",
       "      <th>127</th>\n",
       "      <td>127</td>\n",
       "      <td>RONNIE</td>\n",
       "      <td>YOUNG</td>\n",
       "      <td>20</td>\n",
       "      <td>1989-10-05</td>\n",
       "      <td>BLACK</td>\n",
       "      <td>MALE</td>\n",
       "      <td>pinellas</td>\n",
       "      <td>71.5</td>\n",
       "      <td>LEY</td>\n",
       "      <td>...</td>\n",
       "      <td>916542.0</td>\n",
       "      <td>364</td>\n",
       "      <td>0</td>\n",
       "      <td>1</td>\n",
       "      <td>0</td>\n",
       "      <td>0</td>\n",
       "      <td>1</td>\n",
       "      <td>0</td>\n",
       "      <td>0</td>\n",
       "      <td>4-08</td>\n",
       "    </tr>\n",
       "    <tr>\n",
       "      <th>154</th>\n",
       "      <td>154</td>\n",
       "      <td>DONJI</td>\n",
       "      <td>FULLER</td>\n",
       "      <td>34</td>\n",
       "      <td>1974-08-30</td>\n",
       "      <td>BLACK</td>\n",
       "      <td>MALE</td>\n",
       "      <td>pinellas</td>\n",
       "      <td>124.0</td>\n",
       "      <td>NEWTON</td>\n",
       "      <td>...</td>\n",
       "      <td>916542.0</td>\n",
       "      <td>5475</td>\n",
       "      <td>0</td>\n",
       "      <td>1</td>\n",
       "      <td>1</td>\n",
       "      <td>0</td>\n",
       "      <td>0</td>\n",
       "      <td>0</td>\n",
       "      <td>0</td>\n",
       "      <td>1-08</td>\n",
       "    </tr>\n",
       "  </tbody>\n",
       "</table>\n",
       "<p>5 rows × 52 columns</p>\n",
       "</div>"
      ],
      "text/plain": [
       "     Unnamed: 0      fstnm    lstnm  age         dob   race gender    county  \\\n",
       "7             7  DOMINIQUE   GAMBLE   19  1988-04-01  BLACK   MALE  pinellas   \n",
       "53           53      JAMES   PANTLE   30  1977-11-18  WHITE   MALE  pinellas   \n",
       "93           93     JOSEPH  JOHNSON   41  1972-10-06  WHITE   MALE  pinellas   \n",
       "127         127     RONNIE    YOUNG   20  1989-10-05  BLACK   MALE  pinellas   \n",
       "154         154      DONJI   FULLER   34  1974-08-30  BLACK   MALE  pinellas   \n",
       "\n",
       "     totpts       judge  ...  pop_2010 sp_cj_total_days sent_time_ind  \\\n",
       "7      65.4        LUCE  ...  916542.0             1825             0   \n",
       "53    111.8  BULONE, J.  ...  916542.0             1095             0   \n",
       "93    113.6    FEDERICO  ...  916542.0              900             0   \n",
       "127    71.5         LEY  ...  916542.0              364             0   \n",
       "154   124.0      NEWTON  ...  916542.0             5475             0   \n",
       "\n",
       "    gender_ind clfely_1ST DEGREE  clfely_1ST/LIFE  clfely_2ND DEGREE  \\\n",
       "7            1                 0                0                  1   \n",
       "53           1                 1                0                  0   \n",
       "93           1                 0                0                  1   \n",
       "127          1                 0                0                  1   \n",
       "154          1                 1                0                  0   \n",
       "\n",
       "     clfely_3RD DEGREE  clfely_LIFE  sent_year  \n",
       "7                    0            0       5-08  \n",
       "53                   0            0       1-16  \n",
       "93                   0            0       9-15  \n",
       "127                  0            0       4-08  \n",
       "154                  0            0       1-08  \n",
       "\n",
       "[5 rows x 52 columns]"
      ]
     },
     "execution_count": 47,
     "metadata": {},
     "output_type": "execute_result"
    }
   ],
   "source": [
    "df_drug_clean.head()"
   ]
  },
  {
   "cell_type": "code",
   "execution_count": 54,
   "id": "respective-satin",
   "metadata": {},
   "outputs": [],
   "source": [
    "df_drug_clean['lsviol']=[0 if x==0 else 1 for x in df_drug_clean['lsviol']]\n",
    "df_drug_clean['rpviol']=[0 if x==0 else 1 for x in df_drug_clean['rpviol']]\n",
    "df_drug_clean['faviol']=[0 if x==0 else 1 for x in df_drug_clean['faviol']]"
   ]
  },
  {
   "cell_type": "code",
   "execution_count": null,
   "id": "certified-entity",
   "metadata": {},
   "outputs": [],
   "source": []
  },
  {
   "cell_type": "code",
   "execution_count": null,
   "id": "instant-netscape",
   "metadata": {},
   "outputs": [],
   "source": []
  },
  {
   "cell_type": "code",
   "execution_count": null,
   "id": "smaller-monster",
   "metadata": {},
   "outputs": [],
   "source": []
  },
  {
   "cell_type": "markdown",
   "id": "ideal-riding",
   "metadata": {},
   "source": [
    "# Model"
   ]
  },
  {
   "cell_type": "code",
   "execution_count": 51,
   "id": "geographic-malpractice",
   "metadata": {},
   "outputs": [],
   "source": [
    "from sklearn.svm import SVC\n",
    "from sklearn import metrics\n",
    "from sklearn.model_selection import RandomizedSearchCV, StratifiedKFold, train_test_split\n",
    "from sklearn import preprocessing\n",
    "from sklearn.neighbors import KNeighborsClassifier\n",
    "from sklearn.naive_bayes import GaussianNB\n",
    "from sklearn.tree import DecisionTreeClassifier\n",
    "from sklearn.ensemble import RandomForestClassifier, AdaBoostClassifier\n",
    "from sklearn.metrics import classification_report,confusion_matrix, plot_confusion_matrix"
   ]
  },
  {
   "cell_type": "code",
   "execution_count": 70,
   "id": "humanitarian-exclusive",
   "metadata": {},
   "outputs": [],
   "source": [
    "X = df_drug_clean.loc[:,['gender_ind','clfely_1ST DEGREE','clfely_3RD DEGREE'\n",
    "                               ,'clfely_LIFE','clfely_1ST/LIFE','sent_year','totpts','lsviol','rpviol','faviol']]\n",
    "y = df_drug_clean['sent_time_ind']"
   ]
  },
  {
   "cell_type": "code",
   "execution_count": 71,
   "id": "outside-philosophy",
   "metadata": {},
   "outputs": [],
   "source": [
    "X_train, X_test, y_train, y_test = train_test_split(X, y, test_size=0.20, random_state=1)"
   ]
  },
  {
   "cell_type": "code",
   "execution_count": 72,
   "id": "based-moment",
   "metadata": {},
   "outputs": [
    {
     "name": "stdout",
     "output_type": "stream",
     "text": [
      "Random Forest Accuracy 0.926\n",
      "Random Forest Precision 0.827\n",
      "Random Forest Recall 0.759\n"
     ]
    }
   ],
   "source": [
    "model_rfc = RandomForestClassifier(n_estimators=500,random_state=7)\n",
    "model_rfc.fit(X_train, y_train)\n",
    "dev_pred = model_rfc.predict(X_test)\n",
    "print('Random Forest Accuracy %.3f' %metrics.accuracy_score(y_test, dev_pred))\n",
    "print('Random Forest Precision %.3f' %metrics.precision_score(y_test, dev_pred))\n",
    "print('Random Forest Recall %.3f' %metrics.recall_score(y_test, dev_pred))"
   ]
  },
  {
   "cell_type": "code",
   "execution_count": 73,
   "id": "brilliant-blocking",
   "metadata": {},
   "outputs": [
    {
     "data": {
      "image/png": "[encoded data removed]",
      "text/plain": [
       "<Figure size 432x288 with 1 Axes>"
      ]
     },
     "metadata": {
      "needs_background": "light"
     },
     "output_type": "display_data"
    }
   ],
   "source": [
    "feature_names = [x for x in X.columns]\n",
    "importances = model_rfc.feature_importances_\n",
    "std = np.std([tree.feature_importances_ for tree in model_rfc.estimators_], axis=0)\n",
    "\n",
    "forest_importances = pd.Series(importances, index=feature_names)\n",
    "\n",
    "fig, ax = plt.subplots()\n",
    "forest_importances.plot.bar(yerr=std, ax=ax)\n",
    "ax.set_title(\"Feature importances using MDI\")\n",
    "ax.set_ylabel(\"Mean decrease in impurity\")\n",
    "fig.tight_layout()"
   ]
  },
  {
   "cell_type": "code",
   "execution_count": 74,
   "id": "major-argentina",
   "metadata": {},
   "outputs": [],
   "source": [
    "df_drug_clean['propensity'] = model_rfc.predict_proba(X)[:,1]"
   ]
  },
  {
   "cell_type": "code",
   "execution_count": 81,
   "id": "closed-davis",
   "metadata": {},
   "outputs": [
    {
     "data": {
      "text/plain": [
       "Index(['Unnamed: 0', 'fstnm', 'lstnm', 'age', 'dob', 'race', 'gender',\n",
       "       'county', 'totpts', 'judge', 'clfely', 'statut', 'offlvl', 'offdte',\n",
       "       'sentdte', 'sp_total_days', 'spyrs', 'spmths', 'spdays',\n",
       "       'cj_total_days', 'cc_total_days', 'pr_total_days', 'enhanc', 'haboff',\n",
       "       'habvio', 'life', 'vcc', 'prrpact', 'dornum', 'circuit', 'dispos',\n",
       "       'docket', 'prioff', 'ccimp', 'cjimp', 'spimp', 'primp', 'lsviol',\n",
       "       'rpviol', 'faviol', 'fips', 'state', 'pop_2010', 'sp_cj_total_days',\n",
       "       'sent_time_ind', 'gender_ind', 'clfely_1ST DEGREE', 'clfely_1ST/LIFE',\n",
       "       'clfely_2ND DEGREE', 'clfely_3RD DEGREE', 'clfely_LIFE', 'sent_year',\n",
       "       'propensity'],\n",
       "      dtype='object')"
      ]
     },
     "execution_count": 81,
     "metadata": {},
     "output_type": "execute_result"
    }
   ],
   "source": [
    "df_drug_clean.columns"
   ]
  },
  {
   "cell_type": "code",
   "execution_count": 75,
   "id": "enhanced-crest",
   "metadata": {},
   "outputs": [
    {
     "data": {
      "text/html": [
       "<div>\n",
       "<style scoped>\n",
       "    .dataframe tbody tr th:only-of-type {\n",
       "        vertical-align: middle;\n",
       "    }\n",
       "\n",
       "    .dataframe tbody tr th {\n",
       "        vertical-align: top;\n",
       "    }\n",
       "\n",
       "    .dataframe thead th {\n",
       "        text-align: right;\n",
       "    }\n",
       "</style>\n",
       "<table border=\"1\" class=\"dataframe\">\n",
       "  <thead>\n",
       "    <tr style=\"text-align: right;\">\n",
       "      <th></th>\n",
       "      <th>Unnamed: 0</th>\n",
       "      <th>fstnm</th>\n",
       "      <th>lstnm</th>\n",
       "      <th>age</th>\n",
       "      <th>dob</th>\n",
       "      <th>race</th>\n",
       "      <th>gender</th>\n",
       "      <th>county</th>\n",
       "      <th>totpts</th>\n",
       "      <th>judge</th>\n",
       "      <th>...</th>\n",
       "      <th>sp_cj_total_days</th>\n",
       "      <th>sent_time_ind</th>\n",
       "      <th>gender_ind</th>\n",
       "      <th>clfely_1ST DEGREE</th>\n",
       "      <th>clfely_1ST/LIFE</th>\n",
       "      <th>clfely_2ND DEGREE</th>\n",
       "      <th>clfely_3RD DEGREE</th>\n",
       "      <th>clfely_LIFE</th>\n",
       "      <th>sent_year</th>\n",
       "      <th>propensity</th>\n",
       "    </tr>\n",
       "  </thead>\n",
       "  <tbody>\n",
       "    <tr>\n",
       "      <th>7</th>\n",
       "      <td>7</td>\n",
       "      <td>DOMINIQUE</td>\n",
       "      <td>GAMBLE</td>\n",
       "      <td>19</td>\n",
       "      <td>1988-04-01</td>\n",
       "      <td>BLACK</td>\n",
       "      <td>MALE</td>\n",
       "      <td>pinellas</td>\n",
       "      <td>65.4</td>\n",
       "      <td>LUCE</td>\n",
       "      <td>...</td>\n",
       "      <td>1825</td>\n",
       "      <td>1</td>\n",
       "      <td>1</td>\n",
       "      <td>0</td>\n",
       "      <td>0</td>\n",
       "      <td>1</td>\n",
       "      <td>0</td>\n",
       "      <td>0</td>\n",
       "      <td>2007</td>\n",
       "      <td>0.978</td>\n",
       "    </tr>\n",
       "    <tr>\n",
       "      <th>53</th>\n",
       "      <td>53</td>\n",
       "      <td>JAMES</td>\n",
       "      <td>PANTLE</td>\n",
       "      <td>30</td>\n",
       "      <td>1977-11-18</td>\n",
       "      <td>WHITE</td>\n",
       "      <td>MALE</td>\n",
       "      <td>pinellas</td>\n",
       "      <td>111.8</td>\n",
       "      <td>BULONE, J.</td>\n",
       "      <td>...</td>\n",
       "      <td>1095</td>\n",
       "      <td>1</td>\n",
       "      <td>1</td>\n",
       "      <td>1</td>\n",
       "      <td>0</td>\n",
       "      <td>0</td>\n",
       "      <td>0</td>\n",
       "      <td>0</td>\n",
       "      <td>2008</td>\n",
       "      <td>1.000</td>\n",
       "    </tr>\n",
       "    <tr>\n",
       "      <th>93</th>\n",
       "      <td>93</td>\n",
       "      <td>JOSEPH</td>\n",
       "      <td>JOHNSON</td>\n",
       "      <td>41</td>\n",
       "      <td>1972-10-06</td>\n",
       "      <td>WHITE</td>\n",
       "      <td>MALE</td>\n",
       "      <td>pinellas</td>\n",
       "      <td>113.6</td>\n",
       "      <td>FEDERICO</td>\n",
       "      <td>...</td>\n",
       "      <td>900</td>\n",
       "      <td>1</td>\n",
       "      <td>1</td>\n",
       "      <td>0</td>\n",
       "      <td>0</td>\n",
       "      <td>1</td>\n",
       "      <td>0</td>\n",
       "      <td>0</td>\n",
       "      <td>2014</td>\n",
       "      <td>1.000</td>\n",
       "    </tr>\n",
       "    <tr>\n",
       "      <th>127</th>\n",
       "      <td>127</td>\n",
       "      <td>RONNIE</td>\n",
       "      <td>YOUNG</td>\n",
       "      <td>20</td>\n",
       "      <td>1989-10-05</td>\n",
       "      <td>BLACK</td>\n",
       "      <td>MALE</td>\n",
       "      <td>pinellas</td>\n",
       "      <td>71.5</td>\n",
       "      <td>LEY</td>\n",
       "      <td>...</td>\n",
       "      <td>364</td>\n",
       "      <td>0</td>\n",
       "      <td>1</td>\n",
       "      <td>0</td>\n",
       "      <td>0</td>\n",
       "      <td>1</td>\n",
       "      <td>0</td>\n",
       "      <td>0</td>\n",
       "      <td>2010</td>\n",
       "      <td>1.000</td>\n",
       "    </tr>\n",
       "    <tr>\n",
       "      <th>154</th>\n",
       "      <td>154</td>\n",
       "      <td>DONJI</td>\n",
       "      <td>FULLER</td>\n",
       "      <td>34</td>\n",
       "      <td>1974-08-30</td>\n",
       "      <td>BLACK</td>\n",
       "      <td>MALE</td>\n",
       "      <td>pinellas</td>\n",
       "      <td>124.0</td>\n",
       "      <td>NEWTON</td>\n",
       "      <td>...</td>\n",
       "      <td>5475</td>\n",
       "      <td>1</td>\n",
       "      <td>1</td>\n",
       "      <td>1</td>\n",
       "      <td>0</td>\n",
       "      <td>0</td>\n",
       "      <td>0</td>\n",
       "      <td>0</td>\n",
       "      <td>2009</td>\n",
       "      <td>1.000</td>\n",
       "    </tr>\n",
       "  </tbody>\n",
       "</table>\n",
       "<p>5 rows × 53 columns</p>\n",
       "</div>"
      ],
      "text/plain": [
       "     Unnamed: 0      fstnm    lstnm  age         dob   race gender    county  \\\n",
       "7             7  DOMINIQUE   GAMBLE   19  1988-04-01  BLACK   MALE  pinellas   \n",
       "53           53      JAMES   PANTLE   30  1977-11-18  WHITE   MALE  pinellas   \n",
       "93           93     JOSEPH  JOHNSON   41  1972-10-06  WHITE   MALE  pinellas   \n",
       "127         127     RONNIE    YOUNG   20  1989-10-05  BLACK   MALE  pinellas   \n",
       "154         154      DONJI   FULLER   34  1974-08-30  BLACK   MALE  pinellas   \n",
       "\n",
       "     totpts       judge  ... sp_cj_total_days sent_time_ind gender_ind  \\\n",
       "7      65.4        LUCE  ...             1825             1          1   \n",
       "53    111.8  BULONE, J.  ...             1095             1          1   \n",
       "93    113.6    FEDERICO  ...              900             1          1   \n",
       "127    71.5         LEY  ...              364             0          1   \n",
       "154   124.0      NEWTON  ...             5475             1          1   \n",
       "\n",
       "    clfely_1ST DEGREE clfely_1ST/LIFE  clfely_2ND DEGREE  clfely_3RD DEGREE  \\\n",
       "7                   0               0                  1                  0   \n",
       "53                  1               0                  0                  0   \n",
       "93                  0               0                  1                  0   \n",
       "127                 0               0                  1                  0   \n",
       "154                 1               0                  0                  0   \n",
       "\n",
       "     clfely_LIFE  sent_year  propensity  \n",
       "7              0       2007       0.978  \n",
       "53             0       2008       1.000  \n",
       "93             0       2014       1.000  \n",
       "127            0       2010       1.000  \n",
       "154            0       2009       1.000  \n",
       "\n",
       "[5 rows x 53 columns]"
      ]
     },
     "execution_count": 75,
     "metadata": {},
     "output_type": "execute_result"
    }
   ],
   "source": [
    "df_drug_clean.head()"
   ]
  },
  {
   "cell_type": "code",
   "execution_count": 76,
   "id": "seeing-mount",
   "metadata": {},
   "outputs": [
    {
     "data": {
      "text/html": [
       "<div>\n",
       "<style scoped>\n",
       "    .dataframe tbody tr th:only-of-type {\n",
       "        vertical-align: middle;\n",
       "    }\n",
       "\n",
       "    .dataframe tbody tr th {\n",
       "        vertical-align: top;\n",
       "    }\n",
       "\n",
       "    .dataframe thead th {\n",
       "        text-align: right;\n",
       "    }\n",
       "</style>\n",
       "<table border=\"1\" class=\"dataframe\">\n",
       "  <thead>\n",
       "    <tr style=\"text-align: right;\">\n",
       "      <th></th>\n",
       "      <th>Unnamed: 0</th>\n",
       "      <th>fstnm</th>\n",
       "      <th>lstnm</th>\n",
       "      <th>age</th>\n",
       "      <th>dob</th>\n",
       "      <th>race</th>\n",
       "      <th>gender</th>\n",
       "      <th>county</th>\n",
       "      <th>totpts</th>\n",
       "      <th>judge</th>\n",
       "      <th>...</th>\n",
       "      <th>sp_cj_total_days</th>\n",
       "      <th>sent_time_ind</th>\n",
       "      <th>gender_ind</th>\n",
       "      <th>clfely_1ST DEGREE</th>\n",
       "      <th>clfely_1ST/LIFE</th>\n",
       "      <th>clfely_2ND DEGREE</th>\n",
       "      <th>clfely_3RD DEGREE</th>\n",
       "      <th>clfely_LIFE</th>\n",
       "      <th>sent_year</th>\n",
       "      <th>propensity</th>\n",
       "    </tr>\n",
       "  </thead>\n",
       "  <tbody>\n",
       "    <tr>\n",
       "      <th>0</th>\n",
       "      <td>398459</td>\n",
       "      <td>KEVIN</td>\n",
       "      <td>WHATLEY</td>\n",
       "      <td>45</td>\n",
       "      <td>1968-09-29</td>\n",
       "      <td>BLACK</td>\n",
       "      <td>MALE</td>\n",
       "      <td>pinellas</td>\n",
       "      <td>197.0</td>\n",
       "      <td>COVERT</td>\n",
       "      <td>...</td>\n",
       "      <td>1080</td>\n",
       "      <td>1</td>\n",
       "      <td>1</td>\n",
       "      <td>0</td>\n",
       "      <td>0</td>\n",
       "      <td>1</td>\n",
       "      <td>0</td>\n",
       "      <td>0</td>\n",
       "      <td>2014</td>\n",
       "      <td>0.974</td>\n",
       "    </tr>\n",
       "    <tr>\n",
       "      <th>1</th>\n",
       "      <td>156018</td>\n",
       "      <td>TYRONE</td>\n",
       "      <td>JOHNSON</td>\n",
       "      <td>27</td>\n",
       "      <td>1979-08-16</td>\n",
       "      <td>BLACK</td>\n",
       "      <td>MALE</td>\n",
       "      <td>pinellas</td>\n",
       "      <td>28.2</td>\n",
       "      <td>LEY</td>\n",
       "      <td>...</td>\n",
       "      <td>0</td>\n",
       "      <td>0</td>\n",
       "      <td>1</td>\n",
       "      <td>0</td>\n",
       "      <td>0</td>\n",
       "      <td>1</td>\n",
       "      <td>0</td>\n",
       "      <td>0</td>\n",
       "      <td>2006</td>\n",
       "      <td>0.000</td>\n",
       "    </tr>\n",
       "    <tr>\n",
       "      <th>2</th>\n",
       "      <td>841202</td>\n",
       "      <td>PRESTON</td>\n",
       "      <td>BELL</td>\n",
       "      <td>22</td>\n",
       "      <td>1986-03-21</td>\n",
       "      <td>BLACK</td>\n",
       "      <td>MALE</td>\n",
       "      <td>pinellas</td>\n",
       "      <td>55.4</td>\n",
       "      <td>BULONE, J.</td>\n",
       "      <td>...</td>\n",
       "      <td>616</td>\n",
       "      <td>1</td>\n",
       "      <td>1</td>\n",
       "      <td>0</td>\n",
       "      <td>0</td>\n",
       "      <td>1</td>\n",
       "      <td>0</td>\n",
       "      <td>0</td>\n",
       "      <td>2008</td>\n",
       "      <td>0.940</td>\n",
       "    </tr>\n",
       "    <tr>\n",
       "      <th>3</th>\n",
       "      <td>212335</td>\n",
       "      <td>TIMOTHY</td>\n",
       "      <td>WILLIAMS</td>\n",
       "      <td>24</td>\n",
       "      <td>1980-09-05</td>\n",
       "      <td>BLACK</td>\n",
       "      <td>MALE</td>\n",
       "      <td>pinellas</td>\n",
       "      <td>94.7</td>\n",
       "      <td>FEDERICO, P.</td>\n",
       "      <td>...</td>\n",
       "      <td>1500</td>\n",
       "      <td>1</td>\n",
       "      <td>1</td>\n",
       "      <td>1</td>\n",
       "      <td>0</td>\n",
       "      <td>0</td>\n",
       "      <td>0</td>\n",
       "      <td>0</td>\n",
       "      <td>2005</td>\n",
       "      <td>0.972</td>\n",
       "    </tr>\n",
       "    <tr>\n",
       "      <th>4</th>\n",
       "      <td>502528</td>\n",
       "      <td>GREGORY</td>\n",
       "      <td>BOURNE</td>\n",
       "      <td>19</td>\n",
       "      <td>1990-02-14</td>\n",
       "      <td>BLACK</td>\n",
       "      <td>MALE</td>\n",
       "      <td>pinellas</td>\n",
       "      <td>16.2</td>\n",
       "      <td>COVERT</td>\n",
       "      <td>...</td>\n",
       "      <td>90</td>\n",
       "      <td>0</td>\n",
       "      <td>1</td>\n",
       "      <td>0</td>\n",
       "      <td>0</td>\n",
       "      <td>0</td>\n",
       "      <td>1</td>\n",
       "      <td>0</td>\n",
       "      <td>2009</td>\n",
       "      <td>0.000</td>\n",
       "    </tr>\n",
       "  </tbody>\n",
       "</table>\n",
       "<p>5 rows × 53 columns</p>\n",
       "</div>"
      ],
      "text/plain": [
       "   Unnamed: 0    fstnm     lstnm  age         dob   race gender    county  \\\n",
       "0      398459    KEVIN   WHATLEY   45  1968-09-29  BLACK   MALE  pinellas   \n",
       "1      156018   TYRONE   JOHNSON   27  1979-08-16  BLACK   MALE  pinellas   \n",
       "2      841202  PRESTON      BELL   22  1986-03-21  BLACK   MALE  pinellas   \n",
       "3      212335  TIMOTHY  WILLIAMS   24  1980-09-05  BLACK   MALE  pinellas   \n",
       "4      502528  GREGORY    BOURNE   19  1990-02-14  BLACK   MALE  pinellas   \n",
       "\n",
       "   totpts         judge  ... sp_cj_total_days sent_time_ind gender_ind  \\\n",
       "0   197.0        COVERT  ...             1080             1          1   \n",
       "1    28.2           LEY  ...                0             0          1   \n",
       "2    55.4    BULONE, J.  ...              616             1          1   \n",
       "3    94.7  FEDERICO, P.  ...             1500             1          1   \n",
       "4    16.2        COVERT  ...               90             0          1   \n",
       "\n",
       "  clfely_1ST DEGREE clfely_1ST/LIFE  clfely_2ND DEGREE  clfely_3RD DEGREE  \\\n",
       "0                 0               0                  1                  0   \n",
       "1                 0               0                  1                  0   \n",
       "2                 0               0                  1                  0   \n",
       "3                 1               0                  0                  0   \n",
       "4                 0               0                  0                  1   \n",
       "\n",
       "   clfely_LIFE  sent_year  propensity  \n",
       "0            0       2014       0.974  \n",
       "1            0       2006       0.000  \n",
       "2            0       2008       0.940  \n",
       "3            0       2005       0.972  \n",
       "4            0       2009       0.000  \n",
       "\n",
       "[5 rows x 53 columns]"
      ]
     },
     "execution_count": 76,
     "metadata": {},
     "output_type": "execute_result"
    }
   ],
   "source": [
    "treated = df_drug_clean[df_drug_clean[\"race\"]==\"BLACK\"].sample(2000)\n",
    "treated = treated.reset_index(drop=True)\n",
    "treated.head()"
   ]
  },
  {
   "cell_type": "code",
   "execution_count": 78,
   "id": "bigger-complexity",
   "metadata": {},
   "outputs": [
    {
     "data": {
      "text/html": [
       "<div>\n",
       "<style scoped>\n",
       "    .dataframe tbody tr th:only-of-type {\n",
       "        vertical-align: middle;\n",
       "    }\n",
       "\n",
       "    .dataframe tbody tr th {\n",
       "        vertical-align: top;\n",
       "    }\n",
       "\n",
       "    .dataframe thead th {\n",
       "        text-align: right;\n",
       "    }\n",
       "</style>\n",
       "<table border=\"1\" class=\"dataframe\">\n",
       "  <thead>\n",
       "    <tr style=\"text-align: right;\">\n",
       "      <th></th>\n",
       "      <th>Unnamed: 0</th>\n",
       "      <th>fstnm</th>\n",
       "      <th>lstnm</th>\n",
       "      <th>age</th>\n",
       "      <th>dob</th>\n",
       "      <th>race</th>\n",
       "      <th>gender</th>\n",
       "      <th>county</th>\n",
       "      <th>totpts</th>\n",
       "      <th>judge</th>\n",
       "      <th>...</th>\n",
       "      <th>sp_cj_total_days</th>\n",
       "      <th>sent_time_ind</th>\n",
       "      <th>gender_ind</th>\n",
       "      <th>clfely_1ST DEGREE</th>\n",
       "      <th>clfely_1ST/LIFE</th>\n",
       "      <th>clfely_2ND DEGREE</th>\n",
       "      <th>clfely_3RD DEGREE</th>\n",
       "      <th>clfely_LIFE</th>\n",
       "      <th>sent_year</th>\n",
       "      <th>propensity</th>\n",
       "    </tr>\n",
       "  </thead>\n",
       "  <tbody>\n",
       "    <tr>\n",
       "      <th>0</th>\n",
       "      <td>722991</td>\n",
       "      <td>ANN</td>\n",
       "      <td>FRAYNE</td>\n",
       "      <td>33</td>\n",
       "      <td>1973-05-30</td>\n",
       "      <td>WHITE</td>\n",
       "      <td>FEMALE</td>\n",
       "      <td>pinellas</td>\n",
       "      <td>47.5</td>\n",
       "      <td>MCGRADY</td>\n",
       "      <td>...</td>\n",
       "      <td>438</td>\n",
       "      <td>1</td>\n",
       "      <td>0</td>\n",
       "      <td>0</td>\n",
       "      <td>0</td>\n",
       "      <td>0</td>\n",
       "      <td>1</td>\n",
       "      <td>0</td>\n",
       "      <td>2007</td>\n",
       "      <td>0.988000</td>\n",
       "    </tr>\n",
       "    <tr>\n",
       "      <th>1</th>\n",
       "      <td>106456</td>\n",
       "      <td>MICHAEL</td>\n",
       "      <td>ROONEY</td>\n",
       "      <td>25</td>\n",
       "      <td>1986-09-28</td>\n",
       "      <td>WHITE</td>\n",
       "      <td>MALE</td>\n",
       "      <td>pinellas</td>\n",
       "      <td>17.2</td>\n",
       "      <td>FARNELL</td>\n",
       "      <td>...</td>\n",
       "      <td>0</td>\n",
       "      <td>0</td>\n",
       "      <td>1</td>\n",
       "      <td>0</td>\n",
       "      <td>0</td>\n",
       "      <td>0</td>\n",
       "      <td>1</td>\n",
       "      <td>0</td>\n",
       "      <td>2012</td>\n",
       "      <td>0.000000</td>\n",
       "    </tr>\n",
       "    <tr>\n",
       "      <th>2</th>\n",
       "      <td>1214943</td>\n",
       "      <td>JAMES</td>\n",
       "      <td>SCHUMACHER</td>\n",
       "      <td>38</td>\n",
       "      <td>1971-05-03</td>\n",
       "      <td>WHITE</td>\n",
       "      <td>MALE</td>\n",
       "      <td>pinellas</td>\n",
       "      <td>83.9</td>\n",
       "      <td>COVERT, T.</td>\n",
       "      <td>...</td>\n",
       "      <td>720</td>\n",
       "      <td>1</td>\n",
       "      <td>1</td>\n",
       "      <td>0</td>\n",
       "      <td>0</td>\n",
       "      <td>0</td>\n",
       "      <td>1</td>\n",
       "      <td>0</td>\n",
       "      <td>2010</td>\n",
       "      <td>0.946000</td>\n",
       "    </tr>\n",
       "    <tr>\n",
       "      <th>3</th>\n",
       "      <td>824780</td>\n",
       "      <td>JOHN</td>\n",
       "      <td>RUSSEL</td>\n",
       "      <td>43</td>\n",
       "      <td>1964-01-21</td>\n",
       "      <td>WHITE</td>\n",
       "      <td>MALE</td>\n",
       "      <td>pinellas</td>\n",
       "      <td>79.2</td>\n",
       "      <td>MCGRADY</td>\n",
       "      <td>...</td>\n",
       "      <td>1170</td>\n",
       "      <td>1</td>\n",
       "      <td>1</td>\n",
       "      <td>0</td>\n",
       "      <td>0</td>\n",
       "      <td>0</td>\n",
       "      <td>1</td>\n",
       "      <td>0</td>\n",
       "      <td>2007</td>\n",
       "      <td>0.972000</td>\n",
       "    </tr>\n",
       "    <tr>\n",
       "      <th>4</th>\n",
       "      <td>1091638</td>\n",
       "      <td>JOHN</td>\n",
       "      <td>HOSMER</td>\n",
       "      <td>45</td>\n",
       "      <td>1962-09-14</td>\n",
       "      <td>WHITE</td>\n",
       "      <td>MALE</td>\n",
       "      <td>pinellas</td>\n",
       "      <td>30.4</td>\n",
       "      <td>QUESADA</td>\n",
       "      <td>...</td>\n",
       "      <td>159</td>\n",
       "      <td>0</td>\n",
       "      <td>1</td>\n",
       "      <td>0</td>\n",
       "      <td>0</td>\n",
       "      <td>0</td>\n",
       "      <td>1</td>\n",
       "      <td>0</td>\n",
       "      <td>2008</td>\n",
       "      <td>0.000000</td>\n",
       "    </tr>\n",
       "    <tr>\n",
       "      <th>...</th>\n",
       "      <td>...</td>\n",
       "      <td>...</td>\n",
       "      <td>...</td>\n",
       "      <td>...</td>\n",
       "      <td>...</td>\n",
       "      <td>...</td>\n",
       "      <td>...</td>\n",
       "      <td>...</td>\n",
       "      <td>...</td>\n",
       "      <td>...</td>\n",
       "      <td>...</td>\n",
       "      <td>...</td>\n",
       "      <td>...</td>\n",
       "      <td>...</td>\n",
       "      <td>...</td>\n",
       "      <td>...</td>\n",
       "      <td>...</td>\n",
       "      <td>...</td>\n",
       "      <td>...</td>\n",
       "      <td>...</td>\n",
       "      <td>...</td>\n",
       "    </tr>\n",
       "    <tr>\n",
       "      <th>1995</th>\n",
       "      <td>938788</td>\n",
       "      <td>CHRISTOPHER</td>\n",
       "      <td>SPERANZA</td>\n",
       "      <td>48</td>\n",
       "      <td>1959-06-04</td>\n",
       "      <td>WHITE</td>\n",
       "      <td>MALE</td>\n",
       "      <td>pinellas</td>\n",
       "      <td>38.4</td>\n",
       "      <td>QUESADA, F.</td>\n",
       "      <td>...</td>\n",
       "      <td>0</td>\n",
       "      <td>0</td>\n",
       "      <td>1</td>\n",
       "      <td>0</td>\n",
       "      <td>0</td>\n",
       "      <td>0</td>\n",
       "      <td>1</td>\n",
       "      <td>0</td>\n",
       "      <td>2008</td>\n",
       "      <td>0.005333</td>\n",
       "    </tr>\n",
       "    <tr>\n",
       "      <th>1996</th>\n",
       "      <td>733003</td>\n",
       "      <td>JASON</td>\n",
       "      <td>NORRIS</td>\n",
       "      <td>27</td>\n",
       "      <td>1977-09-14</td>\n",
       "      <td>WHITE</td>\n",
       "      <td>MALE</td>\n",
       "      <td>pinellas</td>\n",
       "      <td>87.8</td>\n",
       "      <td>BAIRD</td>\n",
       "      <td>...</td>\n",
       "      <td>1345</td>\n",
       "      <td>1</td>\n",
       "      <td>1</td>\n",
       "      <td>1</td>\n",
       "      <td>0</td>\n",
       "      <td>0</td>\n",
       "      <td>0</td>\n",
       "      <td>0</td>\n",
       "      <td>2004</td>\n",
       "      <td>0.996000</td>\n",
       "    </tr>\n",
       "    <tr>\n",
       "      <th>1997</th>\n",
       "      <td>1279541</td>\n",
       "      <td>MARGARET</td>\n",
       "      <td>HICKSON</td>\n",
       "      <td>44</td>\n",
       "      <td>1964-04-11</td>\n",
       "      <td>WHITE</td>\n",
       "      <td>FEMALE</td>\n",
       "      <td>pinellas</td>\n",
       "      <td>55.3</td>\n",
       "      <td>HELINGER</td>\n",
       "      <td>...</td>\n",
       "      <td>612</td>\n",
       "      <td>1</td>\n",
       "      <td>0</td>\n",
       "      <td>0</td>\n",
       "      <td>0</td>\n",
       "      <td>0</td>\n",
       "      <td>1</td>\n",
       "      <td>0</td>\n",
       "      <td>2008</td>\n",
       "      <td>0.811200</td>\n",
       "    </tr>\n",
       "    <tr>\n",
       "      <th>1998</th>\n",
       "      <td>61152</td>\n",
       "      <td>OCIE</td>\n",
       "      <td>THOMAS</td>\n",
       "      <td>50</td>\n",
       "      <td>1961-05-11</td>\n",
       "      <td>WHITE</td>\n",
       "      <td>FEMALE</td>\n",
       "      <td>pinellas</td>\n",
       "      <td>29.6</td>\n",
       "      <td>QUESADA</td>\n",
       "      <td>...</td>\n",
       "      <td>0</td>\n",
       "      <td>0</td>\n",
       "      <td>0</td>\n",
       "      <td>0</td>\n",
       "      <td>0</td>\n",
       "      <td>0</td>\n",
       "      <td>1</td>\n",
       "      <td>0</td>\n",
       "      <td>2012</td>\n",
       "      <td>0.000000</td>\n",
       "    </tr>\n",
       "    <tr>\n",
       "      <th>1999</th>\n",
       "      <td>849509</td>\n",
       "      <td>CHRISTOPHER</td>\n",
       "      <td>WEST</td>\n",
       "      <td>35</td>\n",
       "      <td>1981-03-09</td>\n",
       "      <td>WHITE</td>\n",
       "      <td>MALE</td>\n",
       "      <td>pinellas</td>\n",
       "      <td>79.2</td>\n",
       "      <td>ANDREWS</td>\n",
       "      <td>...</td>\n",
       "      <td>1152</td>\n",
       "      <td>1</td>\n",
       "      <td>1</td>\n",
       "      <td>0</td>\n",
       "      <td>0</td>\n",
       "      <td>0</td>\n",
       "      <td>1</td>\n",
       "      <td>0</td>\n",
       "      <td>2016</td>\n",
       "      <td>0.956000</td>\n",
       "    </tr>\n",
       "  </tbody>\n",
       "</table>\n",
       "<p>2000 rows × 53 columns</p>\n",
       "</div>"
      ],
      "text/plain": [
       "      Unnamed: 0        fstnm       lstnm  age         dob   race  gender  \\\n",
       "0         722991          ANN      FRAYNE   33  1973-05-30  WHITE  FEMALE   \n",
       "1         106456      MICHAEL      ROONEY   25  1986-09-28  WHITE    MALE   \n",
       "2        1214943        JAMES  SCHUMACHER   38  1971-05-03  WHITE    MALE   \n",
       "3         824780         JOHN      RUSSEL   43  1964-01-21  WHITE    MALE   \n",
       "4        1091638         JOHN      HOSMER   45  1962-09-14  WHITE    MALE   \n",
       "...          ...          ...         ...  ...         ...    ...     ...   \n",
       "1995      938788  CHRISTOPHER    SPERANZA   48  1959-06-04  WHITE    MALE   \n",
       "1996      733003        JASON      NORRIS   27  1977-09-14  WHITE    MALE   \n",
       "1997     1279541     MARGARET     HICKSON   44  1964-04-11  WHITE  FEMALE   \n",
       "1998       61152         OCIE      THOMAS   50  1961-05-11  WHITE  FEMALE   \n",
       "1999      849509  CHRISTOPHER        WEST   35  1981-03-09  WHITE    MALE   \n",
       "\n",
       "        county  totpts        judge  ... sp_cj_total_days sent_time_ind  \\\n",
       "0     pinellas    47.5      MCGRADY  ...              438             1   \n",
       "1     pinellas    17.2      FARNELL  ...                0             0   \n",
       "2     pinellas    83.9   COVERT, T.  ...              720             1   \n",
       "3     pinellas    79.2      MCGRADY  ...             1170             1   \n",
       "4     pinellas    30.4      QUESADA  ...              159             0   \n",
       "...        ...     ...          ...  ...              ...           ...   \n",
       "1995  pinellas    38.4  QUESADA, F.  ...                0             0   \n",
       "1996  pinellas    87.8        BAIRD  ...             1345             1   \n",
       "1997  pinellas    55.3     HELINGER  ...              612             1   \n",
       "1998  pinellas    29.6      QUESADA  ...                0             0   \n",
       "1999  pinellas    79.2      ANDREWS  ...             1152             1   \n",
       "\n",
       "     gender_ind clfely_1ST DEGREE clfely_1ST/LIFE  clfely_2ND DEGREE  \\\n",
       "0             0                 0               0                  0   \n",
       "1             1                 0               0                  0   \n",
       "2             1                 0               0                  0   \n",
       "3             1                 0               0                  0   \n",
       "4             1                 0               0                  0   \n",
       "...         ...               ...             ...                ...   \n",
       "1995          1                 0               0                  0   \n",
       "1996          1                 1               0                  0   \n",
       "1997          0                 0               0                  0   \n",
       "1998          0                 0               0                  0   \n",
       "1999          1                 0               0                  0   \n",
       "\n",
       "      clfely_3RD DEGREE  clfely_LIFE  sent_year  propensity  \n",
       "0                     1            0       2007    0.988000  \n",
       "1                     1            0       2012    0.000000  \n",
       "2                     1            0       2010    0.946000  \n",
       "3                     1            0       2007    0.972000  \n",
       "4                     1            0       2008    0.000000  \n",
       "...                 ...          ...        ...         ...  \n",
       "1995                  1            0       2008    0.005333  \n",
       "1996                  0            0       2004    0.996000  \n",
       "1997                  1            0       2008    0.811200  \n",
       "1998                  1            0       2012    0.000000  \n",
       "1999                  1            0       2016    0.956000  \n",
       "\n",
       "[2000 rows x 53 columns]"
      ]
     },
     "execution_count": 78,
     "metadata": {},
     "output_type": "execute_result"
    }
   ],
   "source": [
    "untreated = df_drug_clean[df_drug_clean[\"race\"]=='WHITE']\n",
    "matched_control = []\n",
    "def add_matched_control(patient):\n",
    "    control_patient =untreated[(untreated[\"propensity\"]>=patient[\"propensity\"]-0.015 )& (untreated[\"propensity\"]<=patient[\"propensity\"]+0.015 )].sample().iloc[0]\n",
    "    matched_control.append(control_patient)\n",
    "    \n",
    "treated.apply(add_matched_control, axis=1)\n",
    "matched_control_df = pd.DataFrame(matched_control).reset_index(drop=True)\n",
    "matched_control_df"
   ]
  },
  {
   "cell_type": "code",
   "execution_count": 79,
   "id": "missing-discretion",
   "metadata": {},
   "outputs": [
    {
     "data": {
      "text/html": [
       "<div>\n",
       "<style scoped>\n",
       "    .dataframe tbody tr th:only-of-type {\n",
       "        vertical-align: middle;\n",
       "    }\n",
       "\n",
       "    .dataframe tbody tr th {\n",
       "        vertical-align: top;\n",
       "    }\n",
       "\n",
       "    .dataframe thead th {\n",
       "        text-align: right;\n",
       "    }\n",
       "</style>\n",
       "<table border=\"1\" class=\"dataframe\">\n",
       "  <thead>\n",
       "    <tr style=\"text-align: right;\">\n",
       "      <th></th>\n",
       "      <th>Unnamed: 0</th>\n",
       "      <th>fstnm</th>\n",
       "      <th>lstnm</th>\n",
       "      <th>age</th>\n",
       "      <th>dob</th>\n",
       "      <th>race</th>\n",
       "      <th>gender</th>\n",
       "      <th>county</th>\n",
       "      <th>totpts</th>\n",
       "      <th>judge</th>\n",
       "      <th>...</th>\n",
       "      <th>sp_cj_total_days_control</th>\n",
       "      <th>sent_time_ind_control</th>\n",
       "      <th>gender_ind_control</th>\n",
       "      <th>clfely_1ST DEGREE_control</th>\n",
       "      <th>clfely_1ST/LIFE_control</th>\n",
       "      <th>clfely_2ND DEGREE_control</th>\n",
       "      <th>clfely_3RD DEGREE_control</th>\n",
       "      <th>clfely_LIFE_control</th>\n",
       "      <th>sent_year_control</th>\n",
       "      <th>propensity_control</th>\n",
       "    </tr>\n",
       "  </thead>\n",
       "  <tbody>\n",
       "    <tr>\n",
       "      <th>0</th>\n",
       "      <td>398459</td>\n",
       "      <td>KEVIN</td>\n",
       "      <td>WHATLEY</td>\n",
       "      <td>45</td>\n",
       "      <td>1968-09-29</td>\n",
       "      <td>BLACK</td>\n",
       "      <td>MALE</td>\n",
       "      <td>pinellas</td>\n",
       "      <td>197.0</td>\n",
       "      <td>COVERT</td>\n",
       "      <td>...</td>\n",
       "      <td>438</td>\n",
       "      <td>1</td>\n",
       "      <td>0</td>\n",
       "      <td>0</td>\n",
       "      <td>0</td>\n",
       "      <td>0</td>\n",
       "      <td>1</td>\n",
       "      <td>0</td>\n",
       "      <td>2007</td>\n",
       "      <td>0.988000</td>\n",
       "    </tr>\n",
       "    <tr>\n",
       "      <th>1</th>\n",
       "      <td>156018</td>\n",
       "      <td>TYRONE</td>\n",
       "      <td>JOHNSON</td>\n",
       "      <td>27</td>\n",
       "      <td>1979-08-16</td>\n",
       "      <td>BLACK</td>\n",
       "      <td>MALE</td>\n",
       "      <td>pinellas</td>\n",
       "      <td>28.2</td>\n",
       "      <td>LEY</td>\n",
       "      <td>...</td>\n",
       "      <td>0</td>\n",
       "      <td>0</td>\n",
       "      <td>1</td>\n",
       "      <td>0</td>\n",
       "      <td>0</td>\n",
       "      <td>0</td>\n",
       "      <td>1</td>\n",
       "      <td>0</td>\n",
       "      <td>2012</td>\n",
       "      <td>0.000000</td>\n",
       "    </tr>\n",
       "    <tr>\n",
       "      <th>2</th>\n",
       "      <td>841202</td>\n",
       "      <td>PRESTON</td>\n",
       "      <td>BELL</td>\n",
       "      <td>22</td>\n",
       "      <td>1986-03-21</td>\n",
       "      <td>BLACK</td>\n",
       "      <td>MALE</td>\n",
       "      <td>pinellas</td>\n",
       "      <td>55.4</td>\n",
       "      <td>BULONE, J.</td>\n",
       "      <td>...</td>\n",
       "      <td>720</td>\n",
       "      <td>1</td>\n",
       "      <td>1</td>\n",
       "      <td>0</td>\n",
       "      <td>0</td>\n",
       "      <td>0</td>\n",
       "      <td>1</td>\n",
       "      <td>0</td>\n",
       "      <td>2010</td>\n",
       "      <td>0.946000</td>\n",
       "    </tr>\n",
       "    <tr>\n",
       "      <th>3</th>\n",
       "      <td>212335</td>\n",
       "      <td>TIMOTHY</td>\n",
       "      <td>WILLIAMS</td>\n",
       "      <td>24</td>\n",
       "      <td>1980-09-05</td>\n",
       "      <td>BLACK</td>\n",
       "      <td>MALE</td>\n",
       "      <td>pinellas</td>\n",
       "      <td>94.7</td>\n",
       "      <td>FEDERICO, P.</td>\n",
       "      <td>...</td>\n",
       "      <td>1170</td>\n",
       "      <td>1</td>\n",
       "      <td>1</td>\n",
       "      <td>0</td>\n",
       "      <td>0</td>\n",
       "      <td>0</td>\n",
       "      <td>1</td>\n",
       "      <td>0</td>\n",
       "      <td>2007</td>\n",
       "      <td>0.972000</td>\n",
       "    </tr>\n",
       "    <tr>\n",
       "      <th>4</th>\n",
       "      <td>502528</td>\n",
       "      <td>GREGORY</td>\n",
       "      <td>BOURNE</td>\n",
       "      <td>19</td>\n",
       "      <td>1990-02-14</td>\n",
       "      <td>BLACK</td>\n",
       "      <td>MALE</td>\n",
       "      <td>pinellas</td>\n",
       "      <td>16.2</td>\n",
       "      <td>COVERT</td>\n",
       "      <td>...</td>\n",
       "      <td>159</td>\n",
       "      <td>0</td>\n",
       "      <td>1</td>\n",
       "      <td>0</td>\n",
       "      <td>0</td>\n",
       "      <td>0</td>\n",
       "      <td>1</td>\n",
       "      <td>0</td>\n",
       "      <td>2008</td>\n",
       "      <td>0.000000</td>\n",
       "    </tr>\n",
       "    <tr>\n",
       "      <th>...</th>\n",
       "      <td>...</td>\n",
       "      <td>...</td>\n",
       "      <td>...</td>\n",
       "      <td>...</td>\n",
       "      <td>...</td>\n",
       "      <td>...</td>\n",
       "      <td>...</td>\n",
       "      <td>...</td>\n",
       "      <td>...</td>\n",
       "      <td>...</td>\n",
       "      <td>...</td>\n",
       "      <td>...</td>\n",
       "      <td>...</td>\n",
       "      <td>...</td>\n",
       "      <td>...</td>\n",
       "      <td>...</td>\n",
       "      <td>...</td>\n",
       "      <td>...</td>\n",
       "      <td>...</td>\n",
       "      <td>...</td>\n",
       "      <td>...</td>\n",
       "    </tr>\n",
       "    <tr>\n",
       "      <th>1995</th>\n",
       "      <td>740856</td>\n",
       "      <td>RAYMOND</td>\n",
       "      <td>DAVIS</td>\n",
       "      <td>63</td>\n",
       "      <td>1948-07-18</td>\n",
       "      <td>BLACK</td>\n",
       "      <td>MALE</td>\n",
       "      <td>pinellas</td>\n",
       "      <td>20.2</td>\n",
       "      <td>MEYER</td>\n",
       "      <td>...</td>\n",
       "      <td>0</td>\n",
       "      <td>0</td>\n",
       "      <td>1</td>\n",
       "      <td>0</td>\n",
       "      <td>0</td>\n",
       "      <td>0</td>\n",
       "      <td>1</td>\n",
       "      <td>0</td>\n",
       "      <td>2008</td>\n",
       "      <td>0.005333</td>\n",
       "    </tr>\n",
       "    <tr>\n",
       "      <th>1996</th>\n",
       "      <td>450288</td>\n",
       "      <td>RECO</td>\n",
       "      <td>INGRAM</td>\n",
       "      <td>34</td>\n",
       "      <td>1976-04-24</td>\n",
       "      <td>BLACK</td>\n",
       "      <td>MALE</td>\n",
       "      <td>pinellas</td>\n",
       "      <td>76.0</td>\n",
       "      <td>BULONE</td>\n",
       "      <td>...</td>\n",
       "      <td>1345</td>\n",
       "      <td>1</td>\n",
       "      <td>1</td>\n",
       "      <td>1</td>\n",
       "      <td>0</td>\n",
       "      <td>0</td>\n",
       "      <td>0</td>\n",
       "      <td>0</td>\n",
       "      <td>2004</td>\n",
       "      <td>0.996000</td>\n",
       "    </tr>\n",
       "    <tr>\n",
       "      <th>1997</th>\n",
       "      <td>381101</td>\n",
       "      <td>RICHARD</td>\n",
       "      <td>BARNES</td>\n",
       "      <td>39</td>\n",
       "      <td>1967-09-24</td>\n",
       "      <td>BLACK</td>\n",
       "      <td>MALE</td>\n",
       "      <td>pinellas</td>\n",
       "      <td>54.8</td>\n",
       "      <td>ALLAN</td>\n",
       "      <td>...</td>\n",
       "      <td>612</td>\n",
       "      <td>1</td>\n",
       "      <td>0</td>\n",
       "      <td>0</td>\n",
       "      <td>0</td>\n",
       "      <td>0</td>\n",
       "      <td>1</td>\n",
       "      <td>0</td>\n",
       "      <td>2008</td>\n",
       "      <td>0.811200</td>\n",
       "    </tr>\n",
       "    <tr>\n",
       "      <th>1998</th>\n",
       "      <td>721434</td>\n",
       "      <td>CARVER</td>\n",
       "      <td>WILLIAMS</td>\n",
       "      <td>62</td>\n",
       "      <td>1946-09-02</td>\n",
       "      <td>BLACK</td>\n",
       "      <td>MALE</td>\n",
       "      <td>pinellas</td>\n",
       "      <td>28.8</td>\n",
       "      <td>FARNELL</td>\n",
       "      <td>...</td>\n",
       "      <td>0</td>\n",
       "      <td>0</td>\n",
       "      <td>0</td>\n",
       "      <td>0</td>\n",
       "      <td>0</td>\n",
       "      <td>0</td>\n",
       "      <td>1</td>\n",
       "      <td>0</td>\n",
       "      <td>2012</td>\n",
       "      <td>0.000000</td>\n",
       "    </tr>\n",
       "    <tr>\n",
       "      <th>1999</th>\n",
       "      <td>1349266</td>\n",
       "      <td>DWYAN</td>\n",
       "      <td>WASHINGTON</td>\n",
       "      <td>40</td>\n",
       "      <td>1969-11-29</td>\n",
       "      <td>BLACK</td>\n",
       "      <td>MALE</td>\n",
       "      <td>pinellas</td>\n",
       "      <td>74.6</td>\n",
       "      <td>BULONE, J.</td>\n",
       "      <td>...</td>\n",
       "      <td>1152</td>\n",
       "      <td>1</td>\n",
       "      <td>1</td>\n",
       "      <td>0</td>\n",
       "      <td>0</td>\n",
       "      <td>0</td>\n",
       "      <td>1</td>\n",
       "      <td>0</td>\n",
       "      <td>2016</td>\n",
       "      <td>0.956000</td>\n",
       "    </tr>\n",
       "  </tbody>\n",
       "</table>\n",
       "<p>2000 rows × 106 columns</p>\n",
       "</div>"
      ],
      "text/plain": [
       "      Unnamed: 0    fstnm       lstnm  age         dob   race gender  \\\n",
       "0         398459    KEVIN     WHATLEY   45  1968-09-29  BLACK   MALE   \n",
       "1         156018   TYRONE     JOHNSON   27  1979-08-16  BLACK   MALE   \n",
       "2         841202  PRESTON        BELL   22  1986-03-21  BLACK   MALE   \n",
       "3         212335  TIMOTHY    WILLIAMS   24  1980-09-05  BLACK   MALE   \n",
       "4         502528  GREGORY      BOURNE   19  1990-02-14  BLACK   MALE   \n",
       "...          ...      ...         ...  ...         ...    ...    ...   \n",
       "1995      740856  RAYMOND       DAVIS   63  1948-07-18  BLACK   MALE   \n",
       "1996      450288     RECO      INGRAM   34  1976-04-24  BLACK   MALE   \n",
       "1997      381101  RICHARD      BARNES   39  1967-09-24  BLACK   MALE   \n",
       "1998      721434   CARVER    WILLIAMS   62  1946-09-02  BLACK   MALE   \n",
       "1999     1349266    DWYAN  WASHINGTON   40  1969-11-29  BLACK   MALE   \n",
       "\n",
       "        county  totpts         judge  ... sp_cj_total_days_control  \\\n",
       "0     pinellas   197.0        COVERT  ...                      438   \n",
       "1     pinellas    28.2           LEY  ...                        0   \n",
       "2     pinellas    55.4    BULONE, J.  ...                      720   \n",
       "3     pinellas    94.7  FEDERICO, P.  ...                     1170   \n",
       "4     pinellas    16.2        COVERT  ...                      159   \n",
       "...        ...     ...           ...  ...                      ...   \n",
       "1995  pinellas    20.2         MEYER  ...                        0   \n",
       "1996  pinellas    76.0        BULONE  ...                     1345   \n",
       "1997  pinellas    54.8         ALLAN  ...                      612   \n",
       "1998  pinellas    28.8       FARNELL  ...                        0   \n",
       "1999  pinellas    74.6    BULONE, J.  ...                     1152   \n",
       "\n",
       "     sent_time_ind_control gender_ind_control clfely_1ST DEGREE_control  \\\n",
       "0                        1                  0                         0   \n",
       "1                        0                  1                         0   \n",
       "2                        1                  1                         0   \n",
       "3                        1                  1                         0   \n",
       "4                        0                  1                         0   \n",
       "...                    ...                ...                       ...   \n",
       "1995                     0                  1                         0   \n",
       "1996                     1                  1                         1   \n",
       "1997                     1                  0                         0   \n",
       "1998                     0                  0                         0   \n",
       "1999                     1                  1                         0   \n",
       "\n",
       "     clfely_1ST/LIFE_control  clfely_2ND DEGREE_control  \\\n",
       "0                          0                          0   \n",
       "1                          0                          0   \n",
       "2                          0                          0   \n",
       "3                          0                          0   \n",
       "4                          0                          0   \n",
       "...                      ...                        ...   \n",
       "1995                       0                          0   \n",
       "1996                       0                          0   \n",
       "1997                       0                          0   \n",
       "1998                       0                          0   \n",
       "1999                       0                          0   \n",
       "\n",
       "      clfely_3RD DEGREE_control  clfely_LIFE_control  sent_year_control  \\\n",
       "0                             1                    0               2007   \n",
       "1                             1                    0               2012   \n",
       "2                             1                    0               2010   \n",
       "3                             1                    0               2007   \n",
       "4                             1                    0               2008   \n",
       "...                         ...                  ...                ...   \n",
       "1995                          1                    0               2008   \n",
       "1996                          0                    0               2004   \n",
       "1997                          1                    0               2008   \n",
       "1998                          1                    0               2012   \n",
       "1999                          1                    0               2016   \n",
       "\n",
       "      propensity_control  \n",
       "0               0.988000  \n",
       "1               0.000000  \n",
       "2               0.946000  \n",
       "3               0.972000  \n",
       "4               0.000000  \n",
       "...                  ...  \n",
       "1995            0.005333  \n",
       "1996            0.996000  \n",
       "1997            0.811200  \n",
       "1998            0.000000  \n",
       "1999            0.956000  \n",
       "\n",
       "[2000 rows x 106 columns]"
      ]
     },
     "execution_count": 79,
     "metadata": {},
     "output_type": "execute_result"
    }
   ],
   "source": [
    "paired_sample = treated.join(matched_control_df, rsuffix=\"_control\")\n",
    "paired_sample"
   ]
  },
  {
   "cell_type": "code",
   "execution_count": null,
   "id": "proud-ferry",
   "metadata": {},
   "outputs": [],
   "source": []
  },
  {
   "cell_type": "code",
   "execution_count": 82,
   "id": "tested-namibia",
   "metadata": {},
   "outputs": [
    {
     "data": {
      "text/plain": [
       "-0.004"
      ]
     },
     "execution_count": 82,
     "metadata": {},
     "output_type": "execute_result"
    }
   ],
   "source": [
    "ATE = (paired_sample[\"sent_time_ind\"]-paired_sample[\"sent_time_ind_control\"]).mean()\n",
    "ATE"
   ]
  },
  {
   "cell_type": "code",
   "execution_count": 83,
   "id": "greek-depth",
   "metadata": {},
   "outputs": [],
   "source": [
    "import numpy as np\n",
    "from statsmodels.stats.proportion import proportions_ztest,confint_proportions_2indep"
   ]
  },
  {
   "cell_type": "code",
   "execution_count": 89,
   "id": "narrative-universe",
   "metadata": {},
   "outputs": [
    {
     "data": {
      "text/plain": [
       "535"
      ]
     },
     "execution_count": 89,
     "metadata": {},
     "output_type": "execute_result"
    }
   ],
   "source": [
    "treat_pos = sum(paired_sample['sent_time_ind'])\n",
    "treat_pos"
   ]
  },
  {
   "cell_type": "code",
   "execution_count": 90,
   "id": "graphic-health",
   "metadata": {},
   "outputs": [
    {
     "data": {
      "text/plain": [
       "543"
      ]
     },
     "execution_count": 90,
     "metadata": {},
     "output_type": "execute_result"
    }
   ],
   "source": [
    "control_pos = sum(paired_sample['sent_time_ind_control'])\n",
    "control_pos"
   ]
  },
  {
   "cell_type": "code",
   "execution_count": 87,
   "id": "alone-mandate",
   "metadata": {},
   "outputs": [
    {
     "name": "stdout",
     "output_type": "stream",
     "text": [
      "0.776\n"
     ]
    }
   ],
   "source": [
    "count = np.array([treat_pos, control_pos])\n",
    "nobs = np.array([2000, 2000])\n",
    "stat, pval = proportions_ztest(count, nobs,alternative='two-sided')\n",
    "print('{0:0.3f}'.format(pval))"
   ]
  },
  {
   "cell_type": "code",
   "execution_count": 88,
   "id": "sustainable-annual",
   "metadata": {},
   "outputs": [
    {
     "data": {
      "text/plain": [
       "(-0.28508245916471614, 0.7755809682554413)"
      ]
     },
     "execution_count": 88,
     "metadata": {},
     "output_type": "execute_result"
    }
   ],
   "source": [
    "proportions_ztest(count, nobs,alternative='two-sided')"
   ]
  },
  {
   "cell_type": "code",
   "execution_count": 91,
   "id": "registered-standing",
   "metadata": {},
   "outputs": [],
   "source": [
    "lower, upper = confint_proportions_2indep(treat_pos, 2000, control_pos, 2000, method=None, compare='diff', alpha=0.05, correction=True)"
   ]
  },
  {
   "cell_type": "code",
   "execution_count": 93,
   "id": "cardiovascular-browse",
   "metadata": {},
   "outputs": [
    {
     "data": {
      "text/plain": [
       "(-0.03148390819341324, 0.02349183097716306)"
      ]
     },
     "execution_count": 93,
     "metadata": {},
     "output_type": "execute_result"
    }
   ],
   "source": [
    "(lower, upper)"
   ]
  },
  {
   "cell_type": "code",
   "execution_count": 92,
   "id": "incorporated-certification",
   "metadata": {},
   "outputs": [
    {
     "data": {
      "text/plain": [
       "-0.003996038608125091"
      ]
     },
     "execution_count": 92,
     "metadata": {},
     "output_type": "execute_result"
    }
   ],
   "source": [
    "np.mean([lower,upper])"
   ]
  },
  {
   "cell_type": "code",
   "execution_count": null,
   "id": "fourth-impossible",
   "metadata": {},
   "outputs": [],
   "source": []
  }
 ],
 "metadata": {
  "kernelspec": {
   "display_name": "Python 3",
   "language": "python",
   "name": "python3"
  },
  "language_info": {
   "codemirror_mode": {
    "name": "ipython",
    "version": 3
   },
   "file_extension": ".py",
   "mimetype": "text/x-python",
   "name": "python",
   "nbconvert_exporter": "python",
   "pygments_lexer": "ipython3",
   "version": "3.7.1"
  }
 },
 "nbformat": 4,
 "nbformat_minor": 5
}
