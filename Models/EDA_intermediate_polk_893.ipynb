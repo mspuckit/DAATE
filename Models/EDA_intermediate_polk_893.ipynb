{
 "cells": [
  {
   "cell_type": "markdown",
   "metadata": {},
   "source": [
    "# AutoML Regression Modelling with PyCaret"
   ]
  },
  {
   "cell_type": "code",
   "execution_count": 1,
   "metadata": {},
   "outputs": [],
   "source": [
    "import pandas as pd\n",
    "from pycaret.regression import *\n",
    "from datetime import datetime, date\n",
    "%matplotlib inline\n",
    "\n",
    "#sen1 = pd.read_csv(\"sentencing_s.csv\")\n",
    "sen2 = pd.read_csv(\"./sentencing_post_eda.csv\")"
   ]
  },
  {
   "cell_type": "code",
   "execution_count": 2,
   "metadata": {},
   "outputs": [
    {
     "data": {
      "text/plain": [
       "(1227930, 47)"
      ]
     },
     "execution_count": 2,
     "metadata": {},
     "output_type": "execute_result"
    }
   ],
   "source": [
    "sen2.shape"
   ]
  },
  {
   "cell_type": "code",
   "execution_count": 3,
   "metadata": {},
   "outputs": [],
   "source": [
    "sen2 = sen2[sen2.county==\"polk\"] "
   ]
  },
  {
   "cell_type": "code",
   "execution_count": 4,
   "metadata": {},
   "outputs": [
    {
     "data": {
      "text/plain": [
       "50404"
      ]
     },
     "execution_count": 4,
     "metadata": {},
     "output_type": "execute_result"
    }
   ],
   "source": [
    "len(sen2)"
   ]
  },
  {
   "cell_type": "code",
   "execution_count": 5,
   "metadata": {},
   "outputs": [],
   "source": [
    "sen2 = sen2[sen2[\"statut\"].str.startswith(\"893\", na=False)]"
   ]
  },
  {
   "cell_type": "code",
   "execution_count": 6,
   "metadata": {},
   "outputs": [
    {
     "data": {
      "text/plain": [
       "15133"
      ]
     },
     "execution_count": 6,
     "metadata": {},
     "output_type": "execute_result"
    }
   ],
   "source": [
    "len(sen2)"
   ]
  },
  {
   "cell_type": "code",
   "execution_count": 7,
   "metadata": {},
   "outputs": [
    {
     "data": {
      "text/html": [
       "<div>\n",
       "<style scoped>\n",
       "    .dataframe tbody tr th:only-of-type {\n",
       "        vertical-align: middle;\n",
       "    }\n",
       "\n",
       "    .dataframe tbody tr th {\n",
       "        vertical-align: top;\n",
       "    }\n",
       "\n",
       "    .dataframe thead th {\n",
       "        text-align: right;\n",
       "    }\n",
       "</style>\n",
       "<table border=\"1\" class=\"dataframe\">\n",
       "  <thead>\n",
       "    <tr style=\"text-align: right;\">\n",
       "      <th></th>\n",
       "      <th>age</th>\n",
       "      <th>totpts</th>\n",
       "      <th>sp_cj_total_days</th>\n",
       "      <th>totpts_cut_group</th>\n",
       "    </tr>\n",
       "  </thead>\n",
       "  <tbody>\n",
       "    <tr>\n",
       "      <th>count</th>\n",
       "      <td>15133.00</td>\n",
       "      <td>15133.00</td>\n",
       "      <td>15133.00</td>\n",
       "      <td>15133.00</td>\n",
       "    </tr>\n",
       "    <tr>\n",
       "      <th>mean</th>\n",
       "      <td>34.39</td>\n",
       "      <td>33.11</td>\n",
       "      <td>271.22</td>\n",
       "      <td>1.16</td>\n",
       "    </tr>\n",
       "    <tr>\n",
       "      <th>std</th>\n",
       "      <td>10.51</td>\n",
       "      <td>20.50</td>\n",
       "      <td>548.23</td>\n",
       "      <td>1.67</td>\n",
       "    </tr>\n",
       "    <tr>\n",
       "      <th>min</th>\n",
       "      <td>9.00</td>\n",
       "      <td>4.00</td>\n",
       "      <td>0.00</td>\n",
       "      <td>0.00</td>\n",
       "    </tr>\n",
       "    <tr>\n",
       "      <th>25%</th>\n",
       "      <td>26.00</td>\n",
       "      <td>19.40</td>\n",
       "      <td>0.00</td>\n",
       "      <td>0.00</td>\n",
       "    </tr>\n",
       "    <tr>\n",
       "      <th>50%</th>\n",
       "      <td>33.00</td>\n",
       "      <td>28.60</td>\n",
       "      <td>0.00</td>\n",
       "      <td>1.00</td>\n",
       "    </tr>\n",
       "    <tr>\n",
       "      <th>75%</th>\n",
       "      <td>42.00</td>\n",
       "      <td>39.90</td>\n",
       "      <td>366.00</td>\n",
       "      <td>1.00</td>\n",
       "    </tr>\n",
       "    <tr>\n",
       "      <th>max</th>\n",
       "      <td>82.00</td>\n",
       "      <td>198.90</td>\n",
       "      <td>10950.00</td>\n",
       "      <td>17.00</td>\n",
       "    </tr>\n",
       "  </tbody>\n",
       "</table>\n",
       "</div>"
      ],
      "text/plain": [
       "            age    totpts sp_cj_total_days totpts_cut_group\n",
       "count  15133.00  15133.00         15133.00         15133.00\n",
       "mean      34.39     33.11           271.22             1.16\n",
       "std       10.51     20.50           548.23             1.67\n",
       "min        9.00      4.00             0.00             0.00\n",
       "25%       26.00     19.40             0.00             0.00\n",
       "50%       33.00     28.60             0.00             1.00\n",
       "75%       42.00     39.90           366.00             1.00\n",
       "max       82.00    198.90         10950.00            17.00"
      ]
     },
     "execution_count": 7,
     "metadata": {},
     "output_type": "execute_result"
    }
   ],
   "source": [
    "sen2[[\"age\", \"totpts\", \"sp_cj_total_days\", \"totpts_cut_group\"]].describe().apply(lambda s: s.apply('{0:.2f}'.format))"
   ]
  },
  {
   "cell_type": "code",
   "execution_count": 8,
   "metadata": {},
   "outputs": [
    {
     "data": {
      "text/plain": [
       "array([[<AxesSubplot:title={'center':'age'}>,\n",
       "        <AxesSubplot:title={'center':'totpts'}>],\n",
       "       [<AxesSubplot:title={'center':'sp_cj_total_days'}>,\n",
       "        <AxesSubplot:title={'center':'totpts_cut_group'}>]], dtype=object)"
      ]
     },
     "execution_count": 8,
     "metadata": {},
     "output_type": "execute_result"
    },
    {
     "data": {
      "image/png": "[encoded data removed]",
      "text/plain": [
       "<Figure size 432x288 with 4 Axes>"
      ]
     },
     "metadata": {
      "needs_background": "light"
     },
     "output_type": "display_data"
    }
   ],
   "source": [
    "sen2[[\"age\", \"totpts\", \"sp_cj_total_days\", \"totpts_cut_group\"]].hist()"
   ]
  },
  {
   "cell_type": "code",
   "execution_count": 9,
   "metadata": {},
   "outputs": [
    {
     "name": "stdout",
     "output_type": "stream",
     "text": [
      "Data for Modeling: (13620, 7)\n",
      "Unseen Data For Predictions: (1513, 7)\n"
     ]
    }
   ],
   "source": [
    "sen2 = sen2[['sp_cj_total_days', 'gender', 'age', 'race', 'circuit', 'totpts_cut_group', 'clfely']]\n",
    "\n",
    "data = sen2.sample(frac=0.9, random_state=786)\n",
    "data_unseen = sen2.drop(data.index)\n",
    "\n",
    "data.reset_index(drop=True, inplace=True)\n",
    "data_unseen.reset_index(drop=True, inplace=True)\n",
    "\n",
    "print('Data for Modeling: ' + str(data.shape))\n",
    "print('Unseen Data For Predictions: ' + str(data_unseen.shape))"
   ]
  },
  {
   "cell_type": "code",
   "execution_count": 10,
   "metadata": {},
   "outputs": [
    {
     "data": {
      "text/html": [
       "<style  type=\"text/css\" >\n",
       "#T_dc9dd_row27_col1,#T_dc9dd_row29_col1,#T_dc9dd_row42_col1{\n",
       "            background-color:  lightgreen;\n",
       "        }</style><table id=\"T_dc9dd_\" ><thead>    <tr>        <th class=\"blank level0\" ></th>        <th class=\"col_heading level0 col0\" >Description</th>        <th class=\"col_heading level0 col1\" >Value</th>    </tr></thead><tbody>\n",
       "                <tr>\n",
       "                        <th id=\"T_dc9dd_level0_row0\" class=\"row_heading level0 row0\" >0</th>\n",
       "                        <td id=\"T_dc9dd_row0_col0\" class=\"data row0 col0\" >session_id</td>\n",
       "                        <td id=\"T_dc9dd_row0_col1\" class=\"data row0 col1\" >123</td>\n",
       "            </tr>\n",
       "            <tr>\n",
       "                        <th id=\"T_dc9dd_level0_row1\" class=\"row_heading level0 row1\" >1</th>\n",
       "                        <td id=\"T_dc9dd_row1_col0\" class=\"data row1 col0\" >Target</td>\n",
       "                        <td id=\"T_dc9dd_row1_col1\" class=\"data row1 col1\" >sp_cj_total_days</td>\n",
       "            </tr>\n",
       "            <tr>\n",
       "                        <th id=\"T_dc9dd_level0_row2\" class=\"row_heading level0 row2\" >2</th>\n",
       "                        <td id=\"T_dc9dd_row2_col0\" class=\"data row2 col0\" >Original Data</td>\n",
       "                        <td id=\"T_dc9dd_row2_col1\" class=\"data row2 col1\" >(13620, 7)</td>\n",
       "            </tr>\n",
       "            <tr>\n",
       "                        <th id=\"T_dc9dd_level0_row3\" class=\"row_heading level0 row3\" >3</th>\n",
       "                        <td id=\"T_dc9dd_row3_col0\" class=\"data row3 col0\" >Missing Values</td>\n",
       "                        <td id=\"T_dc9dd_row3_col1\" class=\"data row3 col1\" >False</td>\n",
       "            </tr>\n",
       "            <tr>\n",
       "                        <th id=\"T_dc9dd_level0_row4\" class=\"row_heading level0 row4\" >4</th>\n",
       "                        <td id=\"T_dc9dd_row4_col0\" class=\"data row4 col0\" >Numeric Features</td>\n",
       "                        <td id=\"T_dc9dd_row4_col1\" class=\"data row4 col1\" >1</td>\n",
       "            </tr>\n",
       "            <tr>\n",
       "                        <th id=\"T_dc9dd_level0_row5\" class=\"row_heading level0 row5\" >5</th>\n",
       "                        <td id=\"T_dc9dd_row5_col0\" class=\"data row5 col0\" >Categorical Features</td>\n",
       "                        <td id=\"T_dc9dd_row5_col1\" class=\"data row5 col1\" >5</td>\n",
       "            </tr>\n",
       "            <tr>\n",
       "                        <th id=\"T_dc9dd_level0_row6\" class=\"row_heading level0 row6\" >6</th>\n",
       "                        <td id=\"T_dc9dd_row6_col0\" class=\"data row6 col0\" >Ordinal Features</td>\n",
       "                        <td id=\"T_dc9dd_row6_col1\" class=\"data row6 col1\" >False</td>\n",
       "            </tr>\n",
       "            <tr>\n",
       "                        <th id=\"T_dc9dd_level0_row7\" class=\"row_heading level0 row7\" >7</th>\n",
       "                        <td id=\"T_dc9dd_row7_col0\" class=\"data row7 col0\" >High Cardinality Features</td>\n",
       "                        <td id=\"T_dc9dd_row7_col1\" class=\"data row7 col1\" >False</td>\n",
       "            </tr>\n",
       "            <tr>\n",
       "                        <th id=\"T_dc9dd_level0_row8\" class=\"row_heading level0 row8\" >8</th>\n",
       "                        <td id=\"T_dc9dd_row8_col0\" class=\"data row8 col0\" >High Cardinality Method</td>\n",
       "                        <td id=\"T_dc9dd_row8_col1\" class=\"data row8 col1\" >None</td>\n",
       "            </tr>\n",
       "            <tr>\n",
       "                        <th id=\"T_dc9dd_level0_row9\" class=\"row_heading level0 row9\" >9</th>\n",
       "                        <td id=\"T_dc9dd_row9_col0\" class=\"data row9 col0\" >Transformed Train Set</td>\n",
       "                        <td id=\"T_dc9dd_row9_col1\" class=\"data row9 col1\" >(9533, 29)</td>\n",
       "            </tr>\n",
       "            <tr>\n",
       "                        <th id=\"T_dc9dd_level0_row10\" class=\"row_heading level0 row10\" >10</th>\n",
       "                        <td id=\"T_dc9dd_row10_col0\" class=\"data row10 col0\" >Transformed Test Set</td>\n",
       "                        <td id=\"T_dc9dd_row10_col1\" class=\"data row10 col1\" >(4087, 29)</td>\n",
       "            </tr>\n",
       "            <tr>\n",
       "                        <th id=\"T_dc9dd_level0_row11\" class=\"row_heading level0 row11\" >11</th>\n",
       "                        <td id=\"T_dc9dd_row11_col0\" class=\"data row11 col0\" >Shuffle Train-Test</td>\n",
       "                        <td id=\"T_dc9dd_row11_col1\" class=\"data row11 col1\" >True</td>\n",
       "            </tr>\n",
       "            <tr>\n",
       "                        <th id=\"T_dc9dd_level0_row12\" class=\"row_heading level0 row12\" >12</th>\n",
       "                        <td id=\"T_dc9dd_row12_col0\" class=\"data row12 col0\" >Stratify Train-Test</td>\n",
       "                        <td id=\"T_dc9dd_row12_col1\" class=\"data row12 col1\" >False</td>\n",
       "            </tr>\n",
       "            <tr>\n",
       "                        <th id=\"T_dc9dd_level0_row13\" class=\"row_heading level0 row13\" >13</th>\n",
       "                        <td id=\"T_dc9dd_row13_col0\" class=\"data row13 col0\" >Fold Generator</td>\n",
       "                        <td id=\"T_dc9dd_row13_col1\" class=\"data row13 col1\" >KFold</td>\n",
       "            </tr>\n",
       "            <tr>\n",
       "                        <th id=\"T_dc9dd_level0_row14\" class=\"row_heading level0 row14\" >14</th>\n",
       "                        <td id=\"T_dc9dd_row14_col0\" class=\"data row14 col0\" >Fold Number</td>\n",
       "                        <td id=\"T_dc9dd_row14_col1\" class=\"data row14 col1\" >10</td>\n",
       "            </tr>\n",
       "            <tr>\n",
       "                        <th id=\"T_dc9dd_level0_row15\" class=\"row_heading level0 row15\" >15</th>\n",
       "                        <td id=\"T_dc9dd_row15_col0\" class=\"data row15 col0\" >CPU Jobs</td>\n",
       "                        <td id=\"T_dc9dd_row15_col1\" class=\"data row15 col1\" >-1</td>\n",
       "            </tr>\n",
       "            <tr>\n",
       "                        <th id=\"T_dc9dd_level0_row16\" class=\"row_heading level0 row16\" >16</th>\n",
       "                        <td id=\"T_dc9dd_row16_col0\" class=\"data row16 col0\" >Use GPU</td>\n",
       "                        <td id=\"T_dc9dd_row16_col1\" class=\"data row16 col1\" >False</td>\n",
       "            </tr>\n",
       "            <tr>\n",
       "                        <th id=\"T_dc9dd_level0_row17\" class=\"row_heading level0 row17\" >17</th>\n",
       "                        <td id=\"T_dc9dd_row17_col0\" class=\"data row17 col0\" >Log Experiment</td>\n",
       "                        <td id=\"T_dc9dd_row17_col1\" class=\"data row17 col1\" >False</td>\n",
       "            </tr>\n",
       "            <tr>\n",
       "                        <th id=\"T_dc9dd_level0_row18\" class=\"row_heading level0 row18\" >18</th>\n",
       "                        <td id=\"T_dc9dd_row18_col0\" class=\"data row18 col0\" >Experiment Name</td>\n",
       "                        <td id=\"T_dc9dd_row18_col1\" class=\"data row18 col1\" >reg-default-name</td>\n",
       "            </tr>\n",
       "            <tr>\n",
       "                        <th id=\"T_dc9dd_level0_row19\" class=\"row_heading level0 row19\" >19</th>\n",
       "                        <td id=\"T_dc9dd_row19_col0\" class=\"data row19 col0\" >USI</td>\n",
       "                        <td id=\"T_dc9dd_row19_col1\" class=\"data row19 col1\" >5fb7</td>\n",
       "            </tr>\n",
       "            <tr>\n",
       "                        <th id=\"T_dc9dd_level0_row20\" class=\"row_heading level0 row20\" >20</th>\n",
       "                        <td id=\"T_dc9dd_row20_col0\" class=\"data row20 col0\" >Imputation Type</td>\n",
       "                        <td id=\"T_dc9dd_row20_col1\" class=\"data row20 col1\" >simple</td>\n",
       "            </tr>\n",
       "            <tr>\n",
       "                        <th id=\"T_dc9dd_level0_row21\" class=\"row_heading level0 row21\" >21</th>\n",
       "                        <td id=\"T_dc9dd_row21_col0\" class=\"data row21 col0\" >Iterative Imputation Iteration</td>\n",
       "                        <td id=\"T_dc9dd_row21_col1\" class=\"data row21 col1\" >None</td>\n",
       "            </tr>\n",
       "            <tr>\n",
       "                        <th id=\"T_dc9dd_level0_row22\" class=\"row_heading level0 row22\" >22</th>\n",
       "                        <td id=\"T_dc9dd_row22_col0\" class=\"data row22 col0\" >Numeric Imputer</td>\n",
       "                        <td id=\"T_dc9dd_row22_col1\" class=\"data row22 col1\" >mean</td>\n",
       "            </tr>\n",
       "            <tr>\n",
       "                        <th id=\"T_dc9dd_level0_row23\" class=\"row_heading level0 row23\" >23</th>\n",
       "                        <td id=\"T_dc9dd_row23_col0\" class=\"data row23 col0\" >Iterative Imputation Numeric Model</td>\n",
       "                        <td id=\"T_dc9dd_row23_col1\" class=\"data row23 col1\" >None</td>\n",
       "            </tr>\n",
       "            <tr>\n",
       "                        <th id=\"T_dc9dd_level0_row24\" class=\"row_heading level0 row24\" >24</th>\n",
       "                        <td id=\"T_dc9dd_row24_col0\" class=\"data row24 col0\" >Categorical Imputer</td>\n",
       "                        <td id=\"T_dc9dd_row24_col1\" class=\"data row24 col1\" >constant</td>\n",
       "            </tr>\n",
       "            <tr>\n",
       "                        <th id=\"T_dc9dd_level0_row25\" class=\"row_heading level0 row25\" >25</th>\n",
       "                        <td id=\"T_dc9dd_row25_col0\" class=\"data row25 col0\" >Iterative Imputation Categorical Model</td>\n",
       "                        <td id=\"T_dc9dd_row25_col1\" class=\"data row25 col1\" >None</td>\n",
       "            </tr>\n",
       "            <tr>\n",
       "                        <th id=\"T_dc9dd_level0_row26\" class=\"row_heading level0 row26\" >26</th>\n",
       "                        <td id=\"T_dc9dd_row26_col0\" class=\"data row26 col0\" >Unknown Categoricals Handling</td>\n",
       "                        <td id=\"T_dc9dd_row26_col1\" class=\"data row26 col1\" >least_frequent</td>\n",
       "            </tr>\n",
       "            <tr>\n",
       "                        <th id=\"T_dc9dd_level0_row27\" class=\"row_heading level0 row27\" >27</th>\n",
       "                        <td id=\"T_dc9dd_row27_col0\" class=\"data row27 col0\" >Normalize</td>\n",
       "                        <td id=\"T_dc9dd_row27_col1\" class=\"data row27 col1\" >True</td>\n",
       "            </tr>\n",
       "            <tr>\n",
       "                        <th id=\"T_dc9dd_level0_row28\" class=\"row_heading level0 row28\" >28</th>\n",
       "                        <td id=\"T_dc9dd_row28_col0\" class=\"data row28 col0\" >Normalize Method</td>\n",
       "                        <td id=\"T_dc9dd_row28_col1\" class=\"data row28 col1\" >zscore</td>\n",
       "            </tr>\n",
       "            <tr>\n",
       "                        <th id=\"T_dc9dd_level0_row29\" class=\"row_heading level0 row29\" >29</th>\n",
       "                        <td id=\"T_dc9dd_row29_col0\" class=\"data row29 col0\" >Transformation</td>\n",
       "                        <td id=\"T_dc9dd_row29_col1\" class=\"data row29 col1\" >True</td>\n",
       "            </tr>\n",
       "            <tr>\n",
       "                        <th id=\"T_dc9dd_level0_row30\" class=\"row_heading level0 row30\" >30</th>\n",
       "                        <td id=\"T_dc9dd_row30_col0\" class=\"data row30 col0\" >Transformation Method</td>\n",
       "                        <td id=\"T_dc9dd_row30_col1\" class=\"data row30 col1\" >yeo-johnson</td>\n",
       "            </tr>\n",
       "            <tr>\n",
       "                        <th id=\"T_dc9dd_level0_row31\" class=\"row_heading level0 row31\" >31</th>\n",
       "                        <td id=\"T_dc9dd_row31_col0\" class=\"data row31 col0\" >PCA</td>\n",
       "                        <td id=\"T_dc9dd_row31_col1\" class=\"data row31 col1\" >False</td>\n",
       "            </tr>\n",
       "            <tr>\n",
       "                        <th id=\"T_dc9dd_level0_row32\" class=\"row_heading level0 row32\" >32</th>\n",
       "                        <td id=\"T_dc9dd_row32_col0\" class=\"data row32 col0\" >PCA Method</td>\n",
       "                        <td id=\"T_dc9dd_row32_col1\" class=\"data row32 col1\" >None</td>\n",
       "            </tr>\n",
       "            <tr>\n",
       "                        <th id=\"T_dc9dd_level0_row33\" class=\"row_heading level0 row33\" >33</th>\n",
       "                        <td id=\"T_dc9dd_row33_col0\" class=\"data row33 col0\" >PCA Components</td>\n",
       "                        <td id=\"T_dc9dd_row33_col1\" class=\"data row33 col1\" >None</td>\n",
       "            </tr>\n",
       "            <tr>\n",
       "                        <th id=\"T_dc9dd_level0_row34\" class=\"row_heading level0 row34\" >34</th>\n",
       "                        <td id=\"T_dc9dd_row34_col0\" class=\"data row34 col0\" >Ignore Low Variance</td>\n",
       "                        <td id=\"T_dc9dd_row34_col1\" class=\"data row34 col1\" >False</td>\n",
       "            </tr>\n",
       "            <tr>\n",
       "                        <th id=\"T_dc9dd_level0_row35\" class=\"row_heading level0 row35\" >35</th>\n",
       "                        <td id=\"T_dc9dd_row35_col0\" class=\"data row35 col0\" >Combine Rare Levels</td>\n",
       "                        <td id=\"T_dc9dd_row35_col1\" class=\"data row35 col1\" >False</td>\n",
       "            </tr>\n",
       "            <tr>\n",
       "                        <th id=\"T_dc9dd_level0_row36\" class=\"row_heading level0 row36\" >36</th>\n",
       "                        <td id=\"T_dc9dd_row36_col0\" class=\"data row36 col0\" >Rare Level Threshold</td>\n",
       "                        <td id=\"T_dc9dd_row36_col1\" class=\"data row36 col1\" >None</td>\n",
       "            </tr>\n",
       "            <tr>\n",
       "                        <th id=\"T_dc9dd_level0_row37\" class=\"row_heading level0 row37\" >37</th>\n",
       "                        <td id=\"T_dc9dd_row37_col0\" class=\"data row37 col0\" >Numeric Binning</td>\n",
       "                        <td id=\"T_dc9dd_row37_col1\" class=\"data row37 col1\" >False</td>\n",
       "            </tr>\n",
       "            <tr>\n",
       "                        <th id=\"T_dc9dd_level0_row38\" class=\"row_heading level0 row38\" >38</th>\n",
       "                        <td id=\"T_dc9dd_row38_col0\" class=\"data row38 col0\" >Remove Outliers</td>\n",
       "                        <td id=\"T_dc9dd_row38_col1\" class=\"data row38 col1\" >False</td>\n",
       "            </tr>\n",
       "            <tr>\n",
       "                        <th id=\"T_dc9dd_level0_row39\" class=\"row_heading level0 row39\" >39</th>\n",
       "                        <td id=\"T_dc9dd_row39_col0\" class=\"data row39 col0\" >Outliers Threshold</td>\n",
       "                        <td id=\"T_dc9dd_row39_col1\" class=\"data row39 col1\" >None</td>\n",
       "            </tr>\n",
       "            <tr>\n",
       "                        <th id=\"T_dc9dd_level0_row40\" class=\"row_heading level0 row40\" >40</th>\n",
       "                        <td id=\"T_dc9dd_row40_col0\" class=\"data row40 col0\" >Remove Multicollinearity</td>\n",
       "                        <td id=\"T_dc9dd_row40_col1\" class=\"data row40 col1\" >False</td>\n",
       "            </tr>\n",
       "            <tr>\n",
       "                        <th id=\"T_dc9dd_level0_row41\" class=\"row_heading level0 row41\" >41</th>\n",
       "                        <td id=\"T_dc9dd_row41_col0\" class=\"data row41 col0\" >Multicollinearity Threshold</td>\n",
       "                        <td id=\"T_dc9dd_row41_col1\" class=\"data row41 col1\" >None</td>\n",
       "            </tr>\n",
       "            <tr>\n",
       "                        <th id=\"T_dc9dd_level0_row42\" class=\"row_heading level0 row42\" >42</th>\n",
       "                        <td id=\"T_dc9dd_row42_col0\" class=\"data row42 col0\" >Remove Perfect Collinearity</td>\n",
       "                        <td id=\"T_dc9dd_row42_col1\" class=\"data row42 col1\" >True</td>\n",
       "            </tr>\n",
       "            <tr>\n",
       "                        <th id=\"T_dc9dd_level0_row43\" class=\"row_heading level0 row43\" >43</th>\n",
       "                        <td id=\"T_dc9dd_row43_col0\" class=\"data row43 col0\" >Clustering</td>\n",
       "                        <td id=\"T_dc9dd_row43_col1\" class=\"data row43 col1\" >False</td>\n",
       "            </tr>\n",
       "            <tr>\n",
       "                        <th id=\"T_dc9dd_level0_row44\" class=\"row_heading level0 row44\" >44</th>\n",
       "                        <td id=\"T_dc9dd_row44_col0\" class=\"data row44 col0\" >Clustering Iteration</td>\n",
       "                        <td id=\"T_dc9dd_row44_col1\" class=\"data row44 col1\" >None</td>\n",
       "            </tr>\n",
       "            <tr>\n",
       "                        <th id=\"T_dc9dd_level0_row45\" class=\"row_heading level0 row45\" >45</th>\n",
       "                        <td id=\"T_dc9dd_row45_col0\" class=\"data row45 col0\" >Polynomial Features</td>\n",
       "                        <td id=\"T_dc9dd_row45_col1\" class=\"data row45 col1\" >False</td>\n",
       "            </tr>\n",
       "            <tr>\n",
       "                        <th id=\"T_dc9dd_level0_row46\" class=\"row_heading level0 row46\" >46</th>\n",
       "                        <td id=\"T_dc9dd_row46_col0\" class=\"data row46 col0\" >Polynomial Degree</td>\n",
       "                        <td id=\"T_dc9dd_row46_col1\" class=\"data row46 col1\" >None</td>\n",
       "            </tr>\n",
       "            <tr>\n",
       "                        <th id=\"T_dc9dd_level0_row47\" class=\"row_heading level0 row47\" >47</th>\n",
       "                        <td id=\"T_dc9dd_row47_col0\" class=\"data row47 col0\" >Trignometry Features</td>\n",
       "                        <td id=\"T_dc9dd_row47_col1\" class=\"data row47 col1\" >False</td>\n",
       "            </tr>\n",
       "            <tr>\n",
       "                        <th id=\"T_dc9dd_level0_row48\" class=\"row_heading level0 row48\" >48</th>\n",
       "                        <td id=\"T_dc9dd_row48_col0\" class=\"data row48 col0\" >Polynomial Threshold</td>\n",
       "                        <td id=\"T_dc9dd_row48_col1\" class=\"data row48 col1\" >None</td>\n",
       "            </tr>\n",
       "            <tr>\n",
       "                        <th id=\"T_dc9dd_level0_row49\" class=\"row_heading level0 row49\" >49</th>\n",
       "                        <td id=\"T_dc9dd_row49_col0\" class=\"data row49 col0\" >Group Features</td>\n",
       "                        <td id=\"T_dc9dd_row49_col1\" class=\"data row49 col1\" >False</td>\n",
       "            </tr>\n",
       "            <tr>\n",
       "                        <th id=\"T_dc9dd_level0_row50\" class=\"row_heading level0 row50\" >50</th>\n",
       "                        <td id=\"T_dc9dd_row50_col0\" class=\"data row50 col0\" >Feature Selection</td>\n",
       "                        <td id=\"T_dc9dd_row50_col1\" class=\"data row50 col1\" >False</td>\n",
       "            </tr>\n",
       "            <tr>\n",
       "                        <th id=\"T_dc9dd_level0_row51\" class=\"row_heading level0 row51\" >51</th>\n",
       "                        <td id=\"T_dc9dd_row51_col0\" class=\"data row51 col0\" >Feature Selection Method</td>\n",
       "                        <td id=\"T_dc9dd_row51_col1\" class=\"data row51 col1\" >classic</td>\n",
       "            </tr>\n",
       "            <tr>\n",
       "                        <th id=\"T_dc9dd_level0_row52\" class=\"row_heading level0 row52\" >52</th>\n",
       "                        <td id=\"T_dc9dd_row52_col0\" class=\"data row52 col0\" >Features Selection Threshold</td>\n",
       "                        <td id=\"T_dc9dd_row52_col1\" class=\"data row52 col1\" >None</td>\n",
       "            </tr>\n",
       "            <tr>\n",
       "                        <th id=\"T_dc9dd_level0_row53\" class=\"row_heading level0 row53\" >53</th>\n",
       "                        <td id=\"T_dc9dd_row53_col0\" class=\"data row53 col0\" >Feature Interaction</td>\n",
       "                        <td id=\"T_dc9dd_row53_col1\" class=\"data row53 col1\" >False</td>\n",
       "            </tr>\n",
       "            <tr>\n",
       "                        <th id=\"T_dc9dd_level0_row54\" class=\"row_heading level0 row54\" >54</th>\n",
       "                        <td id=\"T_dc9dd_row54_col0\" class=\"data row54 col0\" >Feature Ratio</td>\n",
       "                        <td id=\"T_dc9dd_row54_col1\" class=\"data row54 col1\" >False</td>\n",
       "            </tr>\n",
       "            <tr>\n",
       "                        <th id=\"T_dc9dd_level0_row55\" class=\"row_heading level0 row55\" >55</th>\n",
       "                        <td id=\"T_dc9dd_row55_col0\" class=\"data row55 col0\" >Interaction Threshold</td>\n",
       "                        <td id=\"T_dc9dd_row55_col1\" class=\"data row55 col1\" >None</td>\n",
       "            </tr>\n",
       "            <tr>\n",
       "                        <th id=\"T_dc9dd_level0_row56\" class=\"row_heading level0 row56\" >56</th>\n",
       "                        <td id=\"T_dc9dd_row56_col0\" class=\"data row56 col0\" >Transform Target</td>\n",
       "                        <td id=\"T_dc9dd_row56_col1\" class=\"data row56 col1\" >False</td>\n",
       "            </tr>\n",
       "            <tr>\n",
       "                        <th id=\"T_dc9dd_level0_row57\" class=\"row_heading level0 row57\" >57</th>\n",
       "                        <td id=\"T_dc9dd_row57_col0\" class=\"data row57 col0\" >Transform Target Method</td>\n",
       "                        <td id=\"T_dc9dd_row57_col1\" class=\"data row57 col1\" >box-cox</td>\n",
       "            </tr>\n",
       "    </tbody></table>"
      ],
      "text/plain": [
       "<pandas.io.formats.style.Styler at 0x7fe8d72da210>"
      ]
     },
     "metadata": {},
     "output_type": "display_data"
    }
   ],
   "source": [
    "from pycaret.regression import *\n",
    "X = setup(data = data, target = 'sp_cj_total_days', session_id=123, normalize = True, \n",
    "          transformation = True, #transform_target = True\n",
    "          )\n",
    "\n",
    "#X = setup(data = data, target = 'sp_cj_total_days', session_id=123, normalize = True, \n",
    "#          transformation = True, transform_target = True, \n",
    "#          combine_rare_levels = True, rare_level_threshold = 0.05,\n",
    "#          remove_multicollinearity = True, multicollinearity_threshold = 0.95)\n",
    "\n",
    "#, categorical_features = ['race', 'gender', 'county', 'judge', 'clfely']           \n",
    "#['race', 'gender', 'county', 'judge', 'clfely', 'statut', 'offlvl', 'enhanc', 'haboff', 'habvio', 'vcc', 'prrpact', 'prioff', 'lsviol', 'faviol'])\n",
    "          "
   ]
  },
  {
   "cell_type": "code",
   "execution_count": 11,
   "metadata": {},
   "outputs": [
    {
     "data": {
      "text/html": [
       "<style  type=\"text/css\" >\n",
       "    #T_31d9e_ th {\n",
       "          text-align: left;\n",
       "    }#T_31d9e_row0_col0,#T_31d9e_row0_col1,#T_31d9e_row0_col5,#T_31d9e_row0_col6,#T_31d9e_row1_col0,#T_31d9e_row1_col1,#T_31d9e_row1_col2,#T_31d9e_row1_col3,#T_31d9e_row1_col4,#T_31d9e_row1_col5,#T_31d9e_row1_col6,#T_31d9e_row2_col0,#T_31d9e_row2_col1,#T_31d9e_row2_col2,#T_31d9e_row2_col3,#T_31d9e_row2_col4,#T_31d9e_row2_col5,#T_31d9e_row2_col6,#T_31d9e_row3_col0,#T_31d9e_row3_col1,#T_31d9e_row3_col2,#T_31d9e_row3_col3,#T_31d9e_row3_col4,#T_31d9e_row3_col5,#T_31d9e_row3_col6,#T_31d9e_row4_col0,#T_31d9e_row4_col1,#T_31d9e_row4_col2,#T_31d9e_row4_col3,#T_31d9e_row4_col4,#T_31d9e_row4_col5,#T_31d9e_row4_col6,#T_31d9e_row5_col0,#T_31d9e_row5_col1,#T_31d9e_row5_col2,#T_31d9e_row5_col3,#T_31d9e_row5_col4,#T_31d9e_row5_col5,#T_31d9e_row5_col6,#T_31d9e_row6_col0,#T_31d9e_row6_col2,#T_31d9e_row6_col3,#T_31d9e_row6_col4,#T_31d9e_row6_col6,#T_31d9e_row7_col0,#T_31d9e_row7_col1,#T_31d9e_row7_col2,#T_31d9e_row7_col3,#T_31d9e_row7_col4,#T_31d9e_row7_col5,#T_31d9e_row8_col0,#T_31d9e_row8_col1,#T_31d9e_row8_col2,#T_31d9e_row8_col3,#T_31d9e_row8_col4,#T_31d9e_row8_col5,#T_31d9e_row8_col6,#T_31d9e_row9_col0,#T_31d9e_row9_col1,#T_31d9e_row9_col2,#T_31d9e_row9_col3,#T_31d9e_row9_col4,#T_31d9e_row9_col5,#T_31d9e_row9_col6,#T_31d9e_row10_col0,#T_31d9e_row10_col1,#T_31d9e_row10_col2,#T_31d9e_row10_col3,#T_31d9e_row10_col4,#T_31d9e_row10_col5,#T_31d9e_row10_col6,#T_31d9e_row11_col0,#T_31d9e_row11_col1,#T_31d9e_row11_col2,#T_31d9e_row11_col3,#T_31d9e_row11_col4,#T_31d9e_row11_col5,#T_31d9e_row11_col6,#T_31d9e_row12_col0,#T_31d9e_row12_col1,#T_31d9e_row12_col2,#T_31d9e_row12_col3,#T_31d9e_row12_col4,#T_31d9e_row12_col5,#T_31d9e_row12_col6,#T_31d9e_row13_col0,#T_31d9e_row13_col1,#T_31d9e_row13_col2,#T_31d9e_row13_col3,#T_31d9e_row13_col4,#T_31d9e_row13_col5,#T_31d9e_row13_col6,#T_31d9e_row14_col0,#T_31d9e_row14_col1,#T_31d9e_row14_col2,#T_31d9e_row14_col3,#T_31d9e_row14_col4,#T_31d9e_row14_col5,#T_31d9e_row14_col6,#T_31d9e_row15_col0,#T_31d9e_row15_col1,#T_31d9e_row15_col2,#T_31d9e_row15_col3,#T_31d9e_row15_col4,#T_31d9e_row15_col5,#T_31d9e_row15_col6,#T_31d9e_row16_col0,#T_31d9e_row16_col1,#T_31d9e_row16_col2,#T_31d9e_row16_col3,#T_31d9e_row16_col4,#T_31d9e_row16_col5,#T_31d9e_row16_col6,#T_31d9e_row17_col0,#T_31d9e_row17_col1,#T_31d9e_row17_col2,#T_31d9e_row17_col3,#T_31d9e_row17_col4,#T_31d9e_row17_col5,#T_31d9e_row17_col6,#T_31d9e_row18_col0,#T_31d9e_row18_col1,#T_31d9e_row18_col2,#T_31d9e_row18_col3,#T_31d9e_row18_col4,#T_31d9e_row18_col5,#T_31d9e_row18_col6{\n",
       "            text-align:  left;\n",
       "            text-align:  left;\n",
       "        }#T_31d9e_row0_col2,#T_31d9e_row0_col3,#T_31d9e_row0_col4,#T_31d9e_row6_col1,#T_31d9e_row6_col5,#T_31d9e_row7_col6{\n",
       "            text-align:  left;\n",
       "            text-align:  left;\n",
       "            background-color:  yellow;\n",
       "        }#T_31d9e_row0_col7,#T_31d9e_row1_col7,#T_31d9e_row2_col7,#T_31d9e_row3_col7,#T_31d9e_row4_col7,#T_31d9e_row5_col7,#T_31d9e_row6_col7,#T_31d9e_row7_col7,#T_31d9e_row8_col7,#T_31d9e_row9_col7,#T_31d9e_row10_col7,#T_31d9e_row11_col7,#T_31d9e_row13_col7,#T_31d9e_row14_col7,#T_31d9e_row15_col7,#T_31d9e_row16_col7,#T_31d9e_row17_col7,#T_31d9e_row18_col7{\n",
       "            text-align:  left;\n",
       "            text-align:  left;\n",
       "            background-color:  lightgrey;\n",
       "        }#T_31d9e_row12_col7{\n",
       "            text-align:  left;\n",
       "            text-align:  left;\n",
       "            background-color:  yellow;\n",
       "            background-color:  lightgrey;\n",
       "        }</style><table id=\"T_31d9e_\" ><thead>    <tr>        <th class=\"blank level0\" ></th>        <th class=\"col_heading level0 col0\" >Model</th>        <th class=\"col_heading level0 col1\" >MAE</th>        <th class=\"col_heading level0 col2\" >MSE</th>        <th class=\"col_heading level0 col3\" >RMSE</th>        <th class=\"col_heading level0 col4\" >R2</th>        <th class=\"col_heading level0 col5\" >RMSLE</th>        <th class=\"col_heading level0 col6\" >MAPE</th>        <th class=\"col_heading level0 col7\" >TT (Sec)</th>    </tr></thead><tbody>\n",
       "                <tr>\n",
       "                        <th id=\"T_31d9e_level0_row0\" class=\"row_heading level0 row0\" >ridge</th>\n",
       "                        <td id=\"T_31d9e_row0_col0\" class=\"data row0 col0\" >Ridge Regression</td>\n",
       "                        <td id=\"T_31d9e_row0_col1\" class=\"data row0 col1\" >168.0391</td>\n",
       "                        <td id=\"T_31d9e_row0_col2\" class=\"data row0 col2\" >130011.6154</td>\n",
       "                        <td id=\"T_31d9e_row0_col3\" class=\"data row0 col3\" >357.2091</td>\n",
       "                        <td id=\"T_31d9e_row0_col4\" class=\"data row0 col4\" >0.5793</td>\n",
       "                        <td id=\"T_31d9e_row0_col5\" class=\"data row0 col5\" >3.1045</td>\n",
       "                        <td id=\"T_31d9e_row0_col6\" class=\"data row0 col6\" >0.5976</td>\n",
       "                        <td id=\"T_31d9e_row0_col7\" class=\"data row0 col7\" >0.0250</td>\n",
       "            </tr>\n",
       "            <tr>\n",
       "                        <th id=\"T_31d9e_level0_row1\" class=\"row_heading level0 row1\" >huber</th>\n",
       "                        <td id=\"T_31d9e_row1_col0\" class=\"data row1 col0\" >Huber Regressor</td>\n",
       "                        <td id=\"T_31d9e_row1_col1\" class=\"data row1 col1\" >162.1216</td>\n",
       "                        <td id=\"T_31d9e_row1_col2\" class=\"data row1 col2\" >132224.8844</td>\n",
       "                        <td id=\"T_31d9e_row1_col3\" class=\"data row1 col3\" >358.8510</td>\n",
       "                        <td id=\"T_31d9e_row1_col4\" class=\"data row1 col4\" >0.5773</td>\n",
       "                        <td id=\"T_31d9e_row1_col5\" class=\"data row1 col5\" >2.9201</td>\n",
       "                        <td id=\"T_31d9e_row1_col6\" class=\"data row1 col6\" >0.6061</td>\n",
       "                        <td id=\"T_31d9e_row1_col7\" class=\"data row1 col7\" >0.1240</td>\n",
       "            </tr>\n",
       "            <tr>\n",
       "                        <th id=\"T_31d9e_level0_row2\" class=\"row_heading level0 row2\" >lasso</th>\n",
       "                        <td id=\"T_31d9e_row2_col0\" class=\"data row2 col0\" >Lasso Regression</td>\n",
       "                        <td id=\"T_31d9e_row2_col1\" class=\"data row2 col1\" >169.7305</td>\n",
       "                        <td id=\"T_31d9e_row2_col2\" class=\"data row2 col2\" >132299.4820</td>\n",
       "                        <td id=\"T_31d9e_row2_col3\" class=\"data row2 col3\" >359.3488</td>\n",
       "                        <td id=\"T_31d9e_row2_col4\" class=\"data row2 col4\" >0.5758</td>\n",
       "                        <td id=\"T_31d9e_row2_col5\" class=\"data row2 col5\" >3.1261</td>\n",
       "                        <td id=\"T_31d9e_row2_col6\" class=\"data row2 col6\" >0.6003</td>\n",
       "                        <td id=\"T_31d9e_row2_col7\" class=\"data row2 col7\" >0.1840</td>\n",
       "            </tr>\n",
       "            <tr>\n",
       "                        <th id=\"T_31d9e_level0_row3\" class=\"row_heading level0 row3\" >br</th>\n",
       "                        <td id=\"T_31d9e_row3_col0\" class=\"data row3 col0\" >Bayesian Ridge</td>\n",
       "                        <td id=\"T_31d9e_row3_col1\" class=\"data row3 col1\" >168.0003</td>\n",
       "                        <td id=\"T_31d9e_row3_col2\" class=\"data row3 col2\" >131014.9409</td>\n",
       "                        <td id=\"T_31d9e_row3_col3\" class=\"data row3 col3\" >358.7974</td>\n",
       "                        <td id=\"T_31d9e_row3_col4\" class=\"data row3 col4\" >0.5750</td>\n",
       "                        <td id=\"T_31d9e_row3_col5\" class=\"data row3 col5\" >3.0984</td>\n",
       "                        <td id=\"T_31d9e_row3_col6\" class=\"data row3 col6\" >0.5983</td>\n",
       "                        <td id=\"T_31d9e_row3_col7\" class=\"data row3 col7\" >0.0210</td>\n",
       "            </tr>\n",
       "            <tr>\n",
       "                        <th id=\"T_31d9e_level0_row4\" class=\"row_heading level0 row4\" >lar</th>\n",
       "                        <td id=\"T_31d9e_row4_col0\" class=\"data row4 col0\" >Least Angle Regression</td>\n",
       "                        <td id=\"T_31d9e_row4_col1\" class=\"data row4 col1\" >167.9581</td>\n",
       "                        <td id=\"T_31d9e_row4_col2\" class=\"data row4 col2\" >131258.6874</td>\n",
       "                        <td id=\"T_31d9e_row4_col3\" class=\"data row4 col3\" >359.1710</td>\n",
       "                        <td id=\"T_31d9e_row4_col4\" class=\"data row4 col4\" >0.5739</td>\n",
       "                        <td id=\"T_31d9e_row4_col5\" class=\"data row4 col5\" >3.0970</td>\n",
       "                        <td id=\"T_31d9e_row4_col6\" class=\"data row4 col6\" >0.5984</td>\n",
       "                        <td id=\"T_31d9e_row4_col7\" class=\"data row4 col7\" >0.0200</td>\n",
       "            </tr>\n",
       "            <tr>\n",
       "                        <th id=\"T_31d9e_level0_row5\" class=\"row_heading level0 row5\" >lightgbm</th>\n",
       "                        <td id=\"T_31d9e_row5_col0\" class=\"data row5 col0\" >Light Gradient Boosting Machine</td>\n",
       "                        <td id=\"T_31d9e_row5_col1\" class=\"data row5 col1\" >175.8249</td>\n",
       "                        <td id=\"T_31d9e_row5_col2\" class=\"data row5 col2\" >134086.8487</td>\n",
       "                        <td id=\"T_31d9e_row5_col3\" class=\"data row5 col3\" >362.6495</td>\n",
       "                        <td id=\"T_31d9e_row5_col4\" class=\"data row5 col4\" >0.5616</td>\n",
       "                        <td id=\"T_31d9e_row5_col5\" class=\"data row5 col5\" >3.1534</td>\n",
       "                        <td id=\"T_31d9e_row5_col6\" class=\"data row5 col6\" >0.6021</td>\n",
       "                        <td id=\"T_31d9e_row5_col7\" class=\"data row5 col7\" >0.7890</td>\n",
       "            </tr>\n",
       "            <tr>\n",
       "                        <th id=\"T_31d9e_level0_row6\" class=\"row_heading level0 row6\" >par</th>\n",
       "                        <td id=\"T_31d9e_row6_col0\" class=\"data row6 col0\" >Passive Aggressive Regressor</td>\n",
       "                        <td id=\"T_31d9e_row6_col1\" class=\"data row6 col1\" >161.6954</td>\n",
       "                        <td id=\"T_31d9e_row6_col2\" class=\"data row6 col2\" >140099.0451</td>\n",
       "                        <td id=\"T_31d9e_row6_col3\" class=\"data row6 col3\" >369.0680</td>\n",
       "                        <td id=\"T_31d9e_row6_col4\" class=\"data row6 col4\" >0.5535</td>\n",
       "                        <td id=\"T_31d9e_row6_col5\" class=\"data row6 col5\" >2.7659</td>\n",
       "                        <td id=\"T_31d9e_row6_col6\" class=\"data row6 col6\" >0.6265</td>\n",
       "                        <td id=\"T_31d9e_row6_col7\" class=\"data row6 col7\" >0.0360</td>\n",
       "            </tr>\n",
       "            <tr>\n",
       "                        <th id=\"T_31d9e_level0_row7\" class=\"row_heading level0 row7\" >gbr</th>\n",
       "                        <td id=\"T_31d9e_row7_col0\" class=\"data row7 col0\" >Gradient Boosting Regressor</td>\n",
       "                        <td id=\"T_31d9e_row7_col1\" class=\"data row7 col1\" >175.5729</td>\n",
       "                        <td id=\"T_31d9e_row7_col2\" class=\"data row7 col2\" >144715.0640</td>\n",
       "                        <td id=\"T_31d9e_row7_col3\" class=\"data row7 col3\" >376.3568</td>\n",
       "                        <td id=\"T_31d9e_row7_col4\" class=\"data row7 col4\" >0.5304</td>\n",
       "                        <td id=\"T_31d9e_row7_col5\" class=\"data row7 col5\" >3.2490</td>\n",
       "                        <td id=\"T_31d9e_row7_col6\" class=\"data row7 col6\" >0.5898</td>\n",
       "                        <td id=\"T_31d9e_row7_col7\" class=\"data row7 col7\" >0.0790</td>\n",
       "            </tr>\n",
       "            <tr>\n",
       "                        <th id=\"T_31d9e_level0_row8\" class=\"row_heading level0 row8\" >knn</th>\n",
       "                        <td id=\"T_31d9e_row8_col0\" class=\"data row8 col0\" >K Neighbors Regressor</td>\n",
       "                        <td id=\"T_31d9e_row8_col1\" class=\"data row8 col1\" >180.0939</td>\n",
       "                        <td id=\"T_31d9e_row8_col2\" class=\"data row8 col2\" >152177.5268</td>\n",
       "                        <td id=\"T_31d9e_row8_col3\" class=\"data row8 col3\" >386.8624</td>\n",
       "                        <td id=\"T_31d9e_row8_col4\" class=\"data row8 col4\" >0.5056</td>\n",
       "                        <td id=\"T_31d9e_row8_col5\" class=\"data row8 col5\" >3.0293</td>\n",
       "                        <td id=\"T_31d9e_row8_col6\" class=\"data row8 col6\" >0.6449</td>\n",
       "                        <td id=\"T_31d9e_row8_col7\" class=\"data row8 col7\" >0.0420</td>\n",
       "            </tr>\n",
       "            <tr>\n",
       "                        <th id=\"T_31d9e_level0_row9\" class=\"row_heading level0 row9\" >rf</th>\n",
       "                        <td id=\"T_31d9e_row9_col0\" class=\"data row9 col0\" >Random Forest Regressor</td>\n",
       "                        <td id=\"T_31d9e_row9_col1\" class=\"data row9 col1\" >179.4268</td>\n",
       "                        <td id=\"T_31d9e_row9_col2\" class=\"data row9 col2\" >157859.9796</td>\n",
       "                        <td id=\"T_31d9e_row9_col3\" class=\"data row9 col3\" >394.0886</td>\n",
       "                        <td id=\"T_31d9e_row9_col4\" class=\"data row9 col4\" >0.4829</td>\n",
       "                        <td id=\"T_31d9e_row9_col5\" class=\"data row9 col5\" >3.0846</td>\n",
       "                        <td id=\"T_31d9e_row9_col6\" class=\"data row9 col6\" >0.6258</td>\n",
       "                        <td id=\"T_31d9e_row9_col7\" class=\"data row9 col7\" >0.1880</td>\n",
       "            </tr>\n",
       "            <tr>\n",
       "                        <th id=\"T_31d9e_level0_row10\" class=\"row_heading level0 row10\" >xgboost</th>\n",
       "                        <td id=\"T_31d9e_row10_col0\" class=\"data row10 col0\" >Extreme Gradient Boosting</td>\n",
       "                        <td id=\"T_31d9e_row10_col1\" class=\"data row10 col1\" >179.7696</td>\n",
       "                        <td id=\"T_31d9e_row10_col2\" class=\"data row10 col2\" >183335.2762</td>\n",
       "                        <td id=\"T_31d9e_row10_col3\" class=\"data row10 col3\" >422.8634</td>\n",
       "                        <td id=\"T_31d9e_row10_col4\" class=\"data row10 col4\" >0.3947</td>\n",
       "                        <td id=\"T_31d9e_row10_col5\" class=\"data row10 col5\" >3.1109</td>\n",
       "                        <td id=\"T_31d9e_row10_col6\" class=\"data row10 col6\" >0.6082</td>\n",
       "                        <td id=\"T_31d9e_row10_col7\" class=\"data row10 col7\" >0.4530</td>\n",
       "            </tr>\n",
       "            <tr>\n",
       "                        <th id=\"T_31d9e_level0_row11\" class=\"row_heading level0 row11\" >et</th>\n",
       "                        <td id=\"T_31d9e_row11_col0\" class=\"data row11 col0\" >Extra Trees Regressor</td>\n",
       "                        <td id=\"T_31d9e_row11_col1\" class=\"data row11 col1\" >187.5813</td>\n",
       "                        <td id=\"T_31d9e_row11_col2\" class=\"data row11 col2\" >200143.7787</td>\n",
       "                        <td id=\"T_31d9e_row11_col3\" class=\"data row11 col3\" >442.7300</td>\n",
       "                        <td id=\"T_31d9e_row11_col4\" class=\"data row11 col4\" >0.3394</td>\n",
       "                        <td id=\"T_31d9e_row11_col5\" class=\"data row11 col5\" >3.0905</td>\n",
       "                        <td id=\"T_31d9e_row11_col6\" class=\"data row11 col6\" >0.6433</td>\n",
       "                        <td id=\"T_31d9e_row11_col7\" class=\"data row11 col7\" >0.1740</td>\n",
       "            </tr>\n",
       "            <tr>\n",
       "                        <th id=\"T_31d9e_level0_row12\" class=\"row_heading level0 row12\" >omp</th>\n",
       "                        <td id=\"T_31d9e_row12_col0\" class=\"data row12 col0\" >Orthogonal Matching Pursuit</td>\n",
       "                        <td id=\"T_31d9e_row12_col1\" class=\"data row12 col1\" >211.8427</td>\n",
       "                        <td id=\"T_31d9e_row12_col2\" class=\"data row12 col2\" >203822.5147</td>\n",
       "                        <td id=\"T_31d9e_row12_col3\" class=\"data row12 col3\" >447.9596</td>\n",
       "                        <td id=\"T_31d9e_row12_col4\" class=\"data row12 col4\" >0.3382</td>\n",
       "                        <td id=\"T_31d9e_row12_col5\" class=\"data row12 col5\" >3.2542</td>\n",
       "                        <td id=\"T_31d9e_row12_col6\" class=\"data row12 col6\" >0.6091</td>\n",
       "                        <td id=\"T_31d9e_row12_col7\" class=\"data row12 col7\" >0.0190</td>\n",
       "            </tr>\n",
       "            <tr>\n",
       "                        <th id=\"T_31d9e_level0_row13\" class=\"row_heading level0 row13\" >llar</th>\n",
       "                        <td id=\"T_31d9e_row13_col0\" class=\"data row13 col0\" >Lasso Least Angle Regression</td>\n",
       "                        <td id=\"T_31d9e_row13_col1\" class=\"data row13 col1\" >243.8754</td>\n",
       "                        <td id=\"T_31d9e_row13_col2\" class=\"data row13 col2\" >216730.0809</td>\n",
       "                        <td id=\"T_31d9e_row13_col3\" class=\"data row13 col3\" >461.8587</td>\n",
       "                        <td id=\"T_31d9e_row13_col4\" class=\"data row13 col4\" >0.2975</td>\n",
       "                        <td id=\"T_31d9e_row13_col5\" class=\"data row13 col5\" >3.8710</td>\n",
       "                        <td id=\"T_31d9e_row13_col6\" class=\"data row13 col6\" >0.5982</td>\n",
       "                        <td id=\"T_31d9e_row13_col7\" class=\"data row13 col7\" >0.0210</td>\n",
       "            </tr>\n",
       "            <tr>\n",
       "                        <th id=\"T_31d9e_level0_row14\" class=\"row_heading level0 row14\" >dt</th>\n",
       "                        <td id=\"T_31d9e_row14_col0\" class=\"data row14 col0\" >Decision Tree Regressor</td>\n",
       "                        <td id=\"T_31d9e_row14_col1\" class=\"data row14 col1\" >191.2694</td>\n",
       "                        <td id=\"T_31d9e_row14_col2\" class=\"data row14 col2\" >217826.7463</td>\n",
       "                        <td id=\"T_31d9e_row14_col3\" class=\"data row14 col3\" >462.4610</td>\n",
       "                        <td id=\"T_31d9e_row14_col4\" class=\"data row14 col4\" >0.2658</td>\n",
       "                        <td id=\"T_31d9e_row14_col5\" class=\"data row14 col5\" >3.0999</td>\n",
       "                        <td id=\"T_31d9e_row14_col6\" class=\"data row14 col6\" >0.6485</td>\n",
       "                        <td id=\"T_31d9e_row14_col7\" class=\"data row14 col7\" >0.0200</td>\n",
       "            </tr>\n",
       "            <tr>\n",
       "                        <th id=\"T_31d9e_level0_row15\" class=\"row_heading level0 row15\" >en</th>\n",
       "                        <td id=\"T_31d9e_row15_col0\" class=\"data row15 col0\" >Elastic Net</td>\n",
       "                        <td id=\"T_31d9e_row15_col1\" class=\"data row15 col1\" >260.0018</td>\n",
       "                        <td id=\"T_31d9e_row15_col2\" class=\"data row15 col2\" >251512.0812</td>\n",
       "                        <td id=\"T_31d9e_row15_col3\" class=\"data row15 col3\" >498.0334</td>\n",
       "                        <td id=\"T_31d9e_row15_col4\" class=\"data row15 col4\" >0.1830</td>\n",
       "                        <td id=\"T_31d9e_row15_col5\" class=\"data row15 col5\" >3.9516</td>\n",
       "                        <td id=\"T_31d9e_row15_col6\" class=\"data row15 col6\" >0.5974</td>\n",
       "                        <td id=\"T_31d9e_row15_col7\" class=\"data row15 col7\" >0.0200</td>\n",
       "            </tr>\n",
       "            <tr>\n",
       "                        <th id=\"T_31d9e_level0_row16\" class=\"row_heading level0 row16\" >dummy</th>\n",
       "                        <td id=\"T_31d9e_row16_col0\" class=\"data row16 col0\" >Dummy Regressor</td>\n",
       "                        <td id=\"T_31d9e_row16_col1\" class=\"data row16 col1\" >302.3574</td>\n",
       "                        <td id=\"T_31d9e_row16_col2\" class=\"data row16 col2\" >306014.6300</td>\n",
       "                        <td id=\"T_31d9e_row16_col3\" class=\"data row16 col3\" >550.3194</td>\n",
       "                        <td id=\"T_31d9e_row16_col4\" class=\"data row16 col4\" >-0.0006</td>\n",
       "                        <td id=\"T_31d9e_row16_col5\" class=\"data row16 col5\" >4.1023</td>\n",
       "                        <td id=\"T_31d9e_row16_col6\" class=\"data row16 col6\" >0.6693</td>\n",
       "                        <td id=\"T_31d9e_row16_col7\" class=\"data row16 col7\" >0.0210</td>\n",
       "            </tr>\n",
       "            <tr>\n",
       "                        <th id=\"T_31d9e_level0_row17\" class=\"row_heading level0 row17\" >ada</th>\n",
       "                        <td id=\"T_31d9e_row17_col0\" class=\"data row17 col0\" >AdaBoost Regressor</td>\n",
       "                        <td id=\"T_31d9e_row17_col1\" class=\"data row17 col1\" >380.5083</td>\n",
       "                        <td id=\"T_31d9e_row17_col2\" class=\"data row17 col2\" >366545.9483</td>\n",
       "                        <td id=\"T_31d9e_row17_col3\" class=\"data row17 col3\" >592.6137</td>\n",
       "                        <td id=\"T_31d9e_row17_col4\" class=\"data row17 col4\" >-0.2006</td>\n",
       "                        <td id=\"T_31d9e_row17_col5\" class=\"data row17 col5\" >4.2696</td>\n",
       "                        <td id=\"T_31d9e_row17_col6\" class=\"data row17 col6\" >1.0764</td>\n",
       "                        <td id=\"T_31d9e_row17_col7\" class=\"data row17 col7\" >0.0630</td>\n",
       "            </tr>\n",
       "            <tr>\n",
       "                        <th id=\"T_31d9e_level0_row18\" class=\"row_heading level0 row18\" >lr</th>\n",
       "                        <td id=\"T_31d9e_row18_col0\" class=\"data row18 col0\" >Linear Regression</td>\n",
       "                        <td id=\"T_31d9e_row18_col1\" class=\"data row18 col1\" >259.6511</td>\n",
       "                        <td id=\"T_31d9e_row18_col2\" class=\"data row18 col2\" >80100932.8478</td>\n",
       "                        <td id=\"T_31d9e_row18_col3\" class=\"data row18 col3\" >3156.5316</td>\n",
       "                        <td id=\"T_31d9e_row18_col4\" class=\"data row18 col4\" >-292.7067</td>\n",
       "                        <td id=\"T_31d9e_row18_col5\" class=\"data row18 col5\" >3.1012</td>\n",
       "                        <td id=\"T_31d9e_row18_col6\" class=\"data row18 col6\" >0.5990</td>\n",
       "                        <td id=\"T_31d9e_row18_col7\" class=\"data row18 col7\" >0.3920</td>\n",
       "            </tr>\n",
       "    </tbody></table>"
      ],
      "text/plain": [
       "<pandas.io.formats.style.Styler at 0x7fe8bf205110>"
      ]
     },
     "metadata": {},
     "output_type": "display_data"
    }
   ],
   "source": [
    "best = compare_models(exclude = [])"
   ]
  },
  {
   "cell_type": "code",
   "execution_count": 12,
   "metadata": {},
   "outputs": [
    {
     "data": {
      "text/html": [
       "<style  type=\"text/css\" >\n",
       "#T_9e574_row10_col0,#T_9e574_row10_col1,#T_9e574_row10_col2,#T_9e574_row10_col3,#T_9e574_row10_col4,#T_9e574_row10_col5{\n",
       "            background:  yellow;\n",
       "        }</style><table id=\"T_9e574_\" ><thead>    <tr>        <th class=\"blank level0\" ></th>        <th class=\"col_heading level0 col0\" >MAE</th>        <th class=\"col_heading level0 col1\" >MSE</th>        <th class=\"col_heading level0 col2\" >RMSE</th>        <th class=\"col_heading level0 col3\" >R2</th>        <th class=\"col_heading level0 col4\" >RMSLE</th>        <th class=\"col_heading level0 col5\" >MAPE</th>    </tr></thead><tbody>\n",
       "                <tr>\n",
       "                        <th id=\"T_9e574_level0_row0\" class=\"row_heading level0 row0\" >0</th>\n",
       "                        <td id=\"T_9e574_row0_col0\" class=\"data row0 col0\" >158.4490</td>\n",
       "                        <td id=\"T_9e574_row0_col1\" class=\"data row0 col1\" >140432.2479</td>\n",
       "                        <td id=\"T_9e574_row0_col2\" class=\"data row0 col2\" >374.7429</td>\n",
       "                        <td id=\"T_9e574_row0_col3\" class=\"data row0 col3\" >0.5861</td>\n",
       "                        <td id=\"T_9e574_row0_col4\" class=\"data row0 col4\" >3.2223</td>\n",
       "                        <td id=\"T_9e574_row0_col5\" class=\"data row0 col5\" >0.7749</td>\n",
       "            </tr>\n",
       "            <tr>\n",
       "                        <th id=\"T_9e574_level0_row1\" class=\"row_heading level0 row1\" >1</th>\n",
       "                        <td id=\"T_9e574_row1_col0\" class=\"data row1 col0\" >171.8704</td>\n",
       "                        <td id=\"T_9e574_row1_col1\" class=\"data row1 col1\" >155953.9437</td>\n",
       "                        <td id=\"T_9e574_row1_col2\" class=\"data row1 col2\" >394.9100</td>\n",
       "                        <td id=\"T_9e574_row1_col3\" class=\"data row1 col3\" >0.5807</td>\n",
       "                        <td id=\"T_9e574_row1_col4\" class=\"data row1 col4\" >3.0738</td>\n",
       "                        <td id=\"T_9e574_row1_col5\" class=\"data row1 col5\" >0.5559</td>\n",
       "            </tr>\n",
       "            <tr>\n",
       "                        <th id=\"T_9e574_level0_row2\" class=\"row_heading level0 row2\" >2</th>\n",
       "                        <td id=\"T_9e574_row2_col0\" class=\"data row2 col0\" >171.5386</td>\n",
       "                        <td id=\"T_9e574_row2_col1\" class=\"data row2 col1\" >101569.3973</td>\n",
       "                        <td id=\"T_9e574_row2_col2\" class=\"data row2 col2\" >318.6995</td>\n",
       "                        <td id=\"T_9e574_row2_col3\" class=\"data row2 col3\" >0.5353</td>\n",
       "                        <td id=\"T_9e574_row2_col4\" class=\"data row2 col4\" >3.1003</td>\n",
       "                        <td id=\"T_9e574_row2_col5\" class=\"data row2 col5\" >0.5438</td>\n",
       "            </tr>\n",
       "            <tr>\n",
       "                        <th id=\"T_9e574_level0_row3\" class=\"row_heading level0 row3\" >3</th>\n",
       "                        <td id=\"T_9e574_row3_col0\" class=\"data row3 col0\" >165.7179</td>\n",
       "                        <td id=\"T_9e574_row3_col1\" class=\"data row3 col1\" >80142.1878</td>\n",
       "                        <td id=\"T_9e574_row3_col2\" class=\"data row3 col2\" >283.0940</td>\n",
       "                        <td id=\"T_9e574_row3_col3\" class=\"data row3 col3\" >0.6459</td>\n",
       "                        <td id=\"T_9e574_row3_col4\" class=\"data row3 col4\" >3.1727</td>\n",
       "                        <td id=\"T_9e574_row3_col5\" class=\"data row3 col5\" >0.5466</td>\n",
       "            </tr>\n",
       "            <tr>\n",
       "                        <th id=\"T_9e574_level0_row4\" class=\"row_heading level0 row4\" >4</th>\n",
       "                        <td id=\"T_9e574_row4_col0\" class=\"data row4 col0\" >173.6781</td>\n",
       "                        <td id=\"T_9e574_row4_col1\" class=\"data row4 col1\" >109610.9424</td>\n",
       "                        <td id=\"T_9e574_row4_col2\" class=\"data row4 col2\" >331.0754</td>\n",
       "                        <td id=\"T_9e574_row4_col3\" class=\"data row4 col3\" >0.5809</td>\n",
       "                        <td id=\"T_9e574_row4_col4\" class=\"data row4 col4\" >3.0042</td>\n",
       "                        <td id=\"T_9e574_row4_col5\" class=\"data row4 col5\" >0.7102</td>\n",
       "            </tr>\n",
       "            <tr>\n",
       "                        <th id=\"T_9e574_level0_row5\" class=\"row_heading level0 row5\" >5</th>\n",
       "                        <td id=\"T_9e574_row5_col0\" class=\"data row5 col0\" >167.2002</td>\n",
       "                        <td id=\"T_9e574_row5_col1\" class=\"data row5 col1\" >112380.3895</td>\n",
       "                        <td id=\"T_9e574_row5_col2\" class=\"data row5 col2\" >335.2318</td>\n",
       "                        <td id=\"T_9e574_row5_col3\" class=\"data row5 col3\" >0.5871</td>\n",
       "                        <td id=\"T_9e574_row5_col4\" class=\"data row5 col4\" >3.0945</td>\n",
       "                        <td id=\"T_9e574_row5_col5\" class=\"data row5 col5\" >0.6128</td>\n",
       "            </tr>\n",
       "            <tr>\n",
       "                        <th id=\"T_9e574_level0_row6\" class=\"row_heading level0 row6\" >6</th>\n",
       "                        <td id=\"T_9e574_row6_col0\" class=\"data row6 col0\" >154.2999</td>\n",
       "                        <td id=\"T_9e574_row6_col1\" class=\"data row6 col1\" >96238.9968</td>\n",
       "                        <td id=\"T_9e574_row6_col2\" class=\"data row6 col2\" >310.2241</td>\n",
       "                        <td id=\"T_9e574_row6_col3\" class=\"data row6 col3\" >0.6471</td>\n",
       "                        <td id=\"T_9e574_row6_col4\" class=\"data row6 col4\" >3.1445</td>\n",
       "                        <td id=\"T_9e574_row6_col5\" class=\"data row6 col5\" >0.5756</td>\n",
       "            </tr>\n",
       "            <tr>\n",
       "                        <th id=\"T_9e574_level0_row7\" class=\"row_heading level0 row7\" >7</th>\n",
       "                        <td id=\"T_9e574_row7_col0\" class=\"data row7 col0\" >176.5697</td>\n",
       "                        <td id=\"T_9e574_row7_col1\" class=\"data row7 col1\" >171161.5923</td>\n",
       "                        <td id=\"T_9e574_row7_col2\" class=\"data row7 col2\" >413.7168</td>\n",
       "                        <td id=\"T_9e574_row7_col3\" class=\"data row7 col3\" >0.5611</td>\n",
       "                        <td id=\"T_9e574_row7_col4\" class=\"data row7 col4\" >3.0970</td>\n",
       "                        <td id=\"T_9e574_row7_col5\" class=\"data row7 col5\" >0.5450</td>\n",
       "            </tr>\n",
       "            <tr>\n",
       "                        <th id=\"T_9e574_level0_row8\" class=\"row_heading level0 row8\" >8</th>\n",
       "                        <td id=\"T_9e574_row8_col0\" class=\"data row8 col0\" >164.5448</td>\n",
       "                        <td id=\"T_9e574_row8_col1\" class=\"data row8 col1\" >128933.4227</td>\n",
       "                        <td id=\"T_9e574_row8_col2\" class=\"data row8 col2\" >359.0730</td>\n",
       "                        <td id=\"T_9e574_row8_col3\" class=\"data row8 col3\" >0.5876</td>\n",
       "                        <td id=\"T_9e574_row8_col4\" class=\"data row8 col4\" >2.9630</td>\n",
       "                        <td id=\"T_9e574_row8_col5\" class=\"data row8 col5\" >0.5616</td>\n",
       "            </tr>\n",
       "            <tr>\n",
       "                        <th id=\"T_9e574_level0_row9\" class=\"row_heading level0 row9\" >9</th>\n",
       "                        <td id=\"T_9e574_row9_col0\" class=\"data row9 col0\" >176.5222</td>\n",
       "                        <td id=\"T_9e574_row9_col1\" class=\"data row9 col1\" >203693.0339</td>\n",
       "                        <td id=\"T_9e574_row9_col2\" class=\"data row9 col2\" >451.3236</td>\n",
       "                        <td id=\"T_9e574_row9_col3\" class=\"data row9 col3\" >0.4817</td>\n",
       "                        <td id=\"T_9e574_row9_col4\" class=\"data row9 col4\" >3.1729</td>\n",
       "                        <td id=\"T_9e574_row9_col5\" class=\"data row9 col5\" >0.5496</td>\n",
       "            </tr>\n",
       "            <tr>\n",
       "                        <th id=\"T_9e574_level0_row10\" class=\"row_heading level0 row10\" >Mean</th>\n",
       "                        <td id=\"T_9e574_row10_col0\" class=\"data row10 col0\" >168.0391</td>\n",
       "                        <td id=\"T_9e574_row10_col1\" class=\"data row10 col1\" >130011.6154</td>\n",
       "                        <td id=\"T_9e574_row10_col2\" class=\"data row10 col2\" >357.2091</td>\n",
       "                        <td id=\"T_9e574_row10_col3\" class=\"data row10 col3\" >0.5793</td>\n",
       "                        <td id=\"T_9e574_row10_col4\" class=\"data row10 col4\" >3.1045</td>\n",
       "                        <td id=\"T_9e574_row10_col5\" class=\"data row10 col5\" >0.5976</td>\n",
       "            </tr>\n",
       "            <tr>\n",
       "                        <th id=\"T_9e574_level0_row11\" class=\"row_heading level0 row11\" >SD</th>\n",
       "                        <td id=\"T_9e574_row11_col0\" class=\"data row11 col0\" >7.0887</td>\n",
       "                        <td id=\"T_9e574_row11_col1\" class=\"data row11 col1\" >36150.4985</td>\n",
       "                        <td id=\"T_9e574_row11_col2\" class=\"data row11 col2\" >49.1249</td>\n",
       "                        <td id=\"T_9e574_row11_col3\" class=\"data row11 col3\" >0.0458</td>\n",
       "                        <td id=\"T_9e574_row11_col4\" class=\"data row11 col4\" >0.0748</td>\n",
       "                        <td id=\"T_9e574_row11_col5\" class=\"data row11 col5\" >0.0764</td>\n",
       "            </tr>\n",
       "    </tbody></table>"
      ],
      "text/plain": [
       "<pandas.io.formats.style.Styler at 0x7fe8c2890590>"
      ]
     },
     "metadata": {},
     "output_type": "display_data"
    }
   ],
   "source": [
    "ridge = create_model('ridge')"
   ]
  },
  {
   "cell_type": "code",
   "execution_count": 13,
   "metadata": {},
   "outputs": [
    {
     "data": {
      "text/html": [
       "<style  type=\"text/css\" >\n",
       "#T_4c599_row10_col0,#T_4c599_row10_col1,#T_4c599_row10_col2,#T_4c599_row10_col3,#T_4c599_row10_col4,#T_4c599_row10_col5{\n",
       "            background:  yellow;\n",
       "        }</style><table id=\"T_4c599_\" ><thead>    <tr>        <th class=\"blank level0\" ></th>        <th class=\"col_heading level0 col0\" >MAE</th>        <th class=\"col_heading level0 col1\" >MSE</th>        <th class=\"col_heading level0 col2\" >RMSE</th>        <th class=\"col_heading level0 col3\" >R2</th>        <th class=\"col_heading level0 col4\" >RMSLE</th>        <th class=\"col_heading level0 col5\" >MAPE</th>    </tr></thead><tbody>\n",
       "                <tr>\n",
       "                        <th id=\"T_4c599_level0_row0\" class=\"row_heading level0 row0\" >0</th>\n",
       "                        <td id=\"T_4c599_row0_col0\" class=\"data row0 col0\" >159.4211</td>\n",
       "                        <td id=\"T_4c599_row0_col1\" class=\"data row0 col1\" >144189.2836</td>\n",
       "                        <td id=\"T_4c599_row0_col2\" class=\"data row0 col2\" >379.7226</td>\n",
       "                        <td id=\"T_4c599_row0_col3\" class=\"data row0 col3\" >0.5750</td>\n",
       "                        <td id=\"T_4c599_row0_col4\" class=\"data row0 col4\" >3.2394</td>\n",
       "                        <td id=\"T_4c599_row0_col5\" class=\"data row0 col5\" >0.7773</td>\n",
       "            </tr>\n",
       "            <tr>\n",
       "                        <th id=\"T_4c599_level0_row1\" class=\"row_heading level0 row1\" >1</th>\n",
       "                        <td id=\"T_4c599_row1_col0\" class=\"data row1 col0\" >172.8771</td>\n",
       "                        <td id=\"T_4c599_row1_col1\" class=\"data row1 col1\" >160477.7518</td>\n",
       "                        <td id=\"T_4c599_row1_col2\" class=\"data row1 col2\" >400.5967</td>\n",
       "                        <td id=\"T_4c599_row1_col3\" class=\"data row1 col3\" >0.5686</td>\n",
       "                        <td id=\"T_4c599_row1_col4\" class=\"data row1 col4\" >3.0947</td>\n",
       "                        <td id=\"T_4c599_row1_col5\" class=\"data row1 col5\" >0.5558</td>\n",
       "            </tr>\n",
       "            <tr>\n",
       "                        <th id=\"T_4c599_level0_row2\" class=\"row_heading level0 row2\" >2</th>\n",
       "                        <td id=\"T_4c599_row2_col0\" class=\"data row2 col0\" >172.2577</td>\n",
       "                        <td id=\"T_4c599_row2_col1\" class=\"data row2 col1\" >97638.2628</td>\n",
       "                        <td id=\"T_4c599_row2_col2\" class=\"data row2 col2\" >312.4712</td>\n",
       "                        <td id=\"T_4c599_row2_col3\" class=\"data row2 col3\" >0.5533</td>\n",
       "                        <td id=\"T_4c599_row2_col4\" class=\"data row2 col4\" >3.1193</td>\n",
       "                        <td id=\"T_4c599_row2_col5\" class=\"data row2 col5\" >0.5398</td>\n",
       "            </tr>\n",
       "            <tr>\n",
       "                        <th id=\"T_4c599_level0_row3\" class=\"row_heading level0 row3\" >3</th>\n",
       "                        <td id=\"T_4c599_row3_col0\" class=\"data row3 col0\" >165.6911</td>\n",
       "                        <td id=\"T_4c599_row3_col1\" class=\"data row3 col1\" >76065.7183</td>\n",
       "                        <td id=\"T_4c599_row3_col2\" class=\"data row3 col2\" >275.8001</td>\n",
       "                        <td id=\"T_4c599_row3_col3\" class=\"data row3 col3\" >0.6639</td>\n",
       "                        <td id=\"T_4c599_row3_col4\" class=\"data row3 col4\" >3.1898</td>\n",
       "                        <td id=\"T_4c599_row3_col5\" class=\"data row3 col5\" >0.5447</td>\n",
       "            </tr>\n",
       "            <tr>\n",
       "                        <th id=\"T_4c599_level0_row4\" class=\"row_heading level0 row4\" >4</th>\n",
       "                        <td id=\"T_4c599_row4_col0\" class=\"data row4 col0\" >173.3988</td>\n",
       "                        <td id=\"T_4c599_row4_col1\" class=\"data row4 col1\" >102314.0317</td>\n",
       "                        <td id=\"T_4c599_row4_col2\" class=\"data row4 col2\" >319.8656</td>\n",
       "                        <td id=\"T_4c599_row4_col3\" class=\"data row4 col3\" >0.6088</td>\n",
       "                        <td id=\"T_4c599_row4_col4\" class=\"data row4 col4\" >3.0242</td>\n",
       "                        <td id=\"T_4c599_row4_col5\" class=\"data row4 col5\" >0.7035</td>\n",
       "            </tr>\n",
       "            <tr>\n",
       "                        <th id=\"T_4c599_level0_row5\" class=\"row_heading level0 row5\" >5</th>\n",
       "                        <td id=\"T_4c599_row5_col0\" class=\"data row5 col0\" >166.8051</td>\n",
       "                        <td id=\"T_4c599_row5_col1\" class=\"data row5 col1\" >109033.1020</td>\n",
       "                        <td id=\"T_4c599_row5_col2\" class=\"data row5 col2\" >330.2016</td>\n",
       "                        <td id=\"T_4c599_row5_col3\" class=\"data row5 col3\" >0.5994</td>\n",
       "                        <td id=\"T_4c599_row5_col4\" class=\"data row5 col4\" >3.1161</td>\n",
       "                        <td id=\"T_4c599_row5_col5\" class=\"data row5 col5\" >0.6107</td>\n",
       "            </tr>\n",
       "            <tr>\n",
       "                        <th id=\"T_4c599_level0_row6\" class=\"row_heading level0 row6\" >6</th>\n",
       "                        <td id=\"T_4c599_row6_col0\" class=\"data row6 col0\" >155.3558</td>\n",
       "                        <td id=\"T_4c599_row6_col1\" class=\"data row6 col1\" >97768.9292</td>\n",
       "                        <td id=\"T_4c599_row6_col2\" class=\"data row6 col2\" >312.6802</td>\n",
       "                        <td id=\"T_4c599_row6_col3\" class=\"data row6 col3\" >0.6414</td>\n",
       "                        <td id=\"T_4c599_row6_col4\" class=\"data row6 col4\" >3.1605</td>\n",
       "                        <td id=\"T_4c599_row6_col5\" class=\"data row6 col5\" >0.5783</td>\n",
       "            </tr>\n",
       "            <tr>\n",
       "                        <th id=\"T_4c599_level0_row7\" class=\"row_heading level0 row7\" >7</th>\n",
       "                        <td id=\"T_4c599_row7_col0\" class=\"data row7 col0\" >177.5707</td>\n",
       "                        <td id=\"T_4c599_row7_col1\" class=\"data row7 col1\" >173925.1932</td>\n",
       "                        <td id=\"T_4c599_row7_col2\" class=\"data row7 col2\" >417.0434</td>\n",
       "                        <td id=\"T_4c599_row7_col3\" class=\"data row7 col3\" >0.5540</td>\n",
       "                        <td id=\"T_4c599_row7_col4\" class=\"data row7 col4\" >3.1134</td>\n",
       "                        <td id=\"T_4c599_row7_col5\" class=\"data row7 col5\" >0.5462</td>\n",
       "            </tr>\n",
       "            <tr>\n",
       "                        <th id=\"T_4c599_level0_row8\" class=\"row_heading level0 row8\" >8</th>\n",
       "                        <td id=\"T_4c599_row8_col0\" class=\"data row8 col0\" >165.3415</td>\n",
       "                        <td id=\"T_4c599_row8_col1\" class=\"data row8 col1\" >131516.3070</td>\n",
       "                        <td id=\"T_4c599_row8_col2\" class=\"data row8 col2\" >362.6518</td>\n",
       "                        <td id=\"T_4c599_row8_col3\" class=\"data row8 col3\" >0.5793</td>\n",
       "                        <td id=\"T_4c599_row8_col4\" class=\"data row8 col4\" >2.9815</td>\n",
       "                        <td id=\"T_4c599_row8_col5\" class=\"data row8 col5\" >0.5629</td>\n",
       "            </tr>\n",
       "            <tr>\n",
       "                        <th id=\"T_4c599_level0_row9\" class=\"row_heading level0 row9\" >9</th>\n",
       "                        <td id=\"T_4c599_row9_col0\" class=\"data row9 col0\" >176.5183</td>\n",
       "                        <td id=\"T_4c599_row9_col1\" class=\"data row9 col1\" >204582.8059</td>\n",
       "                        <td id=\"T_4c599_row9_col2\" class=\"data row9 col2\" >452.3083</td>\n",
       "                        <td id=\"T_4c599_row9_col3\" class=\"data row9 col3\" >0.4795</td>\n",
       "                        <td id=\"T_4c599_row9_col4\" class=\"data row9 col4\" >3.1925</td>\n",
       "                        <td id=\"T_4c599_row9_col5\" class=\"data row9 col5\" >0.5444</td>\n",
       "            </tr>\n",
       "            <tr>\n",
       "                        <th id=\"T_4c599_level0_row10\" class=\"row_heading level0 row10\" >Mean</th>\n",
       "                        <td id=\"T_4c599_row10_col0\" class=\"data row10 col0\" >168.5237</td>\n",
       "                        <td id=\"T_4c599_row10_col1\" class=\"data row10 col1\" >129751.1385</td>\n",
       "                        <td id=\"T_4c599_row10_col2\" class=\"data row10 col2\" >356.3342</td>\n",
       "                        <td id=\"T_4c599_row10_col3\" class=\"data row10 col3\" >0.5823</td>\n",
       "                        <td id=\"T_4c599_row10_col4\" class=\"data row10 col4\" >3.1231</td>\n",
       "                        <td id=\"T_4c599_row10_col5\" class=\"data row10 col5\" >0.5964</td>\n",
       "            </tr>\n",
       "            <tr>\n",
       "                        <th id=\"T_4c599_level0_row11\" class=\"row_heading level0 row11\" >SD</th>\n",
       "                        <td id=\"T_4c599_row11_col0\" class=\"data row11 col0\" >6.9266</td>\n",
       "                        <td id=\"T_4c599_row11_col1\" class=\"data row11 col1\" >38503.3516</td>\n",
       "                        <td id=\"T_4c599_row11_col2\" class=\"data row11 col2\" >52.6982</td>\n",
       "                        <td id=\"T_4c599_row11_col3\" class=\"data row11 col3\" >0.0486</td>\n",
       "                        <td id=\"T_4c599_row11_col4\" class=\"data row11 col4\" >0.0742</td>\n",
       "                        <td id=\"T_4c599_row11_col5\" class=\"data row11 col5\" >0.0765</td>\n",
       "            </tr>\n",
       "    </tbody></table>"
      ],
      "text/plain": [
       "<pandas.io.formats.style.Styler at 0x7fe8b432a210>"
      ]
     },
     "metadata": {},
     "output_type": "display_data"
    }
   ],
   "source": [
    "tuned_ridge = tune_model(ridge)"
   ]
  },
  {
   "cell_type": "code",
   "execution_count": 14,
   "metadata": {},
   "outputs": [
    {
     "name": "stdout",
     "output_type": "stream",
     "text": [
      "Ridge(alpha=4.42, copy_X=True, fit_intercept=False, max_iter=None,\n",
      "      normalize=True, random_state=123, solver='auto', tol=0.001)\n"
     ]
    }
   ],
   "source": [
    "print(tuned_ridge)"
   ]
  },
  {
   "cell_type": "code",
   "execution_count": 15,
   "metadata": {},
   "outputs": [
    {
     "data": {
      "image/png": "[encoded data removed]",
      "text/plain": [
       "<Figure size 432x288 with 2 Axes>"
      ]
     },
     "metadata": {
      "needs_background": "light"
     },
     "output_type": "display_data"
    }
   ],
   "source": [
    "plot_model(tuned_ridge)\n"
   ]
  },
  {
   "cell_type": "code",
   "execution_count": 16,
   "metadata": {},
   "outputs": [
    {
     "data": {
      "image/png": "[encoded data removed]",
      "text/plain": [
       "<Figure size 432x288 with 1 Axes>"
      ]
     },
     "metadata": {
      "needs_background": "light"
     },
     "output_type": "display_data"
    }
   ],
   "source": [
    "plot_model(tuned_ridge, plot = 'error')\n"
   ]
  },
  {
   "cell_type": "code",
   "execution_count": 17,
   "metadata": {},
   "outputs": [
    {
     "data": {
      "image/png": "[encoded data removed]",
      "text/plain": [
       "<Figure size 800x500 with 1 Axes>"
      ]
     },
     "metadata": {
      "needs_background": "light"
     },
     "output_type": "display_data"
    }
   ],
   "source": [
    "plot_model(tuned_ridge, plot='feature')"
   ]
  },
  {
   "cell_type": "code",
   "execution_count": 18,
   "metadata": {},
   "outputs": [
    {
     "data": {
      "text/html": [
       "<style  type=\"text/css\" >\n",
       "</style><table id=\"T_5641d_\" ><thead>    <tr>        <th class=\"blank level0\" ></th>        <th class=\"col_heading level0 col0\" >Model</th>        <th class=\"col_heading level0 col1\" >MAE</th>        <th class=\"col_heading level0 col2\" >MSE</th>        <th class=\"col_heading level0 col3\" >RMSE</th>        <th class=\"col_heading level0 col4\" >R2</th>        <th class=\"col_heading level0 col5\" >RMSLE</th>        <th class=\"col_heading level0 col6\" >MAPE</th>    </tr></thead><tbody>\n",
       "                <tr>\n",
       "                        <th id=\"T_5641d_level0_row0\" class=\"row_heading level0 row0\" >0</th>\n",
       "                        <td id=\"T_5641d_row0_col0\" class=\"data row0 col0\" >Ridge Regression</td>\n",
       "                        <td id=\"T_5641d_row0_col1\" class=\"data row0 col1\" >169.4559</td>\n",
       "                        <td id=\"T_5641d_row0_col2\" class=\"data row0 col2\" >123136.4978</td>\n",
       "                        <td id=\"T_5641d_row0_col3\" class=\"data row0 col3\" >350.9081</td>\n",
       "                        <td id=\"T_5641d_row0_col4\" class=\"data row0 col4\" >0.6117</td>\n",
       "                        <td id=\"T_5641d_row0_col5\" class=\"data row0 col5\" >3.1014</td>\n",
       "                        <td id=\"T_5641d_row0_col6\" class=\"data row0 col6\" >0.5164</td>\n",
       "            </tr>\n",
       "    </tbody></table>"
      ],
      "text/plain": [
       "<pandas.io.formats.style.Styler at 0x7fe8be5f2610>"
      ]
     },
     "metadata": {},
     "output_type": "display_data"
    }
   ],
   "source": [
    "predict_model(tuned_ridge);"
   ]
  },
  {
   "cell_type": "code",
   "execution_count": 19,
   "metadata": {},
   "outputs": [],
   "source": [
    "final_ridge = finalize_model(tuned_ridge)"
   ]
  },
  {
   "cell_type": "code",
   "execution_count": 20,
   "metadata": {},
   "outputs": [
    {
     "name": "stdout",
     "output_type": "stream",
     "text": [
      "Ridge(alpha=4.42, copy_X=True, fit_intercept=False, max_iter=None,\n",
      "      normalize=True, random_state=123, solver='auto', tol=0.001)\n"
     ]
    }
   ],
   "source": [
    "print(final_ridge)"
   ]
  },
  {
   "cell_type": "code",
   "execution_count": 21,
   "metadata": {},
   "outputs": [
    {
     "data": {
      "text/html": [
       "<style  type=\"text/css\" >\n",
       "</style><table id=\"T_f6b18_\" ><thead>    <tr>        <th class=\"blank level0\" ></th>        <th class=\"col_heading level0 col0\" >Model</th>        <th class=\"col_heading level0 col1\" >MAE</th>        <th class=\"col_heading level0 col2\" >MSE</th>        <th class=\"col_heading level0 col3\" >RMSE</th>        <th class=\"col_heading level0 col4\" >R2</th>        <th class=\"col_heading level0 col5\" >RMSLE</th>        <th class=\"col_heading level0 col6\" >MAPE</th>    </tr></thead><tbody>\n",
       "                <tr>\n",
       "                        <th id=\"T_f6b18_level0_row0\" class=\"row_heading level0 row0\" >0</th>\n",
       "                        <td id=\"T_f6b18_row0_col0\" class=\"data row0 col0\" >Ridge Regression</td>\n",
       "                        <td id=\"T_f6b18_row0_col1\" class=\"data row0 col1\" >168.0507</td>\n",
       "                        <td id=\"T_f6b18_row0_col2\" class=\"data row0 col2\" >119562.5608</td>\n",
       "                        <td id=\"T_f6b18_row0_col3\" class=\"data row0 col3\" >345.7782</td>\n",
       "                        <td id=\"T_f6b18_row0_col4\" class=\"data row0 col4\" >0.6229</td>\n",
       "                        <td id=\"T_f6b18_row0_col5\" class=\"data row0 col5\" >3.0853</td>\n",
       "                        <td id=\"T_f6b18_row0_col6\" class=\"data row0 col6\" >0.5137</td>\n",
       "            </tr>\n",
       "    </tbody></table>"
      ],
      "text/plain": [
       "<pandas.io.formats.style.Styler at 0x7fe8c2890110>"
      ]
     },
     "metadata": {},
     "output_type": "display_data"
    }
   ],
   "source": [
    "predict_model(final_ridge);"
   ]
  },
  {
   "cell_type": "code",
   "execution_count": 22,
   "metadata": {},
   "outputs": [],
   "source": [
    "unseen_predictions = predict_model(final_ridge, data=data_unseen)"
   ]
  },
  {
   "cell_type": "code",
   "execution_count": 23,
   "metadata": {},
   "outputs": [
    {
     "data": {
      "text/plain": [
       "0.6693"
      ]
     },
     "execution_count": 23,
     "metadata": {},
     "output_type": "execute_result"
    }
   ],
   "source": [
    "from pycaret.utils import check_metric\n",
    "check_metric(unseen_predictions.sp_cj_total_days, unseen_predictions.Label, 'R2')"
   ]
  },
  {
   "cell_type": "code",
   "execution_count": 24,
   "metadata": {},
   "outputs": [
    {
     "data": {
      "text/plain": [
       "0.6592"
      ]
     },
     "execution_count": 24,
     "metadata": {},
     "output_type": "execute_result"
    }
   ],
   "source": [
    "check_metric(unseen_predictions[unseen_predictions.race==\"BLACK\"].sp_cj_total_days, unseen_predictions[unseen_predictions.race==\"BLACK\"].Label, 'R2')"
   ]
  },
  {
   "cell_type": "code",
   "execution_count": 25,
   "metadata": {},
   "outputs": [
    {
     "data": {
      "text/plain": [
       "0.6689"
      ]
     },
     "execution_count": 25,
     "metadata": {},
     "output_type": "execute_result"
    }
   ],
   "source": [
    "check_metric(unseen_predictions[unseen_predictions.race==\"WHITE\"].sp_cj_total_days, unseen_predictions[unseen_predictions.race==\"WHITE\"].Label, 'R2')"
   ]
  },
  {
   "cell_type": "code",
   "execution_count": 26,
   "metadata": {},
   "outputs": [
    {
     "data": {
      "text/html": [
       "<div>\n",
       "<style scoped>\n",
       "    .dataframe tbody tr th:only-of-type {\n",
       "        vertical-align: middle;\n",
       "    }\n",
       "\n",
       "    .dataframe tbody tr th {\n",
       "        vertical-align: top;\n",
       "    }\n",
       "\n",
       "    .dataframe thead th {\n",
       "        text-align: right;\n",
       "    }\n",
       "</style>\n",
       "<table border=\"1\" class=\"dataframe\">\n",
       "  <thead>\n",
       "    <tr style=\"text-align: right;\">\n",
       "      <th></th>\n",
       "      <th>sp_cj_total_days</th>\n",
       "      <th>gender</th>\n",
       "      <th>age</th>\n",
       "      <th>race</th>\n",
       "      <th>circuit</th>\n",
       "      <th>totpts_cut_group</th>\n",
       "      <th>clfely</th>\n",
       "      <th>Label</th>\n",
       "    </tr>\n",
       "  </thead>\n",
       "  <tbody>\n",
       "    <tr>\n",
       "      <th>0</th>\n",
       "      <td>480</td>\n",
       "      <td>MALE</td>\n",
       "      <td>45</td>\n",
       "      <td>BLACK</td>\n",
       "      <td>CIRCUIT 10 - BARTOW</td>\n",
       "      <td>2</td>\n",
       "      <td>3RD DEGREE</td>\n",
       "      <td>506.961456</td>\n",
       "    </tr>\n",
       "    <tr>\n",
       "      <th>1</th>\n",
       "      <td>675</td>\n",
       "      <td>MALE</td>\n",
       "      <td>42</td>\n",
       "      <td>BLACK</td>\n",
       "      <td>CIRCUIT 10 - BARTOW</td>\n",
       "      <td>3</td>\n",
       "      <td>3RD DEGREE</td>\n",
       "      <td>762.639893</td>\n",
       "    </tr>\n",
       "    <tr>\n",
       "      <th>2</th>\n",
       "      <td>0</td>\n",
       "      <td>MALE</td>\n",
       "      <td>41</td>\n",
       "      <td>WHITE</td>\n",
       "      <td>CIRCUIT 10 - BARTOW</td>\n",
       "      <td>1</td>\n",
       "      <td>2ND DEGREE</td>\n",
       "      <td>223.844513</td>\n",
       "    </tr>\n",
       "    <tr>\n",
       "      <th>3</th>\n",
       "      <td>1095</td>\n",
       "      <td>MALE</td>\n",
       "      <td>32</td>\n",
       "      <td>BLACK</td>\n",
       "      <td>CIRCUIT 10 - BARTOW</td>\n",
       "      <td>3</td>\n",
       "      <td>1ST DEGREE</td>\n",
       "      <td>1112.523193</td>\n",
       "    </tr>\n",
       "    <tr>\n",
       "      <th>4</th>\n",
       "      <td>366</td>\n",
       "      <td>FEMALE</td>\n",
       "      <td>27</td>\n",
       "      <td>WHITE</td>\n",
       "      <td>CIRCUIT 10 - BARTOW</td>\n",
       "      <td>1</td>\n",
       "      <td>3RD DEGREE</td>\n",
       "      <td>154.784088</td>\n",
       "    </tr>\n",
       "    <tr>\n",
       "      <th>5</th>\n",
       "      <td>1227</td>\n",
       "      <td>MALE</td>\n",
       "      <td>26</td>\n",
       "      <td>WHITE</td>\n",
       "      <td>CIRCUIT 10 - BARTOW</td>\n",
       "      <td>5</td>\n",
       "      <td>1ST DEGREE</td>\n",
       "      <td>1589.630371</td>\n",
       "    </tr>\n",
       "    <tr>\n",
       "      <th>6</th>\n",
       "      <td>0</td>\n",
       "      <td>FEMALE</td>\n",
       "      <td>45</td>\n",
       "      <td>WHITE</td>\n",
       "      <td>CIRCUIT 10 - BARTOW</td>\n",
       "      <td>1</td>\n",
       "      <td>3RD DEGREE</td>\n",
       "      <td>163.643402</td>\n",
       "    </tr>\n",
       "    <tr>\n",
       "      <th>7</th>\n",
       "      <td>0</td>\n",
       "      <td>FEMALE</td>\n",
       "      <td>31</td>\n",
       "      <td>WHITE</td>\n",
       "      <td>CIRCUIT 10 - BARTOW</td>\n",
       "      <td>0</td>\n",
       "      <td>3RD DEGREE</td>\n",
       "      <td>1.492704</td>\n",
       "    </tr>\n",
       "    <tr>\n",
       "      <th>8</th>\n",
       "      <td>2555</td>\n",
       "      <td>MALE</td>\n",
       "      <td>22</td>\n",
       "      <td>WHITE</td>\n",
       "      <td>CIRCUIT 10 - BARTOW</td>\n",
       "      <td>9</td>\n",
       "      <td>1ST DEGREE</td>\n",
       "      <td>2308.353271</td>\n",
       "    </tr>\n",
       "    <tr>\n",
       "      <th>9</th>\n",
       "      <td>2700</td>\n",
       "      <td>MALE</td>\n",
       "      <td>41</td>\n",
       "      <td>WHITE</td>\n",
       "      <td>CIRCUIT 10 - BARTOW</td>\n",
       "      <td>4</td>\n",
       "      <td>2ND DEGREE</td>\n",
       "      <td>931.891235</td>\n",
       "    </tr>\n",
       "    <tr>\n",
       "      <th>10</th>\n",
       "      <td>366</td>\n",
       "      <td>FEMALE</td>\n",
       "      <td>27</td>\n",
       "      <td>WHITE</td>\n",
       "      <td>CIRCUIT 10 - BARTOW</td>\n",
       "      <td>1</td>\n",
       "      <td>3RD DEGREE</td>\n",
       "      <td>154.784088</td>\n",
       "    </tr>\n",
       "    <tr>\n",
       "      <th>11</th>\n",
       "      <td>0</td>\n",
       "      <td>FEMALE</td>\n",
       "      <td>22</td>\n",
       "      <td>WHITE</td>\n",
       "      <td>CIRCUIT 10 - BARTOW</td>\n",
       "      <td>0</td>\n",
       "      <td>2ND DEGREE</td>\n",
       "      <td>33.518005</td>\n",
       "    </tr>\n",
       "    <tr>\n",
       "      <th>12</th>\n",
       "      <td>0</td>\n",
       "      <td>MALE</td>\n",
       "      <td>24</td>\n",
       "      <td>BLACK</td>\n",
       "      <td>CIRCUIT 10 - BARTOW</td>\n",
       "      <td>1</td>\n",
       "      <td>2ND DEGREE</td>\n",
       "      <td>228.006409</td>\n",
       "    </tr>\n",
       "    <tr>\n",
       "      <th>13</th>\n",
       "      <td>2920</td>\n",
       "      <td>MALE</td>\n",
       "      <td>24</td>\n",
       "      <td>WHITE</td>\n",
       "      <td>CIRCUIT 10 - BARTOW</td>\n",
       "      <td>11</td>\n",
       "      <td>1ST DEGREE</td>\n",
       "      <td>3006.817139</td>\n",
       "    </tr>\n",
       "    <tr>\n",
       "      <th>14</th>\n",
       "      <td>0</td>\n",
       "      <td>MALE</td>\n",
       "      <td>19</td>\n",
       "      <td>BLACK</td>\n",
       "      <td>CIRCUIT 10 - BARTOW</td>\n",
       "      <td>1</td>\n",
       "      <td>3RD DEGREE</td>\n",
       "      <td>186.842072</td>\n",
       "    </tr>\n",
       "    <tr>\n",
       "      <th>15</th>\n",
       "      <td>0</td>\n",
       "      <td>FEMALE</td>\n",
       "      <td>24</td>\n",
       "      <td>BLACK</td>\n",
       "      <td>CIRCUIT 10 - BARTOW</td>\n",
       "      <td>1</td>\n",
       "      <td>3RD DEGREE</td>\n",
       "      <td>166.194366</td>\n",
       "    </tr>\n",
       "    <tr>\n",
       "      <th>16</th>\n",
       "      <td>0</td>\n",
       "      <td>MALE</td>\n",
       "      <td>41</td>\n",
       "      <td>WHITE</td>\n",
       "      <td>CIRCUIT 10 - BARTOW</td>\n",
       "      <td>0</td>\n",
       "      <td>3RD DEGREE</td>\n",
       "      <td>30.468779</td>\n",
       "    </tr>\n",
       "    <tr>\n",
       "      <th>17</th>\n",
       "      <td>0</td>\n",
       "      <td>MALE</td>\n",
       "      <td>22</td>\n",
       "      <td>BLACK</td>\n",
       "      <td>CIRCUIT 10 - BARTOW</td>\n",
       "      <td>0</td>\n",
       "      <td>3RD DEGREE</td>\n",
       "      <td>33.278717</td>\n",
       "    </tr>\n",
       "    <tr>\n",
       "      <th>18</th>\n",
       "      <td>0</td>\n",
       "      <td>FEMALE</td>\n",
       "      <td>55</td>\n",
       "      <td>WHITE</td>\n",
       "      <td>CIRCUIT 10 - BARTOW</td>\n",
       "      <td>0</td>\n",
       "      <td>3RD DEGREE</td>\n",
       "      <td>11.538237</td>\n",
       "    </tr>\n",
       "    <tr>\n",
       "      <th>19</th>\n",
       "      <td>366</td>\n",
       "      <td>MALE</td>\n",
       "      <td>37</td>\n",
       "      <td>WHITE</td>\n",
       "      <td>CIRCUIT 10 - BARTOW</td>\n",
       "      <td>1</td>\n",
       "      <td>3RD DEGREE</td>\n",
       "      <td>184.379547</td>\n",
       "    </tr>\n",
       "    <tr>\n",
       "      <th>20</th>\n",
       "      <td>180</td>\n",
       "      <td>FEMALE</td>\n",
       "      <td>22</td>\n",
       "      <td>BLACK</td>\n",
       "      <td>CIRCUIT 10 - BARTOW</td>\n",
       "      <td>1</td>\n",
       "      <td>3RD DEGREE</td>\n",
       "      <td>164.842438</td>\n",
       "    </tr>\n",
       "    <tr>\n",
       "      <th>21</th>\n",
       "      <td>0</td>\n",
       "      <td>FEMALE</td>\n",
       "      <td>39</td>\n",
       "      <td>WHITE</td>\n",
       "      <td>CIRCUIT 10 - BARTOW</td>\n",
       "      <td>1</td>\n",
       "      <td>2ND DEGREE</td>\n",
       "      <td>198.869812</td>\n",
       "    </tr>\n",
       "    <tr>\n",
       "      <th>22</th>\n",
       "      <td>0</td>\n",
       "      <td>MALE</td>\n",
       "      <td>22</td>\n",
       "      <td>OTHER</td>\n",
       "      <td>CIRCUIT 10 - BARTOW</td>\n",
       "      <td>0</td>\n",
       "      <td>3RD DEGREE</td>\n",
       "      <td>56.871124</td>\n",
       "    </tr>\n",
       "    <tr>\n",
       "      <th>23</th>\n",
       "      <td>0</td>\n",
       "      <td>MALE</td>\n",
       "      <td>21</td>\n",
       "      <td>WHITE</td>\n",
       "      <td>CIRCUIT 10 - BARTOW</td>\n",
       "      <td>1</td>\n",
       "      <td>2ND DEGREE</td>\n",
       "      <td>212.616394</td>\n",
       "    </tr>\n",
       "    <tr>\n",
       "      <th>24</th>\n",
       "      <td>0</td>\n",
       "      <td>MALE</td>\n",
       "      <td>25</td>\n",
       "      <td>BLACK</td>\n",
       "      <td>CIRCUIT 10 - BARTOW</td>\n",
       "      <td>1</td>\n",
       "      <td>2ND DEGREE</td>\n",
       "      <td>228.664001</td>\n",
       "    </tr>\n",
       "  </tbody>\n",
       "</table>\n",
       "</div>"
      ],
      "text/plain": [
       "    sp_cj_total_days  gender  age   race              circuit  \\\n",
       "0                480    MALE   45  BLACK  CIRCUIT 10 - BARTOW   \n",
       "1                675    MALE   42  BLACK  CIRCUIT 10 - BARTOW   \n",
       "2                  0    MALE   41  WHITE  CIRCUIT 10 - BARTOW   \n",
       "3               1095    MALE   32  BLACK  CIRCUIT 10 - BARTOW   \n",
       "4                366  FEMALE   27  WHITE  CIRCUIT 10 - BARTOW   \n",
       "5               1227    MALE   26  WHITE  CIRCUIT 10 - BARTOW   \n",
       "6                  0  FEMALE   45  WHITE  CIRCUIT 10 - BARTOW   \n",
       "7                  0  FEMALE   31  WHITE  CIRCUIT 10 - BARTOW   \n",
       "8               2555    MALE   22  WHITE  CIRCUIT 10 - BARTOW   \n",
       "9               2700    MALE   41  WHITE  CIRCUIT 10 - BARTOW   \n",
       "10               366  FEMALE   27  WHITE  CIRCUIT 10 - BARTOW   \n",
       "11                 0  FEMALE   22  WHITE  CIRCUIT 10 - BARTOW   \n",
       "12                 0    MALE   24  BLACK  CIRCUIT 10 - BARTOW   \n",
       "13              2920    MALE   24  WHITE  CIRCUIT 10 - BARTOW   \n",
       "14                 0    MALE   19  BLACK  CIRCUIT 10 - BARTOW   \n",
       "15                 0  FEMALE   24  BLACK  CIRCUIT 10 - BARTOW   \n",
       "16                 0    MALE   41  WHITE  CIRCUIT 10 - BARTOW   \n",
       "17                 0    MALE   22  BLACK  CIRCUIT 10 - BARTOW   \n",
       "18                 0  FEMALE   55  WHITE  CIRCUIT 10 - BARTOW   \n",
       "19               366    MALE   37  WHITE  CIRCUIT 10 - BARTOW   \n",
       "20               180  FEMALE   22  BLACK  CIRCUIT 10 - BARTOW   \n",
       "21                 0  FEMALE   39  WHITE  CIRCUIT 10 - BARTOW   \n",
       "22                 0    MALE   22  OTHER  CIRCUIT 10 - BARTOW   \n",
       "23                 0    MALE   21  WHITE  CIRCUIT 10 - BARTOW   \n",
       "24                 0    MALE   25  BLACK  CIRCUIT 10 - BARTOW   \n",
       "\n",
       "    totpts_cut_group      clfely        Label  \n",
       "0                  2  3RD DEGREE   506.961456  \n",
       "1                  3  3RD DEGREE   762.639893  \n",
       "2                  1  2ND DEGREE   223.844513  \n",
       "3                  3  1ST DEGREE  1112.523193  \n",
       "4                  1  3RD DEGREE   154.784088  \n",
       "5                  5  1ST DEGREE  1589.630371  \n",
       "6                  1  3RD DEGREE   163.643402  \n",
       "7                  0  3RD DEGREE     1.492704  \n",
       "8                  9  1ST DEGREE  2308.353271  \n",
       "9                  4  2ND DEGREE   931.891235  \n",
       "10                 1  3RD DEGREE   154.784088  \n",
       "11                 0  2ND DEGREE    33.518005  \n",
       "12                 1  2ND DEGREE   228.006409  \n",
       "13                11  1ST DEGREE  3006.817139  \n",
       "14                 1  3RD DEGREE   186.842072  \n",
       "15                 1  3RD DEGREE   166.194366  \n",
       "16                 0  3RD DEGREE    30.468779  \n",
       "17                 0  3RD DEGREE    33.278717  \n",
       "18                 0  3RD DEGREE    11.538237  \n",
       "19                 1  3RD DEGREE   184.379547  \n",
       "20                 1  3RD DEGREE   164.842438  \n",
       "21                 1  2ND DEGREE   198.869812  \n",
       "22                 0  3RD DEGREE    56.871124  \n",
       "23                 1  2ND DEGREE   212.616394  \n",
       "24                 1  2ND DEGREE   228.664001  "
      ]
     },
     "execution_count": 26,
     "metadata": {},
     "output_type": "execute_result"
    }
   ],
   "source": [
    "unseen_predictions.head(25)"
   ]
  },
  {
   "cell_type": "code",
   "execution_count": 94,
   "metadata": {},
   "outputs": [
    {
     "name": "stdout",
     "output_type": "stream",
     "text": [
      "Transformation Pipeline and Model Successfully Saved\n"
     ]
    },
    {
     "data": {
      "text/plain": [
       "(Pipeline(memory=None,\n",
       "          steps=[('dtypes',\n",
       "                  DataTypes_Auto_infer(categorical_features=[],\n",
       "                                       display_types=True, features_todrop=[],\n",
       "                                       id_columns=[], ml_usecase='regression',\n",
       "                                       numerical_features=[],\n",
       "                                       target='sp_cj_total_days',\n",
       "                                       time_features=[])),\n",
       "                 ('imputer',\n",
       "                  Simple_Imputer(categorical_strategy='not_available',\n",
       "                                 fill_value_categorical=None,\n",
       "                                 fill_value_numerical=None,\n",
       "                                 numeric...\n",
       "                 ('dummy', Dummify(target='sp_cj_total_days')),\n",
       "                 ('fix_perfect', Remove_100(target='sp_cj_total_days')),\n",
       "                 ('clean_names', Clean_Colum_Names()),\n",
       "                 ('feature_select', 'passthrough'), ('fix_multi', 'passthrough'),\n",
       "                 ('dfs', 'passthrough'), ('pca', 'passthrough'),\n",
       "                 ['trained_model',\n",
       "                  Ridge(alpha=2.81, copy_X=True, fit_intercept=False,\n",
       "                        max_iter=None, normalize=True, random_state=123,\n",
       "                        solver='auto', tol=0.001)]],\n",
       "          verbose=False),\n",
       " 'Final LightGBM Model (Pin-893) 23Feb2022.pkl')"
      ]
     },
     "execution_count": 94,
     "metadata": {},
     "output_type": "execute_result"
    }
   ],
   "source": [
    "save_model(final_ridge,'Final LightGBM Model (Pin-893) 23Feb2022')"
   ]
  },
  {
   "cell_type": "code",
   "execution_count": 95,
   "metadata": {},
   "outputs": [
    {
     "data": {
      "text/plain": [
       "(26523, 29)"
      ]
     },
     "execution_count": 95,
     "metadata": {},
     "output_type": "execute_result"
    }
   ],
   "source": [
    "get_config('X_train').shape"
   ]
  },
  {
   "cell_type": "code",
   "execution_count": 96,
   "metadata": {},
   "outputs": [
    {
     "data": {
      "text/plain": [
       "age                                float32\n",
       "gender_FEMALE                      float32\n",
       "race_BLACK                         float32\n",
       "race_OTHER                         float32\n",
       "race_WHITE                         float32\n",
       "circuit_CIRCUIT 06 - CLEARWATER    float32\n",
       "totpts_cut_group_0                 float32\n",
       "totpts_cut_group_1                 float32\n",
       "totpts_cut_group_10                float32\n",
       "totpts_cut_group_11                float32\n",
       "totpts_cut_group_12                float32\n",
       "totpts_cut_group_13                float32\n",
       "totpts_cut_group_14                float32\n",
       "totpts_cut_group_15                float32\n",
       "totpts_cut_group_16                float32\n",
       "totpts_cut_group_17                float32\n",
       "totpts_cut_group_2                 float32\n",
       "totpts_cut_group_3                 float32\n",
       "totpts_cut_group_4                 float32\n",
       "totpts_cut_group_5                 float32\n",
       "totpts_cut_group_6                 float32\n",
       "totpts_cut_group_7                 float32\n",
       "totpts_cut_group_8                 float32\n",
       "totpts_cut_group_9                 float32\n",
       "clfely_1ST DEGREE                  float32\n",
       "clfely_1ST/LIFE                    float32\n",
       "clfely_2ND DEGREE                  float32\n",
       "clfely_3RD DEGREE                  float32\n",
       "clfely_LIFE                        float32\n",
       "dtype: object"
      ]
     },
     "execution_count": 96,
     "metadata": {},
     "output_type": "execute_result"
    }
   ],
   "source": [
    "get_config('X_train').dtypes"
   ]
  },
  {
   "cell_type": "code",
   "execution_count": 28,
   "metadata": {},
   "outputs": [
    {
     "data": {
      "text/plain": [
       "9645     1020\n",
       "8068        0\n",
       "12931       0\n",
       "5813        0\n",
       "13253    1460\n",
       "         ... \n",
       "5218       90\n",
       "12252       0\n",
       "1346      240\n",
       "11646     364\n",
       "3582        0\n",
       "Name: sp_cj_total_days, Length: 9533, dtype: int64"
      ]
     },
     "execution_count": 28,
     "metadata": {},
     "output_type": "execute_result"
    }
   ],
   "source": [
    "get_config('y_train')"
   ]
  },
  {
   "cell_type": "code",
   "execution_count": 27,
   "metadata": {},
   "outputs": [
    {
     "data": {
      "text/plain": [
       "<AxesSubplot:>"
      ]
     },
     "execution_count": 27,
     "metadata": {},
     "output_type": "execute_result"
    },
    {
     "data": {
      "image/png": "[encoded data removed]",
      "text/plain": [
       "<Figure size 432x288 with 1 Axes>"
      ]
     },
     "metadata": {
      "needs_background": "light"
     },
     "output_type": "display_data"
    }
   ],
   "source": [
    "get_config('X_train').age.hist()"
   ]
  },
  {
   "cell_type": "code",
   "execution_count": 29,
   "metadata": {},
   "outputs": [
    {
     "data": {
      "text/plain": [
       "array(['CIRCUIT 10 - BARTOW'], dtype=object)"
      ]
     },
     "execution_count": 29,
     "metadata": {},
     "output_type": "execute_result"
    }
   ],
   "source": [
    "unseen_predictions.circuit.unique()"
   ]
  },
  {
   "cell_type": "code",
   "execution_count": null,
   "metadata": {},
   "outputs": [],
   "source": []
  }
 ],
 "metadata": {
  "interpreter": {
   "hash": "aee8b7b246df8f9039afb4144a1f6fd8d2ca17a180786b69acc140d282b71a49"
  },
  "kernelspec": {
   "display_name": "Python 3",
   "language": "python",
   "name": "python3"
  },
  "language_info": {
   "codemirror_mode": {
    "name": "ipython",
    "version": 3
   },
   "file_extension": ".py",
   "mimetype": "text/x-python",
   "name": "python",
   "nbconvert_exporter": "python",
   "pygments_lexer": "ipython3",
   "version": "3.7.6"
  }
 },
 "nbformat": 4,
 "nbformat_minor": 4
}
