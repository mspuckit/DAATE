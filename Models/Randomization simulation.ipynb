{
 "cells": [
  {
   "cell_type": "code",
   "execution_count": 2,
   "id": "expected-looking",
   "metadata": {},
   "outputs": [],
   "source": [
    "import pandas as pd\n",
    "import numpy as np\n",
    "import matplotlib.pyplot as plt\n",
    "import seaborn as sns\n",
    "from sklearn.svm import SVC\n",
    "from sklearn import metrics\n",
    "from sklearn.model_selection import RandomizedSearchCV, StratifiedKFold, train_test_split\n",
    "from sklearn import preprocessing\n",
    "from sklearn.neighbors import KNeighborsClassifier\n",
    "from sklearn.naive_bayes import GaussianNB\n",
    "from sklearn.tree import DecisionTreeClassifier\n",
    "from sklearn.ensemble import RandomForestClassifier, AdaBoostClassifier\n",
    "from sklearn.metrics import classification_report,confusion_matrix, plot_confusion_matrix\n",
    "from statsmodels.stats.proportion import proportions_ztest,confint_proportions_2indep"
   ]
  },
  {
   "cell_type": "code",
   "execution_count": 3,
   "id": "thick-director",
   "metadata": {},
   "outputs": [],
   "source": [
    "import numpy as np\n",
    "from sklearn.preprocessing import StandardScaler\n",
    "from sklearn.metrics.pairwise import euclidean_distances\n",
    "import scipy\n",
    "import statsmodels"
   ]
  },
  {
   "cell_type": "code",
   "execution_count": 4,
   "id": "infinite-library",
   "metadata": {},
   "outputs": [],
   "source": [
    "from sklearn.cluster import DBSCAN\n",
    "import gower"
   ]
  },
  {
   "cell_type": "code",
   "execution_count": null,
   "id": "naughty-intellectual",
   "metadata": {},
   "outputs": [],
   "source": []
  },
  {
   "cell_type": "code",
   "execution_count": 5,
   "id": "psychological-grammar",
   "metadata": {},
   "outputs": [],
   "source": [
    "raw = pd.read_csv(\"sentencing_fips_pop2010 2.csv\")"
   ]
  },
  {
   "cell_type": "code",
   "execution_count": 6,
   "id": "purple-traffic",
   "metadata": {},
   "outputs": [],
   "source": [
    "def drop_error_value(df):\n",
    "    df_temp = df.copy()\n",
    "    df_temp = df_temp[~((df_temp['spyrs']>=99)|(df_temp['life']=='Y'))]\n",
    "    df_temp['sp_cj_total_days'] = (df_temp['sp_total_days'])+(df_temp['cj_total_days'])\n",
    "    df_clean = df_temp[~((df_temp['sp_cj_total_days']<=7) & (df_temp['totpts']>44))]\n",
    "    \n",
    "    return df_clean"
   ]
  },
  {
   "cell_type": "code",
   "execution_count": 7,
   "id": "thorough-tournament",
   "metadata": {},
   "outputs": [],
   "source": [
    "def sp_county_crime_type(county, crime_type, df):\n",
    "    match_ind = ''\n",
    "    if crime_type == 'drug':     ### Expendable\n",
    "        match_ind = '893.*'\n",
    "    elif crime_type =='rubbory':\n",
    "        match_ind = '812.*'\n",
    "    df = df[df['statut'].str.match(match_ind)== True]\n",
    "    \n",
    "    df =df[df['county']== county]\n",
    "    \n",
    "    return df\n",
    "    "
   ]
  },
  {
   "cell_type": "code",
   "execution_count": 8,
   "id": "standing-architecture",
   "metadata": {},
   "outputs": [],
   "source": [
    "def feat_prep(df):\n",
    "    df_temp = df.copy()\n",
    "    df_temp['gender_ind']=[1 if x=='MALE' else 0 for x in df_temp['gender']]\n",
    "    df_temp = pd.concat([df_temp,pd.get_dummies(df_temp['clfely'], prefix='clfely')],axis=1)\n",
    "    df_temp['sent_year']=df_temp[\"sentdte\"].str[:4]\n",
    "    df_temp['lsviol']=[0 if x==0 else 1 for x in df_temp['lsviol']]\n",
    "    df_temp['rpviol']=[0 if x==0 else 1 for x in df_temp['rpviol']]\n",
    "    df_temp['faviol']=[0 if x==0 else 1 for x in df_temp['faviol']]\n",
    "    \n",
    "    return df_temp"
   ]
  },
  {
   "cell_type": "code",
   "execution_count": 9,
   "id": "accepted-conjunction",
   "metadata": {},
   "outputs": [],
   "source": [
    "def feat_prep(df):\n",
    "    df_temp = df.copy()\n",
    "    df_temp['gender_ind']=[1 if x=='MALE' else 0 for x in df_temp['gender']]\n",
    "    df_temp = pd.concat([df_temp,pd.get_dummies(df_temp['clfely'], prefix='clfely')],axis=1)\n",
    "    df_temp['sent_year']=df_temp[\"sentdte\"].str[:4]\n",
    "    df_temp['lsviol']=[0 if x==0 else 1 for x in df_temp['lsviol']]\n",
    "    df_temp['rpviol']=[0 if x==0 else 1 for x in df_temp['rpviol']]\n",
    "    df_temp['faviol']=[0 if x==0 else 1 for x in df_temp['faviol']]\n",
    "    \n",
    "    return df_temp"
   ]
  },
  {
   "cell_type": "code",
   "execution_count": 10,
   "id": "still-vanilla",
   "metadata": {},
   "outputs": [],
   "source": [
    "import numpy as np\n",
    "from scipy.stats import ttest_ind\n",
    "from scipy.stats import t\n",
    "import pandas as pd\n",
    "\n",
    "def welch_ttest(x1, x2,alternative):\n",
    "    \n",
    "    n1 = x1.size\n",
    "    n2 = x2.size\n",
    "    m1 = np.mean(x1)\n",
    "    m2 = np.mean(x2)\n",
    "    \n",
    "    v1 = np.var(x1, ddof=1)\n",
    "    v2 = np.var(x2, ddof=1)\n",
    "    \n",
    "    pooled_se = np.sqrt(v1 / n1 + v2 / n2)\n",
    "    delta = m1-m2\n",
    "    \n",
    "    tstat = delta /  pooled_se\n",
    "    df = (v1 / n1 + v2 / n2)**2 / (v1**2 / (n1**2 * (n1 - 1)) + v2**2 / (n2**2 * (n2 - 1)))\n",
    "    \n",
    "    # two side t-test\n",
    "    p = 2 * t.cdf(-abs(tstat), df)\n",
    "    \n",
    "    # upper and lower bounds\n",
    "    lb = delta - t.ppf(0.975,df)*pooled_se \n",
    "    ub = delta + t.ppf(0.975,df)*pooled_se\n",
    "  \n",
    "    return pd.DataFrame(np.array([tstat,df,p,delta,lb,ub]).reshape(1,-1),\n",
    "                         columns=['T statistic','df','pvalue 2 sided','Difference in mean','lb','ub'])"
   ]
  },
  {
   "cell_type": "code",
   "execution_count": 12,
   "id": "polish-benjamin",
   "metadata": {},
   "outputs": [
    {
     "name": "stdout",
     "output_type": "stream",
     "text": [
      "Collecting gower\n",
      "  Downloading https://files.pythonhosted.org/packages/98/62/dea557ca74253ff35afa6dce17c6f950ff8b7fbd3636a4df2ef0877bcf65/gower-0.0.5.tar.gz\n",
      "Requirement already satisfied: numpy in /Library/Frameworks/Python.framework/Versions/3.7/lib/python3.7/site-packages (from gower) (1.19.5)\n",
      "Requirement already satisfied: scipy in /Library/Frameworks/Python.framework/Versions/3.7/lib/python3.7/site-packages (from gower) (1.6.0)\n",
      "Building wheels for collected packages: gower\n",
      "  Running setup.py bdist_wheel for gower ... \u001b[?25ldone\n",
      "\u001b[?25h  Stored in directory: /Users/hao/Library/Caches/pip/wheels/c0/09/9b/072d54d6ced0f43a179852e3f09532d0131e25ff7cb4e5ee75\n",
      "Successfully built gower\n",
      "Installing collected packages: gower\n",
      "Successfully installed gower-0.0.5\n",
      "\u001b[33mYou are using pip version 10.0.1, however version 22.0.3 is available.\n",
      "You should consider upgrading via the 'pip install --upgrade pip' command.\u001b[0m\n"
     ]
    }
   ],
   "source": [
    "#!pip3 install gower"
   ]
  },
  {
   "cell_type": "code",
   "execution_count": null,
   "id": "geographic-meaning",
   "metadata": {},
   "outputs": [],
   "source": []
  },
  {
   "cell_type": "code",
   "execution_count": 11,
   "id": "adjacent-wings",
   "metadata": {},
   "outputs": [],
   "source": [
    "raw_clean = drop_error_value(raw)"
   ]
  },
  {
   "cell_type": "code",
   "execution_count": null,
   "id": "under-wedding",
   "metadata": {},
   "outputs": [],
   "source": []
  },
  {
   "cell_type": "markdown",
   "id": "assisted-bidding",
   "metadata": {},
   "source": [
    "# Pinellas county + Drug"
   ]
  },
  {
   "cell_type": "code",
   "execution_count": 7,
   "id": "chief-project",
   "metadata": {},
   "outputs": [],
   "source": [
    "df_drug =sp_county_crime_type(county='pinellas',crime_type='drug',df= raw_clean)"
   ]
  },
  {
   "cell_type": "code",
   "execution_count": 8,
   "id": "worst-limitation",
   "metadata": {},
   "outputs": [],
   "source": [
    "df_drug_model = feat_prep(df_drug)"
   ]
  },
  {
   "cell_type": "code",
   "execution_count": 9,
   "id": "egyptian-outreach",
   "metadata": {
    "scrolled": true
   },
   "outputs": [
    {
     "data": {
      "text/html": [
       "<div>\n",
       "<style scoped>\n",
       "    .dataframe tbody tr th:only-of-type {\n",
       "        vertical-align: middle;\n",
       "    }\n",
       "\n",
       "    .dataframe tbody tr th {\n",
       "        vertical-align: top;\n",
       "    }\n",
       "\n",
       "    .dataframe thead th {\n",
       "        text-align: right;\n",
       "    }\n",
       "</style>\n",
       "<table border=\"1\" class=\"dataframe\">\n",
       "  <thead>\n",
       "    <tr style=\"text-align: right;\">\n",
       "      <th></th>\n",
       "      <th>Unnamed: 0</th>\n",
       "      <th>fstnm</th>\n",
       "      <th>lstnm</th>\n",
       "      <th>age</th>\n",
       "      <th>dob</th>\n",
       "      <th>race</th>\n",
       "      <th>gender</th>\n",
       "      <th>county</th>\n",
       "      <th>totpts</th>\n",
       "      <th>judge</th>\n",
       "      <th>...</th>\n",
       "      <th>state</th>\n",
       "      <th>pop_2010</th>\n",
       "      <th>sp_cj_total_days</th>\n",
       "      <th>gender_ind</th>\n",
       "      <th>clfely_1ST DEGREE</th>\n",
       "      <th>clfely_1ST/LIFE</th>\n",
       "      <th>clfely_2ND DEGREE</th>\n",
       "      <th>clfely_3RD DEGREE</th>\n",
       "      <th>clfely_LIFE</th>\n",
       "      <th>sent_year</th>\n",
       "    </tr>\n",
       "  </thead>\n",
       "  <tbody>\n",
       "    <tr>\n",
       "      <th>7</th>\n",
       "      <td>7</td>\n",
       "      <td>DOMINIQUE</td>\n",
       "      <td>GAMBLE</td>\n",
       "      <td>19</td>\n",
       "      <td>1988-04-01</td>\n",
       "      <td>BLACK</td>\n",
       "      <td>MALE</td>\n",
       "      <td>pinellas</td>\n",
       "      <td>65.4</td>\n",
       "      <td>LUCE</td>\n",
       "      <td>...</td>\n",
       "      <td>FL</td>\n",
       "      <td>916542.0</td>\n",
       "      <td>1825</td>\n",
       "      <td>1</td>\n",
       "      <td>0</td>\n",
       "      <td>0</td>\n",
       "      <td>1</td>\n",
       "      <td>0</td>\n",
       "      <td>0</td>\n",
       "      <td>2007</td>\n",
       "    </tr>\n",
       "    <tr>\n",
       "      <th>53</th>\n",
       "      <td>53</td>\n",
       "      <td>JAMES</td>\n",
       "      <td>PANTLE</td>\n",
       "      <td>30</td>\n",
       "      <td>1977-11-18</td>\n",
       "      <td>WHITE</td>\n",
       "      <td>MALE</td>\n",
       "      <td>pinellas</td>\n",
       "      <td>111.8</td>\n",
       "      <td>BULONE, J.</td>\n",
       "      <td>...</td>\n",
       "      <td>FL</td>\n",
       "      <td>916542.0</td>\n",
       "      <td>1095</td>\n",
       "      <td>1</td>\n",
       "      <td>1</td>\n",
       "      <td>0</td>\n",
       "      <td>0</td>\n",
       "      <td>0</td>\n",
       "      <td>0</td>\n",
       "      <td>2008</td>\n",
       "    </tr>\n",
       "    <tr>\n",
       "      <th>93</th>\n",
       "      <td>93</td>\n",
       "      <td>JOSEPH</td>\n",
       "      <td>JOHNSON</td>\n",
       "      <td>41</td>\n",
       "      <td>1972-10-06</td>\n",
       "      <td>WHITE</td>\n",
       "      <td>MALE</td>\n",
       "      <td>pinellas</td>\n",
       "      <td>113.6</td>\n",
       "      <td>FEDERICO</td>\n",
       "      <td>...</td>\n",
       "      <td>FL</td>\n",
       "      <td>916542.0</td>\n",
       "      <td>900</td>\n",
       "      <td>1</td>\n",
       "      <td>0</td>\n",
       "      <td>0</td>\n",
       "      <td>1</td>\n",
       "      <td>0</td>\n",
       "      <td>0</td>\n",
       "      <td>2014</td>\n",
       "    </tr>\n",
       "    <tr>\n",
       "      <th>127</th>\n",
       "      <td>127</td>\n",
       "      <td>RONNIE</td>\n",
       "      <td>YOUNG</td>\n",
       "      <td>20</td>\n",
       "      <td>1989-10-05</td>\n",
       "      <td>BLACK</td>\n",
       "      <td>MALE</td>\n",
       "      <td>pinellas</td>\n",
       "      <td>71.5</td>\n",
       "      <td>LEY</td>\n",
       "      <td>...</td>\n",
       "      <td>FL</td>\n",
       "      <td>916542.0</td>\n",
       "      <td>364</td>\n",
       "      <td>1</td>\n",
       "      <td>0</td>\n",
       "      <td>0</td>\n",
       "      <td>1</td>\n",
       "      <td>0</td>\n",
       "      <td>0</td>\n",
       "      <td>2010</td>\n",
       "    </tr>\n",
       "    <tr>\n",
       "      <th>154</th>\n",
       "      <td>154</td>\n",
       "      <td>DONJI</td>\n",
       "      <td>FULLER</td>\n",
       "      <td>34</td>\n",
       "      <td>1974-08-30</td>\n",
       "      <td>BLACK</td>\n",
       "      <td>MALE</td>\n",
       "      <td>pinellas</td>\n",
       "      <td>124.0</td>\n",
       "      <td>NEWTON</td>\n",
       "      <td>...</td>\n",
       "      <td>FL</td>\n",
       "      <td>916542.0</td>\n",
       "      <td>5475</td>\n",
       "      <td>1</td>\n",
       "      <td>1</td>\n",
       "      <td>0</td>\n",
       "      <td>0</td>\n",
       "      <td>0</td>\n",
       "      <td>0</td>\n",
       "      <td>2009</td>\n",
       "    </tr>\n",
       "  </tbody>\n",
       "</table>\n",
       "<p>5 rows × 51 columns</p>\n",
       "</div>"
      ],
      "text/plain": [
       "     Unnamed: 0      fstnm    lstnm  age         dob   race gender    county  \\\n",
       "7             7  DOMINIQUE   GAMBLE   19  1988-04-01  BLACK   MALE  pinellas   \n",
       "53           53      JAMES   PANTLE   30  1977-11-18  WHITE   MALE  pinellas   \n",
       "93           93     JOSEPH  JOHNSON   41  1972-10-06  WHITE   MALE  pinellas   \n",
       "127         127     RONNIE    YOUNG   20  1989-10-05  BLACK   MALE  pinellas   \n",
       "154         154      DONJI   FULLER   34  1974-08-30  BLACK   MALE  pinellas   \n",
       "\n",
       "     totpts       judge  ... state  pop_2010 sp_cj_total_days gender_ind  \\\n",
       "7      65.4        LUCE  ...    FL  916542.0             1825          1   \n",
       "53    111.8  BULONE, J.  ...    FL  916542.0             1095          1   \n",
       "93    113.6    FEDERICO  ...    FL  916542.0              900          1   \n",
       "127    71.5         LEY  ...    FL  916542.0              364          1   \n",
       "154   124.0      NEWTON  ...    FL  916542.0             5475          1   \n",
       "\n",
       "    clfely_1ST DEGREE  clfely_1ST/LIFE  clfely_2ND DEGREE  clfely_3RD DEGREE  \\\n",
       "7                   0                0                  1                  0   \n",
       "53                  1                0                  0                  0   \n",
       "93                  0                0                  1                  0   \n",
       "127                 0                0                  1                  0   \n",
       "154                 1                0                  0                  0   \n",
       "\n",
       "     clfely_LIFE  sent_year  \n",
       "7              0       2007  \n",
       "53             0       2008  \n",
       "93             0       2014  \n",
       "127            0       2010  \n",
       "154            0       2009  \n",
       "\n",
       "[5 rows x 51 columns]"
      ]
     },
     "execution_count": 9,
     "metadata": {},
     "output_type": "execute_result"
    }
   ],
   "source": [
    "df_drug_model.head()"
   ]
  },
  {
   "cell_type": "code",
   "execution_count": 13,
   "id": "historical-grant",
   "metadata": {},
   "outputs": [],
   "source": [
    "X_continous = df_drug_model.loc[:,['totpts','age']]"
   ]
  },
  {
   "cell_type": "code",
   "execution_count": 16,
   "id": "cosmetic-toronto",
   "metadata": {},
   "outputs": [],
   "source": [
    "X_cont_stand =StandardScaler().fit_transform(X_continous)"
   ]
  },
  {
   "cell_type": "code",
   "execution_count": 20,
   "id": "final-cinema",
   "metadata": {},
   "outputs": [],
   "source": [
    "df_drug_model['totpts_stand'] = X_cont_stand[:,0]\n",
    "df_drug_model['age_stand'] = X_cont_stand[:,1]"
   ]
  },
  {
   "cell_type": "code",
   "execution_count": 21,
   "id": "parallel-particular",
   "metadata": {},
   "outputs": [],
   "source": [
    "X = df_drug_model.loc[:,['totpts_stand','age_stand','gender']]"
   ]
  },
  {
   "cell_type": "code",
   "execution_count": null,
   "id": "similar-spokesman",
   "metadata": {},
   "outputs": [],
   "source": []
  },
  {
   "cell_type": "code",
   "execution_count": 28,
   "id": "extreme-notion",
   "metadata": {},
   "outputs": [],
   "source": [
    "import gower\n",
    "distance_matrix = gower.gower_matrix(X)"
   ]
  },
  {
   "cell_type": "code",
   "execution_count": 25,
   "id": "sexual-cartoon",
   "metadata": {},
   "outputs": [
    {
     "data": {
      "text/plain": [
       "array([[0.        , 0.10245616, 0.16616678, ..., 0.14810888, 0.01407349,\n",
       "        0.02624166],\n",
       "       [0.10245616, 0.        , 0.06371062, ..., 0.12627126, 0.08838267,\n",
       "        0.09881337],\n",
       "       [0.16616678, 0.06371062, 0.        , ..., 0.06568809, 0.15209328,\n",
       "        0.16252398],\n",
       "       ...,\n",
       "       [0.14810888, 0.12627126, 0.06568809, ..., 0.        , 0.16218238,\n",
       "        0.17435054],\n",
       "       [0.01407349, 0.08838267, 0.15209328, ..., 0.16218238, 0.        ,\n",
       "        0.01216817],\n",
       "       [0.02624166, 0.09881337, 0.16252398, ..., 0.17435054, 0.01216817,\n",
       "        0.        ]], dtype=float32)"
      ]
     },
     "execution_count": 25,
     "metadata": {},
     "output_type": "execute_result"
    }
   ],
   "source": [
    "distance_matrix"
   ]
  },
  {
   "cell_type": "code",
   "execution_count": null,
   "id": "integral-andrew",
   "metadata": {},
   "outputs": [],
   "source": []
  },
  {
   "cell_type": "code",
   "execution_count": 29,
   "id": "indian-conversation",
   "metadata": {},
   "outputs": [
    {
     "ename": "AttributeError",
     "evalue": "'DBSCAN' object has no attribute 'labels'",
     "output_type": "error",
     "traceback": [
      "\u001b[0;31m---------------------------------------------------------------------------\u001b[0m",
      "\u001b[0;31mAttributeError\u001b[0m                            Traceback (most recent call last)",
      "\u001b[0;32m<ipython-input-29-f3f65870dd57>\u001b[0m in \u001b[0;36m<module>\u001b[0;34m\u001b[0m\n\u001b[1;32m     10\u001b[0m \u001b[0;34m\u001b[0m\u001b[0m\n\u001b[1;32m     11\u001b[0m \u001b[0;31m# Adding the results to a new column in the dataframe\u001b[0m\u001b[0;34m\u001b[0m\u001b[0;34m\u001b[0m\u001b[0;34m\u001b[0m\u001b[0m\n\u001b[0;32m---> 12\u001b[0;31m \u001b[0mdf_drug_model\u001b[0m\u001b[0;34m[\u001b[0m\u001b[0;34m\"cluster\"\u001b[0m\u001b[0;34m]\u001b[0m \u001b[0;34m=\u001b[0m \u001b[0mdbscan_cluster\u001b[0m\u001b[0;34m.\u001b[0m\u001b[0mlabels\u001b[0m\u001b[0;34m\u001b[0m\u001b[0;34m\u001b[0m\u001b[0m\n\u001b[0m",
      "\u001b[0;31mAttributeError\u001b[0m: 'DBSCAN' object has no attribute 'labels'"
     ]
    }
   ],
   "source": [
    "from sklearn.cluster import DBSCAN\n",
    "\n",
    "# Configuring the parameters of the clustering algorithm\n",
    "dbscan_cluster = DBSCAN(eps=0.3, \n",
    "                        min_samples=2, \n",
    "                        metric=\"precomputed\")\n",
    "\n",
    "# Fitting the clustering algorithm\n",
    "dbscan_cluster.fit(distance_matrix)\n",
    "\n",
    "# Adding the results to a new column in the dataframe\n",
    "#df_drug_model[\"cluster\"] = dbscan_cluster.labels"
   ]
  },
  {
   "cell_type": "code",
   "execution_count": 30,
   "id": "framed-milton",
   "metadata": {},
   "outputs": [],
   "source": [
    "df_drug_model[\"cluster\"] = dbscan_cluster.labels_"
   ]
  },
  {
   "cell_type": "code",
   "execution_count": 32,
   "id": "loved-ottawa",
   "metadata": {},
   "outputs": [
    {
     "data": {
      "text/plain": [
       "0    30131\n",
       "1    12136\n",
       "Name: cluster, dtype: int64"
      ]
     },
     "execution_count": 32,
     "metadata": {},
     "output_type": "execute_result"
    }
   ],
   "source": [
    "df_drug_model[\"cluster\"].value_counts()"
   ]
  },
  {
   "cell_type": "code",
   "execution_count": null,
   "id": "unauthorized-surveillance",
   "metadata": {},
   "outputs": [],
   "source": []
  },
  {
   "cell_type": "code",
   "execution_count": 53,
   "id": "arranged-grounds",
   "metadata": {},
   "outputs": [],
   "source": [
    "treat_1 = df_drug_model[(df_drug_model[\"cluster\"]==1)&(df_drug_model[\"race\"]=='BLACK')].sample(2000)\n",
    "treat_0 = df_drug_model[(df_drug_model[\"cluster\"]==0)&(df_drug_model[\"race\"]=='BLACK')].sample(2000)\n"
   ]
  },
  {
   "cell_type": "code",
   "execution_count": 54,
   "id": "opening-savage",
   "metadata": {},
   "outputs": [],
   "source": [
    "treat= treat_0.append(treat_1)"
   ]
  },
  {
   "cell_type": "code",
   "execution_count": 55,
   "id": "medical-pharmacology",
   "metadata": {},
   "outputs": [],
   "source": [
    "cont_1 = df_drug_model[(df_drug_model[\"cluster\"]==1)&(df_drug_model[\"race\"]=='WHITE')].sample(2000)\n",
    "cont_0 = df_drug_model[(df_drug_model[\"cluster\"]==0)&(df_drug_model[\"race\"]=='WHITE')].sample(2000)\n",
    "\n",
    "cont= cont_0.append(cont_1)"
   ]
  },
  {
   "cell_type": "code",
   "execution_count": null,
   "id": "whole-bennett",
   "metadata": {},
   "outputs": [],
   "source": []
  },
  {
   "cell_type": "code",
   "execution_count": 41,
   "id": "aware-security",
   "metadata": {},
   "outputs": [],
   "source": [
    "import scipy"
   ]
  },
  {
   "cell_type": "code",
   "execution_count": 42,
   "id": "northern-boutique",
   "metadata": {},
   "outputs": [
    {
     "data": {
      "text/plain": [
       "Ttest_indResult(statistic=9.763856585869128, pvalue=2.240495943817181e-22)"
      ]
     },
     "execution_count": 42,
     "metadata": {},
     "output_type": "execute_result"
    }
   ],
   "source": [
    "scipy.stats.ttest_ind(treat.sp_total_days, cont.sp_total_days, equal_var=False)"
   ]
  },
  {
   "cell_type": "code",
   "execution_count": 43,
   "id": "moved-trinity",
   "metadata": {},
   "outputs": [
    {
     "data": {
      "text/plain": [
       "Ttest_indResult(statistic=9.763856585869126, pvalue=2.145683940928613e-22)"
      ]
     },
     "execution_count": 43,
     "metadata": {},
     "output_type": "execute_result"
    }
   ],
   "source": [
    "scipy.stats.ttest_ind(treat.sp_total_days, cont.sp_total_days, equal_var=True)"
   ]
  },
  {
   "cell_type": "code",
   "execution_count": 44,
   "id": "comfortable-caribbean",
   "metadata": {},
   "outputs": [],
   "source": [
    "import statsmodels"
   ]
  },
  {
   "cell_type": "code",
   "execution_count": 45,
   "id": "special-toilet",
   "metadata": {},
   "outputs": [
    {
     "data": {
      "text/plain": [
       "(9.763856585869124, 2.240495943817261e-22, 6944.90477379652)"
      ]
     },
     "execution_count": 45,
     "metadata": {},
     "output_type": "execute_result"
    }
   ],
   "source": [
    "statsmodels.stats.weightstats.ttest_ind(treat.sp_total_days, cont.sp_total_days,alternative=\"two-sided\",usevar=\"unequal\")"
   ]
  },
  {
   "cell_type": "code",
   "execution_count": 56,
   "id": "religious-sponsorship",
   "metadata": {},
   "outputs": [
    {
     "data": {
      "text/html": [
       "<div>\n",
       "<style scoped>\n",
       "    .dataframe tbody tr th:only-of-type {\n",
       "        vertical-align: middle;\n",
       "    }\n",
       "\n",
       "    .dataframe tbody tr th {\n",
       "        vertical-align: top;\n",
       "    }\n",
       "\n",
       "    .dataframe thead th {\n",
       "        text-align: right;\n",
       "    }\n",
       "</style>\n",
       "<table border=\"1\" class=\"dataframe\">\n",
       "  <thead>\n",
       "    <tr style=\"text-align: right;\">\n",
       "      <th></th>\n",
       "      <th>T statistic</th>\n",
       "      <th>df</th>\n",
       "      <th>pvalue 2 sided</th>\n",
       "      <th>Difference in mean</th>\n",
       "      <th>lb</th>\n",
       "      <th>ub</th>\n",
       "    </tr>\n",
       "  </thead>\n",
       "  <tbody>\n",
       "    <tr>\n",
       "      <th>0</th>\n",
       "      <td>10.664961</td>\n",
       "      <td>5605.787279</td>\n",
       "      <td>2.649640e-26</td>\n",
       "      <td>155.7965</td>\n",
       "      <td>127.158657</td>\n",
       "      <td>184.434343</td>\n",
       "    </tr>\n",
       "  </tbody>\n",
       "</table>\n",
       "</div>"
      ],
      "text/plain": [
       "   T statistic           df  pvalue 2 sided  Difference in mean          lb  \\\n",
       "0    10.664961  5605.787279    2.649640e-26            155.7965  127.158657   \n",
       "\n",
       "           ub  \n",
       "0  184.434343  "
      ]
     },
     "execution_count": 56,
     "metadata": {},
     "output_type": "execute_result"
    }
   ],
   "source": [
    "welch_ttest(treat.sp_total_days, cont.sp_total_days,'unequal')"
   ]
  },
  {
   "cell_type": "code",
   "execution_count": 57,
   "id": "forbidden-average",
   "metadata": {},
   "outputs": [
    {
     "data": {
      "text/plain": [
       "251.37575"
      ]
     },
     "execution_count": 57,
     "metadata": {},
     "output_type": "execute_result"
    }
   ],
   "source": [
    "np.mean(treat.sp_total_days)"
   ]
  },
  {
   "cell_type": "code",
   "execution_count": 58,
   "id": "middle-apparatus",
   "metadata": {},
   "outputs": [
    {
     "data": {
      "text/plain": [
       "95.57925"
      ]
     },
     "execution_count": 58,
     "metadata": {},
     "output_type": "execute_result"
    }
   ],
   "source": [
    "np.mean(cont.sp_total_days)"
   ]
  },
  {
   "cell_type": "code",
   "execution_count": null,
   "id": "hollow-essay",
   "metadata": {},
   "outputs": [],
   "source": []
  },
  {
   "cell_type": "markdown",
   "id": "agreed-passion",
   "metadata": {},
   "source": [
    "# Polk county + Drug"
   ]
  },
  {
   "cell_type": "code",
   "execution_count": 12,
   "id": "polish-fitness",
   "metadata": {},
   "outputs": [],
   "source": [
    "df_drug_polk =sp_county_crime_type(county='polk',crime_type='drug',df= raw_clean)"
   ]
  },
  {
   "cell_type": "code",
   "execution_count": 13,
   "id": "useful-grass",
   "metadata": {},
   "outputs": [
    {
     "data": {
      "text/html": [
       "<div>\n",
       "<style scoped>\n",
       "    .dataframe tbody tr th:only-of-type {\n",
       "        vertical-align: middle;\n",
       "    }\n",
       "\n",
       "    .dataframe tbody tr th {\n",
       "        vertical-align: top;\n",
       "    }\n",
       "\n",
       "    .dataframe thead th {\n",
       "        text-align: right;\n",
       "    }\n",
       "</style>\n",
       "<table border=\"1\" class=\"dataframe\">\n",
       "  <thead>\n",
       "    <tr style=\"text-align: right;\">\n",
       "      <th></th>\n",
       "      <th>Unnamed: 0</th>\n",
       "      <th>fstnm</th>\n",
       "      <th>lstnm</th>\n",
       "      <th>age</th>\n",
       "      <th>dob</th>\n",
       "      <th>race</th>\n",
       "      <th>gender</th>\n",
       "      <th>county</th>\n",
       "      <th>totpts</th>\n",
       "      <th>judge</th>\n",
       "      <th>...</th>\n",
       "      <th>cjimp</th>\n",
       "      <th>spimp</th>\n",
       "      <th>primp</th>\n",
       "      <th>lsviol</th>\n",
       "      <th>rpviol</th>\n",
       "      <th>faviol</th>\n",
       "      <th>fips</th>\n",
       "      <th>state</th>\n",
       "      <th>pop_2010</th>\n",
       "      <th>sp_cj_total_days</th>\n",
       "    </tr>\n",
       "  </thead>\n",
       "  <tbody>\n",
       "    <tr>\n",
       "      <th>215</th>\n",
       "      <td>215</td>\n",
       "      <td>LEVI</td>\n",
       "      <td>JOHNSON</td>\n",
       "      <td>25</td>\n",
       "      <td>1981-09-08</td>\n",
       "      <td>WHITE</td>\n",
       "      <td>MALE</td>\n",
       "      <td>polk</td>\n",
       "      <td>83.1</td>\n",
       "      <td>DURRANCE</td>\n",
       "      <td>...</td>\n",
       "      <td>NO</td>\n",
       "      <td>YES</td>\n",
       "      <td>NO</td>\n",
       "      <td>0</td>\n",
       "      <td>0</td>\n",
       "      <td>0</td>\n",
       "      <td>12105</td>\n",
       "      <td>FL</td>\n",
       "      <td>602095.0</td>\n",
       "      <td>1440</td>\n",
       "    </tr>\n",
       "    <tr>\n",
       "      <th>471</th>\n",
       "      <td>471</td>\n",
       "      <td>KAREN</td>\n",
       "      <td>LOONEY</td>\n",
       "      <td>42</td>\n",
       "      <td>1971-07-08</td>\n",
       "      <td>WHITE</td>\n",
       "      <td>FEMALE</td>\n",
       "      <td>polk</td>\n",
       "      <td>46.9</td>\n",
       "      <td>OJEDA,REINALDO</td>\n",
       "      <td>...</td>\n",
       "      <td>NO</td>\n",
       "      <td>YES</td>\n",
       "      <td>NO</td>\n",
       "      <td>0</td>\n",
       "      <td>0</td>\n",
       "      <td>0</td>\n",
       "      <td>12105</td>\n",
       "      <td>FL</td>\n",
       "      <td>602095.0</td>\n",
       "      <td>426</td>\n",
       "    </tr>\n",
       "    <tr>\n",
       "      <th>798</th>\n",
       "      <td>798</td>\n",
       "      <td>CHARLIE</td>\n",
       "      <td>ATKINS</td>\n",
       "      <td>27</td>\n",
       "      <td>1979-03-19</td>\n",
       "      <td>BLACK</td>\n",
       "      <td>MALE</td>\n",
       "      <td>polk</td>\n",
       "      <td>42.8</td>\n",
       "      <td>MCDONALD</td>\n",
       "      <td>...</td>\n",
       "      <td>NO</td>\n",
       "      <td>YES</td>\n",
       "      <td>NO</td>\n",
       "      <td>0</td>\n",
       "      <td>0</td>\n",
       "      <td>0</td>\n",
       "      <td>12105</td>\n",
       "      <td>FL</td>\n",
       "      <td>602095.0</td>\n",
       "      <td>366</td>\n",
       "    </tr>\n",
       "    <tr>\n",
       "      <th>839</th>\n",
       "      <td>839</td>\n",
       "      <td>RODNEY</td>\n",
       "      <td>AMOS</td>\n",
       "      <td>43</td>\n",
       "      <td>1961-01-01</td>\n",
       "      <td>WHITE</td>\n",
       "      <td>MALE</td>\n",
       "      <td>polk</td>\n",
       "      <td>34.6</td>\n",
       "      <td>MCDONALD</td>\n",
       "      <td>...</td>\n",
       "      <td>YES</td>\n",
       "      <td>NO</td>\n",
       "      <td>NO</td>\n",
       "      <td>0</td>\n",
       "      <td>6</td>\n",
       "      <td>0</td>\n",
       "      <td>12105</td>\n",
       "      <td>FL</td>\n",
       "      <td>602095.0</td>\n",
       "      <td>240</td>\n",
       "    </tr>\n",
       "    <tr>\n",
       "      <th>1488</th>\n",
       "      <td>1488</td>\n",
       "      <td>CALVIN</td>\n",
       "      <td>THOMPSON</td>\n",
       "      <td>28</td>\n",
       "      <td>1983-09-15</td>\n",
       "      <td>BLACK</td>\n",
       "      <td>MALE</td>\n",
       "      <td>polk</td>\n",
       "      <td>91.8</td>\n",
       "      <td>MCDONALD</td>\n",
       "      <td>...</td>\n",
       "      <td>YES</td>\n",
       "      <td>NO</td>\n",
       "      <td>NO</td>\n",
       "      <td>0</td>\n",
       "      <td>0</td>\n",
       "      <td>0</td>\n",
       "      <td>12105</td>\n",
       "      <td>FL</td>\n",
       "      <td>602095.0</td>\n",
       "      <td>180</td>\n",
       "    </tr>\n",
       "  </tbody>\n",
       "</table>\n",
       "<p>5 rows × 44 columns</p>\n",
       "</div>"
      ],
      "text/plain": [
       "      Unnamed: 0    fstnm     lstnm  age         dob   race  gender county  \\\n",
       "215          215     LEVI   JOHNSON   25  1981-09-08  WHITE    MALE   polk   \n",
       "471          471    KAREN    LOONEY   42  1971-07-08  WHITE  FEMALE   polk   \n",
       "798          798  CHARLIE    ATKINS   27  1979-03-19  BLACK    MALE   polk   \n",
       "839          839   RODNEY      AMOS   43  1961-01-01  WHITE    MALE   polk   \n",
       "1488        1488   CALVIN  THOMPSON   28  1983-09-15  BLACK    MALE   polk   \n",
       "\n",
       "      totpts           judge  ... cjimp spimp primp lsviol rpviol  faviol  \\\n",
       "215     83.1        DURRANCE  ...    NO   YES    NO      0      0       0   \n",
       "471     46.9  OJEDA,REINALDO  ...    NO   YES    NO      0      0       0   \n",
       "798     42.8        MCDONALD  ...    NO   YES    NO      0      0       0   \n",
       "839     34.6        MCDONALD  ...   YES    NO    NO      0      6       0   \n",
       "1488    91.8        MCDONALD  ...   YES    NO    NO      0      0       0   \n",
       "\n",
       "       fips  state  pop_2010  sp_cj_total_days  \n",
       "215   12105     FL  602095.0              1440  \n",
       "471   12105     FL  602095.0               426  \n",
       "798   12105     FL  602095.0               366  \n",
       "839   12105     FL  602095.0               240  \n",
       "1488  12105     FL  602095.0               180  \n",
       "\n",
       "[5 rows x 44 columns]"
      ]
     },
     "execution_count": 13,
     "metadata": {},
     "output_type": "execute_result"
    }
   ],
   "source": [
    "df_drug_polk.head()"
   ]
  },
  {
   "cell_type": "code",
   "execution_count": 14,
   "id": "bearing-veteran",
   "metadata": {},
   "outputs": [],
   "source": [
    "df_drug_polk_model = feat_prep(df_drug_polk)"
   ]
  },
  {
   "cell_type": "code",
   "execution_count": 15,
   "id": "dramatic-jacket",
   "metadata": {},
   "outputs": [
    {
     "data": {
      "text/plain": [
       "(15166, 51)"
      ]
     },
     "execution_count": 15,
     "metadata": {},
     "output_type": "execute_result"
    }
   ],
   "source": [
    "df_drug_polk_model.shape"
   ]
  },
  {
   "cell_type": "code",
   "execution_count": 16,
   "id": "twenty-mixture",
   "metadata": {},
   "outputs": [],
   "source": [
    "X_continous = df_drug_polk_model.loc[:,['totpts','age']]\n",
    "X_cont_stand =StandardScaler().fit_transform(X_continous)\n",
    "df_drug_polk_model['totpts_stand'] = X_cont_stand[:,0]\n",
    "df_drug_polk_model['age_stand'] = X_cont_stand[:,1]\n",
    "\n",
    "X = df_drug_polk_model.loc[:,['totpts_stand','age_stand','gender']]"
   ]
  },
  {
   "cell_type": "code",
   "execution_count": 17,
   "id": "retained-beverage",
   "metadata": {},
   "outputs": [],
   "source": [
    "distance_matrix = gower.gower_matrix(X)"
   ]
  },
  {
   "cell_type": "code",
   "execution_count": 18,
   "id": "julian-amsterdam",
   "metadata": {},
   "outputs": [
    {
     "data": {
      "text/plain": [
       "DBSCAN(eps=0.3, metric='precomputed', min_samples=2)"
      ]
     },
     "execution_count": 18,
     "metadata": {},
     "output_type": "execute_result"
    }
   ],
   "source": [
    "# Configuring the parameters of the clustering algorithm\n",
    "dbscan_cluster = DBSCAN(eps=0.3, \n",
    "                        min_samples=2, \n",
    "                        metric=\"precomputed\")\n",
    "\n",
    "\n",
    "dbscan_cluster.fit(distance_matrix)\n",
    "\n"
   ]
  },
  {
   "cell_type": "code",
   "execution_count": 19,
   "id": "second-ministry",
   "metadata": {},
   "outputs": [],
   "source": [
    "df_drug_polk_model[\"cluster\"] = dbscan_cluster.labels_"
   ]
  },
  {
   "cell_type": "code",
   "execution_count": 20,
   "id": "neither-carpet",
   "metadata": {},
   "outputs": [
    {
     "data": {
      "text/plain": [
       "0    11085\n",
       "1     4081\n",
       "Name: cluster, dtype: int64"
      ]
     },
     "execution_count": 20,
     "metadata": {},
     "output_type": "execute_result"
    }
   ],
   "source": [
    "df_drug_polk_model[\"cluster\"].value_counts()"
   ]
  },
  {
   "cell_type": "code",
   "execution_count": 21,
   "id": "injured-contamination",
   "metadata": {},
   "outputs": [
    {
     "data": {
      "text/plain": [
       "(3348, 54)"
      ]
     },
     "execution_count": 21,
     "metadata": {},
     "output_type": "execute_result"
    }
   ],
   "source": [
    "df_drug_polk_model[(df_drug_polk_model[\"cluster\"]==1)&(df_drug_polk_model[\"race\"]=='WHITE')].shape"
   ]
  },
  {
   "cell_type": "code",
   "execution_count": 22,
   "id": "starting-mathematics",
   "metadata": {},
   "outputs": [],
   "source": [
    "treat_1 = df_drug_polk_model[(df_drug_polk_model[\"cluster\"]==1)&(df_drug_polk_model[\"race\"]=='BLACK')].sample(500)\n",
    "treat_0 = df_drug_polk_model[(df_drug_polk_model[\"cluster\"]==0)&(df_drug_polk_model[\"race\"]=='BLACK')].sample(2000)\n",
    "\n",
    "treat= treat_0.append(treat_1)\n",
    "\n",
    "cont_1 = df_drug_polk_model[(df_drug_polk_model[\"cluster\"]==1)&(df_drug_polk_model[\"race\"]=='WHITE')].sample(500)\n",
    "cont_0 = df_drug_polk_model[(df_drug_polk_model[\"cluster\"]==0)&(df_drug_polk_model[\"race\"]=='WHITE')].sample(2000)\n",
    "\n",
    "cont= cont_0.append(cont_1)"
   ]
  },
  {
   "cell_type": "code",
   "execution_count": 23,
   "id": "structural-whole",
   "metadata": {},
   "outputs": [
    {
     "data": {
      "text/html": [
       "<div>\n",
       "<style scoped>\n",
       "    .dataframe tbody tr th:only-of-type {\n",
       "        vertical-align: middle;\n",
       "    }\n",
       "\n",
       "    .dataframe tbody tr th {\n",
       "        vertical-align: top;\n",
       "    }\n",
       "\n",
       "    .dataframe thead th {\n",
       "        text-align: right;\n",
       "    }\n",
       "</style>\n",
       "<table border=\"1\" class=\"dataframe\">\n",
       "  <thead>\n",
       "    <tr style=\"text-align: right;\">\n",
       "      <th></th>\n",
       "      <th>T statistic</th>\n",
       "      <th>df</th>\n",
       "      <th>pvalue 2 sided</th>\n",
       "      <th>Difference in mean</th>\n",
       "      <th>lb</th>\n",
       "      <th>ub</th>\n",
       "    </tr>\n",
       "  </thead>\n",
       "  <tbody>\n",
       "    <tr>\n",
       "      <th>0</th>\n",
       "      <td>4.049354</td>\n",
       "      <td>4968.628632</td>\n",
       "      <td>0.000052</td>\n",
       "      <td>72.6932</td>\n",
       "      <td>37.499743</td>\n",
       "      <td>107.886657</td>\n",
       "    </tr>\n",
       "  </tbody>\n",
       "</table>\n",
       "</div>"
      ],
      "text/plain": [
       "   T statistic           df  pvalue 2 sided  Difference in mean         lb  \\\n",
       "0     4.049354  4968.628632        0.000052             72.6932  37.499743   \n",
       "\n",
       "           ub  \n",
       "0  107.886657  "
      ]
     },
     "execution_count": 23,
     "metadata": {},
     "output_type": "execute_result"
    }
   ],
   "source": [
    "welch_ttest(treat.sp_total_days, cont.sp_total_days,'unequal')"
   ]
  },
  {
   "cell_type": "code",
   "execution_count": 24,
   "id": "martial-facility",
   "metadata": {},
   "outputs": [
    {
     "data": {
      "text/plain": [
       "304.7656"
      ]
     },
     "execution_count": 24,
     "metadata": {},
     "output_type": "execute_result"
    }
   ],
   "source": [
    "np.mean(treat.sp_total_days)"
   ]
  },
  {
   "cell_type": "code",
   "execution_count": 25,
   "id": "indirect-entrepreneur",
   "metadata": {},
   "outputs": [
    {
     "data": {
      "text/plain": [
       "232.0724"
      ]
     },
     "execution_count": 25,
     "metadata": {},
     "output_type": "execute_result"
    }
   ],
   "source": [
    "np.mean(cont.sp_total_days)"
   ]
  },
  {
   "cell_type": "code",
   "execution_count": null,
   "id": "significant-vessel",
   "metadata": {},
   "outputs": [],
   "source": []
  },
  {
   "cell_type": "code",
   "execution_count": null,
   "id": "coastal-mortality",
   "metadata": {},
   "outputs": [],
   "source": []
  },
  {
   "cell_type": "markdown",
   "id": "extensive-display",
   "metadata": {},
   "source": [
    "# Pinellas County + Rubbery"
   ]
  },
  {
   "cell_type": "code",
   "execution_count": 26,
   "id": "adequate-enough",
   "metadata": {},
   "outputs": [],
   "source": [
    "df_pinellas_rubbery =sp_county_crime_type(county='pinellas',crime_type='rubbery',df= raw_clean)"
   ]
  },
  {
   "cell_type": "code",
   "execution_count": 27,
   "id": "cardiac-secondary",
   "metadata": {},
   "outputs": [
    {
     "data": {
      "text/plain": [
       "(114980, 44)"
      ]
     },
     "execution_count": 27,
     "metadata": {},
     "output_type": "execute_result"
    }
   ],
   "source": [
    "df_pinellas_rubbery.shape"
   ]
  },
  {
   "cell_type": "code",
   "execution_count": 28,
   "id": "linear-mortality",
   "metadata": {},
   "outputs": [],
   "source": [
    "df_pinellas_rubbery_model = feat_prep(df_pinellas_rubbery)"
   ]
  },
  {
   "cell_type": "code",
   "execution_count": 29,
   "id": "fitted-pennsylvania",
   "metadata": {},
   "outputs": [],
   "source": [
    "X_continous = df_pinellas_rubbery_model.loc[:,['totpts','age']]\n",
    "X_cont_stand =StandardScaler().fit_transform(X_continous)\n",
    "df_pinellas_rubbery_model['totpts_stand'] = X_cont_stand[:,0]\n",
    "df_pinellas_rubbery_model['age_stand'] = X_cont_stand[:,1]\n",
    "\n",
    "#X = df_pinellas_rubbery_model.loc[:,['totpts_stand','age_stand','gender']]"
   ]
  },
  {
   "cell_type": "code",
   "execution_count": 43,
   "id": "bound-attempt",
   "metadata": {},
   "outputs": [],
   "source": [
    "df_pinellas_rubbery_model_sample = df_pinellas_rubbery_model.sample(20000)\n",
    "X = df_pinellas_rubbery_model_sample.loc[:,['totpts_stand','age_stand','gender']]"
   ]
  },
  {
   "cell_type": "code",
   "execution_count": 44,
   "id": "ahead-correlation",
   "metadata": {},
   "outputs": [],
   "source": [
    "distance_matrix = gower.gower_matrix(X)"
   ]
  },
  {
   "cell_type": "code",
   "execution_count": 45,
   "id": "fifty-sequence",
   "metadata": {},
   "outputs": [
    {
     "data": {
      "text/plain": [
       "DBSCAN(eps=0.3, metric='precomputed', min_samples=2)"
      ]
     },
     "execution_count": 45,
     "metadata": {},
     "output_type": "execute_result"
    }
   ],
   "source": [
    "dbscan_cluster = DBSCAN(eps=0.3, \n",
    "                        min_samples=2, \n",
    "                        metric=\"precomputed\")\n",
    "\n",
    "\n",
    "dbscan_cluster.fit(distance_matrix)"
   ]
  },
  {
   "cell_type": "code",
   "execution_count": 46,
   "id": "shared-sodium",
   "metadata": {},
   "outputs": [],
   "source": [
    "df_pinellas_rubbery_model_sample[\"cluster\"] = dbscan_cluster.labels_"
   ]
  },
  {
   "cell_type": "code",
   "execution_count": 47,
   "id": "extreme-coverage",
   "metadata": {},
   "outputs": [
    {
     "data": {
      "text/plain": [
       "1    14976\n",
       "0     5024\n",
       "Name: cluster, dtype: int64"
      ]
     },
     "execution_count": 47,
     "metadata": {},
     "output_type": "execute_result"
    }
   ],
   "source": [
    "df_pinellas_rubbery_model_sample[\"cluster\"].value_counts()"
   ]
  },
  {
   "cell_type": "code",
   "execution_count": 50,
   "id": "impressive-humidity",
   "metadata": {},
   "outputs": [],
   "source": [
    "treat_1 = df_pinellas_rubbery_model_sample[(df_pinellas_rubbery_model_sample[\"cluster\"]==1)&(df_pinellas_rubbery_model_sample[\"race\"]=='BLACK')].sample(2000)\n",
    "treat_0 = df_pinellas_rubbery_model_sample[(df_pinellas_rubbery_model_sample[\"cluster\"]==0)&(df_pinellas_rubbery_model_sample[\"race\"]=='BLACK')].sample(1000)\n",
    "\n",
    "treat= treat_0.append(treat_1)\n",
    "\n",
    "cont_1 = df_pinellas_rubbery_model_sample[(df_pinellas_rubbery_model_sample[\"cluster\"]==1)&(df_pinellas_rubbery_model_sample[\"race\"]=='WHITE')].sample(2000)\n",
    "cont_0 = df_pinellas_rubbery_model_sample[(df_pinellas_rubbery_model_sample[\"cluster\"]==0)&(df_pinellas_rubbery_model_sample[\"race\"]=='WHITE')].sample(1000)\n",
    "\n",
    "cont= cont_0.append(cont_1)"
   ]
  },
  {
   "cell_type": "code",
   "execution_count": 51,
   "id": "corresponding-reception",
   "metadata": {},
   "outputs": [
    {
     "data": {
      "text/html": [
       "<div>\n",
       "<style scoped>\n",
       "    .dataframe tbody tr th:only-of-type {\n",
       "        vertical-align: middle;\n",
       "    }\n",
       "\n",
       "    .dataframe tbody tr th {\n",
       "        vertical-align: top;\n",
       "    }\n",
       "\n",
       "    .dataframe thead th {\n",
       "        text-align: right;\n",
       "    }\n",
       "</style>\n",
       "<table border=\"1\" class=\"dataframe\">\n",
       "  <thead>\n",
       "    <tr style=\"text-align: right;\">\n",
       "      <th></th>\n",
       "      <th>T statistic</th>\n",
       "      <th>df</th>\n",
       "      <th>pvalue 2 sided</th>\n",
       "      <th>Difference in mean</th>\n",
       "      <th>lb</th>\n",
       "      <th>ub</th>\n",
       "    </tr>\n",
       "  </thead>\n",
       "  <tbody>\n",
       "    <tr>\n",
       "      <th>0</th>\n",
       "      <td>4.540903</td>\n",
       "      <td>5761.081102</td>\n",
       "      <td>0.000006</td>\n",
       "      <td>128.498667</td>\n",
       "      <td>73.02387</td>\n",
       "      <td>183.973463</td>\n",
       "    </tr>\n",
       "  </tbody>\n",
       "</table>\n",
       "</div>"
      ],
      "text/plain": [
       "   T statistic           df  pvalue 2 sided  Difference in mean        lb  \\\n",
       "0     4.540903  5761.081102        0.000006          128.498667  73.02387   \n",
       "\n",
       "           ub  \n",
       "0  183.973463  "
      ]
     },
     "execution_count": 51,
     "metadata": {},
     "output_type": "execute_result"
    }
   ],
   "source": [
    "welch_ttest(treat.sp_total_days, cont.sp_total_days,'unequal')"
   ]
  },
  {
   "cell_type": "code",
   "execution_count": 52,
   "id": "sustainable-sustainability",
   "metadata": {},
   "outputs": [
    {
     "data": {
      "text/plain": [
       "380.43733333333336"
      ]
     },
     "execution_count": 52,
     "metadata": {},
     "output_type": "execute_result"
    }
   ],
   "source": [
    "np.mean(treat.sp_total_days)"
   ]
  },
  {
   "cell_type": "code",
   "execution_count": 53,
   "id": "surprising-zoning",
   "metadata": {},
   "outputs": [
    {
     "data": {
      "text/plain": [
       "251.93866666666668"
      ]
     },
     "execution_count": 53,
     "metadata": {},
     "output_type": "execute_result"
    }
   ],
   "source": [
    "np.mean(cont.sp_total_days)"
   ]
  },
  {
   "cell_type": "code",
   "execution_count": null,
   "id": "usual-sword",
   "metadata": {},
   "outputs": [],
   "source": []
  }
 ],
 "metadata": {
  "kernelspec": {
   "display_name": "Python 3",
   "language": "python",
   "name": "python3"
  },
  "language_info": {
   "codemirror_mode": {
    "name": "ipython",
    "version": 3
   },
   "file_extension": ".py",
   "mimetype": "text/x-python",
   "name": "python",
   "nbconvert_exporter": "python",
   "pygments_lexer": "ipython3",
   "version": "3.7.1"
  }
 },
 "nbformat": 4,
 "nbformat_minor": 5
}
