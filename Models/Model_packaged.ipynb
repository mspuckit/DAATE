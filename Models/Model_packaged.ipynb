{
 "cells": [
  {
   "cell_type": "code",
   "execution_count": 50,
   "id": "introductory-jordan",
   "metadata": {},
   "outputs": [],
   "source": [
    "import pandas as pd\n",
    "import numpy as np\n",
    "import matplotlib.pyplot as plt\n",
    "import seaborn as sns\n",
    "from sklearn.svm import SVC\n",
    "from sklearn import metrics\n",
    "from sklearn.model_selection import RandomizedSearchCV, StratifiedKFold, train_test_split\n",
    "from sklearn import preprocessing\n",
    "from sklearn.neighbors import KNeighborsClassifier\n",
    "from sklearn.naive_bayes import GaussianNB\n",
    "from sklearn.tree import DecisionTreeClassifier\n",
    "from sklearn.ensemble import RandomForestClassifier, AdaBoostClassifier\n",
    "from sklearn.metrics import classification_report,confusion_matrix, plot_confusion_matrix\n",
    "from statsmodels.stats.proportion import proportions_ztest,confint_proportions_2indep"
   ]
  },
  {
   "cell_type": "code",
   "execution_count": 17,
   "id": "grand-figure",
   "metadata": {},
   "outputs": [],
   "source": [
    "raw = pd.read_csv(\"sentencing_fips_pop2010 2.csv\")"
   ]
  },
  {
   "cell_type": "code",
   "execution_count": 15,
   "id": "ranging-aircraft",
   "metadata": {},
   "outputs": [],
   "source": [
    "#crime_typed = raw[raw['statut'].str.match('893.*')== True]"
   ]
  },
  {
   "cell_type": "code",
   "execution_count": null,
   "id": "painted-miracle",
   "metadata": {},
   "outputs": [],
   "source": []
  },
  {
   "cell_type": "markdown",
   "id": "technological-study",
   "metadata": {},
   "source": [
    "# Preprocessing"
   ]
  },
  {
   "cell_type": "code",
   "execution_count": 13,
   "id": "cooperative-professional",
   "metadata": {},
   "outputs": [],
   "source": [
    "def drop_error_value(df):\n",
    "    df_temp = df.copy()\n",
    "    df_temp = df_temp[~((df_temp['spyrs']>=99)|(df_temp['life']=='Y'))]\n",
    "    df_temp['sp_cj_total_days'] = (df_temp['sp_total_days'])+(df_temp['cj_total_days'])\n",
    "    df_clean = df_temp[~((df_temp['sp_cj_total_days']<=7) & (df_temp['totpts']>44))]\n",
    "    \n",
    "    return df_clean\n",
    "    "
   ]
  },
  {
   "cell_type": "code",
   "execution_count": 18,
   "id": "authentic-verse",
   "metadata": {},
   "outputs": [],
   "source": [
    "raw_clean = drop_error_value(raw)"
   ]
  },
  {
   "cell_type": "code",
   "execution_count": null,
   "id": "quarterly-penetration",
   "metadata": {},
   "outputs": [],
   "source": []
  },
  {
   "cell_type": "markdown",
   "id": "given-thinking",
   "metadata": {},
   "source": [
    "# Sliceing"
   ]
  },
  {
   "cell_type": "code",
   "execution_count": 19,
   "id": "mathematical-capital",
   "metadata": {},
   "outputs": [],
   "source": [
    "def sp_county_crime_type(county, crime_type, df):\n",
    "    match_ind = ''\n",
    "    if crime_type == 'drug':     ### Expendable\n",
    "        match_ind = '893.*'\n",
    "        \n",
    "    df = df[df['statut'].str.match(match_ind)== True]\n",
    "    \n",
    "    df =df[df['county']== county]\n",
    "    \n",
    "    return df\n",
    "    \n",
    "    "
   ]
  },
  {
   "cell_type": "code",
   "execution_count": 20,
   "id": "excellent-battery",
   "metadata": {},
   "outputs": [],
   "source": [
    "df_drug =sp_county_crime_type(county='pinellas',crime_type='drug',df= raw_clean)"
   ]
  },
  {
   "cell_type": "code",
   "execution_count": null,
   "id": "applied-border",
   "metadata": {},
   "outputs": [],
   "source": []
  },
  {
   "cell_type": "markdown",
   "id": "dangerous-screening",
   "metadata": {},
   "source": [
    "# Processing Features"
   ]
  },
  {
   "cell_type": "code",
   "execution_count": 22,
   "id": "median-defeat",
   "metadata": {},
   "outputs": [],
   "source": [
    "def feat_prep(df):\n",
    "    df_temp = df.copy()\n",
    "    df_temp['gender_ind']=[1 if x=='MALE' else 0 for x in df_temp['gender']]\n",
    "    df_temp = pd.concat([df_temp,pd.get_dummies(df_temp['clfely'], prefix='clfely')],axis=1)\n",
    "    df_temp['sent_year']=df_temp[\"sentdte\"].str[:4]\n",
    "    df_temp['lsviol']=[0 if x==0 else 1 for x in df_temp['lsviol']]\n",
    "    df_temp['rpviol']=[0 if x==0 else 1 for x in df_temp['rpviol']]\n",
    "    df_temp['faviol']=[0 if x==0 else 1 for x in df_temp['faviol']]\n",
    "    \n",
    "    return df_temp"
   ]
  },
  {
   "cell_type": "code",
   "execution_count": 23,
   "id": "dress-absolute",
   "metadata": {},
   "outputs": [],
   "source": [
    "df_drug_model = feat_prep(df_drug)"
   ]
  },
  {
   "cell_type": "code",
   "execution_count": 24,
   "id": "hydraulic-receptor",
   "metadata": {},
   "outputs": [
    {
     "data": {
      "text/plain": [
       "(42267, 51)"
      ]
     },
     "execution_count": 24,
     "metadata": {},
     "output_type": "execute_result"
    }
   ],
   "source": [
    "df_drug_model.shape"
   ]
  },
  {
   "cell_type": "markdown",
   "id": "considerable-chart",
   "metadata": {},
   "source": [
    "# Outcome Variable bucket"
   ]
  },
  {
   "cell_type": "code",
   "execution_count": 27,
   "id": "corrected-yield",
   "metadata": {},
   "outputs": [],
   "source": [
    "def outcome_bucket(thresh,df):\n",
    "    df['Y']=0\n",
    "    df.loc[df['sp_total_days']>thresh,'Y']=1\n",
    "    \n",
    "    return df\n",
    "    "
   ]
  },
  {
   "cell_type": "code",
   "execution_count": 28,
   "id": "ultimate-myrtle",
   "metadata": {},
   "outputs": [],
   "source": [
    "df_drug_model = outcome_bucket(365,df_drug_model)"
   ]
  },
  {
   "cell_type": "code",
   "execution_count": 30,
   "id": "played-legislation",
   "metadata": {},
   "outputs": [
    {
     "data": {
      "text/plain": [
       "Index(['Unnamed: 0', 'fstnm', 'lstnm', 'age', 'dob', 'race', 'gender',\n",
       "       'county', 'totpts', 'judge', 'clfely', 'statut', 'offlvl', 'offdte',\n",
       "       'sentdte', 'sp_total_days', 'spyrs', 'spmths', 'spdays',\n",
       "       'cj_total_days', 'cc_total_days', 'pr_total_days', 'enhanc', 'haboff',\n",
       "       'habvio', 'life', 'vcc', 'prrpact', 'dornum', 'circuit', 'dispos',\n",
       "       'docket', 'prioff', 'ccimp', 'cjimp', 'spimp', 'primp', 'lsviol',\n",
       "       'rpviol', 'faviol', 'fips', 'state', 'pop_2010', 'sp_cj_total_days',\n",
       "       'gender_ind', 'clfely_1ST DEGREE', 'clfely_1ST/LIFE',\n",
       "       'clfely_2ND DEGREE', 'clfely_3RD DEGREE', 'clfely_LIFE', 'sent_year',\n",
       "       'Y'],\n",
       "      dtype='object')"
      ]
     },
     "execution_count": 30,
     "metadata": {},
     "output_type": "execute_result"
    }
   ],
   "source": [
    "df_drug_model.columns"
   ]
  },
  {
   "cell_type": "code",
   "execution_count": null,
   "id": "rolled-belarus",
   "metadata": {},
   "outputs": [],
   "source": []
  },
  {
   "cell_type": "markdown",
   "id": "acknowledged-groove",
   "metadata": {},
   "source": [
    "# Model Prep"
   ]
  },
  {
   "cell_type": "code",
   "execution_count": 39,
   "id": "polished-timeline",
   "metadata": {},
   "outputs": [],
   "source": [
    "def model_gen(df,feat_col, mod = 'rf'):\n",
    "    X = df.loc[:,feat_col]\n",
    "    y = df['Y']\n",
    "    X_train, X_test, y_train, y_test = train_test_split(X, y, test_size=0.20, random_state=1)\n",
    "    \n",
    "    if mod == 'rf':\n",
    "        model = RandomForestClassifier(n_estimators=500,random_state=7)\n",
    "        model.fit(X_train, y_train)\n",
    "        dev_pred = model.predict(X_test)\n",
    "        print('Random Forest Accuracy %.3f' %metrics.accuracy_score(y_test, dev_pred))\n",
    "        print('Random Forest Precision %.3f' %metrics.precision_score(y_test, dev_pred))\n",
    "        print('Random Forest Recall %.3f' %metrics.recall_score(y_test, dev_pred))\n",
    "    \n",
    "    df['propensity'] = model.predict_proba(X)[:,1]  \n",
    "    \n",
    "    return model,df"
   ]
  },
  {
   "cell_type": "code",
   "execution_count": 40,
   "id": "opposite-confusion",
   "metadata": {},
   "outputs": [
    {
     "name": "stdout",
     "output_type": "stream",
     "text": [
      "Random Forest Accuracy 0.926\n",
      "Random Forest Precision 0.827\n",
      "Random Forest Recall 0.759\n"
     ]
    }
   ],
   "source": [
    "feat_col = ['gender_ind','clfely_1ST DEGREE','clfely_3RD DEGREE'\n",
    "                               ,'clfely_LIFE','clfely_1ST/LIFE','sent_year','totpts','lsviol','rpviol','faviol']\n",
    "\n",
    "\n",
    "model_rfc,df_drug_output = model_gen(df_drug_model,feat_col, mod = 'rf')"
   ]
  },
  {
   "cell_type": "code",
   "execution_count": null,
   "id": "modified-absorption",
   "metadata": {},
   "outputs": [],
   "source": []
  },
  {
   "cell_type": "code",
   "execution_count": 41,
   "id": "second-acrobat",
   "metadata": {},
   "outputs": [
    {
     "name": "stdout",
     "output_type": "stream",
     "text": [
      "Random Forest Accuracy 0.925\n",
      "Random Forest Precision 0.830\n",
      "Random Forest Recall 0.753\n"
     ]
    }
   ],
   "source": [
    "## extra try without the clfely column\n",
    "feat_col = ['gender_ind','sent_year','totpts','lsviol','rpviol','faviol']\n",
    "\n",
    "\n",
    "model_rfc,df_drug_output = model_gen(df_drug_model,feat_col, mod = 'rf')"
   ]
  },
  {
   "cell_type": "code",
   "execution_count": null,
   "id": "progressive-easter",
   "metadata": {},
   "outputs": [],
   "source": []
  },
  {
   "cell_type": "markdown",
   "id": "compliant-rolling",
   "metadata": {},
   "source": [
    "# Propensity Matching"
   ]
  },
  {
   "cell_type": "code",
   "execution_count": 52,
   "id": "automatic-inspection",
   "metadata": {},
   "outputs": [],
   "source": [
    "def propensity_matching(df, model, sample_size=2000, thresh=0.03):\n",
    "    \n",
    "    treated = df[df[\"race\"]==\"BLACK\"].sample(sample_size)\n",
    "    treated = treated.reset_index(drop=True)\n",
    "    \n",
    "    untreated = df[df[\"race\"]=='WHITE']\n",
    "    matched_control = []\n",
    "    \n",
    "    \n",
    "    def add_matched_control(patient, thresh = thresh):\n",
    "        control_patient =untreated[(untreated[\"propensity\"]>=patient[\"propensity\"]-thresh/2 )& (untreated[\"propensity\"]<=patient[\"propensity\"]+thresh/2 )].sample().iloc[0]\n",
    "        matched_control.append(control_patient)\n",
    "    \n",
    "    treated.apply(add_matched_control, axis=1)\n",
    "    matched_control_df = pd.DataFrame(matched_control).reset_index(drop=True)\n",
    "    \n",
    "    paired_sample = treated.join(matched_control_df, rsuffix=\"_control\")\n",
    "    \n",
    "    return paired_sample\n"
   ]
  },
  {
   "cell_type": "code",
   "execution_count": 53,
   "id": "threatened-buyer",
   "metadata": {},
   "outputs": [],
   "source": [
    "matched_df = propensity_matching(df_drug_output,model_rfc)"
   ]
  },
  {
   "cell_type": "code",
   "execution_count": 54,
   "id": "taken-disaster",
   "metadata": {},
   "outputs": [
    {
     "data": {
      "text/html": [
       "<div>\n",
       "<style scoped>\n",
       "    .dataframe tbody tr th:only-of-type {\n",
       "        vertical-align: middle;\n",
       "    }\n",
       "\n",
       "    .dataframe tbody tr th {\n",
       "        vertical-align: top;\n",
       "    }\n",
       "\n",
       "    .dataframe thead th {\n",
       "        text-align: right;\n",
       "    }\n",
       "</style>\n",
       "<table border=\"1\" class=\"dataframe\">\n",
       "  <thead>\n",
       "    <tr style=\"text-align: right;\">\n",
       "      <th></th>\n",
       "      <th>Unnamed: 0</th>\n",
       "      <th>fstnm</th>\n",
       "      <th>lstnm</th>\n",
       "      <th>age</th>\n",
       "      <th>dob</th>\n",
       "      <th>race</th>\n",
       "      <th>gender</th>\n",
       "      <th>county</th>\n",
       "      <th>totpts</th>\n",
       "      <th>judge</th>\n",
       "      <th>...</th>\n",
       "      <th>sp_cj_total_days_control</th>\n",
       "      <th>gender_ind_control</th>\n",
       "      <th>clfely_1ST DEGREE_control</th>\n",
       "      <th>clfely_1ST/LIFE_control</th>\n",
       "      <th>clfely_2ND DEGREE_control</th>\n",
       "      <th>clfely_3RD DEGREE_control</th>\n",
       "      <th>clfely_LIFE_control</th>\n",
       "      <th>sent_year_control</th>\n",
       "      <th>Y_control</th>\n",
       "      <th>propensity_control</th>\n",
       "    </tr>\n",
       "  </thead>\n",
       "  <tbody>\n",
       "    <tr>\n",
       "      <th>0</th>\n",
       "      <td>632171</td>\n",
       "      <td>MICHAEL</td>\n",
       "      <td>CRUMITY</td>\n",
       "      <td>46</td>\n",
       "      <td>1969-06-21</td>\n",
       "      <td>BLACK</td>\n",
       "      <td>MALE</td>\n",
       "      <td>pinellas</td>\n",
       "      <td>28.0</td>\n",
       "      <td>ANDREWS</td>\n",
       "      <td>...</td>\n",
       "      <td>0</td>\n",
       "      <td>1</td>\n",
       "      <td>0</td>\n",
       "      <td>0</td>\n",
       "      <td>0</td>\n",
       "      <td>1</td>\n",
       "      <td>0</td>\n",
       "      <td>2010</td>\n",
       "      <td>0</td>\n",
       "      <td>0.447557</td>\n",
       "    </tr>\n",
       "    <tr>\n",
       "      <th>1</th>\n",
       "      <td>375642</td>\n",
       "      <td>SHANEVA</td>\n",
       "      <td>BOYD</td>\n",
       "      <td>27</td>\n",
       "      <td>1981-12-29</td>\n",
       "      <td>BLACK</td>\n",
       "      <td>FEMALE</td>\n",
       "      <td>pinellas</td>\n",
       "      <td>20.2</td>\n",
       "      <td>NEWTON</td>\n",
       "      <td>...</td>\n",
       "      <td>0</td>\n",
       "      <td>0</td>\n",
       "      <td>0</td>\n",
       "      <td>0</td>\n",
       "      <td>1</td>\n",
       "      <td>0</td>\n",
       "      <td>0</td>\n",
       "      <td>2008</td>\n",
       "      <td>0</td>\n",
       "      <td>0.000000</td>\n",
       "    </tr>\n",
       "    <tr>\n",
       "      <th>2</th>\n",
       "      <td>1222661</td>\n",
       "      <td>KEONTAE</td>\n",
       "      <td>PEDIGO</td>\n",
       "      <td>19</td>\n",
       "      <td>1990-08-24</td>\n",
       "      <td>BLACK</td>\n",
       "      <td>MALE</td>\n",
       "      <td>pinellas</td>\n",
       "      <td>32.0</td>\n",
       "      <td>QUESADA</td>\n",
       "      <td>...</td>\n",
       "      <td>0</td>\n",
       "      <td>0</td>\n",
       "      <td>0</td>\n",
       "      <td>0</td>\n",
       "      <td>0</td>\n",
       "      <td>1</td>\n",
       "      <td>0</td>\n",
       "      <td>2013</td>\n",
       "      <td>0</td>\n",
       "      <td>0.006000</td>\n",
       "    </tr>\n",
       "    <tr>\n",
       "      <th>3</th>\n",
       "      <td>578703</td>\n",
       "      <td>ROSA</td>\n",
       "      <td>TAYLOR</td>\n",
       "      <td>41</td>\n",
       "      <td>1964-12-31</td>\n",
       "      <td>BLACK</td>\n",
       "      <td>FEMALE</td>\n",
       "      <td>pinellas</td>\n",
       "      <td>39.8</td>\n",
       "      <td>BAIRD</td>\n",
       "      <td>...</td>\n",
       "      <td>366</td>\n",
       "      <td>1</td>\n",
       "      <td>0</td>\n",
       "      <td>0</td>\n",
       "      <td>0</td>\n",
       "      <td>1</td>\n",
       "      <td>0</td>\n",
       "      <td>2008</td>\n",
       "      <td>1</td>\n",
       "      <td>0.540895</td>\n",
       "    </tr>\n",
       "    <tr>\n",
       "      <th>4</th>\n",
       "      <td>464148</td>\n",
       "      <td>KENDRA</td>\n",
       "      <td>DAVIS</td>\n",
       "      <td>19</td>\n",
       "      <td>1987-01-08</td>\n",
       "      <td>BLACK</td>\n",
       "      <td>FEMALE</td>\n",
       "      <td>pinellas</td>\n",
       "      <td>38.4</td>\n",
       "      <td>BAIRD, W.</td>\n",
       "      <td>...</td>\n",
       "      <td>0</td>\n",
       "      <td>1</td>\n",
       "      <td>0</td>\n",
       "      <td>0</td>\n",
       "      <td>0</td>\n",
       "      <td>1</td>\n",
       "      <td>0</td>\n",
       "      <td>2007</td>\n",
       "      <td>0</td>\n",
       "      <td>0.000000</td>\n",
       "    </tr>\n",
       "  </tbody>\n",
       "</table>\n",
       "<p>5 rows × 106 columns</p>\n",
       "</div>"
      ],
      "text/plain": [
       "   Unnamed: 0    fstnm    lstnm  age         dob   race  gender    county  \\\n",
       "0      632171  MICHAEL  CRUMITY   46  1969-06-21  BLACK    MALE  pinellas   \n",
       "1      375642  SHANEVA     BOYD   27  1981-12-29  BLACK  FEMALE  pinellas   \n",
       "2     1222661  KEONTAE   PEDIGO   19  1990-08-24  BLACK    MALE  pinellas   \n",
       "3      578703     ROSA   TAYLOR   41  1964-12-31  BLACK  FEMALE  pinellas   \n",
       "4      464148   KENDRA    DAVIS   19  1987-01-08  BLACK  FEMALE  pinellas   \n",
       "\n",
       "   totpts      judge  ... sp_cj_total_days_control gender_ind_control  \\\n",
       "0    28.0    ANDREWS  ...                        0                  1   \n",
       "1    20.2     NEWTON  ...                        0                  0   \n",
       "2    32.0    QUESADA  ...                        0                  0   \n",
       "3    39.8      BAIRD  ...                      366                  1   \n",
       "4    38.4  BAIRD, W.  ...                        0                  1   \n",
       "\n",
       "  clfely_1ST DEGREE_control clfely_1ST/LIFE_control clfely_2ND DEGREE_control  \\\n",
       "0                         0                       0                         0   \n",
       "1                         0                       0                         1   \n",
       "2                         0                       0                         0   \n",
       "3                         0                       0                         0   \n",
       "4                         0                       0                         0   \n",
       "\n",
       "   clfely_3RD DEGREE_control  clfely_LIFE_control  sent_year_control  \\\n",
       "0                          1                    0               2010   \n",
       "1                          0                    0               2008   \n",
       "2                          1                    0               2013   \n",
       "3                          1                    0               2008   \n",
       "4                          1                    0               2007   \n",
       "\n",
       "   Y_control  propensity_control  \n",
       "0          0            0.447557  \n",
       "1          0            0.000000  \n",
       "2          0            0.006000  \n",
       "3          1            0.540895  \n",
       "4          0            0.000000  \n",
       "\n",
       "[5 rows x 106 columns]"
      ]
     },
     "execution_count": 54,
     "metadata": {},
     "output_type": "execute_result"
    }
   ],
   "source": [
    "matched_df.head()"
   ]
  },
  {
   "cell_type": "code",
   "execution_count": 55,
   "id": "built-skirt",
   "metadata": {},
   "outputs": [
    {
     "data": {
      "text/plain": [
       "Index(['Unnamed: 0', 'fstnm', 'lstnm', 'age', 'dob', 'race', 'gender',\n",
       "       'county', 'totpts', 'judge',\n",
       "       ...\n",
       "       'sp_cj_total_days_control', 'gender_ind_control',\n",
       "       'clfely_1ST DEGREE_control', 'clfely_1ST/LIFE_control',\n",
       "       'clfely_2ND DEGREE_control', 'clfely_3RD DEGREE_control',\n",
       "       'clfely_LIFE_control', 'sent_year_control', 'Y_control',\n",
       "       'propensity_control'],\n",
       "      dtype='object', length=106)"
      ]
     },
     "execution_count": 55,
     "metadata": {},
     "output_type": "execute_result"
    }
   ],
   "source": [
    "matched_df.columns"
   ]
  },
  {
   "cell_type": "markdown",
   "id": "elder-party",
   "metadata": {},
   "source": [
    "# Statistical evaluation"
   ]
  },
  {
   "cell_type": "code",
   "execution_count": 56,
   "id": "important-finland",
   "metadata": {},
   "outputs": [],
   "source": [
    "def get_sigfig(df,sample_size=2000):\n",
    "    treat_pos = sum(df['Y'])\n",
    "    control_pos = sum(df['Y_control'])\n",
    "    \n",
    "    count = np.array([treat_pos, control_pos])\n",
    "    nobs = np.array([sample_size, sample_size])\n",
    "    stat, pval = proportions_ztest(count, nobs,alternative='two-sided')\n",
    "    print('p-value: {0:0.3f}'.format(pval))\n",
    "    \n",
    "    lower, upper = confint_proportions_2indep(treat_pos, sample_size, control_pos, sample_size, method=None, compare='diff', alpha=0.05, correction=True)\n",
    "    print('confidence interval',(lower, upper))\n",
    "    \n",
    "    sigfig = {'pvalue':pval,'lower':lower,'upper':upper}\n",
    "    \n",
    "    return sigfig"
   ]
  },
  {
   "cell_type": "code",
   "execution_count": 57,
   "id": "divine-thailand",
   "metadata": {},
   "outputs": [
    {
     "name": "stdout",
     "output_type": "stream",
     "text": [
      "p-value: 0.749\n",
      "confidence interval (-0.023048062740814564, 0.03203908680329136)\n"
     ]
    },
    {
     "data": {
      "text/plain": [
       "{'pvalue': 0.7489189615465779,\n",
       " 'lower': -0.023048062740814564,\n",
       " 'upper': 0.03203908680329136}"
      ]
     },
     "execution_count": 57,
     "metadata": {},
     "output_type": "execute_result"
    }
   ],
   "source": [
    "result = get_sigfig(matched_df)\n",
    "result"
   ]
  },
  {
   "cell_type": "code",
   "execution_count": null,
   "id": "running-falls",
   "metadata": {},
   "outputs": [],
   "source": []
  }
 ],
 "metadata": {
  "kernelspec": {
   "display_name": "Python 3",
   "language": "python",
   "name": "python3"
  },
  "language_info": {
   "codemirror_mode": {
    "name": "ipython",
    "version": 3
   },
   "file_extension": ".py",
   "mimetype": "text/x-python",
   "name": "python",
   "nbconvert_exporter": "python",
   "pygments_lexer": "ipython3",
   "version": "3.7.1"
  }
 },
 "nbformat": 4,
 "nbformat_minor": 5
}
