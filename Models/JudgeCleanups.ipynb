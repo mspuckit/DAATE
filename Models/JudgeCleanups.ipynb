{
 "cells": [
  {
   "cell_type": "code",
   "execution_count": 1,
   "id": "tracked-namibia",
   "metadata": {},
   "outputs": [
    {
     "data": {
      "text/plain": [
       "(1227930, 47)"
      ]
     },
     "execution_count": 1,
     "metadata": {},
     "output_type": "execute_result"
    }
   ],
   "source": [
    "import pandas as pd\n",
    "\n",
    "sen = pd.read_csv(\"./sentencing_post_eda.csv\")\n",
    "sen.shape"
   ]
  },
  {
   "cell_type": "code",
   "execution_count": 2,
   "id": "spectacular-design",
   "metadata": {},
   "outputs": [
    {
     "data": {
      "text/plain": [
       "(154509, 47)"
      ]
     },
     "execution_count": 2,
     "metadata": {},
     "output_type": "execute_result"
    }
   ],
   "source": [
    "circuits=[\"CIRCUIT 06 - CLEARWATER\", \"CIRCUIT 17 - FT. LAUDERDALE\", \"CIRCUIT 11 - MIAMI\"]\n",
    "circuits=[\"CIRCUIT 06 - CLEARWATER\"]\n",
    "\n",
    "df = sen.loc[sen.circuit.isin(circuits)]\n",
    "df.shape"
   ]
  },
  {
   "cell_type": "code",
   "execution_count": 3,
   "id": "utility-blast",
   "metadata": {},
   "outputs": [
    {
     "data": {
      "text/plain": [
       "PETERS               11930\n",
       "QUESADA               9676\n",
       "ANDREWS               8474\n",
       "LEY                   8054\n",
       "FEDERICO              6904\n",
       "                     ...  \n",
       "WILLIAM H HALLMAN        1\n",
       "DOWNEY, M.               1\n",
       "WEBB. W.                 1\n",
       "N. LEY                   1\n",
       "FARNELL C                1\n",
       "Name: judge, Length: 901, dtype: int64"
      ]
     },
     "execution_count": 3,
     "metadata": {},
     "output_type": "execute_result"
    }
   ],
   "source": [
    "df.judge.value_counts()"
   ]
  },
  {
   "cell_type": "code",
   "execution_count": 4,
   "id": "usual-album",
   "metadata": {},
   "outputs": [
    {
     "name": "stderr",
     "output_type": "stream",
     "text": [
      "/Users/robert.ling/opt/anaconda3/lib/python3.7/site-packages/fuzzywuzzy/fuzz.py:11: UserWarning: Using slow pure-python SequenceMatcher. Install python-Levenshtein to remove this warning\n",
      "  warnings.warn('Using slow pure-python SequenceMatcher. Install python-Levenshtein to remove this warning')\n"
     ]
    },
    {
     "data": {
      "text/plain": [
       "['ANDREWS',\n",
       " 'ANDREWS, M.',\n",
       " 'ANDREWS,M.',\n",
       " 'ANDREWS, H.',\n",
       " 'ANDREWS, M',\n",
       " 'M.ANDREWS',\n",
       " 'M. ANDREWS',\n",
       " 'ANDREWS,M',\n",
       " 'M ANDREWS',\n",
       " 'ANDREWS,H.',\n",
       " 'ANDREWS. M',\n",
       " 'ANDREWS, J.',\n",
       " 'ANDREWS/04',\n",
       " 'ANDDREWS',\n",
       " 'ANDREWWS',\n",
       " 'ANDEREWS',\n",
       " 'ANDREW',\n",
       " 'ANDEWS',\n",
       " 'ANDRES',\n",
       " 'ANDRWS',\n",
       " 'MICHAEL ANDREWS',\n",
       " 'ANDR.',\n",
       " 'W',\n",
       " 'AMDREWS',\n",
       " 'ANDRESS',\n",
       " 'ADNREWS',\n",
       " 'ANDRWES',\n",
       " 'ARNDEWS',\n",
       " 'NADREWS',\n",
       " 'ANDEW',\n",
       " 'ANDEWS,M.',\n",
       " 'ANDREW, H.',\n",
       " 'ANDEWS, M.']"
      ]
     },
     "execution_count": 4,
     "metadata": {},
     "output_type": "execute_result"
    }
   ],
   "source": [
    "judges = df.judge.value_counts().to_frame()\n",
    "\n",
    "from fuzzywuzzy import process\n",
    "choices = list(judges.index.values)\n",
    "names = process.extract(\"andrews\", choices, limit=50)\n",
    "andrews = [(x[0]) for x in names[:40]]\n",
    "#eye test for choose first 33 variations of \"ANDREWS\" within the circuit\n",
    "andrews = andrews[:33]\n",
    "andrews"
   ]
  },
  {
   "cell_type": "code",
   "execution_count": 5,
   "id": "valued-oakland",
   "metadata": {},
   "outputs": [
    {
     "data": {
      "text/plain": [
       "['QUESADA',\n",
       " 'QUESADA, F.',\n",
       " 'F QUESADA',\n",
       " 'F.QUESADA',\n",
       " 'QUESADA,F.',\n",
       " 'QUESADA,F',\n",
       " 'F. QUESADA',\n",
       " 'QUESADA, R.',\n",
       " 'QUESADA, F',\n",
       " 'QUESADA, J.',\n",
       " 'QUESADA F.',\n",
       " 'QUESADA, P.',\n",
       " 'QUESADA. F/',\n",
       " 'QUESADA. F.',\n",
       " 'QUESADA, N.',\n",
       " 'QUESADA,F .',\n",
       " 'QUESDADA',\n",
       " 'QQUESADA',\n",
       " 'QUESASDA',\n",
       " 'QUESADAS',\n",
       " 'QUESUADA',\n",
       " 'QUESADSA',\n",
       " 'QUESDA',\n",
       " 'QUESADA, .F',\n",
       " 'QUESADA,, F.',\n",
       " 'QUESADA,FRANK',\n",
       " 'QUESADA, FL.',\n",
       " 'QUEDADA',\n",
       " 'QUASADA',\n",
       " 'QUESAEA',\n",
       " 'GUESADA',\n",
       " 'QUESADO',\n",
       " 'QIESADA',\n",
       " 'QUESEDA',\n",
       " 'QUESADE',\n",
       " 'QUESADAM F.',\n",
       " 'QUESUADA, F.',\n",
       " 'QYESADA, F.',\n",
       " 'QUEDADA, F.',\n",
       " 'QYESADAM F,']"
      ]
     },
     "execution_count": 5,
     "metadata": {},
     "output_type": "execute_result"
    }
   ],
   "source": [
    "names = process.extract(\"quesada\", choices, limit=100)\n",
    "quesadas = [(x[0]) for x in names[:100]]\n",
    "#eye test for choose first 33 variations of \"QUESADAS\" within the circuit\n",
    "quesadas = quesadas[:41]\n",
    "#within first 41 \"DAY\" is deemed unlikely to be of QUESADAS\n",
    "quesadas.remove(\"DAY\")\n",
    "quesadas"
   ]
  },
  {
   "cell_type": "code",
   "execution_count": 12,
   "id": "beautiful-enhancement",
   "metadata": {},
   "outputs": [
    {
     "data": {
      "text/plain": [
       "['PETER',\n",
       " 'PETERS',\n",
       " 'PETERS/',\n",
       " 'PETERS, R.',\n",
       " 'PETERS, T.',\n",
       " 'PETERS,T.',\n",
       " 'PETERS,R.',\n",
       " 'PETERS/A',\n",
       " 'PETERSON',\n",
       " 'PETERS, R.T.',\n",
       " 'PETERS, R',\n",
       " 'PETERS, J.',\n",
       " 'PETER, T.',\n",
       " 'PETERS,R',\n",
       " 'PETERSS',\n",
       " 'PETERSR',\n",
       " 'PETRS',\n",
       " 'PETES, R.',\n",
       " 'PEIERS, T.']"
      ]
     },
     "execution_count": 12,
     "metadata": {},
     "output_type": "execute_result"
    }
   ],
   "source": [
    "names = process.extract(\"peter\", choices, limit=100)\n",
    "peters = [(x[0]) for x in names[:100]]\n",
    "peters = peters[:20]\n",
    "peters.remove(\"PETERSBURG\")\n",
    "peters"
   ]
  },
  {
   "cell_type": "code",
   "execution_count": 15,
   "id": "native-yeast",
   "metadata": {},
   "outputs": [
    {
     "name": "stderr",
     "output_type": "stream",
     "text": [
      "/Users/robert.ling/opt/anaconda3/lib/python3.7/site-packages/ipykernel_launcher.py:1: SettingWithCopyWarning: \n",
      "A value is trying to be set on a copy of a slice from a DataFrame\n",
      "\n",
      "See the caveats in the documentation: https://pandas.pydata.org/pandas-docs/stable/user_guide/indexing.html#returning-a-view-versus-a-copy\n",
      "  \"\"\"Entry point for launching an IPython kernel.\n",
      "/Users/robert.ling/opt/anaconda3/lib/python3.7/site-packages/ipykernel_launcher.py:2: SettingWithCopyWarning: \n",
      "A value is trying to be set on a copy of a slice from a DataFrame\n",
      "\n",
      "See the caveats in the documentation: https://pandas.pydata.org/pandas-docs/stable/user_guide/indexing.html#returning-a-view-versus-a-copy\n",
      "  \n",
      "/Users/robert.ling/opt/anaconda3/lib/python3.7/site-packages/ipykernel_launcher.py:3: SettingWithCopyWarning: \n",
      "A value is trying to be set on a copy of a slice from a DataFrame\n",
      "\n",
      "See the caveats in the documentation: https://pandas.pydata.org/pandas-docs/stable/user_guide/indexing.html#returning-a-view-versus-a-copy\n",
      "  This is separate from the ipykernel package so we can avoid doing imports until\n"
     ]
    }
   ],
   "source": [
    "#coerce all variations of the 3 judges identified to their normalized forms\n",
    "df.judge[df.judge.isin(andrews)] = \"ANDREWS,M\"\n",
    "df.judge[df.judge.isin(quesadas)] = \"QUESADA,F\"\n",
    "df.judge[df.judge.isin(peters)] = \"PETERS,R\""
   ]
  },
  {
   "cell_type": "code",
   "execution_count": 25,
   "id": "operational-mortality",
   "metadata": {},
   "outputs": [
    {
     "data": {
      "text/plain": [
       "PETERS,R     12445\n",
       "QUESADA,F    12403\n",
       "ANDREWS,M     8860\n",
       "Name: judge, dtype: int64"
      ]
     },
     "execution_count": 25,
     "metadata": {},
     "output_type": "execute_result"
    }
   ],
   "source": [
    "df[df.judge.isin([\"ANDREWS,M\",\"QUESADA,F\",\"PETERS,R\"])].judge.value_counts()"
   ]
  },
  {
   "cell_type": "raw",
   "id": "round-dublin",
   "metadata": {},
   "source": [
    "#starting\n",
    "\n",
    "PETERS               11930\n",
    "QUESADA               9676\n",
    "ANDREWS               8474\n",
    "#LE* were 8652 so we have our top 3 already!"
   ]
  },
  {
   "cell_type": "code",
   "execution_count": 29,
   "id": "certain-duplicate",
   "metadata": {},
   "outputs": [],
   "source": [
    "df.to_csv(\"./circuit6_top3judges_cleaned.csv\")"
   ]
  },
  {
   "cell_type": "code",
   "execution_count": 30,
   "id": "activated-shift",
   "metadata": {},
   "outputs": [
    {
     "data": {
      "text/plain": [
       "(154509, 47)"
      ]
     },
     "execution_count": 30,
     "metadata": {},
     "output_type": "execute_result"
    }
   ],
   "source": [
    "df.shape"
   ]
  },
  {
   "cell_type": "code",
   "execution_count": null,
   "id": "realistic-uruguay",
   "metadata": {},
   "outputs": [],
   "source": []
  }
 ],
 "metadata": {
  "kernelspec": {
   "display_name": "Python 3",
   "language": "python",
   "name": "python3"
  },
  "language_info": {
   "codemirror_mode": {
    "name": "ipython",
    "version": 3
   },
   "file_extension": ".py",
   "mimetype": "text/x-python",
   "name": "python",
   "nbconvert_exporter": "python",
   "pygments_lexer": "ipython3",
   "version": "3.7.6"
  }
 },
 "nbformat": 4,
 "nbformat_minor": 5
}
