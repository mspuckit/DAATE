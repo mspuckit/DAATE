{
 "cells": [
  {
   "cell_type": "code",
   "execution_count": 59,
   "metadata": {},
   "outputs": [
    {
     "data": {
      "text/plain": [
       "'{\"charge_code\": \"Drug trafficking\", \"race\": \"Black\", \"gender\": \"Male\", \"controlled_substance_quantity_level\": 7}'"
      ]
     },
     "execution_count": 59,
     "metadata": {},
     "output_type": "execute_result"
    }
   ],
   "source": [
    "import json\n",
    "import requests\n",
    "\n",
    "req = {'charge_code': 'Drug trafficking',\n",
    "       'race': 'Black',\n",
    "       'gender': 'Male',\n",
    "       'controlled_substance_quantity_level': 7,\n",
    "}\n",
    "reqs = json.dumps(req)\n",
    "reqs"
   ]
  },
  {
   "cell_type": "code",
   "execution_count": null,
   "metadata": {},
   "outputs": [],
   "source": [
    "url = 'http://localhost:5000/sentencing-disparity'\n",
    "\n",
    "resp = requests.post(url, data=reqs, headers={'content-type': 'application/json'})\n",
    "respj = resp.json()\n",
    "devb = respj['deviations'][0]['sentence_deviations'][0]['commitmentTerm']\n",
    "respj"
   ]
  },
  {
   "cell_type": "code",
   "execution_count": 58,
   "metadata": {},
   "outputs": [
    {
     "data": {
      "text/plain": [
       "{'charge_code': 'Drug trafficking',\n",
       " 'controlled_substance_quantity_level': 7,\n",
       " 'deviations': [{'charge_code': 'Drug trafficking',\n",
       "   'sentence_deviations': [{'commitmentTerm': 37.69,\n",
       "     'commitmentUnit': 'Months',\n",
       "     'sentence_type': 'Prison Only'}]}],\n",
       " 'gender': 'Female',\n",
       " 'race': 'White',\n",
       " 'success': True}"
      ]
     },
     "execution_count": 58,
     "metadata": {},
     "output_type": "execute_result"
    }
   ],
   "source": [
    "req['gender']=\"Female\"\n",
    "req['race']=\"White\"\n",
    "#6,7\n",
    "req['controlled_substance_quantity_level']=7\n",
    "\n",
    "reqs=json.dumps(req)\n",
    "resp = requests.post(url, data=reqs, headers={'content-type': 'application/json'})\n",
    "resp.json()"
   ]
  },
  {
   "cell_type": "markdown",
   "metadata": {},
   "source": [
    "The relevant part of the response here is 'commitmentTerm'. Then, we can switch the race to 'White' and compare the difference."
   ]
  },
  {
   "cell_type": "code",
   "execution_count": 32,
   "metadata": {},
   "outputs": [
    {
     "data": {
      "text/plain": [
       "34.308361970217646"
      ]
     },
     "execution_count": 32,
     "metadata": {},
     "output_type": "execute_result"
    }
   ],
   "source": [
    "req['race'] = 'White'\n",
    "reqs = json.dumps(req)\n",
    "\n",
    "devw = requests.post(url, data=reqs, headers={'content-type': 'application/json'}).json()['deviations'][0]['sentence_deviations'][0]['commitmentTerm']\n",
    "\n",
    "devb - devw"
   ]
  },
  {
   "cell_type": "markdown",
   "metadata": {},
   "source": [
    "Note: this only compares finite term prison sentences (i.e. excluding sentences without prison time or life terms) so small or very large drug quantities may not return values."
   ]
  }
 ],
 "metadata": {
  "kernelspec": {
   "display_name": "Python 3",
   "language": "python",
   "name": "python3"
  },
  "language_info": {
   "codemirror_mode": {
    "name": "ipython",
    "version": 3
   },
   "file_extension": ".py",
   "mimetype": "text/x-python",
   "name": "python",
   "nbconvert_exporter": "python",
   "pygments_lexer": "ipython3",
   "version": "3.7.6"
  }
 },
 "nbformat": 4,
 "nbformat_minor": 4
}
