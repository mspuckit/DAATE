{
 "cells": [
  {
   "cell_type": "code",
   "execution_count": 1,
   "id": "romance-blend",
   "metadata": {},
   "outputs": [],
   "source": [
    "import pandas as pd\n",
    "import numpy as np\n",
    "import matplotlib.pyplot as plt\n",
    "import seaborn as sns\n",
    "from sklearn.svm import SVC\n",
    "from sklearn import metrics\n",
    "from sklearn.model_selection import RandomizedSearchCV, StratifiedKFold, train_test_split\n",
    "from sklearn import preprocessing\n",
    "from sklearn.neighbors import KNeighborsClassifier\n",
    "from sklearn.naive_bayes import GaussianNB\n",
    "from sklearn.tree import DecisionTreeClassifier\n",
    "from sklearn.ensemble import RandomForestClassifier, AdaBoostClassifier\n",
    "from sklearn.metrics import classification_report,confusion_matrix, plot_confusion_matrix\n",
    "from statsmodels.stats.proportion import proportions_ztest,confint_proportions_2indep"
   ]
  },
  {
   "cell_type": "code",
   "execution_count": 2,
   "id": "baking-arrival",
   "metadata": {},
   "outputs": [],
   "source": [
    "raw = pd.read_csv(\"sentencing_fips_pop2010 2.csv\")"
   ]
  },
  {
   "cell_type": "code",
   "execution_count": 3,
   "id": "offensive-lying",
   "metadata": {},
   "outputs": [],
   "source": [
    "def drop_error_value(df):\n",
    "    df_temp = df.copy()\n",
    "    df_temp = df_temp[~((df_temp['spyrs']>=99)|(df_temp['life']=='Y'))]\n",
    "    df_temp['sp_cj_total_days'] = (df_temp['sp_total_days'])+(df_temp['cj_total_days'])\n",
    "    df_clean = df_temp[~((df_temp['sp_cj_total_days']<=7) & (df_temp['totpts']>44))]\n",
    "    \n",
    "    return df_clean"
   ]
  },
  {
   "cell_type": "code",
   "execution_count": 8,
   "id": "fossil-freight",
   "metadata": {},
   "outputs": [],
   "source": [
    "def feat_prep(df):\n",
    "    df_temp = df.copy()\n",
    "    df_temp['gender_ind']=[1 if x=='MALE' else 0 for x in df_temp['gender']]\n",
    "    df_temp = pd.concat([df_temp,pd.get_dummies(df_temp['clfely'], prefix='clfely')],axis=1)\n",
    "    df_temp['sent_year']=df_temp[\"sentdte\"].str[:4]\n",
    "    df_temp['lsviol']=[0 if x==0 else 1 for x in df_temp['lsviol']]\n",
    "    df_temp['rpviol']=[0 if x==0 else 1 for x in df_temp['rpviol']]\n",
    "    df_temp['faviol']=[0 if x==0 else 1 for x in df_temp['faviol']]\n",
    "    \n",
    "    return df_temp"
   ]
  },
  {
   "cell_type": "code",
   "execution_count": 4,
   "id": "cellular-pocket",
   "metadata": {},
   "outputs": [
    {
     "data": {
      "text/plain": [
       "(1354399, 43)"
      ]
     },
     "execution_count": 4,
     "metadata": {},
     "output_type": "execute_result"
    }
   ],
   "source": [
    "raw.shape"
   ]
  },
  {
   "cell_type": "code",
   "execution_count": 5,
   "id": "second-court",
   "metadata": {},
   "outputs": [],
   "source": [
    "def sp_county_crime_type(county, crime_type, df):\n",
    "    match_ind = ''\n",
    "    if crime_type == 'drug':     ### Expendable\n",
    "        match_ind = '893.*'\n",
    "        \n",
    "    df = df[df['statut'].str.match(match_ind)== True]\n",
    "    \n",
    "    df =df[df['county']== county]\n",
    "    \n",
    "    return df"
   ]
  },
  {
   "cell_type": "code",
   "execution_count": 10,
   "id": "visible-portrait",
   "metadata": {},
   "outputs": [],
   "source": [
    "def model_gen(df,feat_col, mod = 'rf'):\n",
    "    X = df.loc[:,feat_col]\n",
    "    y = df['Y']\n",
    "    X_train, X_test, y_train, y_test = train_test_split(X, y, test_size=0.20, random_state=1)\n",
    "    \n",
    "    if mod == 'rf':\n",
    "        model = RandomForestClassifier(n_estimators=500,random_state=7)\n",
    "        model.fit(X_train, y_train)\n",
    "        dev_pred = model.predict(X_test)\n",
    "        print('Random Forest Accuracy %.3f' %metrics.accuracy_score(y_test, dev_pred))\n",
    "        print('Random Forest Precision %.3f' %metrics.precision_score(y_test, dev_pred))\n",
    "        print('Random Forest Recall %.3f' %metrics.recall_score(y_test, dev_pred))\n",
    "    \n",
    "    df['propensity'] = model.predict_proba(X)[:,1]  \n",
    "    \n",
    "    return model,df"
   ]
  },
  {
   "cell_type": "code",
   "execution_count": 6,
   "id": "portable-trigger",
   "metadata": {},
   "outputs": [],
   "source": [
    "raw_clean = drop_error_value(raw)"
   ]
  },
  {
   "cell_type": "code",
   "execution_count": 7,
   "id": "absolute-identifier",
   "metadata": {},
   "outputs": [],
   "source": [
    "df_drug =sp_county_crime_type(county='pinellas',crime_type='drug',df= raw_clean)"
   ]
  },
  {
   "cell_type": "code",
   "execution_count": 9,
   "id": "anticipated-xerox",
   "metadata": {},
   "outputs": [],
   "source": [
    "df_drug_model = feat_prep(df_drug)"
   ]
  },
  {
   "cell_type": "code",
   "execution_count": null,
   "id": "according-estimate",
   "metadata": {},
   "outputs": [],
   "source": []
  },
  {
   "cell_type": "code",
   "execution_count": 11,
   "id": "perfect-safety",
   "metadata": {},
   "outputs": [
    {
     "data": {
      "text/plain": [
       "(42267, 51)"
      ]
     },
     "execution_count": 11,
     "metadata": {},
     "output_type": "execute_result"
    }
   ],
   "source": [
    "df_drug_model.shape"
   ]
  },
  {
   "cell_type": "code",
   "execution_count": 13,
   "id": "romance-participant",
   "metadata": {},
   "outputs": [],
   "source": [
    "df_drug_model['Y']=[1 if x =='BLACK' else 0 for x in df_drug_model['race']]"
   ]
  },
  {
   "cell_type": "code",
   "execution_count": 14,
   "id": "polyphonic-harris",
   "metadata": {},
   "outputs": [
    {
     "data": {
      "text/plain": [
       "0    27286\n",
       "1    14981\n",
       "Name: Y, dtype: int64"
      ]
     },
     "execution_count": 14,
     "metadata": {},
     "output_type": "execute_result"
    }
   ],
   "source": [
    "df_drug_model['Y'].value_counts()"
   ]
  },
  {
   "cell_type": "code",
   "execution_count": 15,
   "id": "pointed-truck",
   "metadata": {},
   "outputs": [
    {
     "name": "stdout",
     "output_type": "stream",
     "text": [
      "Random Forest Accuracy 0.646\n",
      "Random Forest Precision 0.505\n",
      "Random Forest Recall 0.408\n"
     ]
    }
   ],
   "source": [
    "feat_col = ['gender_ind','clfely_1ST DEGREE','clfely_3RD DEGREE'\n",
    "                               ,'clfely_LIFE','clfely_1ST/LIFE','sent_year','totpts','lsviol','rpviol','faviol']\n",
    "\n",
    "\n",
    "model_rfc,df_drug_output = model_gen(df_drug_model,feat_col, mod = 'rf')"
   ]
  },
  {
   "cell_type": "code",
   "execution_count": 16,
   "id": "danish-carnival",
   "metadata": {},
   "outputs": [
    {
     "data": {
      "image/png": "[encoded data removed]",
      "text/plain": [
       "<Figure size 432x288 with 1 Axes>"
      ]
     },
     "metadata": {
      "needs_background": "light"
     },
     "output_type": "display_data"
    }
   ],
   "source": [
    "feature_names = [x for x in feat_col]\n",
    "importances = model_rfc.feature_importances_\n",
    "std = np.std([tree.feature_importances_ for tree in model_rfc.estimators_], axis=0)\n",
    "\n",
    "forest_importances = pd.Series(importances, index=feature_names)\n",
    "\n",
    "fig, ax = plt.subplots()\n",
    "forest_importances.plot.bar(yerr=std, ax=ax)\n",
    "ax.set_title(\"Feature importances using MDI\")\n",
    "ax.set_ylabel(\"Mean decrease in impurity\")\n",
    "fig.tight_layout()"
   ]
  },
  {
   "cell_type": "code",
   "execution_count": null,
   "id": "pharmaceutical-taiwan",
   "metadata": {},
   "outputs": [],
   "source": []
  }
 ],
 "metadata": {
  "kernelspec": {
   "display_name": "Python 3",
   "language": "python",
   "name": "python3"
  },
  "language_info": {
   "codemirror_mode": {
    "name": "ipython",
    "version": 3
   },
   "file_extension": ".py",
   "mimetype": "text/x-python",
   "name": "python",
   "nbconvert_exporter": "python",
   "pygments_lexer": "ipython3",
   "version": "3.7.1"
  }
 },
 "nbformat": 4,
 "nbformat_minor": 5
}
