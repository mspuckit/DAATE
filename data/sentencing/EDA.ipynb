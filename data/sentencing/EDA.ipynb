{
 "cells": [
  {
   "cell_type": "markdown",
   "metadata": {},
   "source": [
    "# Data Hygiene"
   ]
  },
  {
   "cell_type": "code",
   "execution_count": 1,
   "metadata": {},
   "outputs": [
    {
     "name": "stderr",
     "output_type": "stream",
     "text": [
      "/Users/robert.ling/opt/anaconda3/lib/python3.7/site-packages/IPython/core/interactiveshell.py:3437: DtypeWarning: Columns (25,89,90,98,99,107,108,116,117,125,126,134,135,143,144,152,153,161,162,170,171,186,187,194,195,202,203,210,211,218,219,226,227,234,235,242,243,250,251,271) have mixed types.Specify dtype option on import or set low_memory=False.\n",
      "  exec(code_obj, self.user_global_ns, self.user_ns)\n",
      "/Users/robert.ling/opt/anaconda3/lib/python3.7/site-packages/IPython/core/interactiveshell.py:3437: DtypeWarning: Columns (25,89,90,98,99,107,108,116,117,125,126,134,135,143,144,152,153,161,162,170,171,178,179,186,187,194,195,202,203,210,211,218,219,226,227,234,235,242,243,250,251,271) have mixed types.Specify dtype option on import or set low_memory=False.\n",
      "  exec(code_obj, self.user_global_ns, self.user_ns)\n",
      "/Users/robert.ling/opt/anaconda3/lib/python3.7/site-packages/IPython/core/interactiveshell.py:3437: DtypeWarning: Columns (9,16,19,22,23,24,25,26,27,28,29,30,31,32,33,34,35,36,37,38,39,40,41,42,43,44,45,46,47,48,49,51,52,53,54,55,56,57,58,59,61,62,63,65,66,67,71,72,73,75,76,77,88,89,90,91,94,95,96,97,98,99,100,103,104,105,106,107,108,109,112,113,114,115,116,117,118,121,122,123,124,125,126,127,130,131,132,133,134,135,136,139,140,141,142,143,144,145,148,149,150,151,152,153,154,157,158,159,160,161,162,163,166,167,168,169,170,171,172,175,176,177,180,183,184,185,186,187,188,191,192,193,194,195,196,199,200,201,202,203,204,207,208,209,210,211,212,215,216,217,218,219,220,223,224,225,226,227,228,231,232,233,234,235,236,239,240,241,242,243,244,247,248,249,250,251,252,255,256,257,266,271,274,275,278) have mixed types.Specify dtype option on import or set low_memory=False.\n",
      "  exec(code_obj, self.user_global_ns, self.user_ns)\n"
     ]
    }
   ],
   "source": [
    "import glob\n",
    "import os\n",
    "import pandas as pd   \n",
    "from datetime import datetime, date\n",
    "\n",
    "sen = pd.concat(map(pd.read_csv, glob.glob(os.path.join('', \"sentencing00000000000?.csv\"))))\n",
    "len(sen)\n",
    "\n",
    "def age(born, sen_date):\n",
    "    return sen_date.year - born.year - ((sen_date.month, sen_date.day) < (born.month, born.day))"
   ]
  },
  {
   "cell_type": "code",
   "execution_count": 2,
   "metadata": {},
   "outputs": [],
   "source": [
    "sen = sen[sen['race']!='RACE'] #drop the header line\n",
    "sen['spyrs'] = pd.to_numeric(sen['spyrs'], errors='coerce')\n",
    "sen['spmths'] = pd.to_numeric(sen['spmths'], errors='coerce')\n",
    "sen['spdays'] = pd.to_numeric(sen['spdays'], errors='coerce')\n",
    "sen['sp_total_days'] = (sen['spyrs']*365) + (sen['spmths']*30) + sen['spdays']\n",
    "sen['totpts'] = pd.to_numeric(sen['totpts'],errors='coerce')\n",
    "sen['dob'] = pd.to_datetime(sen['dob'], errors=\"coerce\")\n",
    "sen['sentdte'] = pd.to_datetime(sen['sentdte'], errors=\"coerce\")\n",
    "sen['age'] = sen.apply(lambda x: age(x.dob, x.sentdte), axis=1)\n",
    "sen['offdte'] = pd.to_datetime(sen['offdte'], errors=\"coerce\")\n",
    "sen['haboff'] = sen['haboff'].map({'YES': True, 'NO': False}) \n",
    "sen['habvio'] = sen['habvio'].map({'YES': True, 'NO': False}) \n",
    "sen[\"county\"] = sen[\"county\"].str.lower()"
   ]
  },
  {
   "cell_type": "code",
   "execution_count": 11,
   "metadata": {},
   "outputs": [],
   "source": [
    "#stop the noise\n",
    "sen1 = sen[[\"fstnm\", \"lstnm\", \"age\", \"race\", \"gender\", \"county\", \"totpts\", \"judge\", \"clfely\", \"statut\", \"offlvl\", \"offdte\", \\\n",
    "            \"sp_total_days\", \"enhanc\", \"haboff\", \"habvio\", \"life\", \"vcc\", \"prrpact\", \"dornum\", \\\n",
    "            \"prflst1\",\"prfely1\", \"prflst2\",\"prfely2\", \"prflst3\",\"prfely3\", \"prflst4\",\"prfely4\", \"sentdte\"]]"
   ]
  },
  {
   "cell_type": "code",
   "execution_count": 12,
   "metadata": {},
   "outputs": [],
   "source": [
    "# Join in FIPs for Maps\n",
    "fips = pd.read_csv(\"./fips-codes/state_and_county_fips_master.csv\")\n",
    "fips = fips[fips.state==\"FL\"]\n",
    "fips[\"county\"] = fips[\"county\"].str.lower()\n",
    "fips.head() #\"bop exchange and 00-interstate are in DOC-sentencing\"\n",
    "\n",
    "sen1 = pd.merge(sen1, fips, on='county', how='left')"
   ]
  },
  {
   "cell_type": "markdown",
   "metadata": {},
   "source": [
    "## Run some quick tests"
   ]
  },
  {
   "cell_type": "code",
   "execution_count": 13,
   "metadata": {},
   "outputs": [
    {
     "data": {
      "text/plain": [
       "fstnm                    object\n",
       "lstnm                    object\n",
       "age                       int64\n",
       "race                     object\n",
       "gender                   object\n",
       "county                   object\n",
       "totpts                  float64\n",
       "judge                    object\n",
       "clfely                   object\n",
       "statut                   object\n",
       "offlvl                   object\n",
       "offdte           datetime64[ns]\n",
       "sp_total_days             int64\n",
       "enhanc                   object\n",
       "haboff                     bool\n",
       "habvio                     bool\n",
       "life                     object\n",
       "vcc                      object\n",
       "prrpact                  object\n",
       "dornum                   object\n",
       "prflst1                  object\n",
       "prfely1                  object\n",
       "prflst2                  object\n",
       "prfely2                  object\n",
       "prflst3                  object\n",
       "prfely3                  object\n",
       "prflst4                  object\n",
       "prfely4                  object\n",
       "sentdte          datetime64[ns]\n",
       "fips                      int64\n",
       "state                    object\n",
       "dtype: object"
      ]
     },
     "execution_count": 13,
     "metadata": {},
     "output_type": "execute_result"
    }
   ],
   "source": [
    "sen1.dtypes  #sanity check types are nice-correct to query/work with"
   ]
  },
  {
   "cell_type": "code",
   "execution_count": 14,
   "metadata": {},
   "outputs": [
    {
     "data": {
      "text/html": [
       "<div>\n",
       "<style scoped>\n",
       "    .dataframe tbody tr th:only-of-type {\n",
       "        vertical-align: middle;\n",
       "    }\n",
       "\n",
       "    .dataframe tbody tr th {\n",
       "        vertical-align: top;\n",
       "    }\n",
       "\n",
       "    .dataframe thead th {\n",
       "        text-align: right;\n",
       "    }\n",
       "</style>\n",
       "<table border=\"1\" class=\"dataframe\">\n",
       "  <thead>\n",
       "    <tr style=\"text-align: right;\">\n",
       "      <th></th>\n",
       "      <th>fstnm</th>\n",
       "      <th>lstnm</th>\n",
       "      <th>age</th>\n",
       "      <th>race</th>\n",
       "      <th>gender</th>\n",
       "      <th>county</th>\n",
       "      <th>totpts</th>\n",
       "      <th>judge</th>\n",
       "      <th>clfely</th>\n",
       "      <th>statut</th>\n",
       "      <th>...</th>\n",
       "      <th>prfely1</th>\n",
       "      <th>prflst2</th>\n",
       "      <th>prfely2</th>\n",
       "      <th>prflst3</th>\n",
       "      <th>prfely3</th>\n",
       "      <th>prflst4</th>\n",
       "      <th>prfely4</th>\n",
       "      <th>sentdte</th>\n",
       "      <th>fips</th>\n",
       "      <th>state</th>\n",
       "    </tr>\n",
       "  </thead>\n",
       "  <tbody>\n",
       "  </tbody>\n",
       "</table>\n",
       "<p>0 rows × 31 columns</p>\n",
       "</div>"
      ],
      "text/plain": [
       "Empty DataFrame\n",
       "Columns: [fstnm, lstnm, age, race, gender, county, totpts, judge, clfely, statut, offlvl, offdte, sp_total_days, enhanc, haboff, habvio, life, vcc, prrpact, dornum, prflst1, prfely1, prflst2, prfely2, prflst3, prfely3, prflst4, prfely4, sentdte, fips, state]\n",
       "Index: []\n",
       "\n",
       "[0 rows x 31 columns]"
      ]
     },
     "execution_count": 14,
     "metadata": {},
     "output_type": "execute_result"
    }
   ],
   "source": [
    "sen1[sen1.fips.isnull()]       #All rows have a fips code"
   ]
  },
  {
   "cell_type": "code",
   "execution_count": null,
   "metadata": {},
   "outputs": [],
   "source": [
    "sen1.dornum.value_counts()"
   ]
  },
  {
   "cell_type": "code",
   "execution_count": 15,
   "metadata": {},
   "outputs": [
    {
     "data": {
      "text/html": [
       "<div>\n",
       "<style scoped>\n",
       "    .dataframe tbody tr th:only-of-type {\n",
       "        vertical-align: middle;\n",
       "    }\n",
       "\n",
       "    .dataframe tbody tr th {\n",
       "        vertical-align: top;\n",
       "    }\n",
       "\n",
       "    .dataframe thead th {\n",
       "        text-align: right;\n",
       "    }\n",
       "</style>\n",
       "<table border=\"1\" class=\"dataframe\">\n",
       "  <thead>\n",
       "    <tr style=\"text-align: right;\">\n",
       "      <th></th>\n",
       "      <th>fstnm</th>\n",
       "      <th>lstnm</th>\n",
       "      <th>age</th>\n",
       "      <th>race</th>\n",
       "      <th>gender</th>\n",
       "      <th>county</th>\n",
       "      <th>totpts</th>\n",
       "      <th>judge</th>\n",
       "      <th>clfely</th>\n",
       "      <th>statut</th>\n",
       "      <th>...</th>\n",
       "      <th>prfely1</th>\n",
       "      <th>prflst2</th>\n",
       "      <th>prfely2</th>\n",
       "      <th>prflst3</th>\n",
       "      <th>prfely3</th>\n",
       "      <th>prflst4</th>\n",
       "      <th>prfely4</th>\n",
       "      <th>sentdte</th>\n",
       "      <th>fips</th>\n",
       "      <th>state</th>\n",
       "    </tr>\n",
       "  </thead>\n",
       "  <tbody>\n",
       "  </tbody>\n",
       "</table>\n",
       "<p>0 rows × 31 columns</p>\n",
       "</div>"
      ],
      "text/plain": [
       "Empty DataFrame\n",
       "Columns: [fstnm, lstnm, age, race, gender, county, totpts, judge, clfely, statut, offlvl, offdte, sp_total_days, enhanc, haboff, habvio, life, vcc, prrpact, dornum, prflst1, prfely1, prflst2, prfely2, prflst3, prfely3, prflst4, prfely4, sentdte, fips, state]\n",
       "Index: []\n",
       "\n",
       "[0 rows x 31 columns]"
      ]
     },
     "execution_count": 15,
     "metadata": {},
     "output_type": "execute_result"
    }
   ],
   "source": [
    "sen1[sen1.fstnm.isnull() & sen1.lstnm.isnull()]    #make sure no defendents are without fstnm, lstnm"
   ]
  },
  {
   "cell_type": "code",
   "execution_count": 16,
   "metadata": {},
   "outputs": [],
   "source": [
    "sen1.to_csv(\"sentencing_s.csv\", index=False)\n",
    "#use Azure Data Studio to import this into MSSQL, allow nulls all fields\n",
    "#or copy over to S3 bucket to query with Athena"
   ]
  },
  {
   "cell_type": "markdown",
   "metadata": {},
   "source": [
    "# Regression Modelling"
   ]
  },
  {
   "cell_type": "code",
   "execution_count": null,
   "metadata": {},
   "outputs": [],
   "source": [
    "import pandas as pd\n",
    "from pycaret.regression import *\n",
    "from datetime import datetime, date\n",
    "%matplotlib inline\n",
    "\n",
    "sen1 = pd.read_csv(\"sentencing_s.csv\")\n",
    "#sen1 = sen1.sample(frac=.05)\n",
    "#len(sen1)"
   ]
  },
  {
   "cell_type": "code",
   "execution_count": null,
   "metadata": {},
   "outputs": [],
   "source": [
    "s = setup(sen1, target=\"totpts\",  session_id=123, numeric_features=[\"age\"], categorical_features=[\"lstnm\", \"age\", \"race\", \"gender\", \"judge\"])"
   ]
  },
  {
   "cell_type": "code",
   "execution_count": null,
   "metadata": {},
   "outputs": [],
   "source": [
    "eda()"
   ]
  },
  {
   "cell_type": "code",
   "execution_count": null,
   "metadata": {},
   "outputs": [],
   "source": []
  }
 ],
 "metadata": {
  "interpreter": {
   "hash": "aee8b7b246df8f9039afb4144a1f6fd8d2ca17a180786b69acc140d282b71a49"
  },
  "kernelspec": {
   "display_name": "Python 3",
   "language": "python",
   "name": "python3"
  },
  "language_info": {
   "codemirror_mode": {
    "name": "ipython",
    "version": 3
   },
   "file_extension": ".py",
   "mimetype": "text/x-python",
   "name": "python",
   "nbconvert_exporter": "python",
   "pygments_lexer": "ipython3",
   "version": "3.7.6"
  }
 },
 "nbformat": 4,
 "nbformat_minor": 4
}
