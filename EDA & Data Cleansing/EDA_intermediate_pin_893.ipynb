{
 "cells": [
  {
   "cell_type": "markdown",
   "metadata": {},
   "source": [
    "# AutoML Regression Modelling with PyCaret"
   ]
  },
  {
   "cell_type": "code",
   "execution_count": 61,
   "metadata": {},
   "outputs": [],
   "source": [
    "import pandas as pd\n",
    "from pycaret.regression import *\n",
    "from datetime import datetime, date\n",
    "%matplotlib inline\n",
    "\n",
    "#sen1 = pd.read_csv(\"sentencing_s.csv\")\n",
    "sen2 = pd.read_csv(\"./sentencing_post_eda.csv\")"
   ]
  },
  {
   "cell_type": "code",
   "execution_count": 62,
   "metadata": {},
   "outputs": [],
   "source": [
    "sen2 = sen2[sen2.county==\"pinellas\"] "
   ]
  },
  {
   "cell_type": "code",
   "execution_count": 63,
   "metadata": {},
   "outputs": [
    {
     "data": {
      "text/plain": [
       "113700"
      ]
     },
     "execution_count": 63,
     "metadata": {},
     "output_type": "execute_result"
    }
   ],
   "source": [
    "len(sen2)"
   ]
  },
  {
   "cell_type": "code",
   "execution_count": 64,
   "metadata": {},
   "outputs": [],
   "source": [
    "sen2 = sen2[sen2[\"statut\"].str.startswith(\"893\", na=False)]"
   ]
  },
  {
   "cell_type": "code",
   "execution_count": 6,
   "metadata": {},
   "outputs": [
    {
     "data": {
      "text/plain": [
       "42101"
      ]
     },
     "execution_count": 6,
     "metadata": {},
     "output_type": "execute_result"
    }
   ],
   "source": [
    "len(sen2)"
   ]
  },
  {
   "cell_type": "code",
   "execution_count": 47,
   "metadata": {},
   "outputs": [
    {
     "data": {
      "text/html": [
       "<div>\n",
       "<style scoped>\n",
       "    .dataframe tbody tr th:only-of-type {\n",
       "        vertical-align: middle;\n",
       "    }\n",
       "\n",
       "    .dataframe tbody tr th {\n",
       "        vertical-align: top;\n",
       "    }\n",
       "\n",
       "    .dataframe thead th {\n",
       "        text-align: right;\n",
       "    }\n",
       "</style>\n",
       "<table border=\"1\" class=\"dataframe\">\n",
       "  <thead>\n",
       "    <tr style=\"text-align: right;\">\n",
       "      <th></th>\n",
       "      <th>age</th>\n",
       "      <th>totpts</th>\n",
       "      <th>sp_cj_total_days</th>\n",
       "      <th>totpts_cut_group</th>\n",
       "    </tr>\n",
       "  </thead>\n",
       "  <tbody>\n",
       "    <tr>\n",
       "      <th>count</th>\n",
       "      <td>1227930.00</td>\n",
       "      <td>1227930.00</td>\n",
       "      <td>1227930.00</td>\n",
       "      <td>1227930.00</td>\n",
       "    </tr>\n",
       "    <tr>\n",
       "      <th>mean</th>\n",
       "      <td>32.86</td>\n",
       "      <td>37.39</td>\n",
       "      <td>379.01</td>\n",
       "      <td>1.62</td>\n",
       "    </tr>\n",
       "    <tr>\n",
       "      <th>std</th>\n",
       "      <td>10.96</td>\n",
       "      <td>29.60</td>\n",
       "      <td>826.47</td>\n",
       "      <td>2.50</td>\n",
       "    </tr>\n",
       "    <tr>\n",
       "      <th>min</th>\n",
       "      <td>0.00</td>\n",
       "      <td>0.20</td>\n",
       "      <td>0.00</td>\n",
       "      <td>0.00</td>\n",
       "    </tr>\n",
       "    <tr>\n",
       "      <th>25%</th>\n",
       "      <td>24.00</td>\n",
       "      <td>18.40</td>\n",
       "      <td>0.00</td>\n",
       "      <td>0.00</td>\n",
       "    </tr>\n",
       "    <tr>\n",
       "      <th>50%</th>\n",
       "      <td>30.00</td>\n",
       "      <td>29.80</td>\n",
       "      <td>60.00</td>\n",
       "      <td>1.00</td>\n",
       "    </tr>\n",
       "    <tr>\n",
       "      <th>75%</th>\n",
       "      <td>41.00</td>\n",
       "      <td>43.40</td>\n",
       "      <td>366.00</td>\n",
       "      <td>1.00</td>\n",
       "    </tr>\n",
       "    <tr>\n",
       "      <th>max</th>\n",
       "      <td>114.00</td>\n",
       "      <td>199.60</td>\n",
       "      <td>13259.00</td>\n",
       "      <td>17.00</td>\n",
       "    </tr>\n",
       "  </tbody>\n",
       "</table>\n",
       "</div>"
      ],
      "text/plain": [
       "              age      totpts sp_cj_total_days totpts_cut_group\n",
       "count  1227930.00  1227930.00       1227930.00       1227930.00\n",
       "mean        32.86       37.39           379.01             1.62\n",
       "std         10.96       29.60           826.47             2.50\n",
       "min          0.00        0.20             0.00             0.00\n",
       "25%         24.00       18.40             0.00             0.00\n",
       "50%         30.00       29.80            60.00             1.00\n",
       "75%         41.00       43.40           366.00             1.00\n",
       "max        114.00      199.60         13259.00            17.00"
      ]
     },
     "execution_count": 47,
     "metadata": {},
     "output_type": "execute_result"
    }
   ],
   "source": [
    "sen2[[\"age\", \"totpts\", \"sp_cj_total_days\", \"totpts_cut_group\"]].describe().apply(lambda s: s.apply('{0:.2f}'.format))"
   ]
  },
  {
   "cell_type": "code",
   "execution_count": 8,
   "metadata": {},
   "outputs": [
    {
     "data": {
      "text/plain": [
       "array([[<AxesSubplot:title={'center':'age'}>,\n",
       "        <AxesSubplot:title={'center':'totpts'}>],\n",
       "       [<AxesSubplot:title={'center':'sp_cj_total_days'}>,\n",
       "        <AxesSubplot:title={'center':'totpts_cut_group'}>]], dtype=object)"
      ]
     },
     "execution_count": 8,
     "metadata": {},
     "output_type": "execute_result"
    },
    {
     "data": {
      "image/png": "[encoded data removed]",
      "text/plain": [
       "<Figure size 432x288 with 4 Axes>"
      ]
     },
     "metadata": {
      "needs_background": "light"
     },
     "output_type": "display_data"
    }
   ],
   "source": [
    "sen2[[\"age\", \"totpts\", \"sp_cj_total_days\", \"totpts_cut_group\"]].hist()"
   ]
  },
  {
   "cell_type": "code",
   "execution_count": 9,
   "metadata": {},
   "outputs": [],
   "source": [
    "js=sen2.judge.unique()"
   ]
  },
  {
   "cell_type": "code",
   "execution_count": 10,
   "metadata": {},
   "outputs": [
    {
     "data": {
      "text/plain": [
       "370"
      ]
     },
     "execution_count": 10,
     "metadata": {},
     "output_type": "execute_result"
    }
   ],
   "source": [
    "len(js)"
   ]
  },
  {
   "cell_type": "code",
   "execution_count": 11,
   "metadata": {},
   "outputs": [
    {
     "data": {
      "text/plain": [
       "array(['LUCE', 'BULONE, J.', 'FEDERICO', 'LEY', 'NEWTON', 'ALLAN,L.',\n",
       "       'BULONE', 'ALLAN', 'DOWNEY', 'QUESADA', 'PETERS', 'LUCE, R.',\n",
       "       'MCGRADY, J.', 'MEYER', 'COVERT', 'PETERS, R.', 'HELINGER',\n",
       "       'FEDERICO, P.', 'COVERT, T.', 'CAMPBELL', 'FARNELL', 'ANDREWS',\n",
       "       'SCHAEFER', 'QUESADA, F.', 'CRANE, S.', 'MCGRADY', 'HELINGER, C',\n",
       "       'FARNELL, D.', 'BURGESS', 'LAUGHLIN', 'DITTMER', 'BURGESS III',\n",
       "       'BAIRD, W.', 'C. HELINGER', 'MORRIS', 'HELINGER, C.', 'BAIRD',\n",
       "       'HELINGERC', 'LEY, N.', 'FFEDERICO', 'T COVERT', 'FEDERICO,  P.',\n",
       "       'COVERTF', 'MORRIS, R.', 'FEDERICO,P.', 'ALLEN,L.', 'CRANE',\n",
       "       'LUCE,R.', 'ST.ARNOLD', 'LEVINE', 'FARNELL,D.', 'DAY, J.',\n",
       "       'HELLINGER', 'MEYER,KEITH', 'GROSS', 'GROSS, R.', 'BEACH',\n",
       "       'BAIRD,W.', 'FEDERICO, F.', 'DOWNEY, B.', 'BAIRD, D.',\n",
       "       'PETERS, T.', 'SIRACUSA, P.', 'MORRIS, J.', 'GRUBE', 'LAUGHLIN,L.',\n",
       "       'FARNELL, C', 'LEY, J.', 'LEY,N.', 'FARNELL,C', 'LEVINE, P.',\n",
       "       'LAUGLIN', 'BULOEN, J.', 'HAROX', 'HORROX', 'LAUGHLIN, L.',\n",
       "       'CMPBELL', 'LENDERMAN', 'LEY A', 'LVINE', 'FARNELL, C.', 'CADDELL',\n",
       "       'HANDSEL', 'HELINGER,C', 'ALLEN', 'FLEMING', 'N LEY', 'FARNELL,DA',\n",
       "       'PETERS/A', 'C HELINGER', 'DEMERS', 'NEWTON, C.', 'DITMER',\n",
       "       'NEWTON/K', 'GARDNER', 'FEDERICO. P.', 'HELINGER,C.', 'FREDERICO',\n",
       "       'ALLAN, L.', 'C FARNELL', 'SHAMES', 'HESSINGER, C.', 'SCHAFFER',\n",
       "       'SIRACUSA,P', 'SIRACUSA', 'DOWNEY,B.', 'DAY', 'MEYERS', 'COVERT/T',\n",
       "       'FARNELL C', 'CARDENAS', 'FARNELL,D', 'MCGRUDY', 'WALKER',\n",
       "       'QUESADA,F.', 'VACCARO', 'CAMPBELL, P.', 'SCHAEFER,J.', 'SCHAFER',\n",
       "       'MEYER, K.', 'LUTEN, C.', 'BULONE. J.', 'WEBB', 'QUESUADA, F.',\n",
       "       'FARNELL, D.A.', 'BEACH, R.', 'MORRIS,R.', 'W BURGESS III',\n",
       "       'LAOUGHLI', 'W.BURGESS', 'LEY/', 'SCHAEFER, J.', 'QUESDADA',\n",
       "       'FARNELL/N', 'SANDERS', 'FARNELL. D.', 'COVERT,T.', 'SCHAEFR',\n",
       "       'D FARNELL', 'FARNELL, D/', 'AUSSNER', 'HOOD', 'SHAEFER',\n",
       "       'HELINGE', 'FARNELL,N', 'MICHAEL ANDREWS', 'LEY, N', 'ROBERTS',\n",
       "       'PETERS,R.', 'GROSS,R.', 'BAIRD.D.', 'PETERS,T.', 'C.HELINGER',\n",
       "       'BURGESS, W.', 'FARRELL', 'PETERS, R', 'LEVIN, P.', 'FEDERIOC',\n",
       "       'F. QUESADA', 'KELLY', 'BURGESS,W.', 'PETER', 'COVERT, C.',\n",
       "       'TEPPER,L.', 'N.LEY', 'T.COVERT', 'FARNELL, N.', 'FARNELL, D',\n",
       "       'MOORE', 'WALKER, D.', 'SELLERS', 'C. FARNELL', 'ALLEN, L.',\n",
       "       'MOATE-LEY', 'FARENELL', 'CRANE,S.', 'SCHAEFFER, J.', 'LUCE A.',\n",
       "       'DOWENEY', 'WILLIAM BURGESS', 'CROSBY', 'FRANELL', 'BULLONE',\n",
       "       'PETERS, R.T.', 'DAY,J.', 'FARNELL, DA', 'FARNELL, P.', 'FODERICO',\n",
       "       'HORROX, D.', 'DAY J.', 'FEDERICO, P', 'W WEBB', 'QUESASDA',\n",
       "       'PIERCE', 'SMITH, R.', 'FARNELL,D.A', 'BARID,W', 'FEDERICO, .',\n",
       "       'ANDREWS, M.', 'BARTHLE', 'ANDERSON', 'HELINGERG', 'DOWNEY, M.',\n",
       "       'BABB', 'SCHAERFER', 'SCHAEFFER', 'ALAN', 'NEWTON/C', 'ST. ARNOLD',\n",
       "       'W BURGESS', 'P. FEDERICO', 'PETERS, J.', 'LAUGHIN', 'GRUBE, K.',\n",
       "       'SAUNDERS', 'PINELLAS', 'F QUESADA', 'BAIRD, W', 'DAKAN',\n",
       "       'BULONE, J', 'WEBB,W', 'LE', 'F.QUESADA', 'COREA, T.', 'C.FARNELL',\n",
       "       'FARNELL,N.', 'SCJAEFER', 'DISKEY', 'HERROX', 'FARNELL,DE ANNA',\n",
       "       'OBRIEN', 'COURT', 'LEY,NANCY', 'FRANELL, D.', 'QUESEDA', 'DOWNEU',\n",
       "       'PADGETT', 'QUESADA, R.', 'KANEY, F.', 'LEVIN', 'HAVOX', 'MCCRADY',\n",
       "       'NEWTPM', 'DAKEN', 'GARDNER, S.', 'UNKNOWN', 'MOORE, P.',\n",
       "       'HORRODX', 'COVERT/K', 'GORSS,R.', 'KEY', 'BUGG', 'QUESADSA',\n",
       "       'SCHAEFER, J', 'W. WEBB', 'QUESADA,FRANK', 'BULONE/D', 'FEDERIC0',\n",
       "       'HELINGER/I', 'FARENELL,C', 'FARNELL,C.', 'BULON', 'ANDREW',\n",
       "       ',MEYER', 'HELIGER', 'LAUGLIN,L.', 'MILLS', 'FARNELLO',\n",
       "       'FARENELL, D.', 'MCGRADY,J.', 'GROSS,  R.', 'PETES, R.',\n",
       "       'CROCKETT', 'DONNELLAN', 'DEMESS', 'GRUBY', 'FARNELL,CF',\n",
       "       'M.ANDREWS', 'DITTMER, R.', 'HARROX', 'BUJONE, J.', 'LWY',\n",
       "       'HELINGEZ,C', 'CONVERT', 'HELINEGER', 'CAMBPELL', 'HELIGNER',\n",
       "       'ANDRESS', 'LAUGLIN, L.', 'PETER, T.', 'HELLINGER, C.', 'ALLAN.J.',\n",
       "       'BAIRD,G.', 'RONDOLINO,A.', 'BEACH,R.', 'W.BURGESS III',\n",
       "       'LUAGHLIN', 'BULONE, L.', 'QUESADA. F/', 'MEYER/D', 'KHOUZAM',\n",
       "       'BAIRD,D.', 'CONVERT, T.', 'P. SIRACUSA', 'ANDREWS, M', 'QUASADA',\n",
       "       'NMEYER', 'HELINGLER, C.', '111501', 'WOLF, M.', 'BIARD', 'MCRADY',\n",
       "       'LY', 'FARNELL. D/', 'MOATE LEY', 'ALLEINGER', 'PETERS/',\n",
       "       'QUESADA,, F.', 'R. MORRIS', 'SIRACUSA, P', 'COVERT,T',\n",
       "       'DCHAEFFER', 'BULONE,T', 'LEY/T', 'LAUGHHLIN', 'FEDERICE',\n",
       "       'ANDREWS, H.', 'DAY, J', 'HOROX', 'SMITH', 'NEAK', 'BULONE,J.',\n",
       "       'SWITGERT, W.', 'HORROT', 'QYESADA, F.', 'ALLAN, J.', 'QUESDA',\n",
       "       'M. ANDREWS', 'FEDERCIO, P.', 'C.NEWTON', 'MCGRADDY', 'MIAOULIS',\n",
       "       'TEW', 'MORRIS, D.', 'MORIRS, R.', 'QUESADA,F', 'HELIINGER',\n",
       "       'DIV A', 'DOWNEY,B .', 'BULONE, T.', 'PLOTNICK', 'COVERT, B.',\n",
       "       'WILLIAM BURGESS II', 'PETERSR', 'HENDERSON', 'QUESADAS',\n",
       "       'P.FEDERICO', 'BAIRD, N.', 'MCGRADY, T.', 'JENKINS', 'HANDSEL, M.',\n",
       "       'ANDEW', 'FEDERICO,P', 'COVERT, T', 'RARNELL', 'MOATE', ';EU',\n",
       "       'HEINGER, C.', 'HORREX', 'SUSAN L GARDNER'], dtype=object)"
      ]
     },
     "execution_count": 11,
     "metadata": {},
     "output_type": "execute_result"
    }
   ],
   "source": [
    "js"
   ]
  },
  {
   "cell_type": "code",
   "execution_count": 65,
   "metadata": {},
   "outputs": [
    {
     "name": "stdout",
     "output_type": "stream",
     "text": [
      "Data for Modeling: (37891, 7)\n",
      "Unseen Data For Predictions: (4210, 7)\n"
     ]
    }
   ],
   "source": [
    "sen2 = sen2[['sp_cj_total_days', 'gender', 'age', 'race', 'circuit', 'totpts_cut_group', 'clfely']]\n",
    "\n",
    "data = sen2.sample(frac=0.9, random_state=786)\n",
    "data_unseen = sen2.drop(data.index)\n",
    "\n",
    "data.reset_index(drop=True, inplace=True)\n",
    "data_unseen.reset_index(drop=True, inplace=True)\n",
    "\n",
    "print('Data for Modeling: ' + str(data.shape))\n",
    "print('Unseen Data For Predictions: ' + str(data_unseen.shape))"
   ]
  },
  {
   "cell_type": "code",
   "execution_count": 66,
   "metadata": {},
   "outputs": [
    {
     "data": {
      "text/html": [
       "<style  type=\"text/css\" >\n",
       "#T_faea6_row27_col1,#T_faea6_row29_col1,#T_faea6_row42_col1{\n",
       "            background-color:  lightgreen;\n",
       "        }</style><table id=\"T_faea6_\" ><thead>    <tr>        <th class=\"blank level0\" ></th>        <th class=\"col_heading level0 col0\" >Description</th>        <th class=\"col_heading level0 col1\" >Value</th>    </tr></thead><tbody>\n",
       "                <tr>\n",
       "                        <th id=\"T_faea6_level0_row0\" class=\"row_heading level0 row0\" >0</th>\n",
       "                        <td id=\"T_faea6_row0_col0\" class=\"data row0 col0\" >session_id</td>\n",
       "                        <td id=\"T_faea6_row0_col1\" class=\"data row0 col1\" >123</td>\n",
       "            </tr>\n",
       "            <tr>\n",
       "                        <th id=\"T_faea6_level0_row1\" class=\"row_heading level0 row1\" >1</th>\n",
       "                        <td id=\"T_faea6_row1_col0\" class=\"data row1 col0\" >Target</td>\n",
       "                        <td id=\"T_faea6_row1_col1\" class=\"data row1 col1\" >sp_cj_total_days</td>\n",
       "            </tr>\n",
       "            <tr>\n",
       "                        <th id=\"T_faea6_level0_row2\" class=\"row_heading level0 row2\" >2</th>\n",
       "                        <td id=\"T_faea6_row2_col0\" class=\"data row2 col0\" >Original Data</td>\n",
       "                        <td id=\"T_faea6_row2_col1\" class=\"data row2 col1\" >(37891, 7)</td>\n",
       "            </tr>\n",
       "            <tr>\n",
       "                        <th id=\"T_faea6_level0_row3\" class=\"row_heading level0 row3\" >3</th>\n",
       "                        <td id=\"T_faea6_row3_col0\" class=\"data row3 col0\" >Missing Values</td>\n",
       "                        <td id=\"T_faea6_row3_col1\" class=\"data row3 col1\" >False</td>\n",
       "            </tr>\n",
       "            <tr>\n",
       "                        <th id=\"T_faea6_level0_row4\" class=\"row_heading level0 row4\" >4</th>\n",
       "                        <td id=\"T_faea6_row4_col0\" class=\"data row4 col0\" >Numeric Features</td>\n",
       "                        <td id=\"T_faea6_row4_col1\" class=\"data row4 col1\" >1</td>\n",
       "            </tr>\n",
       "            <tr>\n",
       "                        <th id=\"T_faea6_level0_row5\" class=\"row_heading level0 row5\" >5</th>\n",
       "                        <td id=\"T_faea6_row5_col0\" class=\"data row5 col0\" >Categorical Features</td>\n",
       "                        <td id=\"T_faea6_row5_col1\" class=\"data row5 col1\" >5</td>\n",
       "            </tr>\n",
       "            <tr>\n",
       "                        <th id=\"T_faea6_level0_row6\" class=\"row_heading level0 row6\" >6</th>\n",
       "                        <td id=\"T_faea6_row6_col0\" class=\"data row6 col0\" >Ordinal Features</td>\n",
       "                        <td id=\"T_faea6_row6_col1\" class=\"data row6 col1\" >False</td>\n",
       "            </tr>\n",
       "            <tr>\n",
       "                        <th id=\"T_faea6_level0_row7\" class=\"row_heading level0 row7\" >7</th>\n",
       "                        <td id=\"T_faea6_row7_col0\" class=\"data row7 col0\" >High Cardinality Features</td>\n",
       "                        <td id=\"T_faea6_row7_col1\" class=\"data row7 col1\" >False</td>\n",
       "            </tr>\n",
       "            <tr>\n",
       "                        <th id=\"T_faea6_level0_row8\" class=\"row_heading level0 row8\" >8</th>\n",
       "                        <td id=\"T_faea6_row8_col0\" class=\"data row8 col0\" >High Cardinality Method</td>\n",
       "                        <td id=\"T_faea6_row8_col1\" class=\"data row8 col1\" >None</td>\n",
       "            </tr>\n",
       "            <tr>\n",
       "                        <th id=\"T_faea6_level0_row9\" class=\"row_heading level0 row9\" >9</th>\n",
       "                        <td id=\"T_faea6_row9_col0\" class=\"data row9 col0\" >Transformed Train Set</td>\n",
       "                        <td id=\"T_faea6_row9_col1\" class=\"data row9 col1\" >(26523, 29)</td>\n",
       "            </tr>\n",
       "            <tr>\n",
       "                        <th id=\"T_faea6_level0_row10\" class=\"row_heading level0 row10\" >10</th>\n",
       "                        <td id=\"T_faea6_row10_col0\" class=\"data row10 col0\" >Transformed Test Set</td>\n",
       "                        <td id=\"T_faea6_row10_col1\" class=\"data row10 col1\" >(11368, 29)</td>\n",
       "            </tr>\n",
       "            <tr>\n",
       "                        <th id=\"T_faea6_level0_row11\" class=\"row_heading level0 row11\" >11</th>\n",
       "                        <td id=\"T_faea6_row11_col0\" class=\"data row11 col0\" >Shuffle Train-Test</td>\n",
       "                        <td id=\"T_faea6_row11_col1\" class=\"data row11 col1\" >True</td>\n",
       "            </tr>\n",
       "            <tr>\n",
       "                        <th id=\"T_faea6_level0_row12\" class=\"row_heading level0 row12\" >12</th>\n",
       "                        <td id=\"T_faea6_row12_col0\" class=\"data row12 col0\" >Stratify Train-Test</td>\n",
       "                        <td id=\"T_faea6_row12_col1\" class=\"data row12 col1\" >False</td>\n",
       "            </tr>\n",
       "            <tr>\n",
       "                        <th id=\"T_faea6_level0_row13\" class=\"row_heading level0 row13\" >13</th>\n",
       "                        <td id=\"T_faea6_row13_col0\" class=\"data row13 col0\" >Fold Generator</td>\n",
       "                        <td id=\"T_faea6_row13_col1\" class=\"data row13 col1\" >KFold</td>\n",
       "            </tr>\n",
       "            <tr>\n",
       "                        <th id=\"T_faea6_level0_row14\" class=\"row_heading level0 row14\" >14</th>\n",
       "                        <td id=\"T_faea6_row14_col0\" class=\"data row14 col0\" >Fold Number</td>\n",
       "                        <td id=\"T_faea6_row14_col1\" class=\"data row14 col1\" >10</td>\n",
       "            </tr>\n",
       "            <tr>\n",
       "                        <th id=\"T_faea6_level0_row15\" class=\"row_heading level0 row15\" >15</th>\n",
       "                        <td id=\"T_faea6_row15_col0\" class=\"data row15 col0\" >CPU Jobs</td>\n",
       "                        <td id=\"T_faea6_row15_col1\" class=\"data row15 col1\" >-1</td>\n",
       "            </tr>\n",
       "            <tr>\n",
       "                        <th id=\"T_faea6_level0_row16\" class=\"row_heading level0 row16\" >16</th>\n",
       "                        <td id=\"T_faea6_row16_col0\" class=\"data row16 col0\" >Use GPU</td>\n",
       "                        <td id=\"T_faea6_row16_col1\" class=\"data row16 col1\" >False</td>\n",
       "            </tr>\n",
       "            <tr>\n",
       "                        <th id=\"T_faea6_level0_row17\" class=\"row_heading level0 row17\" >17</th>\n",
       "                        <td id=\"T_faea6_row17_col0\" class=\"data row17 col0\" >Log Experiment</td>\n",
       "                        <td id=\"T_faea6_row17_col1\" class=\"data row17 col1\" >False</td>\n",
       "            </tr>\n",
       "            <tr>\n",
       "                        <th id=\"T_faea6_level0_row18\" class=\"row_heading level0 row18\" >18</th>\n",
       "                        <td id=\"T_faea6_row18_col0\" class=\"data row18 col0\" >Experiment Name</td>\n",
       "                        <td id=\"T_faea6_row18_col1\" class=\"data row18 col1\" >reg-default-name</td>\n",
       "            </tr>\n",
       "            <tr>\n",
       "                        <th id=\"T_faea6_level0_row19\" class=\"row_heading level0 row19\" >19</th>\n",
       "                        <td id=\"T_faea6_row19_col0\" class=\"data row19 col0\" >USI</td>\n",
       "                        <td id=\"T_faea6_row19_col1\" class=\"data row19 col1\" >fc23</td>\n",
       "            </tr>\n",
       "            <tr>\n",
       "                        <th id=\"T_faea6_level0_row20\" class=\"row_heading level0 row20\" >20</th>\n",
       "                        <td id=\"T_faea6_row20_col0\" class=\"data row20 col0\" >Imputation Type</td>\n",
       "                        <td id=\"T_faea6_row20_col1\" class=\"data row20 col1\" >simple</td>\n",
       "            </tr>\n",
       "            <tr>\n",
       "                        <th id=\"T_faea6_level0_row21\" class=\"row_heading level0 row21\" >21</th>\n",
       "                        <td id=\"T_faea6_row21_col0\" class=\"data row21 col0\" >Iterative Imputation Iteration</td>\n",
       "                        <td id=\"T_faea6_row21_col1\" class=\"data row21 col1\" >None</td>\n",
       "            </tr>\n",
       "            <tr>\n",
       "                        <th id=\"T_faea6_level0_row22\" class=\"row_heading level0 row22\" >22</th>\n",
       "                        <td id=\"T_faea6_row22_col0\" class=\"data row22 col0\" >Numeric Imputer</td>\n",
       "                        <td id=\"T_faea6_row22_col1\" class=\"data row22 col1\" >mean</td>\n",
       "            </tr>\n",
       "            <tr>\n",
       "                        <th id=\"T_faea6_level0_row23\" class=\"row_heading level0 row23\" >23</th>\n",
       "                        <td id=\"T_faea6_row23_col0\" class=\"data row23 col0\" >Iterative Imputation Numeric Model</td>\n",
       "                        <td id=\"T_faea6_row23_col1\" class=\"data row23 col1\" >None</td>\n",
       "            </tr>\n",
       "            <tr>\n",
       "                        <th id=\"T_faea6_level0_row24\" class=\"row_heading level0 row24\" >24</th>\n",
       "                        <td id=\"T_faea6_row24_col0\" class=\"data row24 col0\" >Categorical Imputer</td>\n",
       "                        <td id=\"T_faea6_row24_col1\" class=\"data row24 col1\" >constant</td>\n",
       "            </tr>\n",
       "            <tr>\n",
       "                        <th id=\"T_faea6_level0_row25\" class=\"row_heading level0 row25\" >25</th>\n",
       "                        <td id=\"T_faea6_row25_col0\" class=\"data row25 col0\" >Iterative Imputation Categorical Model</td>\n",
       "                        <td id=\"T_faea6_row25_col1\" class=\"data row25 col1\" >None</td>\n",
       "            </tr>\n",
       "            <tr>\n",
       "                        <th id=\"T_faea6_level0_row26\" class=\"row_heading level0 row26\" >26</th>\n",
       "                        <td id=\"T_faea6_row26_col0\" class=\"data row26 col0\" >Unknown Categoricals Handling</td>\n",
       "                        <td id=\"T_faea6_row26_col1\" class=\"data row26 col1\" >least_frequent</td>\n",
       "            </tr>\n",
       "            <tr>\n",
       "                        <th id=\"T_faea6_level0_row27\" class=\"row_heading level0 row27\" >27</th>\n",
       "                        <td id=\"T_faea6_row27_col0\" class=\"data row27 col0\" >Normalize</td>\n",
       "                        <td id=\"T_faea6_row27_col1\" class=\"data row27 col1\" >True</td>\n",
       "            </tr>\n",
       "            <tr>\n",
       "                        <th id=\"T_faea6_level0_row28\" class=\"row_heading level0 row28\" >28</th>\n",
       "                        <td id=\"T_faea6_row28_col0\" class=\"data row28 col0\" >Normalize Method</td>\n",
       "                        <td id=\"T_faea6_row28_col1\" class=\"data row28 col1\" >zscore</td>\n",
       "            </tr>\n",
       "            <tr>\n",
       "                        <th id=\"T_faea6_level0_row29\" class=\"row_heading level0 row29\" >29</th>\n",
       "                        <td id=\"T_faea6_row29_col0\" class=\"data row29 col0\" >Transformation</td>\n",
       "                        <td id=\"T_faea6_row29_col1\" class=\"data row29 col1\" >True</td>\n",
       "            </tr>\n",
       "            <tr>\n",
       "                        <th id=\"T_faea6_level0_row30\" class=\"row_heading level0 row30\" >30</th>\n",
       "                        <td id=\"T_faea6_row30_col0\" class=\"data row30 col0\" >Transformation Method</td>\n",
       "                        <td id=\"T_faea6_row30_col1\" class=\"data row30 col1\" >yeo-johnson</td>\n",
       "            </tr>\n",
       "            <tr>\n",
       "                        <th id=\"T_faea6_level0_row31\" class=\"row_heading level0 row31\" >31</th>\n",
       "                        <td id=\"T_faea6_row31_col0\" class=\"data row31 col0\" >PCA</td>\n",
       "                        <td id=\"T_faea6_row31_col1\" class=\"data row31 col1\" >False</td>\n",
       "            </tr>\n",
       "            <tr>\n",
       "                        <th id=\"T_faea6_level0_row32\" class=\"row_heading level0 row32\" >32</th>\n",
       "                        <td id=\"T_faea6_row32_col0\" class=\"data row32 col0\" >PCA Method</td>\n",
       "                        <td id=\"T_faea6_row32_col1\" class=\"data row32 col1\" >None</td>\n",
       "            </tr>\n",
       "            <tr>\n",
       "                        <th id=\"T_faea6_level0_row33\" class=\"row_heading level0 row33\" >33</th>\n",
       "                        <td id=\"T_faea6_row33_col0\" class=\"data row33 col0\" >PCA Components</td>\n",
       "                        <td id=\"T_faea6_row33_col1\" class=\"data row33 col1\" >None</td>\n",
       "            </tr>\n",
       "            <tr>\n",
       "                        <th id=\"T_faea6_level0_row34\" class=\"row_heading level0 row34\" >34</th>\n",
       "                        <td id=\"T_faea6_row34_col0\" class=\"data row34 col0\" >Ignore Low Variance</td>\n",
       "                        <td id=\"T_faea6_row34_col1\" class=\"data row34 col1\" >False</td>\n",
       "            </tr>\n",
       "            <tr>\n",
       "                        <th id=\"T_faea6_level0_row35\" class=\"row_heading level0 row35\" >35</th>\n",
       "                        <td id=\"T_faea6_row35_col0\" class=\"data row35 col0\" >Combine Rare Levels</td>\n",
       "                        <td id=\"T_faea6_row35_col1\" class=\"data row35 col1\" >False</td>\n",
       "            </tr>\n",
       "            <tr>\n",
       "                        <th id=\"T_faea6_level0_row36\" class=\"row_heading level0 row36\" >36</th>\n",
       "                        <td id=\"T_faea6_row36_col0\" class=\"data row36 col0\" >Rare Level Threshold</td>\n",
       "                        <td id=\"T_faea6_row36_col1\" class=\"data row36 col1\" >None</td>\n",
       "            </tr>\n",
       "            <tr>\n",
       "                        <th id=\"T_faea6_level0_row37\" class=\"row_heading level0 row37\" >37</th>\n",
       "                        <td id=\"T_faea6_row37_col0\" class=\"data row37 col0\" >Numeric Binning</td>\n",
       "                        <td id=\"T_faea6_row37_col1\" class=\"data row37 col1\" >False</td>\n",
       "            </tr>\n",
       "            <tr>\n",
       "                        <th id=\"T_faea6_level0_row38\" class=\"row_heading level0 row38\" >38</th>\n",
       "                        <td id=\"T_faea6_row38_col0\" class=\"data row38 col0\" >Remove Outliers</td>\n",
       "                        <td id=\"T_faea6_row38_col1\" class=\"data row38 col1\" >False</td>\n",
       "            </tr>\n",
       "            <tr>\n",
       "                        <th id=\"T_faea6_level0_row39\" class=\"row_heading level0 row39\" >39</th>\n",
       "                        <td id=\"T_faea6_row39_col0\" class=\"data row39 col0\" >Outliers Threshold</td>\n",
       "                        <td id=\"T_faea6_row39_col1\" class=\"data row39 col1\" >None</td>\n",
       "            </tr>\n",
       "            <tr>\n",
       "                        <th id=\"T_faea6_level0_row40\" class=\"row_heading level0 row40\" >40</th>\n",
       "                        <td id=\"T_faea6_row40_col0\" class=\"data row40 col0\" >Remove Multicollinearity</td>\n",
       "                        <td id=\"T_faea6_row40_col1\" class=\"data row40 col1\" >False</td>\n",
       "            </tr>\n",
       "            <tr>\n",
       "                        <th id=\"T_faea6_level0_row41\" class=\"row_heading level0 row41\" >41</th>\n",
       "                        <td id=\"T_faea6_row41_col0\" class=\"data row41 col0\" >Multicollinearity Threshold</td>\n",
       "                        <td id=\"T_faea6_row41_col1\" class=\"data row41 col1\" >None</td>\n",
       "            </tr>\n",
       "            <tr>\n",
       "                        <th id=\"T_faea6_level0_row42\" class=\"row_heading level0 row42\" >42</th>\n",
       "                        <td id=\"T_faea6_row42_col0\" class=\"data row42 col0\" >Remove Perfect Collinearity</td>\n",
       "                        <td id=\"T_faea6_row42_col1\" class=\"data row42 col1\" >True</td>\n",
       "            </tr>\n",
       "            <tr>\n",
       "                        <th id=\"T_faea6_level0_row43\" class=\"row_heading level0 row43\" >43</th>\n",
       "                        <td id=\"T_faea6_row43_col0\" class=\"data row43 col0\" >Clustering</td>\n",
       "                        <td id=\"T_faea6_row43_col1\" class=\"data row43 col1\" >False</td>\n",
       "            </tr>\n",
       "            <tr>\n",
       "                        <th id=\"T_faea6_level0_row44\" class=\"row_heading level0 row44\" >44</th>\n",
       "                        <td id=\"T_faea6_row44_col0\" class=\"data row44 col0\" >Clustering Iteration</td>\n",
       "                        <td id=\"T_faea6_row44_col1\" class=\"data row44 col1\" >None</td>\n",
       "            </tr>\n",
       "            <tr>\n",
       "                        <th id=\"T_faea6_level0_row45\" class=\"row_heading level0 row45\" >45</th>\n",
       "                        <td id=\"T_faea6_row45_col0\" class=\"data row45 col0\" >Polynomial Features</td>\n",
       "                        <td id=\"T_faea6_row45_col1\" class=\"data row45 col1\" >False</td>\n",
       "            </tr>\n",
       "            <tr>\n",
       "                        <th id=\"T_faea6_level0_row46\" class=\"row_heading level0 row46\" >46</th>\n",
       "                        <td id=\"T_faea6_row46_col0\" class=\"data row46 col0\" >Polynomial Degree</td>\n",
       "                        <td id=\"T_faea6_row46_col1\" class=\"data row46 col1\" >None</td>\n",
       "            </tr>\n",
       "            <tr>\n",
       "                        <th id=\"T_faea6_level0_row47\" class=\"row_heading level0 row47\" >47</th>\n",
       "                        <td id=\"T_faea6_row47_col0\" class=\"data row47 col0\" >Trignometry Features</td>\n",
       "                        <td id=\"T_faea6_row47_col1\" class=\"data row47 col1\" >False</td>\n",
       "            </tr>\n",
       "            <tr>\n",
       "                        <th id=\"T_faea6_level0_row48\" class=\"row_heading level0 row48\" >48</th>\n",
       "                        <td id=\"T_faea6_row48_col0\" class=\"data row48 col0\" >Polynomial Threshold</td>\n",
       "                        <td id=\"T_faea6_row48_col1\" class=\"data row48 col1\" >None</td>\n",
       "            </tr>\n",
       "            <tr>\n",
       "                        <th id=\"T_faea6_level0_row49\" class=\"row_heading level0 row49\" >49</th>\n",
       "                        <td id=\"T_faea6_row49_col0\" class=\"data row49 col0\" >Group Features</td>\n",
       "                        <td id=\"T_faea6_row49_col1\" class=\"data row49 col1\" >False</td>\n",
       "            </tr>\n",
       "            <tr>\n",
       "                        <th id=\"T_faea6_level0_row50\" class=\"row_heading level0 row50\" >50</th>\n",
       "                        <td id=\"T_faea6_row50_col0\" class=\"data row50 col0\" >Feature Selection</td>\n",
       "                        <td id=\"T_faea6_row50_col1\" class=\"data row50 col1\" >False</td>\n",
       "            </tr>\n",
       "            <tr>\n",
       "                        <th id=\"T_faea6_level0_row51\" class=\"row_heading level0 row51\" >51</th>\n",
       "                        <td id=\"T_faea6_row51_col0\" class=\"data row51 col0\" >Feature Selection Method</td>\n",
       "                        <td id=\"T_faea6_row51_col1\" class=\"data row51 col1\" >classic</td>\n",
       "            </tr>\n",
       "            <tr>\n",
       "                        <th id=\"T_faea6_level0_row52\" class=\"row_heading level0 row52\" >52</th>\n",
       "                        <td id=\"T_faea6_row52_col0\" class=\"data row52 col0\" >Features Selection Threshold</td>\n",
       "                        <td id=\"T_faea6_row52_col1\" class=\"data row52 col1\" >None</td>\n",
       "            </tr>\n",
       "            <tr>\n",
       "                        <th id=\"T_faea6_level0_row53\" class=\"row_heading level0 row53\" >53</th>\n",
       "                        <td id=\"T_faea6_row53_col0\" class=\"data row53 col0\" >Feature Interaction</td>\n",
       "                        <td id=\"T_faea6_row53_col1\" class=\"data row53 col1\" >False</td>\n",
       "            </tr>\n",
       "            <tr>\n",
       "                        <th id=\"T_faea6_level0_row54\" class=\"row_heading level0 row54\" >54</th>\n",
       "                        <td id=\"T_faea6_row54_col0\" class=\"data row54 col0\" >Feature Ratio</td>\n",
       "                        <td id=\"T_faea6_row54_col1\" class=\"data row54 col1\" >False</td>\n",
       "            </tr>\n",
       "            <tr>\n",
       "                        <th id=\"T_faea6_level0_row55\" class=\"row_heading level0 row55\" >55</th>\n",
       "                        <td id=\"T_faea6_row55_col0\" class=\"data row55 col0\" >Interaction Threshold</td>\n",
       "                        <td id=\"T_faea6_row55_col1\" class=\"data row55 col1\" >None</td>\n",
       "            </tr>\n",
       "            <tr>\n",
       "                        <th id=\"T_faea6_level0_row56\" class=\"row_heading level0 row56\" >56</th>\n",
       "                        <td id=\"T_faea6_row56_col0\" class=\"data row56 col0\" >Transform Target</td>\n",
       "                        <td id=\"T_faea6_row56_col1\" class=\"data row56 col1\" >False</td>\n",
       "            </tr>\n",
       "            <tr>\n",
       "                        <th id=\"T_faea6_level0_row57\" class=\"row_heading level0 row57\" >57</th>\n",
       "                        <td id=\"T_faea6_row57_col0\" class=\"data row57 col0\" >Transform Target Method</td>\n",
       "                        <td id=\"T_faea6_row57_col1\" class=\"data row57 col1\" >box-cox</td>\n",
       "            </tr>\n",
       "    </tbody></table>"
      ],
      "text/plain": [
       "<pandas.io.formats.style.Styler at 0x7fc6d7e7af90>"
      ]
     },
     "metadata": {},
     "output_type": "display_data"
    }
   ],
   "source": [
    "from pycaret.regression import *\n",
    "X = setup(data = data, target = 'sp_cj_total_days', session_id=123, normalize = True, \n",
    "          transformation = True, #transform_target = True\n",
    "          )\n",
    "\n",
    "#X = setup(data = data, target = 'sp_cj_total_days', session_id=123, normalize = True, \n",
    "#          transformation = True, transform_target = True, \n",
    "#          combine_rare_levels = True, rare_level_threshold = 0.05,\n",
    "#          remove_multicollinearity = True, multicollinearity_threshold = 0.95)\n",
    "\n",
    "#, categorical_features = ['race', 'gender', 'county', 'judge', 'clfely']           \n",
    "#['race', 'gender', 'county', 'judge', 'clfely', 'statut', 'offlvl', 'enhanc', 'haboff', 'habvio', 'vcc', 'prrpact', 'prioff', 'lsviol', 'faviol'])\n",
    "          "
   ]
  },
  {
   "cell_type": "code",
   "execution_count": 67,
   "metadata": {},
   "outputs": [
    {
     "data": {
      "text/html": [
       "<style  type=\"text/css\" >\n",
       "    #T_4e425_ th {\n",
       "          text-align: left;\n",
       "    }#T_4e425_row0_col0,#T_4e425_row0_col1,#T_4e425_row0_col5,#T_4e425_row0_col6,#T_4e425_row1_col0,#T_4e425_row1_col1,#T_4e425_row1_col2,#T_4e425_row1_col3,#T_4e425_row1_col4,#T_4e425_row1_col5,#T_4e425_row1_col6,#T_4e425_row2_col0,#T_4e425_row2_col1,#T_4e425_row2_col2,#T_4e425_row2_col3,#T_4e425_row2_col4,#T_4e425_row2_col5,#T_4e425_row2_col6,#T_4e425_row3_col0,#T_4e425_row3_col1,#T_4e425_row3_col2,#T_4e425_row3_col3,#T_4e425_row3_col4,#T_4e425_row3_col5,#T_4e425_row3_col6,#T_4e425_row4_col0,#T_4e425_row4_col1,#T_4e425_row4_col2,#T_4e425_row4_col3,#T_4e425_row4_col4,#T_4e425_row4_col5,#T_4e425_row4_col6,#T_4e425_row5_col0,#T_4e425_row5_col1,#T_4e425_row5_col2,#T_4e425_row5_col3,#T_4e425_row5_col4,#T_4e425_row5_col5,#T_4e425_row5_col6,#T_4e425_row6_col0,#T_4e425_row6_col2,#T_4e425_row6_col3,#T_4e425_row6_col4,#T_4e425_row6_col6,#T_4e425_row7_col0,#T_4e425_row7_col1,#T_4e425_row7_col2,#T_4e425_row7_col3,#T_4e425_row7_col4,#T_4e425_row7_col5,#T_4e425_row8_col0,#T_4e425_row8_col1,#T_4e425_row8_col2,#T_4e425_row8_col3,#T_4e425_row8_col4,#T_4e425_row8_col5,#T_4e425_row8_col6,#T_4e425_row9_col0,#T_4e425_row9_col1,#T_4e425_row9_col2,#T_4e425_row9_col3,#T_4e425_row9_col4,#T_4e425_row9_col5,#T_4e425_row9_col6,#T_4e425_row10_col0,#T_4e425_row10_col1,#T_4e425_row10_col2,#T_4e425_row10_col3,#T_4e425_row10_col4,#T_4e425_row10_col5,#T_4e425_row10_col6,#T_4e425_row11_col0,#T_4e425_row11_col1,#T_4e425_row11_col2,#T_4e425_row11_col3,#T_4e425_row11_col4,#T_4e425_row11_col5,#T_4e425_row11_col6,#T_4e425_row12_col0,#T_4e425_row12_col1,#T_4e425_row12_col2,#T_4e425_row12_col3,#T_4e425_row12_col4,#T_4e425_row12_col5,#T_4e425_row12_col6,#T_4e425_row13_col0,#T_4e425_row13_col1,#T_4e425_row13_col2,#T_4e425_row13_col3,#T_4e425_row13_col4,#T_4e425_row13_col5,#T_4e425_row13_col6,#T_4e425_row14_col0,#T_4e425_row14_col1,#T_4e425_row14_col2,#T_4e425_row14_col3,#T_4e425_row14_col4,#T_4e425_row14_col5,#T_4e425_row14_col6,#T_4e425_row15_col0,#T_4e425_row15_col1,#T_4e425_row15_col2,#T_4e425_row15_col3,#T_4e425_row15_col4,#T_4e425_row15_col5,#T_4e425_row15_col6,#T_4e425_row16_col0,#T_4e425_row16_col1,#T_4e425_row16_col2,#T_4e425_row16_col3,#T_4e425_row16_col4,#T_4e425_row16_col5,#T_4e425_row16_col6,#T_4e425_row17_col0,#T_4e425_row17_col1,#T_4e425_row17_col2,#T_4e425_row17_col3,#T_4e425_row17_col4,#T_4e425_row17_col5,#T_4e425_row17_col6,#T_4e425_row18_col0,#T_4e425_row18_col1,#T_4e425_row18_col2,#T_4e425_row18_col3,#T_4e425_row18_col4,#T_4e425_row18_col5,#T_4e425_row18_col6{\n",
       "            text-align:  left;\n",
       "            text-align:  left;\n",
       "        }#T_4e425_row0_col2,#T_4e425_row0_col3,#T_4e425_row0_col4,#T_4e425_row6_col1,#T_4e425_row6_col5,#T_4e425_row7_col6{\n",
       "            text-align:  left;\n",
       "            text-align:  left;\n",
       "            background-color:  yellow;\n",
       "        }#T_4e425_row0_col7,#T_4e425_row1_col7,#T_4e425_row2_col7,#T_4e425_row3_col7,#T_4e425_row4_col7,#T_4e425_row5_col7,#T_4e425_row6_col7,#T_4e425_row7_col7,#T_4e425_row8_col7,#T_4e425_row9_col7,#T_4e425_row10_col7,#T_4e425_row11_col7,#T_4e425_row12_col7,#T_4e425_row13_col7,#T_4e425_row14_col7,#T_4e425_row15_col7,#T_4e425_row17_col7,#T_4e425_row18_col7{\n",
       "            text-align:  left;\n",
       "            text-align:  left;\n",
       "            background-color:  lightgrey;\n",
       "        }#T_4e425_row16_col7{\n",
       "            text-align:  left;\n",
       "            text-align:  left;\n",
       "            background-color:  yellow;\n",
       "            background-color:  lightgrey;\n",
       "        }</style><table id=\"T_4e425_\" ><thead>    <tr>        <th class=\"blank level0\" ></th>        <th class=\"col_heading level0 col0\" >Model</th>        <th class=\"col_heading level0 col1\" >MAE</th>        <th class=\"col_heading level0 col2\" >MSE</th>        <th class=\"col_heading level0 col3\" >RMSE</th>        <th class=\"col_heading level0 col4\" >R2</th>        <th class=\"col_heading level0 col5\" >RMSLE</th>        <th class=\"col_heading level0 col6\" >MAPE</th>        <th class=\"col_heading level0 col7\" >TT (Sec)</th>    </tr></thead><tbody>\n",
       "                <tr>\n",
       "                        <th id=\"T_4e425_level0_row0\" class=\"row_heading level0 row0\" >ridge</th>\n",
       "                        <td id=\"T_4e425_row0_col0\" class=\"data row0 col0\" >Ridge Regression</td>\n",
       "                        <td id=\"T_4e425_row0_col1\" class=\"data row0 col1\" >124.3949</td>\n",
       "                        <td id=\"T_4e425_row0_col2\" class=\"data row0 col2\" >101921.5972</td>\n",
       "                        <td id=\"T_4e425_row0_col3\" class=\"data row0 col3\" >318.7256</td>\n",
       "                        <td id=\"T_4e425_row0_col4\" class=\"data row0 col4\" >0.5834</td>\n",
       "                        <td id=\"T_4e425_row0_col5\" class=\"data row0 col5\" >2.9032</td>\n",
       "                        <td id=\"T_4e425_row0_col6\" class=\"data row0 col6\" >0.9921</td>\n",
       "                        <td id=\"T_4e425_row0_col7\" class=\"data row0 col7\" >0.0210</td>\n",
       "            </tr>\n",
       "            <tr>\n",
       "                        <th id=\"T_4e425_level0_row1\" class=\"row_heading level0 row1\" >lr</th>\n",
       "                        <td id=\"T_4e425_row1_col0\" class=\"data row1 col0\" >Linear Regression</td>\n",
       "                        <td id=\"T_4e425_row1_col1\" class=\"data row1 col1\" >124.6718</td>\n",
       "                        <td id=\"T_4e425_row1_col2\" class=\"data row1 col2\" >102312.2617</td>\n",
       "                        <td id=\"T_4e425_row1_col3\" class=\"data row1 col3\" >319.2557</td>\n",
       "                        <td id=\"T_4e425_row1_col4\" class=\"data row1 col4\" >0.5816</td>\n",
       "                        <td id=\"T_4e425_row1_col5\" class=\"data row1 col5\" >2.8999</td>\n",
       "                        <td id=\"T_4e425_row1_col6\" class=\"data row1 col6\" >1.0010</td>\n",
       "                        <td id=\"T_4e425_row1_col7\" class=\"data row1 col7\" >0.4920</td>\n",
       "            </tr>\n",
       "            <tr>\n",
       "                        <th id=\"T_4e425_level0_row2\" class=\"row_heading level0 row2\" >br</th>\n",
       "                        <td id=\"T_4e425_row2_col0\" class=\"data row2 col0\" >Bayesian Ridge</td>\n",
       "                        <td id=\"T_4e425_row2_col1\" class=\"data row2 col1\" >124.3861</td>\n",
       "                        <td id=\"T_4e425_row2_col2\" class=\"data row2 col2\" >102309.6789</td>\n",
       "                        <td id=\"T_4e425_row2_col3\" class=\"data row2 col3\" >319.2633</td>\n",
       "                        <td id=\"T_4e425_row2_col4\" class=\"data row2 col4\" >0.5816</td>\n",
       "                        <td id=\"T_4e425_row2_col5\" class=\"data row2 col5\" >2.9004</td>\n",
       "                        <td id=\"T_4e425_row2_col6\" class=\"data row2 col6\" >0.9903</td>\n",
       "                        <td id=\"T_4e425_row2_col7\" class=\"data row2 col7\" >0.0400</td>\n",
       "            </tr>\n",
       "            <tr>\n",
       "                        <th id=\"T_4e425_level0_row3\" class=\"row_heading level0 row3\" >gbr</th>\n",
       "                        <td id=\"T_4e425_row3_col0\" class=\"data row3 col0\" >Gradient Boosting Regressor</td>\n",
       "                        <td id=\"T_4e425_row3_col1\" class=\"data row3 col1\" >129.2168</td>\n",
       "                        <td id=\"T_4e425_row3_col2\" class=\"data row3 col2\" >103451.8275</td>\n",
       "                        <td id=\"T_4e425_row3_col3\" class=\"data row3 col3\" >320.8516</td>\n",
       "                        <td id=\"T_4e425_row3_col4\" class=\"data row3 col4\" >0.5775</td>\n",
       "                        <td id=\"T_4e425_row3_col5\" class=\"data row3 col5\" >3.0382</td>\n",
       "                        <td id=\"T_4e425_row3_col6\" class=\"data row3 col6\" >0.9812</td>\n",
       "                        <td id=\"T_4e425_row3_col7\" class=\"data row3 col7\" >0.2220</td>\n",
       "            </tr>\n",
       "            <tr>\n",
       "                        <th id=\"T_4e425_level0_row4\" class=\"row_heading level0 row4\" >lightgbm</th>\n",
       "                        <td id=\"T_4e425_row4_col0\" class=\"data row4 col0\" >Light Gradient Boosting Machine</td>\n",
       "                        <td id=\"T_4e425_row4_col1\" class=\"data row4 col1\" >129.1361</td>\n",
       "                        <td id=\"T_4e425_row4_col2\" class=\"data row4 col2\" >104423.5868</td>\n",
       "                        <td id=\"T_4e425_row4_col3\" class=\"data row4 col3\" >322.6660</td>\n",
       "                        <td id=\"T_4e425_row4_col4\" class=\"data row4 col4\" >0.5725</td>\n",
       "                        <td id=\"T_4e425_row4_col5\" class=\"data row4 col5\" >2.9473</td>\n",
       "                        <td id=\"T_4e425_row4_col6\" class=\"data row4 col6\" >0.9435</td>\n",
       "                        <td id=\"T_4e425_row4_col7\" class=\"data row4 col7\" >0.8180</td>\n",
       "            </tr>\n",
       "            <tr>\n",
       "                        <th id=\"T_4e425_level0_row5\" class=\"row_heading level0 row5\" >lasso</th>\n",
       "                        <td id=\"T_4e425_row5_col0\" class=\"data row5 col0\" >Lasso Regression</td>\n",
       "                        <td id=\"T_4e425_row5_col1\" class=\"data row5 col1\" >127.1530</td>\n",
       "                        <td id=\"T_4e425_row5_col2\" class=\"data row5 col2\" >108978.3058</td>\n",
       "                        <td id=\"T_4e425_row5_col3\" class=\"data row5 col3\" >329.5255</td>\n",
       "                        <td id=\"T_4e425_row5_col4\" class=\"data row5 col4\" >0.5560</td>\n",
       "                        <td id=\"T_4e425_row5_col5\" class=\"data row5 col5\" >2.9367</td>\n",
       "                        <td id=\"T_4e425_row5_col6\" class=\"data row5 col6\" >1.0065</td>\n",
       "                        <td id=\"T_4e425_row5_col7\" class=\"data row5 col7\" >0.2090</td>\n",
       "            </tr>\n",
       "            <tr>\n",
       "                        <th id=\"T_4e425_level0_row6\" class=\"row_heading level0 row6\" >par</th>\n",
       "                        <td id=\"T_4e425_row6_col0\" class=\"data row6 col0\" >Passive Aggressive Regressor</td>\n",
       "                        <td id=\"T_4e425_row6_col1\" class=\"data row6 col1\" >112.0638</td>\n",
       "                        <td id=\"T_4e425_row6_col2\" class=\"data row6 col2\" >112395.7507</td>\n",
       "                        <td id=\"T_4e425_row6_col3\" class=\"data row6 col3\" >334.6062</td>\n",
       "                        <td id=\"T_4e425_row6_col4\" class=\"data row6 col4\" >0.5423</td>\n",
       "                        <td id=\"T_4e425_row6_col5\" class=\"data row6 col5\" >2.2534</td>\n",
       "                        <td id=\"T_4e425_row6_col6\" class=\"data row6 col6\" >0.8026</td>\n",
       "                        <td id=\"T_4e425_row6_col7\" class=\"data row6 col7\" >0.1030</td>\n",
       "            </tr>\n",
       "            <tr>\n",
       "                        <th id=\"T_4e425_level0_row7\" class=\"row_heading level0 row7\" >huber</th>\n",
       "                        <td id=\"T_4e425_row7_col0\" class=\"data row7 col0\" >Huber Regressor</td>\n",
       "                        <td id=\"T_4e425_row7_col1\" class=\"data row7 col1\" >114.2144</td>\n",
       "                        <td id=\"T_4e425_row7_col2\" class=\"data row7 col2\" >115212.7893</td>\n",
       "                        <td id=\"T_4e425_row7_col3\" class=\"data row7 col3\" >338.7006</td>\n",
       "                        <td id=\"T_4e425_row7_col4\" class=\"data row7 col4\" >0.5312</td>\n",
       "                        <td id=\"T_4e425_row7_col5\" class=\"data row7 col5\" >2.3889</td>\n",
       "                        <td id=\"T_4e425_row7_col6\" class=\"data row7 col6\" >0.7916</td>\n",
       "                        <td id=\"T_4e425_row7_col7\" class=\"data row7 col7\" >0.3300</td>\n",
       "            </tr>\n",
       "            <tr>\n",
       "                        <th id=\"T_4e425_level0_row8\" class=\"row_heading level0 row8\" >knn</th>\n",
       "                        <td id=\"T_4e425_row8_col0\" class=\"data row8 col0\" >K Neighbors Regressor</td>\n",
       "                        <td id=\"T_4e425_row8_col1\" class=\"data row8 col1\" >135.8834</td>\n",
       "                        <td id=\"T_4e425_row8_col2\" class=\"data row8 col2\" >115429.8701</td>\n",
       "                        <td id=\"T_4e425_row8_col3\" class=\"data row8 col3\" >339.2308</td>\n",
       "                        <td id=\"T_4e425_row8_col4\" class=\"data row8 col4\" >0.5283</td>\n",
       "                        <td id=\"T_4e425_row8_col5\" class=\"data row8 col5\" >2.8635</td>\n",
       "                        <td id=\"T_4e425_row8_col6\" class=\"data row8 col6\" >1.0037</td>\n",
       "                        <td id=\"T_4e425_row8_col7\" class=\"data row8 col7\" >0.1040</td>\n",
       "            </tr>\n",
       "            <tr>\n",
       "                        <th id=\"T_4e425_level0_row9\" class=\"row_heading level0 row9\" >rf</th>\n",
       "                        <td id=\"T_4e425_row9_col0\" class=\"data row9 col0\" >Random Forest Regressor</td>\n",
       "                        <td id=\"T_4e425_row9_col1\" class=\"data row9 col1\" >134.9152</td>\n",
       "                        <td id=\"T_4e425_row9_col2\" class=\"data row9 col2\" >116212.9843</td>\n",
       "                        <td id=\"T_4e425_row9_col3\" class=\"data row9 col3\" >339.4396</td>\n",
       "                        <td id=\"T_4e425_row9_col4\" class=\"data row9 col4\" >0.5261</td>\n",
       "                        <td id=\"T_4e425_row9_col5\" class=\"data row9 col5\" >2.9226</td>\n",
       "                        <td id=\"T_4e425_row9_col6\" class=\"data row9 col6\" >0.9776</td>\n",
       "                        <td id=\"T_4e425_row9_col7\" class=\"data row9 col7\" >0.4820</td>\n",
       "            </tr>\n",
       "            <tr>\n",
       "                        <th id=\"T_4e425_level0_row10\" class=\"row_heading level0 row10\" >xgboost</th>\n",
       "                        <td id=\"T_4e425_row10_col0\" class=\"data row10 col0\" >Extreme Gradient Boosting</td>\n",
       "                        <td id=\"T_4e425_row10_col1\" class=\"data row10 col1\" >131.3114</td>\n",
       "                        <td id=\"T_4e425_row10_col2\" class=\"data row10 col2\" >119982.8238</td>\n",
       "                        <td id=\"T_4e425_row10_col3\" class=\"data row10 col3\" >345.3475</td>\n",
       "                        <td id=\"T_4e425_row10_col4\" class=\"data row10 col4\" >0.5106</td>\n",
       "                        <td id=\"T_4e425_row10_col5\" class=\"data row10 col5\" >2.9353</td>\n",
       "                        <td id=\"T_4e425_row10_col6\" class=\"data row10 col6\" >0.9503</td>\n",
       "                        <td id=\"T_4e425_row10_col7\" class=\"data row10 col7\" >0.9540</td>\n",
       "            </tr>\n",
       "            <tr>\n",
       "                        <th id=\"T_4e425_level0_row11\" class=\"row_heading level0 row11\" >et</th>\n",
       "                        <td id=\"T_4e425_row11_col0\" class=\"data row11 col0\" >Extra Trees Regressor</td>\n",
       "                        <td id=\"T_4e425_row11_col1\" class=\"data row11 col1\" >139.0641</td>\n",
       "                        <td id=\"T_4e425_row11_col2\" class=\"data row11 col2\" >136578.3933</td>\n",
       "                        <td id=\"T_4e425_row11_col3\" class=\"data row11 col3\" >367.0724</td>\n",
       "                        <td id=\"T_4e425_row11_col4\" class=\"data row11 col4\" >0.4443</td>\n",
       "                        <td id=\"T_4e425_row11_col5\" class=\"data row11 col5\" >2.9246</td>\n",
       "                        <td id=\"T_4e425_row11_col6\" class=\"data row11 col6\" >0.9850</td>\n",
       "                        <td id=\"T_4e425_row11_col7\" class=\"data row11 col7\" >0.4680</td>\n",
       "            </tr>\n",
       "            <tr>\n",
       "                        <th id=\"T_4e425_level0_row12\" class=\"row_heading level0 row12\" >dt</th>\n",
       "                        <td id=\"T_4e425_row12_col0\" class=\"data row12 col0\" >Decision Tree Regressor</td>\n",
       "                        <td id=\"T_4e425_row12_col1\" class=\"data row12 col1\" >140.2922</td>\n",
       "                        <td id=\"T_4e425_row12_col2\" class=\"data row12 col2\" >140861.7433</td>\n",
       "                        <td id=\"T_4e425_row12_col3\" class=\"data row12 col3\" >373.4087</td>\n",
       "                        <td id=\"T_4e425_row12_col4\" class=\"data row12 col4\" >0.4242</td>\n",
       "                        <td id=\"T_4e425_row12_col5\" class=\"data row12 col5\" >2.9288</td>\n",
       "                        <td id=\"T_4e425_row12_col6\" class=\"data row12 col6\" >0.9947</td>\n",
       "                        <td id=\"T_4e425_row12_col7\" class=\"data row12 col7\" >0.0300</td>\n",
       "            </tr>\n",
       "            <tr>\n",
       "                        <th id=\"T_4e425_level0_row13\" class=\"row_heading level0 row13\" >omp</th>\n",
       "                        <td id=\"T_4e425_row13_col0\" class=\"data row13 col0\" >Orthogonal Matching Pursuit</td>\n",
       "                        <td id=\"T_4e425_row13_col1\" class=\"data row13 col1\" >210.7945</td>\n",
       "                        <td id=\"T_4e425_row13_col2\" class=\"data row13 col2\" >175718.5743</td>\n",
       "                        <td id=\"T_4e425_row13_col3\" class=\"data row13 col3\" >418.7949</td>\n",
       "                        <td id=\"T_4e425_row13_col4\" class=\"data row13 col4\" >0.2814</td>\n",
       "                        <td id=\"T_4e425_row13_col5\" class=\"data row13 col5\" >3.6458</td>\n",
       "                        <td id=\"T_4e425_row13_col6\" class=\"data row13 col6\" >1.5390</td>\n",
       "                        <td id=\"T_4e425_row13_col7\" class=\"data row13 col7\" >0.0230</td>\n",
       "            </tr>\n",
       "            <tr>\n",
       "                        <th id=\"T_4e425_level0_row14\" class=\"row_heading level0 row14\" >en</th>\n",
       "                        <td id=\"T_4e425_row14_col0\" class=\"data row14 col0\" >Elastic Net</td>\n",
       "                        <td id=\"T_4e425_row14_col1\" class=\"data row14 col1\" >216.8756</td>\n",
       "                        <td id=\"T_4e425_row14_col2\" class=\"data row14 col2\" >197757.4703</td>\n",
       "                        <td id=\"T_4e425_row14_col3\" class=\"data row14 col3\" >444.0964</td>\n",
       "                        <td id=\"T_4e425_row14_col4\" class=\"data row14 col4\" >0.1934</td>\n",
       "                        <td id=\"T_4e425_row14_col5\" class=\"data row14 col5\" >3.7965</td>\n",
       "                        <td id=\"T_4e425_row14_col6\" class=\"data row14 col6\" >1.9219</td>\n",
       "                        <td id=\"T_4e425_row14_col7\" class=\"data row14 col7\" >0.0220</td>\n",
       "            </tr>\n",
       "            <tr>\n",
       "                        <th id=\"T_4e425_level0_row15\" class=\"row_heading level0 row15\" >llar</th>\n",
       "                        <td id=\"T_4e425_row15_col0\" class=\"data row15 col0\" >Lasso Least Angle Regression</td>\n",
       "                        <td id=\"T_4e425_row15_col1\" class=\"data row15 col1\" >244.8582</td>\n",
       "                        <td id=\"T_4e425_row15_col2\" class=\"data row15 col2\" >211980.0285</td>\n",
       "                        <td id=\"T_4e425_row15_col3\" class=\"data row15 col3\" >459.8949</td>\n",
       "                        <td id=\"T_4e425_row15_col4\" class=\"data row15 col4\" >0.1347</td>\n",
       "                        <td id=\"T_4e425_row15_col5\" class=\"data row15 col5\" >3.9409</td>\n",
       "                        <td id=\"T_4e425_row15_col6\" class=\"data row15 col6\" >2.0490</td>\n",
       "                        <td id=\"T_4e425_row15_col7\" class=\"data row15 col7\" >0.0210</td>\n",
       "            </tr>\n",
       "            <tr>\n",
       "                        <th id=\"T_4e425_level0_row16\" class=\"row_heading level0 row16\" >dummy</th>\n",
       "                        <td id=\"T_4e425_row16_col0\" class=\"data row16 col0\" >Dummy Regressor</td>\n",
       "                        <td id=\"T_4e425_row16_col1\" class=\"data row16 col1\" >266.3132</td>\n",
       "                        <td id=\"T_4e425_row16_col2\" class=\"data row16 col2\" >244932.7632</td>\n",
       "                        <td id=\"T_4e425_row16_col3\" class=\"data row16 col3\" >494.4024</td>\n",
       "                        <td id=\"T_4e425_row16_col4\" class=\"data row16 col4\" >-0.0002</td>\n",
       "                        <td id=\"T_4e425_row16_col5\" class=\"data row16 col5\" >4.0158</td>\n",
       "                        <td id=\"T_4e425_row16_col6\" class=\"data row16 col6\" >2.2680</td>\n",
       "                        <td id=\"T_4e425_row16_col7\" class=\"data row16 col7\" >0.0200</td>\n",
       "            </tr>\n",
       "            <tr>\n",
       "                        <th id=\"T_4e425_level0_row17\" class=\"row_heading level0 row17\" >ada</th>\n",
       "                        <td id=\"T_4e425_row17_col0\" class=\"data row17 col0\" >AdaBoost Regressor</td>\n",
       "                        <td id=\"T_4e425_row17_col1\" class=\"data row17 col1\" >255.4010</td>\n",
       "                        <td id=\"T_4e425_row17_col2\" class=\"data row17 col2\" >244973.9230</td>\n",
       "                        <td id=\"T_4e425_row17_col3\" class=\"data row17 col3\" >491.4010</td>\n",
       "                        <td id=\"T_4e425_row17_col4\" class=\"data row17 col4\" >-0.0100</td>\n",
       "                        <td id=\"T_4e425_row17_col5\" class=\"data row17 col5\" >3.7238</td>\n",
       "                        <td id=\"T_4e425_row17_col6\" class=\"data row17 col6\" >1.9720</td>\n",
       "                        <td id=\"T_4e425_row17_col7\" class=\"data row17 col7\" >0.1770</td>\n",
       "            </tr>\n",
       "            <tr>\n",
       "                        <th id=\"T_4e425_level0_row18\" class=\"row_heading level0 row18\" >lar</th>\n",
       "                        <td id=\"T_4e425_row18_col0\" class=\"data row18 col0\" >Least Angle Regression</td>\n",
       "                        <td id=\"T_4e425_row18_col1\" class=\"data row18 col1\" >2448916.2856</td>\n",
       "                        <td id=\"T_4e425_row18_col2\" class=\"data row18 col2\" >263886001044853.3125</td>\n",
       "                        <td id=\"T_4e425_row18_col3\" class=\"data row18 col3\" >5137267.8691</td>\n",
       "                        <td id=\"T_4e425_row18_col4\" class=\"data row18 col4\" >-1018211273.5874</td>\n",
       "                        <td id=\"T_4e425_row18_col5\" class=\"data row18 col5\" >4.0084</td>\n",
       "                        <td id=\"T_4e425_row18_col6\" class=\"data row18 col6\" >30495.8785</td>\n",
       "                        <td id=\"T_4e425_row18_col7\" class=\"data row18 col7\" >0.0220</td>\n",
       "            </tr>\n",
       "    </tbody></table>"
      ],
      "text/plain": [
       "<pandas.io.formats.style.Styler at 0x7fc74461ea10>"
      ]
     },
     "metadata": {},
     "output_type": "display_data"
    }
   ],
   "source": [
    "best = compare_models(exclude = [])"
   ]
  },
  {
   "cell_type": "code",
   "execution_count": 68,
   "metadata": {},
   "outputs": [
    {
     "data": {
      "text/html": [
       "<style  type=\"text/css\" >\n",
       "#T_18058_row10_col0,#T_18058_row10_col1,#T_18058_row10_col2,#T_18058_row10_col3,#T_18058_row10_col4,#T_18058_row10_col5{\n",
       "            background:  yellow;\n",
       "        }</style><table id=\"T_18058_\" ><thead>    <tr>        <th class=\"blank level0\" ></th>        <th class=\"col_heading level0 col0\" >MAE</th>        <th class=\"col_heading level0 col1\" >MSE</th>        <th class=\"col_heading level0 col2\" >RMSE</th>        <th class=\"col_heading level0 col3\" >R2</th>        <th class=\"col_heading level0 col4\" >RMSLE</th>        <th class=\"col_heading level0 col5\" >MAPE</th>    </tr></thead><tbody>\n",
       "                <tr>\n",
       "                        <th id=\"T_18058_level0_row0\" class=\"row_heading level0 row0\" >0</th>\n",
       "                        <td id=\"T_18058_row0_col0\" class=\"data row0 col0\" >121.0415</td>\n",
       "                        <td id=\"T_18058_row0_col1\" class=\"data row0 col1\" >84867.8651</td>\n",
       "                        <td id=\"T_18058_row0_col2\" class=\"data row0 col2\" >291.3209</td>\n",
       "                        <td id=\"T_18058_row0_col3\" class=\"data row0 col3\" >0.6594</td>\n",
       "                        <td id=\"T_18058_row0_col4\" class=\"data row0 col4\" >2.8725</td>\n",
       "                        <td id=\"T_18058_row0_col5\" class=\"data row0 col5\" >0.8002</td>\n",
       "            </tr>\n",
       "            <tr>\n",
       "                        <th id=\"T_18058_level0_row1\" class=\"row_heading level0 row1\" >1</th>\n",
       "                        <td id=\"T_18058_row1_col0\" class=\"data row1 col0\" >125.7839</td>\n",
       "                        <td id=\"T_18058_row1_col1\" class=\"data row1 col1\" >118385.8784</td>\n",
       "                        <td id=\"T_18058_row1_col2\" class=\"data row1 col2\" >344.0725</td>\n",
       "                        <td id=\"T_18058_row1_col3\" class=\"data row1 col3\" >0.5432</td>\n",
       "                        <td id=\"T_18058_row1_col4\" class=\"data row1 col4\" >2.9471</td>\n",
       "                        <td id=\"T_18058_row1_col5\" class=\"data row1 col5\" >0.8112</td>\n",
       "            </tr>\n",
       "            <tr>\n",
       "                        <th id=\"T_18058_level0_row2\" class=\"row_heading level0 row2\" >2</th>\n",
       "                        <td id=\"T_18058_row2_col0\" class=\"data row2 col0\" >124.8700</td>\n",
       "                        <td id=\"T_18058_row2_col1\" class=\"data row2 col1\" >102915.0492</td>\n",
       "                        <td id=\"T_18058_row2_col2\" class=\"data row2 col2\" >320.8038</td>\n",
       "                        <td id=\"T_18058_row2_col3\" class=\"data row2 col3\" >0.6192</td>\n",
       "                        <td id=\"T_18058_row2_col4\" class=\"data row2 col4\" >2.8307</td>\n",
       "                        <td id=\"T_18058_row2_col5\" class=\"data row2 col5\" >0.9265</td>\n",
       "            </tr>\n",
       "            <tr>\n",
       "                        <th id=\"T_18058_level0_row3\" class=\"row_heading level0 row3\" >3</th>\n",
       "                        <td id=\"T_18058_row3_col0\" class=\"data row3 col0\" >121.1296</td>\n",
       "                        <td id=\"T_18058_row3_col1\" class=\"data row3 col1\" >93224.8045</td>\n",
       "                        <td id=\"T_18058_row3_col2\" class=\"data row3 col2\" >305.3274</td>\n",
       "                        <td id=\"T_18058_row3_col3\" class=\"data row3 col3\" >0.6017</td>\n",
       "                        <td id=\"T_18058_row3_col4\" class=\"data row3 col4\" >2.8963</td>\n",
       "                        <td id=\"T_18058_row3_col5\" class=\"data row3 col5\" >0.9597</td>\n",
       "            </tr>\n",
       "            <tr>\n",
       "                        <th id=\"T_18058_level0_row4\" class=\"row_heading level0 row4\" >4</th>\n",
       "                        <td id=\"T_18058_row4_col0\" class=\"data row4 col0\" >117.2295</td>\n",
       "                        <td id=\"T_18058_row4_col1\" class=\"data row4 col1\" >83654.8670</td>\n",
       "                        <td id=\"T_18058_row4_col2\" class=\"data row4 col2\" >289.2315</td>\n",
       "                        <td id=\"T_18058_row4_col3\" class=\"data row4 col3\" >0.5892</td>\n",
       "                        <td id=\"T_18058_row4_col4\" class=\"data row4 col4\" >2.8888</td>\n",
       "                        <td id=\"T_18058_row4_col5\" class=\"data row4 col5\" >1.4750</td>\n",
       "            </tr>\n",
       "            <tr>\n",
       "                        <th id=\"T_18058_level0_row5\" class=\"row_heading level0 row5\" >5</th>\n",
       "                        <td id=\"T_18058_row5_col0\" class=\"data row5 col0\" >122.7461</td>\n",
       "                        <td id=\"T_18058_row5_col1\" class=\"data row5 col1\" >101478.7935</td>\n",
       "                        <td id=\"T_18058_row5_col2\" class=\"data row5 col2\" >318.5574</td>\n",
       "                        <td id=\"T_18058_row5_col3\" class=\"data row5 col3\" >0.5580</td>\n",
       "                        <td id=\"T_18058_row5_col4\" class=\"data row5 col4\" >2.8828</td>\n",
       "                        <td id=\"T_18058_row5_col5\" class=\"data row5 col5\" >0.9068</td>\n",
       "            </tr>\n",
       "            <tr>\n",
       "                        <th id=\"T_18058_level0_row6\" class=\"row_heading level0 row6\" >6</th>\n",
       "                        <td id=\"T_18058_row6_col0\" class=\"data row6 col0\" >128.5281</td>\n",
       "                        <td id=\"T_18058_row6_col1\" class=\"data row6 col1\" >104355.8176</td>\n",
       "                        <td id=\"T_18058_row6_col2\" class=\"data row6 col2\" >323.0415</td>\n",
       "                        <td id=\"T_18058_row6_col3\" class=\"data row6 col3\" >0.5538</td>\n",
       "                        <td id=\"T_18058_row6_col4\" class=\"data row6 col4\" >2.9279</td>\n",
       "                        <td id=\"T_18058_row6_col5\" class=\"data row6 col5\" >1.0667</td>\n",
       "            </tr>\n",
       "            <tr>\n",
       "                        <th id=\"T_18058_level0_row7\" class=\"row_heading level0 row7\" >7</th>\n",
       "                        <td id=\"T_18058_row7_col0\" class=\"data row7 col0\" >125.1975</td>\n",
       "                        <td id=\"T_18058_row7_col1\" class=\"data row7 col1\" >102032.1907</td>\n",
       "                        <td id=\"T_18058_row7_col2\" class=\"data row7 col2\" >319.4248</td>\n",
       "                        <td id=\"T_18058_row7_col3\" class=\"data row7 col3\" >0.5620</td>\n",
       "                        <td id=\"T_18058_row7_col4\" class=\"data row7 col4\" >2.8836</td>\n",
       "                        <td id=\"T_18058_row7_col5\" class=\"data row7 col5\" >0.9487</td>\n",
       "            </tr>\n",
       "            <tr>\n",
       "                        <th id=\"T_18058_level0_row8\" class=\"row_heading level0 row8\" >8</th>\n",
       "                        <td id=\"T_18058_row8_col0\" class=\"data row8 col0\" >124.6940</td>\n",
       "                        <td id=\"T_18058_row8_col1\" class=\"data row8 col1\" >107987.6066</td>\n",
       "                        <td id=\"T_18058_row8_col2\" class=\"data row8 col2\" >328.6147</td>\n",
       "                        <td id=\"T_18058_row8_col3\" class=\"data row8 col3\" >0.5691</td>\n",
       "                        <td id=\"T_18058_row8_col4\" class=\"data row8 col4\" >2.9547</td>\n",
       "                        <td id=\"T_18058_row8_col5\" class=\"data row8 col5\" >1.0962</td>\n",
       "            </tr>\n",
       "            <tr>\n",
       "                        <th id=\"T_18058_level0_row9\" class=\"row_heading level0 row9\" >9</th>\n",
       "                        <td id=\"T_18058_row9_col0\" class=\"data row9 col0\" >132.7290</td>\n",
       "                        <td id=\"T_18058_row9_col1\" class=\"data row9 col1\" >120313.0997</td>\n",
       "                        <td id=\"T_18058_row9_col2\" class=\"data row9 col2\" >346.8618</td>\n",
       "                        <td id=\"T_18058_row9_col3\" class=\"data row9 col3\" >0.5785</td>\n",
       "                        <td id=\"T_18058_row9_col4\" class=\"data row9 col4\" >2.9480</td>\n",
       "                        <td id=\"T_18058_row9_col5\" class=\"data row9 col5\" >0.9300</td>\n",
       "            </tr>\n",
       "            <tr>\n",
       "                        <th id=\"T_18058_level0_row10\" class=\"row_heading level0 row10\" >Mean</th>\n",
       "                        <td id=\"T_18058_row10_col0\" class=\"data row10 col0\" >124.3949</td>\n",
       "                        <td id=\"T_18058_row10_col1\" class=\"data row10 col1\" >101921.5972</td>\n",
       "                        <td id=\"T_18058_row10_col2\" class=\"data row10 col2\" >318.7256</td>\n",
       "                        <td id=\"T_18058_row10_col3\" class=\"data row10 col3\" >0.5834</td>\n",
       "                        <td id=\"T_18058_row10_col4\" class=\"data row10 col4\" >2.9032</td>\n",
       "                        <td id=\"T_18058_row10_col5\" class=\"data row10 col5\" >0.9921</td>\n",
       "            </tr>\n",
       "            <tr>\n",
       "                        <th id=\"T_18058_level0_row11\" class=\"row_heading level0 row11\" >SD</th>\n",
       "                        <td id=\"T_18058_row11_col0\" class=\"data row11 col0\" >4.0669</td>\n",
       "                        <td id=\"T_18058_row11_col1\" class=\"data row11 col1\" >11633.4625</td>\n",
       "                        <td id=\"T_18058_row11_col2\" class=\"data row11 col2\" >18.3188</td>\n",
       "                        <td id=\"T_18058_row11_col3\" class=\"data row11 col3\" >0.0335</td>\n",
       "                        <td id=\"T_18058_row11_col4\" class=\"data row11 col4\" >0.0380</td>\n",
       "                        <td id=\"T_18058_row11_col5\" class=\"data row11 col5\" >0.1837</td>\n",
       "            </tr>\n",
       "    </tbody></table>"
      ],
      "text/plain": [
       "<pandas.io.formats.style.Styler at 0x7fc755ddb490>"
      ]
     },
     "metadata": {},
     "output_type": "display_data"
    }
   ],
   "source": [
    "ridge = create_model('ridge')"
   ]
  },
  {
   "cell_type": "code",
   "execution_count": 69,
   "metadata": {},
   "outputs": [
    {
     "data": {
      "text/html": [
       "<style  type=\"text/css\" >\n",
       "#T_e1c92_row10_col0,#T_e1c92_row10_col1,#T_e1c92_row10_col2,#T_e1c92_row10_col3,#T_e1c92_row10_col4,#T_e1c92_row10_col5{\n",
       "            background:  yellow;\n",
       "        }</style><table id=\"T_e1c92_\" ><thead>    <tr>        <th class=\"blank level0\" ></th>        <th class=\"col_heading level0 col0\" >MAE</th>        <th class=\"col_heading level0 col1\" >MSE</th>        <th class=\"col_heading level0 col2\" >RMSE</th>        <th class=\"col_heading level0 col3\" >R2</th>        <th class=\"col_heading level0 col4\" >RMSLE</th>        <th class=\"col_heading level0 col5\" >MAPE</th>    </tr></thead><tbody>\n",
       "                <tr>\n",
       "                        <th id=\"T_e1c92_level0_row0\" class=\"row_heading level0 row0\" >0</th>\n",
       "                        <td id=\"T_e1c92_row0_col0\" class=\"data row0 col0\" >121.4979</td>\n",
       "                        <td id=\"T_e1c92_row0_col1\" class=\"data row0 col1\" >88234.1068</td>\n",
       "                        <td id=\"T_e1c92_row0_col2\" class=\"data row0 col2\" >297.0423</td>\n",
       "                        <td id=\"T_e1c92_row0_col3\" class=\"data row0 col3\" >0.6459</td>\n",
       "                        <td id=\"T_e1c92_row0_col4\" class=\"data row0 col4\" >2.8767</td>\n",
       "                        <td id=\"T_e1c92_row0_col5\" class=\"data row0 col5\" >0.8031</td>\n",
       "            </tr>\n",
       "            <tr>\n",
       "                        <th id=\"T_e1c92_level0_row1\" class=\"row_heading level0 row1\" >1</th>\n",
       "                        <td id=\"T_e1c92_row1_col0\" class=\"data row1 col0\" >125.2104</td>\n",
       "                        <td id=\"T_e1c92_row1_col1\" class=\"data row1 col1\" >115775.8344</td>\n",
       "                        <td id=\"T_e1c92_row1_col2\" class=\"data row1 col2\" >340.2585</td>\n",
       "                        <td id=\"T_e1c92_row1_col3\" class=\"data row1 col3\" >0.5533</td>\n",
       "                        <td id=\"T_e1c92_row1_col4\" class=\"data row1 col4\" >2.9507</td>\n",
       "                        <td id=\"T_e1c92_row1_col5\" class=\"data row1 col5\" >0.8099</td>\n",
       "            </tr>\n",
       "            <tr>\n",
       "                        <th id=\"T_e1c92_level0_row2\" class=\"row_heading level0 row2\" >2</th>\n",
       "                        <td id=\"T_e1c92_row2_col0\" class=\"data row2 col0\" >125.7170</td>\n",
       "                        <td id=\"T_e1c92_row2_col1\" class=\"data row2 col1\" >107030.5452</td>\n",
       "                        <td id=\"T_e1c92_row2_col2\" class=\"data row2 col2\" >327.1552</td>\n",
       "                        <td id=\"T_e1c92_row2_col3\" class=\"data row2 col3\" >0.6039</td>\n",
       "                        <td id=\"T_e1c92_row2_col4\" class=\"data row2 col4\" >2.8350</td>\n",
       "                        <td id=\"T_e1c92_row2_col5\" class=\"data row2 col5\" >0.9304</td>\n",
       "            </tr>\n",
       "            <tr>\n",
       "                        <th id=\"T_e1c92_level0_row3\" class=\"row_heading level0 row3\" >3</th>\n",
       "                        <td id=\"T_e1c92_row3_col0\" class=\"data row3 col0\" >121.6526</td>\n",
       "                        <td id=\"T_e1c92_row3_col1\" class=\"data row3 col1\" >94174.1451</td>\n",
       "                        <td id=\"T_e1c92_row3_col2\" class=\"data row3 col2\" >306.8781</td>\n",
       "                        <td id=\"T_e1c92_row3_col3\" class=\"data row3 col3\" >0.5977</td>\n",
       "                        <td id=\"T_e1c92_row3_col4\" class=\"data row3 col4\" >2.9003</td>\n",
       "                        <td id=\"T_e1c92_row3_col5\" class=\"data row3 col5\" >0.9630</td>\n",
       "            </tr>\n",
       "            <tr>\n",
       "                        <th id=\"T_e1c92_level0_row4\" class=\"row_heading level0 row4\" >4</th>\n",
       "                        <td id=\"T_e1c92_row4_col0\" class=\"data row4 col0\" >117.3765</td>\n",
       "                        <td id=\"T_e1c92_row4_col1\" class=\"data row4 col1\" >82872.7785</td>\n",
       "                        <td id=\"T_e1c92_row4_col2\" class=\"data row4 col2\" >287.8763</td>\n",
       "                        <td id=\"T_e1c92_row4_col3\" class=\"data row4 col3\" >0.5930</td>\n",
       "                        <td id=\"T_e1c92_row4_col4\" class=\"data row4 col4\" >2.8933</td>\n",
       "                        <td id=\"T_e1c92_row4_col5\" class=\"data row4 col5\" >1.4802</td>\n",
       "            </tr>\n",
       "            <tr>\n",
       "                        <th id=\"T_e1c92_level0_row5\" class=\"row_heading level0 row5\" >5</th>\n",
       "                        <td id=\"T_e1c92_row5_col0\" class=\"data row5 col0\" >122.8418</td>\n",
       "                        <td id=\"T_e1c92_row5_col1\" class=\"data row5 col1\" >101486.6557</td>\n",
       "                        <td id=\"T_e1c92_row5_col2\" class=\"data row5 col2\" >318.5697</td>\n",
       "                        <td id=\"T_e1c92_row5_col3\" class=\"data row5 col3\" >0.5580</td>\n",
       "                        <td id=\"T_e1c92_row5_col4\" class=\"data row5 col4\" >2.8869</td>\n",
       "                        <td id=\"T_e1c92_row5_col5\" class=\"data row5 col5\" >0.9097</td>\n",
       "            </tr>\n",
       "            <tr>\n",
       "                        <th id=\"T_e1c92_level0_row6\" class=\"row_heading level0 row6\" >6</th>\n",
       "                        <td id=\"T_e1c92_row6_col0\" class=\"data row6 col0\" >128.1112</td>\n",
       "                        <td id=\"T_e1c92_row6_col1\" class=\"data row6 col1\" >102268.0101</td>\n",
       "                        <td id=\"T_e1c92_row6_col2\" class=\"data row6 col2\" >319.7937</td>\n",
       "                        <td id=\"T_e1c92_row6_col3\" class=\"data row6 col3\" >0.5627</td>\n",
       "                        <td id=\"T_e1c92_row6_col4\" class=\"data row6 col4\" >2.9323</td>\n",
       "                        <td id=\"T_e1c92_row6_col5\" class=\"data row6 col5\" >1.0676</td>\n",
       "            </tr>\n",
       "            <tr>\n",
       "                        <th id=\"T_e1c92_level0_row7\" class=\"row_heading level0 row7\" >7</th>\n",
       "                        <td id=\"T_e1c92_row7_col0\" class=\"data row7 col0\" >125.2705</td>\n",
       "                        <td id=\"T_e1c92_row7_col1\" class=\"data row7 col1\" >101657.9148</td>\n",
       "                        <td id=\"T_e1c92_row7_col2\" class=\"data row7 col2\" >318.8384</td>\n",
       "                        <td id=\"T_e1c92_row7_col3\" class=\"data row7 col3\" >0.5636</td>\n",
       "                        <td id=\"T_e1c92_row7_col4\" class=\"data row7 col4\" >2.8883</td>\n",
       "                        <td id=\"T_e1c92_row7_col5\" class=\"data row7 col5\" >0.9529</td>\n",
       "            </tr>\n",
       "            <tr>\n",
       "                        <th id=\"T_e1c92_level0_row8\" class=\"row_heading level0 row8\" >8</th>\n",
       "                        <td id=\"T_e1c92_row8_col0\" class=\"data row8 col0\" >124.9839</td>\n",
       "                        <td id=\"T_e1c92_row8_col1\" class=\"data row8 col1\" >108008.5608</td>\n",
       "                        <td id=\"T_e1c92_row8_col2\" class=\"data row8 col2\" >328.6466</td>\n",
       "                        <td id=\"T_e1c92_row8_col3\" class=\"data row8 col3\" >0.5690</td>\n",
       "                        <td id=\"T_e1c92_row8_col4\" class=\"data row8 col4\" >2.9593</td>\n",
       "                        <td id=\"T_e1c92_row8_col5\" class=\"data row8 col5\" >1.1001</td>\n",
       "            </tr>\n",
       "            <tr>\n",
       "                        <th id=\"T_e1c92_level0_row9\" class=\"row_heading level0 row9\" >9</th>\n",
       "                        <td id=\"T_e1c92_row9_col0\" class=\"data row9 col0\" >132.9947</td>\n",
       "                        <td id=\"T_e1c92_row9_col1\" class=\"data row9 col1\" >120653.6386</td>\n",
       "                        <td id=\"T_e1c92_row9_col2\" class=\"data row9 col2\" >347.3523</td>\n",
       "                        <td id=\"T_e1c92_row9_col3\" class=\"data row9 col3\" >0.5774</td>\n",
       "                        <td id=\"T_e1c92_row9_col4\" class=\"data row9 col4\" >2.9523</td>\n",
       "                        <td id=\"T_e1c92_row9_col5\" class=\"data row9 col5\" >0.9322</td>\n",
       "            </tr>\n",
       "            <tr>\n",
       "                        <th id=\"T_e1c92_level0_row10\" class=\"row_heading level0 row10\" >Mean</th>\n",
       "                        <td id=\"T_e1c92_row10_col0\" class=\"data row10 col0\" >124.5657</td>\n",
       "                        <td id=\"T_e1c92_row10_col1\" class=\"data row10 col1\" >102216.2190</td>\n",
       "                        <td id=\"T_e1c92_row10_col2\" class=\"data row10 col2\" >319.2411</td>\n",
       "                        <td id=\"T_e1c92_row10_col3\" class=\"data row10 col3\" >0.5825</td>\n",
       "                        <td id=\"T_e1c92_row10_col4\" class=\"data row10 col4\" >2.9075</td>\n",
       "                        <td id=\"T_e1c92_row10_col5\" class=\"data row10 col5\" >0.9949</td>\n",
       "            </tr>\n",
       "            <tr>\n",
       "                        <th id=\"T_e1c92_level0_row11\" class=\"row_heading level0 row11\" >SD</th>\n",
       "                        <td id=\"T_e1c92_row11_col0\" class=\"data row11 col0\" >3.9823</td>\n",
       "                        <td id=\"T_e1c92_row11_col1\" class=\"data row11 col1\" >11025.9708</td>\n",
       "                        <td id=\"T_e1c92_row11_col2\" class=\"data row11 col2\" >17.3591</td>\n",
       "                        <td id=\"T_e1c92_row11_col3\" class=\"data row11 col3\" >0.0269</td>\n",
       "                        <td id=\"T_e1c92_row11_col4\" class=\"data row11 col4\" >0.0380</td>\n",
       "                        <td id=\"T_e1c92_row11_col5\" class=\"data row11 col5\" >0.1847</td>\n",
       "            </tr>\n",
       "    </tbody></table>"
      ],
      "text/plain": [
       "<pandas.io.formats.style.Styler at 0x7fc754629090>"
      ]
     },
     "metadata": {},
     "output_type": "display_data"
    }
   ],
   "source": [
    "tuned_ridge = tune_model(ridge)"
   ]
  },
  {
   "cell_type": "code",
   "execution_count": 70,
   "metadata": {},
   "outputs": [
    {
     "name": "stdout",
     "output_type": "stream",
     "text": [
      "Ridge(alpha=2.81, copy_X=True, fit_intercept=False, max_iter=None,\n",
      "      normalize=True, random_state=123, solver='auto', tol=0.001)\n"
     ]
    }
   ],
   "source": [
    "print(tuned_ridge)"
   ]
  },
  {
   "cell_type": "code",
   "execution_count": 71,
   "metadata": {},
   "outputs": [
    {
     "data": {
      "image/png": "[encoded data removed]",
      "text/plain": [
       "<Figure size 432x288 with 2 Axes>"
      ]
     },
     "metadata": {
      "needs_background": "light"
     },
     "output_type": "display_data"
    }
   ],
   "source": [
    "plot_model(tuned_ridge)"
   ]
  },
  {
   "cell_type": "code",
   "execution_count": 72,
   "metadata": {},
   "outputs": [
    {
     "data": {
      "image/png": "[encoded data removed]",
      "text/plain": [
       "<Figure size 432x288 with 1 Axes>"
      ]
     },
     "metadata": {
      "needs_background": "light"
     },
     "output_type": "display_data"
    }
   ],
   "source": [
    "plot_model(tuned_ridge, plot = 'error')"
   ]
  },
  {
   "cell_type": "code",
   "execution_count": 73,
   "metadata": {},
   "outputs": [
    {
     "data": {
      "image/png": "[encoded data removed]",
      "text/plain": [
       "<Figure size 800x500 with 1 Axes>"
      ]
     },
     "metadata": {
      "needs_background": "light"
     },
     "output_type": "display_data"
    }
   ],
   "source": [
    "plot_model(tuned_ridge, plot='feature')"
   ]
  },
  {
   "cell_type": "code",
   "execution_count": 74,
   "metadata": {},
   "outputs": [
    {
     "data": {
      "text/html": [
       "<style  type=\"text/css\" >\n",
       "</style><table id=\"T_e0a50_\" ><thead>    <tr>        <th class=\"blank level0\" ></th>        <th class=\"col_heading level0 col0\" >Model</th>        <th class=\"col_heading level0 col1\" >MAE</th>        <th class=\"col_heading level0 col2\" >MSE</th>        <th class=\"col_heading level0 col3\" >RMSE</th>        <th class=\"col_heading level0 col4\" >R2</th>        <th class=\"col_heading level0 col5\" >RMSLE</th>        <th class=\"col_heading level0 col6\" >MAPE</th>    </tr></thead><tbody>\n",
       "                <tr>\n",
       "                        <th id=\"T_e0a50_level0_row0\" class=\"row_heading level0 row0\" >0</th>\n",
       "                        <td id=\"T_e0a50_row0_col0\" class=\"data row0 col0\" >Ridge Regression</td>\n",
       "                        <td id=\"T_e0a50_row0_col1\" class=\"data row0 col1\" >125.2325</td>\n",
       "                        <td id=\"T_e0a50_row0_col2\" class=\"data row0 col2\" >106412.3385</td>\n",
       "                        <td id=\"T_e0a50_row0_col3\" class=\"data row0 col3\" >326.2090</td>\n",
       "                        <td id=\"T_e0a50_row0_col4\" class=\"data row0 col4\" >0.5606</td>\n",
       "                        <td id=\"T_e0a50_row0_col5\" class=\"data row0 col5\" >2.9113</td>\n",
       "                        <td id=\"T_e0a50_row0_col6\" class=\"data row0 col6\" >1.0192</td>\n",
       "            </tr>\n",
       "    </tbody></table>"
      ],
      "text/plain": [
       "<pandas.io.formats.style.Styler at 0x7fc74e673e90>"
      ]
     },
     "metadata": {},
     "output_type": "display_data"
    }
   ],
   "source": [
    "predict_model(tuned_ridge);"
   ]
  },
  {
   "cell_type": "code",
   "execution_count": 75,
   "metadata": {},
   "outputs": [],
   "source": [
    "final_ridge = finalize_model(tuned_ridge)"
   ]
  },
  {
   "cell_type": "code",
   "execution_count": 76,
   "metadata": {},
   "outputs": [
    {
     "name": "stdout",
     "output_type": "stream",
     "text": [
      "Ridge(alpha=2.81, copy_X=True, fit_intercept=False, max_iter=None,\n",
      "      normalize=True, random_state=123, solver='auto', tol=0.001)\n"
     ]
    }
   ],
   "source": [
    "print(final_ridge)"
   ]
  },
  {
   "cell_type": "code",
   "execution_count": 166,
   "metadata": {},
   "outputs": [
    {
     "data": {
      "text/html": [
       "<style  type=\"text/css\" >\n",
       "</style><table id=\"T_15170_\" ><thead>    <tr>        <th class=\"blank level0\" ></th>        <th class=\"col_heading level0 col0\" >Model</th>        <th class=\"col_heading level0 col1\" >MAE</th>        <th class=\"col_heading level0 col2\" >MSE</th>        <th class=\"col_heading level0 col3\" >RMSE</th>        <th class=\"col_heading level0 col4\" >R2</th>        <th class=\"col_heading level0 col5\" >RMSLE</th>        <th class=\"col_heading level0 col6\" >MAPE</th>    </tr></thead><tbody>\n",
       "                <tr>\n",
       "                        <th id=\"T_15170_level0_row0\" class=\"row_heading level0 row0\" >0</th>\n",
       "                        <td id=\"T_15170_row0_col0\" class=\"data row0 col0\" >Ridge Regression</td>\n",
       "                        <td id=\"T_15170_row0_col1\" class=\"data row0 col1\" >124.4909</td>\n",
       "                        <td id=\"T_15170_row0_col2\" class=\"data row0 col2\" >104687.5451</td>\n",
       "                        <td id=\"T_15170_row0_col3\" class=\"data row0 col3\" >323.5545</td>\n",
       "                        <td id=\"T_15170_row0_col4\" class=\"data row0 col4\" >0.5678</td>\n",
       "                        <td id=\"T_15170_row0_col5\" class=\"data row0 col5\" >2.9090</td>\n",
       "                        <td id=\"T_15170_row0_col6\" class=\"data row0 col6\" >1.0059</td>\n",
       "            </tr>\n",
       "    </tbody></table>"
      ],
      "text/plain": [
       "<pandas.io.formats.style.Styler at 0x7fc741a13f10>"
      ]
     },
     "metadata": {},
     "output_type": "display_data"
    }
   ],
   "source": [
    "predict_model(final_ridge);"
   ]
  },
  {
   "cell_type": "code",
   "execution_count": 78,
   "metadata": {},
   "outputs": [],
   "source": [
    "unseen_predictions = predict_model(final_ridge, data=data_unseen)"
   ]
  },
  {
   "cell_type": "code",
   "execution_count": 79,
   "metadata": {},
   "outputs": [
    {
     "data": {
      "text/plain": [
       "0.5744"
      ]
     },
     "execution_count": 79,
     "metadata": {},
     "output_type": "execute_result"
    }
   ],
   "source": [
    "from pycaret.utils import check_metric\n",
    "check_metric(unseen_predictions.sp_cj_total_days, unseen_predictions.Label, 'R2')"
   ]
  },
  {
   "cell_type": "code",
   "execution_count": 80,
   "metadata": {},
   "outputs": [
    {
     "data": {
      "text/plain": [
       "0.6452"
      ]
     },
     "execution_count": 80,
     "metadata": {},
     "output_type": "execute_result"
    }
   ],
   "source": [
    "check_metric(unseen_predictions[unseen_predictions.race==\"BLACK\"].sp_cj_total_days, unseen_predictions[unseen_predictions.race==\"BLACK\"].Label, 'R2')"
   ]
  },
  {
   "cell_type": "code",
   "execution_count": 81,
   "metadata": {},
   "outputs": [
    {
     "data": {
      "text/plain": [
       "0.4954"
      ]
     },
     "execution_count": 81,
     "metadata": {},
     "output_type": "execute_result"
    }
   ],
   "source": [
    "check_metric(unseen_predictions[unseen_predictions.race==\"WHITE\"].sp_cj_total_days, unseen_predictions[unseen_predictions.race==\"WHITE\"].Label, 'R2')"
   ]
  },
  {
   "cell_type": "code",
   "execution_count": 82,
   "metadata": {},
   "outputs": [
    {
     "name": "stdout",
     "output_type": "stream",
     "text": [
      "Transformation Pipeline and Model Successfully Saved\n"
     ]
    },
    {
     "data": {
      "text/plain": [
       "(Pipeline(memory=None,\n",
       "          steps=[('dtypes',\n",
       "                  DataTypes_Auto_infer(categorical_features=[],\n",
       "                                       display_types=True, features_todrop=[],\n",
       "                                       id_columns=[], ml_usecase='regression',\n",
       "                                       numerical_features=[],\n",
       "                                       target='sp_cj_total_days',\n",
       "                                       time_features=[])),\n",
       "                 ('imputer',\n",
       "                  Simple_Imputer(categorical_strategy='not_available',\n",
       "                                 fill_value_categorical=None,\n",
       "                                 fill_value_numerical=None,\n",
       "                                 numeric...\n",
       "                 ('dummy', Dummify(target='sp_cj_total_days')),\n",
       "                 ('fix_perfect', Remove_100(target='sp_cj_total_days')),\n",
       "                 ('clean_names', Clean_Colum_Names()),\n",
       "                 ('feature_select', 'passthrough'), ('fix_multi', 'passthrough'),\n",
       "                 ('dfs', 'passthrough'), ('pca', 'passthrough'),\n",
       "                 ['trained_model',\n",
       "                  Ridge(alpha=2.81, copy_X=True, fit_intercept=False,\n",
       "                        max_iter=None, normalize=True, random_state=123,\n",
       "                        solver='auto', tol=0.001)]],\n",
       "          verbose=False),\n",
       " 'Final LightGBM Model (Pin-893) 23Feb2022.pkl')"
      ]
     },
     "execution_count": 82,
     "metadata": {},
     "output_type": "execute_result"
    }
   ],
   "source": [
    "save_model(final_ridge,'Final LightGBM Model (Pin-893) 23Feb2022')"
   ]
  },
  {
   "cell_type": "code",
   "execution_count": 83,
   "metadata": {},
   "outputs": [
    {
     "data": {
      "text/plain": [
       "(26523, 29)"
      ]
     },
     "execution_count": 83,
     "metadata": {},
     "output_type": "execute_result"
    }
   ],
   "source": [
    "get_config('X_train').shape"
   ]
  },
  {
   "cell_type": "code",
   "execution_count": 84,
   "metadata": {},
   "outputs": [
    {
     "data": {
      "text/plain": [
       "age                                float32\n",
       "gender_FEMALE                      float32\n",
       "race_BLACK                         float32\n",
       "race_OTHER                         float32\n",
       "race_WHITE                         float32\n",
       "circuit_CIRCUIT 06 - CLEARWATER    float32\n",
       "totpts_cut_group_0                 float32\n",
       "totpts_cut_group_1                 float32\n",
       "totpts_cut_group_10                float32\n",
       "totpts_cut_group_11                float32\n",
       "totpts_cut_group_12                float32\n",
       "totpts_cut_group_13                float32\n",
       "totpts_cut_group_14                float32\n",
       "totpts_cut_group_15                float32\n",
       "totpts_cut_group_16                float32\n",
       "totpts_cut_group_17                float32\n",
       "totpts_cut_group_2                 float32\n",
       "totpts_cut_group_3                 float32\n",
       "totpts_cut_group_4                 float32\n",
       "totpts_cut_group_5                 float32\n",
       "totpts_cut_group_6                 float32\n",
       "totpts_cut_group_7                 float32\n",
       "totpts_cut_group_8                 float32\n",
       "totpts_cut_group_9                 float32\n",
       "clfely_1ST DEGREE                  float32\n",
       "clfely_1ST/LIFE                    float32\n",
       "clfely_2ND DEGREE                  float32\n",
       "clfely_3RD DEGREE                  float32\n",
       "clfely_LIFE                        float32\n",
       "dtype: object"
      ]
     },
     "execution_count": 84,
     "metadata": {},
     "output_type": "execute_result"
    }
   ],
   "source": [
    "get_config('X_test').dtypes"
   ]
  },
  {
   "cell_type": "code",
   "execution_count": 85,
   "metadata": {},
   "outputs": [
    {
     "data": {
      "text/plain": [
       "<AxesSubplot:>"
      ]
     },
     "execution_count": 85,
     "metadata": {},
     "output_type": "execute_result"
    },
    {
     "data": {
      "image/png": "[encoded data removed]",
      "text/plain": [
       "<Figure size 432x288 with 1 Axes>"
      ]
     },
     "metadata": {
      "needs_background": "light"
     },
     "output_type": "display_data"
    }
   ],
   "source": [
    "get_config('X_train').age.hist()"
   ]
  },
  {
   "cell_type": "code",
   "execution_count": 86,
   "metadata": {},
   "outputs": [
    {
     "data": {
      "text/plain": [
       "['sp_cj_total_days',\n",
       " 'gender',\n",
       " 'age',\n",
       " 'race',\n",
       " 'circuit',\n",
       " 'totpts_cut_group',\n",
       " 'clfely']"
      ]
     },
     "execution_count": 86,
     "metadata": {},
     "output_type": "execute_result"
    }
   ],
   "source": [
    "list(data_unseen.columns)"
   ]
  },
  {
   "cell_type": "code",
   "execution_count": 87,
   "metadata": {},
   "outputs": [
    {
     "data": {
      "text/html": [
       "<div>\n",
       "<style scoped>\n",
       "    .dataframe tbody tr th:only-of-type {\n",
       "        vertical-align: middle;\n",
       "    }\n",
       "\n",
       "    .dataframe tbody tr th {\n",
       "        vertical-align: top;\n",
       "    }\n",
       "\n",
       "    .dataframe thead th {\n",
       "        text-align: right;\n",
       "    }\n",
       "</style>\n",
       "<table border=\"1\" class=\"dataframe\">\n",
       "  <thead>\n",
       "    <tr style=\"text-align: right;\">\n",
       "      <th></th>\n",
       "      <th>sp_cj_total_days</th>\n",
       "      <th>gender</th>\n",
       "      <th>age</th>\n",
       "      <th>race</th>\n",
       "      <th>circuit</th>\n",
       "      <th>totpts_cut_group</th>\n",
       "      <th>clfely</th>\n",
       "    </tr>\n",
       "  </thead>\n",
       "  <tbody>\n",
       "    <tr>\n",
       "      <th>0</th>\n",
       "      <td>1482</td>\n",
       "      <td>MALE</td>\n",
       "      <td>19</td>\n",
       "      <td>BLACK</td>\n",
       "      <td>CIRCUIT 06 - CLEARWATER</td>\n",
       "      <td>6</td>\n",
       "      <td>2ND DEGREE</td>\n",
       "    </tr>\n",
       "    <tr>\n",
       "      <th>1</th>\n",
       "      <td>9</td>\n",
       "      <td>MALE</td>\n",
       "      <td>42</td>\n",
       "      <td>BLACK</td>\n",
       "      <td>CIRCUIT 06 - CLEARWATER</td>\n",
       "      <td>1</td>\n",
       "      <td>3RD DEGREE</td>\n",
       "    </tr>\n",
       "  </tbody>\n",
       "</table>\n",
       "</div>"
      ],
      "text/plain": [
       "   sp_cj_total_days gender  age   race                  circuit  \\\n",
       "0              1482   MALE   19  BLACK  CIRCUIT 06 - CLEARWATER   \n",
       "1                 9   MALE   42  BLACK  CIRCUIT 06 - CLEARWATER   \n",
       "\n",
       "   totpts_cut_group      clfely  \n",
       "0                 6  2ND DEGREE  \n",
       "1                 1  3RD DEGREE  "
      ]
     },
     "execution_count": 87,
     "metadata": {},
     "output_type": "execute_result"
    }
   ],
   "source": [
    "data_unseen.head(2)"
   ]
  },
  {
   "cell_type": "code",
   "execution_count": 162,
   "metadata": {},
   "outputs": [
    {
     "data": {
      "text/plain": [
       "pandas.core.indexes.base.Index"
      ]
     },
     "execution_count": 162,
     "metadata": {},
     "output_type": "execute_result"
    }
   ],
   "source": [
    "type(data_unseen.columns)"
   ]
  },
  {
   "cell_type": "code",
   "execution_count": 146,
   "metadata": {},
   "outputs": [
    {
     "name": "stdout",
     "output_type": "stream",
     "text": [
      "0\n"
     ]
    }
   ],
   "source": [
    "r = pd.Series(0, index=data_unseen.columns)\n",
    "\n",
    "pinnelas = pd.DataFrame(columns=data_unseen.columns)\n",
    "print(len(pinnelas))"
   ]
  },
  {
   "cell_type": "code",
   "execution_count": 147,
   "metadata": {},
   "outputs": [],
   "source": [
    "for age in range(14,100):\n",
    "    for gender in (\"MALE\",\"FEMALE\"):\n",
    "        for race in [\"BLACK\", \"WHITE\", \"OTHER\"]:\n",
    "            for ptsgrp in range(0,18):\n",
    "                for fly in [\"1ST DEGREE\", \"1ST/LIFE\", \"2ND DEGREE\", \"3RD DEGREE\", \"LIFE\"]:\n",
    "                    row=r.copy()\n",
    "                    row[list(data_unseen.columns).append] = \\\n",
    "                        [0, gender, age, race, \"CIRCUIT 06 - CLEARWATER\",ptsgrp,fly]\n",
    "                    pinnelas = pinnelas.append(row, ignore_index=True)\n",
    "                    "
   ]
  },
  {
   "cell_type": "code",
   "execution_count": 176,
   "metadata": {},
   "outputs": [],
   "source": [
    "final = predict_model(final_ridge, data=pinnelas)\n",
    "final.rename(columns = {'Label':'predicted_sentence_days'}, inplace = True)"
   ]
  },
  {
   "cell_type": "code",
   "execution_count": 177,
   "metadata": {},
   "outputs": [],
   "source": [
    "final[\"error_margin_days\"]=323.5545"
   ]
  },
  {
   "cell_type": "code",
   "execution_count": 178,
   "metadata": {},
   "outputs": [
    {
     "data": {
      "text/html": [
       "<div>\n",
       "<style scoped>\n",
       "    .dataframe tbody tr th:only-of-type {\n",
       "        vertical-align: middle;\n",
       "    }\n",
       "\n",
       "    .dataframe tbody tr th {\n",
       "        vertical-align: top;\n",
       "    }\n",
       "\n",
       "    .dataframe thead th {\n",
       "        text-align: right;\n",
       "    }\n",
       "</style>\n",
       "<table border=\"1\" class=\"dataframe\">\n",
       "  <thead>\n",
       "    <tr style=\"text-align: right;\">\n",
       "      <th></th>\n",
       "      <th>sp_cj_total_days</th>\n",
       "      <th>gender</th>\n",
       "      <th>age</th>\n",
       "      <th>race</th>\n",
       "      <th>circuit</th>\n",
       "      <th>totpts_cut_group</th>\n",
       "      <th>clfely</th>\n",
       "      <th>predicted_sentence_days</th>\n",
       "      <th>error_margin_days</th>\n",
       "    </tr>\n",
       "  </thead>\n",
       "  <tbody>\n",
       "    <tr>\n",
       "      <th>0</th>\n",
       "      <td>0</td>\n",
       "      <td>MALE</td>\n",
       "      <td>14</td>\n",
       "      <td>BLACK</td>\n",
       "      <td>CIRCUIT 06 - CLEARWATER</td>\n",
       "      <td>0</td>\n",
       "      <td>1ST DEGREE</td>\n",
       "      <td>280.669922</td>\n",
       "      <td>323.5545</td>\n",
       "    </tr>\n",
       "    <tr>\n",
       "      <th>1</th>\n",
       "      <td>0</td>\n",
       "      <td>MALE</td>\n",
       "      <td>14</td>\n",
       "      <td>BLACK</td>\n",
       "      <td>CIRCUIT 06 - CLEARWATER</td>\n",
       "      <td>0</td>\n",
       "      <td>1ST/LIFE</td>\n",
       "      <td>210.320328</td>\n",
       "      <td>323.5545</td>\n",
       "    </tr>\n",
       "    <tr>\n",
       "      <th>2</th>\n",
       "      <td>0</td>\n",
       "      <td>MALE</td>\n",
       "      <td>14</td>\n",
       "      <td>BLACK</td>\n",
       "      <td>CIRCUIT 06 - CLEARWATER</td>\n",
       "      <td>0</td>\n",
       "      <td>2ND DEGREE</td>\n",
       "      <td>88.476219</td>\n",
       "      <td>323.5545</td>\n",
       "    </tr>\n",
       "    <tr>\n",
       "      <th>3</th>\n",
       "      <td>0</td>\n",
       "      <td>MALE</td>\n",
       "      <td>14</td>\n",
       "      <td>BLACK</td>\n",
       "      <td>CIRCUIT 06 - CLEARWATER</td>\n",
       "      <td>0</td>\n",
       "      <td>3RD DEGREE</td>\n",
       "      <td>37.259163</td>\n",
       "      <td>323.5545</td>\n",
       "    </tr>\n",
       "    <tr>\n",
       "      <th>4</th>\n",
       "      <td>0</td>\n",
       "      <td>MALE</td>\n",
       "      <td>14</td>\n",
       "      <td>BLACK</td>\n",
       "      <td>CIRCUIT 06 - CLEARWATER</td>\n",
       "      <td>0</td>\n",
       "      <td>LIFE</td>\n",
       "      <td>346.169708</td>\n",
       "      <td>323.5545</td>\n",
       "    </tr>\n",
       "    <tr>\n",
       "      <th>...</th>\n",
       "      <td>...</td>\n",
       "      <td>...</td>\n",
       "      <td>...</td>\n",
       "      <td>...</td>\n",
       "      <td>...</td>\n",
       "      <td>...</td>\n",
       "      <td>...</td>\n",
       "      <td>...</td>\n",
       "      <td>...</td>\n",
       "    </tr>\n",
       "    <tr>\n",
       "      <th>46435</th>\n",
       "      <td>0</td>\n",
       "      <td>FEMALE</td>\n",
       "      <td>99</td>\n",
       "      <td>OTHER</td>\n",
       "      <td>CIRCUIT 06 - CLEARWATER</td>\n",
       "      <td>17</td>\n",
       "      <td>1ST DEGREE</td>\n",
       "      <td>3976.973145</td>\n",
       "      <td>323.5545</td>\n",
       "    </tr>\n",
       "    <tr>\n",
       "      <th>46436</th>\n",
       "      <td>0</td>\n",
       "      <td>FEMALE</td>\n",
       "      <td>99</td>\n",
       "      <td>OTHER</td>\n",
       "      <td>CIRCUIT 06 - CLEARWATER</td>\n",
       "      <td>17</td>\n",
       "      <td>1ST/LIFE</td>\n",
       "      <td>3906.623535</td>\n",
       "      <td>323.5545</td>\n",
       "    </tr>\n",
       "    <tr>\n",
       "      <th>46437</th>\n",
       "      <td>0</td>\n",
       "      <td>FEMALE</td>\n",
       "      <td>99</td>\n",
       "      <td>OTHER</td>\n",
       "      <td>CIRCUIT 06 - CLEARWATER</td>\n",
       "      <td>17</td>\n",
       "      <td>2ND DEGREE</td>\n",
       "      <td>3784.779541</td>\n",
       "      <td>323.5545</td>\n",
       "    </tr>\n",
       "    <tr>\n",
       "      <th>46438</th>\n",
       "      <td>0</td>\n",
       "      <td>FEMALE</td>\n",
       "      <td>99</td>\n",
       "      <td>OTHER</td>\n",
       "      <td>CIRCUIT 06 - CLEARWATER</td>\n",
       "      <td>17</td>\n",
       "      <td>3RD DEGREE</td>\n",
       "      <td>3733.562500</td>\n",
       "      <td>323.5545</td>\n",
       "    </tr>\n",
       "    <tr>\n",
       "      <th>46439</th>\n",
       "      <td>0</td>\n",
       "      <td>FEMALE</td>\n",
       "      <td>99</td>\n",
       "      <td>OTHER</td>\n",
       "      <td>CIRCUIT 06 - CLEARWATER</td>\n",
       "      <td>17</td>\n",
       "      <td>LIFE</td>\n",
       "      <td>4042.472900</td>\n",
       "      <td>323.5545</td>\n",
       "    </tr>\n",
       "  </tbody>\n",
       "</table>\n",
       "<p>46440 rows × 9 columns</p>\n",
       "</div>"
      ],
      "text/plain": [
       "      sp_cj_total_days  gender age   race                  circuit  \\\n",
       "0                    0    MALE  14  BLACK  CIRCUIT 06 - CLEARWATER   \n",
       "1                    0    MALE  14  BLACK  CIRCUIT 06 - CLEARWATER   \n",
       "2                    0    MALE  14  BLACK  CIRCUIT 06 - CLEARWATER   \n",
       "3                    0    MALE  14  BLACK  CIRCUIT 06 - CLEARWATER   \n",
       "4                    0    MALE  14  BLACK  CIRCUIT 06 - CLEARWATER   \n",
       "...                ...     ...  ..    ...                      ...   \n",
       "46435                0  FEMALE  99  OTHER  CIRCUIT 06 - CLEARWATER   \n",
       "46436                0  FEMALE  99  OTHER  CIRCUIT 06 - CLEARWATER   \n",
       "46437                0  FEMALE  99  OTHER  CIRCUIT 06 - CLEARWATER   \n",
       "46438                0  FEMALE  99  OTHER  CIRCUIT 06 - CLEARWATER   \n",
       "46439                0  FEMALE  99  OTHER  CIRCUIT 06 - CLEARWATER   \n",
       "\n",
       "      totpts_cut_group      clfely  predicted_sentence_days  error_margin_days  \n",
       "0                    0  1ST DEGREE               280.669922           323.5545  \n",
       "1                    0    1ST/LIFE               210.320328           323.5545  \n",
       "2                    0  2ND DEGREE                88.476219           323.5545  \n",
       "3                    0  3RD DEGREE                37.259163           323.5545  \n",
       "4                    0        LIFE               346.169708           323.5545  \n",
       "...                ...         ...                      ...                ...  \n",
       "46435               17  1ST DEGREE              3976.973145           323.5545  \n",
       "46436               17    1ST/LIFE              3906.623535           323.5545  \n",
       "46437               17  2ND DEGREE              3784.779541           323.5545  \n",
       "46438               17  3RD DEGREE              3733.562500           323.5545  \n",
       "46439               17        LIFE              4042.472900           323.5545  \n",
       "\n",
       "[46440 rows x 9 columns]"
      ]
     },
     "execution_count": 178,
     "metadata": {},
     "output_type": "execute_result"
    }
   ],
   "source": [
    "final"
   ]
  },
  {
   "cell_type": "code",
   "execution_count": 182,
   "metadata": {},
   "outputs": [],
   "source": [
    "final.to_csv(\"./predictions.csv\",index=False)"
   ]
  },
  {
   "cell_type": "code",
   "execution_count": null,
   "metadata": {},
   "outputs": [],
   "source": []
  }
 ],
 "metadata": {
  "interpreter": {
   "hash": "aee8b7b246df8f9039afb4144a1f6fd8d2ca17a180786b69acc140d282b71a49"
  },
  "kernelspec": {
   "display_name": "Python 3",
   "language": "python",
   "name": "python3"
  },
  "language_info": {
   "codemirror_mode": {
    "name": "ipython",
    "version": 3
   },
   "file_extension": ".py",
   "mimetype": "text/x-python",
   "name": "python",
   "nbconvert_exporter": "python",
   "pygments_lexer": "ipython3",
   "version": "3.7.6"
  }
 },
 "nbformat": 4,
 "nbformat_minor": 4
}
