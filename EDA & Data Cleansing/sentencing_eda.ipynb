{
 "cells": [
  {
   "cell_type": "code",
   "execution_count": 1,
   "id": "c8577026",
   "metadata": {},
   "outputs": [],
   "source": [
    "import pandas as pd\n",
    "import csv\n",
    "import seaborn as sb\n",
    "import matplotlib.pyplot as plt"
   ]
  },
  {
   "cell_type": "code",
   "execution_count": 3,
   "id": "48448371",
   "metadata": {},
   "outputs": [],
   "source": [
    "df0 = pd.read_csv('sentencing/sentencing000000000000.csv')"
   ]
  },
  {
   "cell_type": "code",
   "execution_count": 5,
   "id": "59eaa156",
   "metadata": {},
   "outputs": [],
   "source": [
    "df1 = pd.read_csv('sentencing/sentencing000000000001.csv')"
   ]
  },
  {
   "cell_type": "code",
   "execution_count": 7,
   "id": "4dce4690",
   "metadata": {},
   "outputs": [],
   "source": [
    "df2 = pd.read_csv('sentencing/sentencing000000000002.csv')"
   ]
  },
  {
   "cell_type": "code",
   "execution_count": 8,
   "id": "f4bc8fb9",
   "metadata": {},
   "outputs": [],
   "source": [
    "df = pd.concat([df0, df1, df2])"
   ]
  },
  {
   "cell_type": "code",
   "execution_count": 9,
   "id": "d44d3757",
   "metadata": {},
   "outputs": [],
   "source": [
    "# Remove 1 invalid row\n",
    "df = df[df['race']!='RACE']"
   ]
  },
  {
   "cell_type": "code",
   "execution_count": 49,
   "id": "f3595259",
   "metadata": {},
   "outputs": [
    {
     "data": {
      "text/html": [
       "<div>\n",
       "<style scoped>\n",
       "    .dataframe tbody tr th:only-of-type {\n",
       "        vertical-align: middle;\n",
       "    }\n",
       "\n",
       "    .dataframe tbody tr th {\n",
       "        vertical-align: top;\n",
       "    }\n",
       "\n",
       "    .dataframe thead th {\n",
       "        text-align: right;\n",
       "    }\n",
       "</style>\n",
       "<table border=\"1\" class=\"dataframe\">\n",
       "  <thead>\n",
       "    <tr style=\"text-align: right;\">\n",
       "      <th></th>\n",
       "      <th>sentdte</th>\n",
       "      <th>dornum</th>\n",
       "      <th>prepby</th>\n",
       "      <th>prepnm</th>\n",
       "      <th>county</th>\n",
       "      <th>judge</th>\n",
       "      <th>lstnm</th>\n",
       "      <th>fstnm</th>\n",
       "      <th>dob</th>\n",
       "      <th>obts</th>\n",
       "      <th>...</th>\n",
       "      <th>cglgsrs2</th>\n",
       "      <th>cglgsrs3</th>\n",
       "      <th>cglgsrs4</th>\n",
       "      <th>cglgsrs5</th>\n",
       "      <th>cgmsrsn1</th>\n",
       "      <th>cgmsrsn2</th>\n",
       "      <th>cgmsrsn3</th>\n",
       "      <th>cgprmod</th>\n",
       "      <th>cgprsanc</th>\n",
       "      <th>cgprdivr</th>\n",
       "    </tr>\n",
       "  </thead>\n",
       "  <tbody>\n",
       "    <tr>\n",
       "      <th>0</th>\n",
       "      <td>16NOV2009</td>\n",
       "      <td>189613</td>\n",
       "      <td>SAO</td>\n",
       "      <td>UNK</td>\n",
       "      <td>BROWARD</td>\n",
       "      <td>TOWBIN-SINGER</td>\n",
       "      <td>HAMPTON</td>\n",
       "      <td>DEMETRIUS</td>\n",
       "      <td>28MAY1975</td>\n",
       "      <td>NaN</td>\n",
       "      <td>...</td>\n",
       "      <td>MISSING</td>\n",
       "      <td>MISSING</td>\n",
       "      <td>MISSING</td>\n",
       "      <td>MISSING</td>\n",
       "      <td>MISSING</td>\n",
       "      <td>MISSING</td>\n",
       "      <td>MISSING</td>\n",
       "      <td>N</td>\n",
       "      <td>N</td>\n",
       "      <td>NaN</td>\n",
       "    </tr>\n",
       "    <tr>\n",
       "      <th>1</th>\n",
       "      <td>25OCT2010</td>\n",
       "      <td>U03835</td>\n",
       "      <td>SAO</td>\n",
       "      <td>OLS</td>\n",
       "      <td>LAKE</td>\n",
       "      <td>HILL</td>\n",
       "      <td>DIXON</td>\n",
       "      <td>ANWAR</td>\n",
       "      <td>03MAY1970</td>\n",
       "      <td>3501113652.0</td>\n",
       "      <td>...</td>\n",
       "      <td>MISSING</td>\n",
       "      <td>MISSING</td>\n",
       "      <td>MISSING</td>\n",
       "      <td>MISSING</td>\n",
       "      <td>MISSING</td>\n",
       "      <td>MISSING</td>\n",
       "      <td>MISSING</td>\n",
       "      <td>N</td>\n",
       "      <td>N</td>\n",
       "      <td>N</td>\n",
       "    </tr>\n",
       "    <tr>\n",
       "      <th>2</th>\n",
       "      <td>11SEP2007</td>\n",
       "      <td>543508</td>\n",
       "      <td>SAO</td>\n",
       "      <td>STA</td>\n",
       "      <td>SUWANNEE</td>\n",
       "      <td>FINA</td>\n",
       "      <td>GIBBONS</td>\n",
       "      <td>ANDREW</td>\n",
       "      <td>13APR1971</td>\n",
       "      <td>NaN</td>\n",
       "      <td>...</td>\n",
       "      <td>MISSING</td>\n",
       "      <td>MISSING</td>\n",
       "      <td>MISSING</td>\n",
       "      <td>MISSING</td>\n",
       "      <td>MISSING</td>\n",
       "      <td>MISSING</td>\n",
       "      <td>MISSING</td>\n",
       "      <td>NaN</td>\n",
       "      <td>NaN</td>\n",
       "      <td>NaN</td>\n",
       "    </tr>\n",
       "    <tr>\n",
       "      <th>3</th>\n",
       "      <td>14MAY2009</td>\n",
       "      <td>U12528</td>\n",
       "      <td>SAO</td>\n",
       "      <td>BAS</td>\n",
       "      <td>MARION</td>\n",
       "      <td>POPE</td>\n",
       "      <td>BROWN</td>\n",
       "      <td>MITCHELL</td>\n",
       "      <td>26AUG1982</td>\n",
       "      <td>NaN</td>\n",
       "      <td>...</td>\n",
       "      <td>MISSING</td>\n",
       "      <td>MISSING</td>\n",
       "      <td>MISSING</td>\n",
       "      <td>MISSING</td>\n",
       "      <td>MISSING</td>\n",
       "      <td>MISSING</td>\n",
       "      <td>MISSING</td>\n",
       "      <td>N</td>\n",
       "      <td>NaN</td>\n",
       "      <td>NaN</td>\n",
       "    </tr>\n",
       "    <tr>\n",
       "      <th>4</th>\n",
       "      <td>09AUG2011</td>\n",
       "      <td>H38160</td>\n",
       "      <td>SAO</td>\n",
       "      <td>PAT</td>\n",
       "      <td>POLK</td>\n",
       "      <td>JONES,ERNIE</td>\n",
       "      <td>DEWEY</td>\n",
       "      <td>CHRISTOPHER</td>\n",
       "      <td>15SEP1992</td>\n",
       "      <td>NaN</td>\n",
       "      <td>...</td>\n",
       "      <td>MISSING</td>\n",
       "      <td>MISSING</td>\n",
       "      <td>MISSING</td>\n",
       "      <td>MISSING</td>\n",
       "      <td>MISSING</td>\n",
       "      <td>MISSING</td>\n",
       "      <td>MISSING</td>\n",
       "      <td>N</td>\n",
       "      <td>N</td>\n",
       "      <td>N</td>\n",
       "    </tr>\n",
       "  </tbody>\n",
       "</table>\n",
       "<p>5 rows × 290 columns</p>\n",
       "</div>"
      ],
      "text/plain": [
       "     sentdte  dornum prepby prepnm    county          judge    lstnm  \\\n",
       "0  16NOV2009  189613    SAO    UNK   BROWARD  TOWBIN-SINGER  HAMPTON   \n",
       "1  25OCT2010  U03835    SAO    OLS      LAKE           HILL    DIXON   \n",
       "2  11SEP2007  543508    SAO    STA  SUWANNEE           FINA  GIBBONS   \n",
       "3  14MAY2009  U12528    SAO    BAS    MARION           POPE    BROWN   \n",
       "4  09AUG2011  H38160    SAO    PAT      POLK    JONES,ERNIE    DEWEY   \n",
       "\n",
       "         fstnm        dob          obts  ... cglgsrs2 cglgsrs3 cglgsrs4  \\\n",
       "0    DEMETRIUS  28MAY1975           NaN  ...  MISSING  MISSING  MISSING   \n",
       "1        ANWAR  03MAY1970  3501113652.0  ...  MISSING  MISSING  MISSING   \n",
       "2       ANDREW  13APR1971           NaN  ...  MISSING  MISSING  MISSING   \n",
       "3     MITCHELL  26AUG1982           NaN  ...  MISSING  MISSING  MISSING   \n",
       "4  CHRISTOPHER  15SEP1992           NaN  ...  MISSING  MISSING  MISSING   \n",
       "\n",
       "  cglgsrs5 cgmsrsn1 cgmsrsn2 cgmsrsn3 cgprmod cgprsanc cgprdivr  \n",
       "0  MISSING  MISSING  MISSING  MISSING       N        N      NaN  \n",
       "1  MISSING  MISSING  MISSING  MISSING       N        N        N  \n",
       "2  MISSING  MISSING  MISSING  MISSING     NaN      NaN      NaN  \n",
       "3  MISSING  MISSING  MISSING  MISSING       N      NaN      NaN  \n",
       "4  MISSING  MISSING  MISSING  MISSING       N        N        N  \n",
       "\n",
       "[5 rows x 290 columns]"
      ]
     },
     "execution_count": 49,
     "metadata": {},
     "output_type": "execute_result"
    }
   ],
   "source": [
    "df.head()"
   ]
  },
  {
   "cell_type": "code",
   "execution_count": 50,
   "id": "493e541a",
   "metadata": {},
   "outputs": [
    {
     "data": {
      "text/plain": [
       "1354399"
      ]
     },
     "execution_count": 50,
     "metadata": {},
     "output_type": "execute_result"
    }
   ],
   "source": [
    "# Dataset length\n",
    "len(df)"
   ]
  },
  {
   "cell_type": "code",
   "execution_count": 52,
   "id": "3c6ea508",
   "metadata": {},
   "outputs": [
    {
     "name": "stdout",
     "output_type": "stream",
     "text": [
      "<class 'pandas.core.frame.DataFrame'>\n",
      "Int64Index: 1354399 entries, 0 to 451112\n",
      "Data columns (total 290 columns):\n",
      " #    Column    Dtype \n",
      "---   ------    ----- \n",
      " 0    sentdte   object\n",
      " 1    dornum    object\n",
      " 2    prepby    object\n",
      " 3    prepnm    object\n",
      " 4    county    object\n",
      " 5    judge     object\n",
      " 6    lstnm     object\n",
      " 7    fstnm     object\n",
      " 8    dob       object\n",
      " 9    obts      object\n",
      " 10   race      object\n",
      " 11   hispan    object\n",
      " 12   gender    object\n",
      " 13   dispos    object\n",
      " 14   revoke    object\n",
      " 15   offqlf    object\n",
      " 16   docket    object\n",
      " 17   clfely    object\n",
      " 18   statut    object\n",
      " 19   prioff    object\n",
      " 20   offlvl    object\n",
      " 21   offdte    object\n",
      " 22   profpt    object\n",
      " 23   aosupt    object\n",
      " 24   aotopt    object\n",
      " 25   aotopw    object\n",
      " 26   vi2mrd    object\n",
      " 27   vi2mrp    object\n",
      " 28   vidth     object\n",
      " 29   vidthp    object\n",
      " 30   visvr     object\n",
      " 31   visvrp    object\n",
      " 32   vimod     object\n",
      " 33   vimodp    object\n",
      " 34   vislgh    object\n",
      " 35   vislgp    object\n",
      " 36   visexp    object\n",
      " 37   visxpp    object\n",
      " 38   visexc    object\n",
      " 39   visxcp    object\n",
      " 40   vitopt    object\n",
      " 41   prsupt    object\n",
      " 42   prtopt    object\n",
      " 43   pgsubt    object\n",
      " 44   p1subt    object\n",
      " 45   lsviol    object\n",
      " 46   rpviol    object\n",
      " 47   faviol    object\n",
      " 48   weapon    object\n",
      " 49   subtpt    object\n",
      " 50   enhanc    object\n",
      " 51   ensubt    object\n",
      " 52   totpts    object\n",
      " 53   totpt2    object\n",
      " 54   incpts    object\n",
      " 55   total     object\n",
      " 56   spmnth    object\n",
      " 57   spmnt2    object\n",
      " 58   spmnt3    object\n",
      " 59   spmnt4    object\n",
      " 60   spimp     object\n",
      " 61   spyrs     object\n",
      " 62   spmths    object\n",
      " 63   spdays    object\n",
      " 64   cjimp     object\n",
      " 65   cjyrs     object\n",
      " 66   cjmths    object\n",
      " 67   cjdays    object\n",
      " 68   timsrv    object\n",
      " 69   otimp     object\n",
      " 70   ccimp     object\n",
      " 71   ccyrs     object\n",
      " 72   ccmths    object\n",
      " 73   ccdays    object\n",
      " 74   primp     object\n",
      " 75   pryrs     object\n",
      " 76   prmths    object\n",
      " 77   prdays    object\n",
      " 78   haboff    object\n",
      " 79   habvio    object\n",
      " 80   aggdep    object\n",
      " 81   mitdep    object\n",
      " 82   amrsn1    object\n",
      " 83   amrsn2    object\n",
      " 84   amrsn3    object\n",
      " 85   famand    object\n",
      " 86   dtmand    object\n",
      " 87   dtmnd2    object\n",
      " 88   aodckt1   object\n",
      " 89   aofely1   object\n",
      " 90   aoflst1   object\n",
      " 91   aoofcd1   object\n",
      " 92   aosvlv1   object\n",
      " 93   aoqual1   object\n",
      " 94   aocnts1   object\n",
      " 95   aolvpt1   object\n",
      " 96   aoexpt1   object\n",
      " 97   aodckt2   object\n",
      " 98   aofely2   object\n",
      " 99   aoflst2   object\n",
      " 100  aoofcd2   object\n",
      " 101  aosvlv2   object\n",
      " 102  aoqual2   object\n",
      " 103  aocnts2   object\n",
      " 104  aolvpt2   object\n",
      " 105  aoexpt2   object\n",
      " 106  aodckt3   object\n",
      " 107  aofely3   object\n",
      " 108  aoflst3   object\n",
      " 109  aoofcd3   object\n",
      " 110  aosvlv3   object\n",
      " 111  aoqual3   object\n",
      " 112  aocnts3   object\n",
      " 113  aolvpt3   object\n",
      " 114  aoexpt3   object\n",
      " 115  aodckt4   object\n",
      " 116  aofely4   object\n",
      " 117  aoflst4   object\n",
      " 118  aoofcd4   object\n",
      " 119  aosvlv4   object\n",
      " 120  aoqual4   object\n",
      " 121  aocnts4   object\n",
      " 122  aolvpt4   object\n",
      " 123  aoexpt4   object\n",
      " 124  aodckt5   object\n",
      " 125  aofely5   object\n",
      " 126  aoflst5   object\n",
      " 127  aoofcd5   object\n",
      " 128  aosvlv5   object\n",
      " 129  aoqual5   object\n",
      " 130  aocnts5   object\n",
      " 131  aolvpt5   object\n",
      " 132  aoexpt5   object\n",
      " 133  aodckt6   object\n",
      " 134  aofely6   object\n",
      " 135  aoflst6   object\n",
      " 136  aoofcd6   object\n",
      " 137  aosvlv6   object\n",
      " 138  aoqual6   object\n",
      " 139  aocnts6   object\n",
      " 140  aolvpt6   object\n",
      " 141  aoexpt6   object\n",
      " 142  aodckt7   object\n",
      " 143  aofely7   object\n",
      " 144  aoflst7   object\n",
      " 145  aoofcd7   object\n",
      " 146  aosvlv7   object\n",
      " 147  aoqual7   object\n",
      " 148  aocnts7   object\n",
      " 149  aolvpt7   object\n",
      " 150  aoexpt7   object\n",
      " 151  aodckt8   object\n",
      " 152  aofely8   object\n",
      " 153  aoflst8   object\n",
      " 154  aoofcd8   object\n",
      " 155  aosvlv8   object\n",
      " 156  aoqual8   object\n",
      " 157  aocnts8   object\n",
      " 158  aolvpt8   object\n",
      " 159  aoexpt8   object\n",
      " 160  aodckt9   object\n",
      " 161  aofely9   object\n",
      " 162  aoflst9   object\n",
      " 163  aoofcd9   object\n",
      " 164  aosvlv9   object\n",
      " 165  aoqual9   object\n",
      " 166  aocnts9   object\n",
      " 167  aolvpt9   object\n",
      " 168  aoexpt9   object\n",
      " 169  aodckt10  object\n",
      " 170  aofely10  object\n",
      " 171  aoflst10  object\n",
      " 172  aoofcd10  object\n",
      " 173  aosvlv10  object\n",
      " 174  aoqual10  object\n",
      " 175  aocnts10  object\n",
      " 176  aolvpt10  object\n",
      " 177  aoexpt10  object\n",
      " 178  prfely1   object\n",
      " 179  prflst1   object\n",
      " 180  profcd1   object\n",
      " 181  prsvlv1   object\n",
      " 182  prqual1   object\n",
      " 183  prcnts1   object\n",
      " 184  prlvpt1   object\n",
      " 185  prexpt1   object\n",
      " 186  prfely2   object\n",
      " 187  prflst2   object\n",
      " 188  profcd2   object\n",
      " 189  prsvlv2   object\n",
      " 190  prqual2   object\n",
      " 191  prcnts2   object\n",
      " 192  prlvpt2   object\n",
      " 193  prexpt2   object\n",
      " 194  prfely3   object\n",
      " 195  prflst3   object\n",
      " 196  profcd3   object\n",
      " 197  prsvlv3   object\n",
      " 198  prqual3   object\n",
      " 199  prcnts3   object\n",
      " 200  prlvpt3   object\n",
      " 201  prexpt3   object\n",
      " 202  prfely4   object\n",
      " 203  prflst4   object\n",
      " 204  profcd4   object\n",
      " 205  prsvlv4   object\n",
      " 206  prqual4   object\n",
      " 207  prcnts4   object\n",
      " 208  prlvpt4   object\n",
      " 209  prexpt4   object\n",
      " 210  prfely5   object\n",
      " 211  prflst5   object\n",
      " 212  profcd5   object\n",
      " 213  prsvlv5   object\n",
      " 214  prqual5   object\n",
      " 215  prcnts5   object\n",
      " 216  prlvpt5   object\n",
      " 217  prexpt5   object\n",
      " 218  prfely6   object\n",
      " 219  prflst6   object\n",
      " 220  profcd6   object\n",
      " 221  prsvlv6   object\n",
      " 222  prqual6   object\n",
      " 223  prcnts6   object\n",
      " 224  prlvpt6   object\n",
      " 225  prexpt6   object\n",
      " 226  prfely7   object\n",
      " 227  prflst7   object\n",
      " 228  profcd7   object\n",
      " 229  prsvlv7   object\n",
      " 230  prqual7   object\n",
      " 231  prcnts7   object\n",
      " 232  prlvpt7   object\n",
      " 233  prexpt7   object\n",
      " 234  prfely8   object\n",
      " 235  prflst8   object\n",
      " 236  profcd8   object\n",
      " 237  prsvlv8   object\n",
      " 238  prqual8   object\n",
      " 239  prcnts8   object\n",
      " 240  prlvpt8   object\n",
      " 241  prexpt8   object\n",
      " 242  prfely9   object\n",
      " 243  prflst9   object\n",
      " 244  profcd9   object\n",
      " 245  prsvlv9   object\n",
      " 246  prqual9   object\n",
      " 247  prcnts9   object\n",
      " 248  prlvpt9   object\n",
      " 249  prexpt9   object\n",
      " 250  prfely10  object\n",
      " 251  prflst10  object\n",
      " 252  profcd10  object\n",
      " 253  prsvlv10  object\n",
      " 254  prqual10  object\n",
      " 255  prcnts10  object\n",
      " 256  prlvpt10  object\n",
      " 257  prexpt10  object\n",
      " 258  supflg    object\n",
      " 259  reinst    object\n",
      " 260  psfel     object\n",
      " 261  pcfel     object\n",
      " 262  life      object\n",
      " 263  morsgs    object\n",
      " 264  vcc       object\n",
      " 265  prepnm2   object\n",
      " 266  doe       object\n",
      " 267  circuit   object\n",
      " 268  prrpact   object\n",
      " 269  heggs     object\n",
      " 270  cgotent   object\n",
      " 271  cgesstat  object\n",
      " 272  cased3b1  object\n",
      " 273  dop       object\n",
      " 274  cgaliscd  object\n",
      " 275  cgnamseq  object\n",
      " 276  cgmidnam  object\n",
      " 277  cgsuffix  object\n",
      " 278  cgvfopts  object\n",
      " 279  cglgsrs1  object\n",
      " 280  cglgsrs2  object\n",
      " 281  cglgsrs3  object\n",
      " 282  cglgsrs4  object\n",
      " 283  cglgsrs5  object\n",
      " 284  cgmsrsn1  object\n",
      " 285  cgmsrsn2  object\n",
      " 286  cgmsrsn3  object\n",
      " 287  cgprmod   object\n",
      " 288  cgprsanc  object\n",
      " 289  cgprdivr  object\n",
      "dtypes: object(290)\n",
      "memory usage: 2.9+ GB\n"
     ]
    }
   ],
   "source": [
    "df.info(verbose = True)"
   ]
  },
  {
   "cell_type": "code",
   "execution_count": 95,
   "id": "e78bc5b5",
   "metadata": {},
   "outputs": [
    {
     "data": {
      "text/plain": [
       "count     1354399\n",
       "unique     738802\n",
       "top        R33175\n",
       "freq           21\n",
       "Name: dornum, dtype: object"
      ]
     },
     "execution_count": 95,
     "metadata": {},
     "output_type": "execute_result"
    }
   ],
   "source": [
    "# Number of unique offenders\n",
    "df['dornum'].describe()"
   ]
  },
  {
   "cell_type": "markdown",
   "id": "d3ca99d8",
   "metadata": {},
   "source": [
    "### Dataset Date Range"
   ]
  },
  {
   "cell_type": "code",
   "execution_count": 123,
   "id": "fb8e9072",
   "metadata": {},
   "outputs": [
    {
     "name": "stdout",
     "output_type": "stream",
     "text": [
      "01APR2004\n",
      "31OCT2015\n"
     ]
    }
   ],
   "source": [
    "# Date Range\n",
    "print(df['sentdte'].min())\n",
    "print(df['sentdte'].max())"
   ]
  },
  {
   "cell_type": "code",
   "execution_count": 10,
   "id": "71fd7701",
   "metadata": {},
   "outputs": [],
   "source": [
    "# Get year of sentence date\n",
    "df['sentdte_yr'] = df['sentdte'].str[-4:]"
   ]
  },
  {
   "cell_type": "code",
   "execution_count": 130,
   "id": "be8c067b",
   "metadata": {},
   "outputs": [
    {
     "name": "stdout",
     "output_type": "stream",
     "text": [
      "sentdte_yr\n",
      "2004    113668\n",
      "2005    114005\n",
      "2006    124882\n",
      "2007    128007\n",
      "2008    119717\n",
      "2009    113115\n",
      "2010    104437\n",
      "2011    101358\n",
      "2012    104245\n",
      "2013    100483\n",
      "2014    103720\n",
      "2015     99952\n",
      "2016     26810\n",
      "dtype: int64\n"
     ]
    }
   ],
   "source": [
    "# Number of rows per sentence year\n",
    "print(df.groupby('sentdte_yr').size())"
   ]
  },
  {
   "cell_type": "markdown",
   "id": "1ecc734c",
   "metadata": {},
   "source": [
    "### Create Total Prison Sentence Variable"
   ]
  },
  {
   "cell_type": "code",
   "execution_count": 11,
   "id": "5503706a",
   "metadata": {},
   "outputs": [],
   "source": [
    "# Convert prison sentence year/month/date columns to numeric\n",
    "df['spyrs'] = pd.to_numeric(df['spyrs'])\n",
    "df['spmths'] = pd.to_numeric(df['spmths'])\n",
    "df['spdays'] = pd.to_numeric(df['spdays'])"
   ]
  },
  {
   "cell_type": "code",
   "execution_count": 12,
   "id": "73a30e9a",
   "metadata": {},
   "outputs": [],
   "source": [
    "# Create column for total prison sentence in days\n",
    "df['sp_total_days'] = (df['spyrs']*365) + (df['spmths']*30) + df['spdays']\n",
    "df['sp_total_days'] = pd.to_numeric(df['sp_total_days'])"
   ]
  },
  {
   "cell_type": "code",
   "execution_count": 113,
   "id": "49e97d48",
   "metadata": {},
   "outputs": [
    {
     "data": {
      "text/plain": [
       "count    1.354399e+06\n",
       "mean     2.378872e+03\n",
       "std      8.492234e+04\n",
       "min      0.000000e+00\n",
       "25%      0.000000e+00\n",
       "50%      0.000000e+00\n",
       "75%      3.660000e+02\n",
       "max      3.680604e+06\n",
       "Name: sp_total_days, dtype: float64"
      ]
     },
     "execution_count": 113,
     "metadata": {},
     "output_type": "execute_result"
    }
   ],
   "source": [
    "df['sp_total_days'].describe()"
   ]
  },
  {
   "cell_type": "markdown",
   "id": "2a248fe5",
   "metadata": {},
   "source": [
    "### Race"
   ]
  },
  {
   "cell_type": "code",
   "execution_count": 25,
   "id": "23a822a3",
   "metadata": {},
   "outputs": [
    {
     "data": {
      "text/plain": [
       "WHITE    809925\n",
       "BLACK    516664\n",
       "OTHER     27810\n",
       "Name: race, dtype: int64"
      ]
     },
     "execution_count": 25,
     "metadata": {},
     "output_type": "execute_result"
    }
   ],
   "source": [
    "# Race values\n",
    "df['race'].value_counts(ascending=False)"
   ]
  },
  {
   "cell_type": "code",
   "execution_count": 31,
   "id": "9138489f",
   "metadata": {},
   "outputs": [
    {
     "data": {
      "text/plain": [
       "Text(0.5, 1.0, 'Race')"
      ]
     },
     "execution_count": 31,
     "metadata": {},
     "output_type": "execute_result"
    },
    {
     "data": {
      "image/png": "[encoded data removed]",
      "text/plain": [
       "<Figure size 720x360 with 1 Axes>"
      ]
     },
     "metadata": {
      "needs_background": "light"
     },
     "output_type": "display_data"
    }
   ],
   "source": [
    "# Race values - barplot\n",
    "fig, axes = plt.subplots(1, 1, figsize=(10,5))\n",
    "ax = sb.countplot(x=df['race'], palette = ['#b7dee8'], order=df['race'].value_counts(ascending=False).index)\n",
    "\n",
    "abs_values = df['race'].value_counts(ascending=False)\n",
    "rel_values = df['race'].value_counts(ascending=False, normalize=True).values * 100\n",
    "lbls = [f'{p[0]} ({p[1]:.0f}%)' for p in zip(abs_values, rel_values)]\n",
    "\n",
    "ax.bar_label(container=ax.containers[0], labels=lbls)\n",
    "ax.set_title('Race')"
   ]
  },
  {
   "cell_type": "markdown",
   "id": "746e98ea",
   "metadata": {},
   "source": [
    "### Gender"
   ]
  },
  {
   "cell_type": "code",
   "execution_count": 119,
   "id": "e0677431",
   "metadata": {},
   "outputs": [
    {
     "data": {
      "text/plain": [
       "MALE      1070471\n",
       "FEMALE     283928\n",
       "Name: gender, dtype: int64"
      ]
     },
     "execution_count": 119,
     "metadata": {},
     "output_type": "execute_result"
    }
   ],
   "source": [
    "# Gender values\n",
    "df['gender'].value_counts()"
   ]
  },
  {
   "cell_type": "code",
   "execution_count": 32,
   "id": "8cd4b26d",
   "metadata": {},
   "outputs": [
    {
     "data": {
      "text/plain": [
       "Text(0.5, 1.0, 'gender')"
      ]
     },
     "execution_count": 32,
     "metadata": {},
     "output_type": "execute_result"
    },
    {
     "data": {
      "image/png": "[encoded data removed]",
      "text/plain": [
       "<Figure size 720x360 with 1 Axes>"
      ]
     },
     "metadata": {
      "needs_background": "light"
     },
     "output_type": "display_data"
    }
   ],
   "source": [
    "# Gender values - barplot\n",
    "fig, axes = plt.subplots(1, 1, figsize=(10,5))\n",
    "ax = sb.countplot(x=df['gender'], palette = ['#b7dee8'], order=df['gender'].value_counts(ascending=False).index)\n",
    "\n",
    "abs_values = df['gender'].value_counts(ascending=False)\n",
    "rel_values = df['gender'].value_counts(ascending=False, normalize=True).values * 100\n",
    "lbls = [f'{p[0]} ({p[1]:.0f}%)' for p in zip(abs_values, rel_values)]\n",
    "\n",
    "ax.bar_label(container=ax.containers[0], labels=lbls)\n",
    "ax.set_title('gender')"
   ]
  },
  {
   "cell_type": "markdown",
   "id": "fb40a780",
   "metadata": {},
   "source": [
    "### Offense Level"
   ]
  },
  {
   "cell_type": "code",
   "execution_count": 132,
   "id": "6121a7b4",
   "metadata": {},
   "outputs": [
    {
     "data": {
      "text/plain": [
       "3RD LEVEL     343071\n",
       "5TH LEVEL     202502\n",
       "1ST LEVEL     177654\n",
       "4TH LEVEL     175176\n",
       "2ND LEVEL     150375\n",
       "6TH LEVEL     124305\n",
       "7TH LEVEL     119456\n",
       "8TH LEVEL      30006\n",
       "9TH LEVEL      25779\n",
       "10TH LEVEL      6060\n",
       "1                  8\n",
       "98                 7\n",
       "Name: offlvl, dtype: int64"
      ]
     },
     "execution_count": 132,
     "metadata": {},
     "output_type": "execute_result"
    }
   ],
   "source": [
    "# Offence level\n",
    "df['offlvl'].value_counts()"
   ]
  },
  {
   "cell_type": "code",
   "execution_count": 35,
   "id": "e7e4729d",
   "metadata": {},
   "outputs": [
    {
     "data": {
      "text/plain": [
       "Text(0.5, 1.0, 'Offense Level')"
      ]
     },
     "execution_count": 35,
     "metadata": {},
     "output_type": "execute_result"
    },
    {
     "data": {
      "image/png": "[encoded data removed]",
      "text/plain": [
       "<Figure size 1440x504 with 1 Axes>"
      ]
     },
     "metadata": {
      "needs_background": "light"
     },
     "output_type": "display_data"
    }
   ],
   "source": [
    "# Offense level values - barplot\n",
    "fig, axes = plt.subplots(1, 1, figsize=(20,7))\n",
    "ax = sb.countplot(x=df['offlvl'], palette = ['#b7dee8'], order=df['offlvl'].value_counts(ascending=False).index)\n",
    "\n",
    "abs_values = df['offlvl'].value_counts(ascending=False)\n",
    "rel_values = df['offlvl'].value_counts(ascending=False, normalize=True).values * 100\n",
    "lbls = [f'{p[0]} ({p[1]:.0f}%)' for p in zip(abs_values, rel_values)]\n",
    "\n",
    "ax.bar_label(container=ax.containers[0], labels=lbls)\n",
    "ax.set_title('Offense Level')"
   ]
  },
  {
   "cell_type": "markdown",
   "id": "0c85972d",
   "metadata": {},
   "source": [
    "### Total Points & Prison Sentence Length by Race"
   ]
  },
  {
   "cell_type": "code",
   "execution_count": 16,
   "id": "5bc7116a",
   "metadata": {},
   "outputs": [
    {
     "data": {
      "text/plain": [
       "<AxesSubplot:xlabel='totpts', ylabel='sp_total_days'>"
      ]
     },
     "execution_count": 16,
     "metadata": {},
     "output_type": "execute_result"
    },
    {
     "data": {
      "image/png": "[encoded data removed]",
      "text/plain": [
       "<Figure size 432x288 with 1 Axes>"
      ]
     },
     "metadata": {
      "needs_background": "light"
     },
     "output_type": "display_data"
    }
   ],
   "source": [
    "sb.scatterplot(x='totpts', y='sp_total_days', hue='race', s=100, data=df)"
   ]
  },
  {
   "cell_type": "markdown",
   "id": "9a2e041f",
   "metadata": {},
   "source": [
    "### Setence by Offense Level and Race"
   ]
  },
  {
   "cell_type": "code",
   "execution_count": 67,
   "id": "db40ad2a",
   "metadata": {},
   "outputs": [],
   "source": [
    "# Mean Prison Sentence by Offense Level and Race\n",
    "df_level_race = df.groupby(['offlvl', 'race'])['sp_total_days'].mean().unstack().reset_index()\n",
    "df_level_race = df_level_race[~df_level_race['offlvl'].isin(['1','98'])]"
   ]
  },
  {
   "cell_type": "code",
   "execution_count": 68,
   "id": "b960ee68",
   "metadata": {},
   "outputs": [
    {
     "data": {
      "text/html": [
       "<div>\n",
       "<style scoped>\n",
       "    .dataframe tbody tr th:only-of-type {\n",
       "        vertical-align: middle;\n",
       "    }\n",
       "\n",
       "    .dataframe tbody tr th {\n",
       "        vertical-align: top;\n",
       "    }\n",
       "\n",
       "    .dataframe thead th {\n",
       "        text-align: right;\n",
       "    }\n",
       "</style>\n",
       "<table border=\"1\" class=\"dataframe\">\n",
       "  <thead>\n",
       "    <tr style=\"text-align: right;\">\n",
       "      <th>race</th>\n",
       "      <th>offlvl</th>\n",
       "      <th>BLACK</th>\n",
       "      <th>OTHER</th>\n",
       "      <th>WHITE</th>\n",
       "    </tr>\n",
       "  </thead>\n",
       "  <tbody>\n",
       "    <tr>\n",
       "      <th>1</th>\n",
       "      <td>10TH LEVEL</td>\n",
       "      <td>186747.095615</td>\n",
       "      <td>135236.357977</td>\n",
       "      <td>150487.721318</td>\n",
       "    </tr>\n",
       "    <tr>\n",
       "      <th>2</th>\n",
       "      <td>1ST LEVEL</td>\n",
       "      <td>87.722984</td>\n",
       "      <td>46.845119</td>\n",
       "      <td>64.970955</td>\n",
       "    </tr>\n",
       "    <tr>\n",
       "      <th>3</th>\n",
       "      <td>2ND LEVEL</td>\n",
       "      <td>101.546432</td>\n",
       "      <td>61.238542</td>\n",
       "      <td>85.779400</td>\n",
       "    </tr>\n",
       "    <tr>\n",
       "      <th>4</th>\n",
       "      <td>3RD LEVEL</td>\n",
       "      <td>112.071670</td>\n",
       "      <td>69.987703</td>\n",
       "      <td>66.568502</td>\n",
       "    </tr>\n",
       "    <tr>\n",
       "      <th>5</th>\n",
       "      <td>4TH LEVEL</td>\n",
       "      <td>285.315677</td>\n",
       "      <td>173.587145</td>\n",
       "      <td>190.888214</td>\n",
       "    </tr>\n",
       "    <tr>\n",
       "      <th>6</th>\n",
       "      <td>5TH LEVEL</td>\n",
       "      <td>575.728485</td>\n",
       "      <td>255.123745</td>\n",
       "      <td>306.931188</td>\n",
       "    </tr>\n",
       "    <tr>\n",
       "      <th>7</th>\n",
       "      <td>6TH LEVEL</td>\n",
       "      <td>658.004502</td>\n",
       "      <td>395.446119</td>\n",
       "      <td>469.249123</td>\n",
       "    </tr>\n",
       "    <tr>\n",
       "      <th>8</th>\n",
       "      <td>7TH LEVEL</td>\n",
       "      <td>1871.068549</td>\n",
       "      <td>1002.154450</td>\n",
       "      <td>1323.519697</td>\n",
       "    </tr>\n",
       "    <tr>\n",
       "      <th>9</th>\n",
       "      <td>8TH LEVEL</td>\n",
       "      <td>18705.812687</td>\n",
       "      <td>9429.460348</td>\n",
       "      <td>8404.521661</td>\n",
       "    </tr>\n",
       "    <tr>\n",
       "      <th>11</th>\n",
       "      <td>9TH LEVEL</td>\n",
       "      <td>60577.121714</td>\n",
       "      <td>51316.771400</td>\n",
       "      <td>46449.346878</td>\n",
       "    </tr>\n",
       "  </tbody>\n",
       "</table>\n",
       "</div>"
      ],
      "text/plain": [
       "race      offlvl          BLACK          OTHER          WHITE\n",
       "1     10TH LEVEL  186747.095615  135236.357977  150487.721318\n",
       "2      1ST LEVEL      87.722984      46.845119      64.970955\n",
       "3      2ND LEVEL     101.546432      61.238542      85.779400\n",
       "4      3RD LEVEL     112.071670      69.987703      66.568502\n",
       "5      4TH LEVEL     285.315677     173.587145     190.888214\n",
       "6      5TH LEVEL     575.728485     255.123745     306.931188\n",
       "7      6TH LEVEL     658.004502     395.446119     469.249123\n",
       "8      7TH LEVEL    1871.068549    1002.154450    1323.519697\n",
       "9      8TH LEVEL   18705.812687    9429.460348    8404.521661\n",
       "11     9TH LEVEL   60577.121714   51316.771400   46449.346878"
      ]
     },
     "execution_count": 68,
     "metadata": {},
     "output_type": "execute_result"
    }
   ],
   "source": [
    "df_level_race"
   ]
  },
  {
   "cell_type": "code",
   "execution_count": 71,
   "id": "1d66cfd1",
   "metadata": {},
   "outputs": [
    {
     "data": {
      "text/plain": [
       "<AxesSubplot:xlabel='offlvl'>"
      ]
     },
     "execution_count": 71,
     "metadata": {},
     "output_type": "execute_result"
    },
    {
     "data": {
      "image/png": "[encoded data removed]",
      "text/plain": [
       "<Figure size 432x288 with 1 Axes>"
      ]
     },
     "metadata": {
      "needs_background": "light"
     },
     "output_type": "display_data"
    }
   ],
   "source": [
    "df_level_race.plot.bar(x = 'offlvl', y = ['BLACK', 'WHITE'])"
   ]
  },
  {
   "cell_type": "code",
   "execution_count": null,
   "id": "1477ab97",
   "metadata": {},
   "outputs": [],
   "source": []
  }
 ],
 "metadata": {
  "kernelspec": {
   "display_name": "Python 3 (ipykernel)",
   "language": "python",
   "name": "python3"
  },
  "language_info": {
   "codemirror_mode": {
    "name": "ipython",
    "version": 3
   },
   "file_extension": ".py",
   "mimetype": "text/x-python",
   "name": "python",
   "nbconvert_exporter": "python",
   "pygments_lexer": "ipython3",
   "version": "3.9.7"
  }
 },
 "nbformat": 4,
 "nbformat_minor": 5
}
